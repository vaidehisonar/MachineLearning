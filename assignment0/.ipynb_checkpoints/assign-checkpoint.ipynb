{
 "cells": [
  {
   "cell_type": "code",
   "execution_count": 2,
   "metadata": {},
   "outputs": [],
   "source": [
    "import numpy as np\n",
    "import pandas as pd\n",
    "import seaborn as sns\n",
    "import plotly\n",
    "plotly.tools.set_credentials_file(username='black_uchiha08', api_key='tA6Q1kyjqYi4Tqlrm9RC')\n",
    "import plotly.graph_objs as go\n",
    "from plotly.offline import download_plotlyjs, init_notebook_mode, plot, iplot"
   ]
  },
  {
   "cell_type": "code",
   "execution_count": null,
   "metadata": {},
   "outputs": [],
   "source": []
  },
  {
   "cell_type": "code",
   "execution_count": 3,
   "metadata": {},
   "outputs": [
    {
     "data": {
      "text/html": [
       "<script type=\"text/javascript\">window.PlotlyConfig = {MathJaxConfig: 'local'};</script><script type=\"text/javascript\">if (window.MathJax) {MathJax.Hub.Config({SVG: {font: \"STIX-Web\"}});}</script><script>requirejs.config({paths: { 'plotly': ['https://cdn.plot.ly/plotly-latest.min']},});if(!window._Plotly) {require(['plotly'],function(plotly) {window._Plotly=plotly;});}</script>"
      ],
      "text/vnd.plotly.v1+html": [
       "<script type=\"text/javascript\">window.PlotlyConfig = {MathJaxConfig: 'local'};</script><script type=\"text/javascript\">if (window.MathJax) {MathJax.Hub.Config({SVG: {font: \"STIX-Web\"}});}</script><script>requirejs.config({paths: { 'plotly': ['https://cdn.plot.ly/plotly-latest.min']},});if(!window._Plotly) {require(['plotly'],function(plotly) {window._Plotly=plotly;});}</script>"
      ]
     },
     "metadata": {},
     "output_type": "display_data"
    }
   ],
   "source": [
    "init_notebook_mode(connected=True) "
   ]
  },
  {
   "cell_type": "code",
   "execution_count": 4,
   "metadata": {},
   "outputs": [],
   "source": [
    "df= pd.read_csv('Meteorite_Landings.csv')"
   ]
  },
  {
   "cell_type": "code",
   "execution_count": 5,
   "metadata": {},
   "outputs": [],
   "source": [
    "df=df.dropna()"
   ]
  },
  {
   "cell_type": "code",
   "execution_count": 6,
   "metadata": {},
   "outputs": [],
   "source": [
    "#increase value till 40k, but increasing value might slow your browser\n",
    "df=df.head(39000)"
   ]
  },
  {
   "cell_type": "code",
   "execution_count": 7,
   "metadata": {
    "scrolled": false
   },
   "outputs": [
    {
     "data": {
      "text/html": [
       "<div>\n",
       "<style scoped>\n",
       "    .dataframe tbody tr th:only-of-type {\n",
       "        vertical-align: middle;\n",
       "    }\n",
       "\n",
       "    .dataframe tbody tr th {\n",
       "        vertical-align: top;\n",
       "    }\n",
       "\n",
       "    .dataframe thead th {\n",
       "        text-align: right;\n",
       "    }\n",
       "</style>\n",
       "<table border=\"1\" class=\"dataframe\">\n",
       "  <thead>\n",
       "    <tr style=\"text-align: right;\">\n",
       "      <th></th>\n",
       "      <th>name</th>\n",
       "      <th>id</th>\n",
       "      <th>nametype</th>\n",
       "      <th>recclass</th>\n",
       "      <th>mass (g)</th>\n",
       "      <th>fall</th>\n",
       "      <th>year</th>\n",
       "      <th>reclat</th>\n",
       "      <th>reclong</th>\n",
       "      <th>GeoLocation</th>\n",
       "    </tr>\n",
       "  </thead>\n",
       "  <tbody>\n",
       "    <tr>\n",
       "      <th>0</th>\n",
       "      <td>False</td>\n",
       "      <td>False</td>\n",
       "      <td>False</td>\n",
       "      <td>False</td>\n",
       "      <td>False</td>\n",
       "      <td>False</td>\n",
       "      <td>False</td>\n",
       "      <td>False</td>\n",
       "      <td>False</td>\n",
       "      <td>False</td>\n",
       "    </tr>\n",
       "    <tr>\n",
       "      <th>1</th>\n",
       "      <td>False</td>\n",
       "      <td>False</td>\n",
       "      <td>False</td>\n",
       "      <td>False</td>\n",
       "      <td>False</td>\n",
       "      <td>False</td>\n",
       "      <td>False</td>\n",
       "      <td>False</td>\n",
       "      <td>False</td>\n",
       "      <td>False</td>\n",
       "    </tr>\n",
       "    <tr>\n",
       "      <th>2</th>\n",
       "      <td>False</td>\n",
       "      <td>False</td>\n",
       "      <td>False</td>\n",
       "      <td>False</td>\n",
       "      <td>False</td>\n",
       "      <td>False</td>\n",
       "      <td>False</td>\n",
       "      <td>False</td>\n",
       "      <td>False</td>\n",
       "      <td>False</td>\n",
       "    </tr>\n",
       "    <tr>\n",
       "      <th>3</th>\n",
       "      <td>False</td>\n",
       "      <td>False</td>\n",
       "      <td>False</td>\n",
       "      <td>False</td>\n",
       "      <td>False</td>\n",
       "      <td>False</td>\n",
       "      <td>False</td>\n",
       "      <td>False</td>\n",
       "      <td>False</td>\n",
       "      <td>False</td>\n",
       "    </tr>\n",
       "    <tr>\n",
       "      <th>4</th>\n",
       "      <td>False</td>\n",
       "      <td>False</td>\n",
       "      <td>False</td>\n",
       "      <td>False</td>\n",
       "      <td>False</td>\n",
       "      <td>False</td>\n",
       "      <td>False</td>\n",
       "      <td>False</td>\n",
       "      <td>False</td>\n",
       "      <td>False</td>\n",
       "    </tr>\n",
       "  </tbody>\n",
       "</table>\n",
       "</div>"
      ],
      "text/plain": [
       "    name     id  nametype  recclass  mass (g)   fall   year  reclat  reclong  \\\n",
       "0  False  False     False     False     False  False  False   False    False   \n",
       "1  False  False     False     False     False  False  False   False    False   \n",
       "2  False  False     False     False     False  False  False   False    False   \n",
       "3  False  False     False     False     False  False  False   False    False   \n",
       "4  False  False     False     False     False  False  False   False    False   \n",
       "\n",
       "   GeoLocation  \n",
       "0        False  \n",
       "1        False  \n",
       "2        False  \n",
       "3        False  \n",
       "4        False  "
      ]
     },
     "execution_count": 7,
     "metadata": {},
     "output_type": "execute_result"
    }
   ],
   "source": [
    "df.isnull().head()"
   ]
  },
  {
   "cell_type": "code",
   "execution_count": 8,
   "metadata": {
    "scrolled": true
   },
   "outputs": [
    {
     "name": "stdout",
     "output_type": "stream",
     "text": [
      "<class 'pandas.core.frame.DataFrame'>\n",
      "Int64Index: 38116 entries, 0 to 45715\n",
      "Data columns (total 10 columns):\n",
      "name           38116 non-null object\n",
      "id             38116 non-null int64\n",
      "nametype       38116 non-null object\n",
      "recclass       38116 non-null object\n",
      "mass (g)       38116 non-null float64\n",
      "fall           38116 non-null object\n",
      "year           38116 non-null object\n",
      "reclat         38116 non-null float64\n",
      "reclong        38116 non-null float64\n",
      "GeoLocation    38116 non-null object\n",
      "dtypes: float64(3), int64(1), object(6)\n",
      "memory usage: 3.2+ MB\n"
     ]
    }
   ],
   "source": [
    "df.info()"
   ]
  },
  {
   "cell_type": "code",
   "execution_count": 9,
   "metadata": {},
   "outputs": [
    {
     "data": {
      "text/plain": [
       "0        21.0\n",
       "1       720.0\n",
       "2    107000.0\n",
       "3      1914.0\n",
       "4       780.0\n",
       "Name: mass (g), dtype: float64"
      ]
     },
     "execution_count": 9,
     "metadata": {},
     "output_type": "execute_result"
    }
   ],
   "source": [
    "df['mass (g)'].head(5)"
   ]
  },
  {
   "cell_type": "code",
   "execution_count": null,
   "metadata": {},
   "outputs": [],
   "source": []
  },
  {
   "cell_type": "code",
   "execution_count": 10,
   "metadata": {},
   "outputs": [
    {
     "data": {
      "text/plain": [
       "60000000.0"
      ]
     },
     "execution_count": 10,
     "metadata": {},
     "output_type": "execute_result"
    }
   ],
   "source": [
    "df['mass (g)'].max()"
   ]
  },
  {
   "cell_type": "code",
   "execution_count": 11,
   "metadata": {},
   "outputs": [
    {
     "data": {
      "text/plain": [
       "<matplotlib.axes._subplots.AxesSubplot at 0x1a1f61dda0>"
      ]
     },
     "execution_count": 11,
     "metadata": {},
     "output_type": "execute_result"
    },
    {
     "data": {
      "image/png": "[encoded data removed]",
      "text/plain": [
       "<Figure size 432x288 with 2 Axes>"
      ]
     },
     "metadata": {
      "needs_background": "light"
     },
     "output_type": "display_data"
    }
   ],
   "source": [
    "sns.heatmap(df.corr())"
   ]
  },
  {
   "cell_type": "code",
   "execution_count": 12,
   "metadata": {},
   "outputs": [
    {
     "data": {
      "text/plain": [
       "<matplotlib.axes._subplots.AxesSubplot at 0x1a1dfb7390>"
      ]
     },
     "execution_count": 12,
     "metadata": {},
     "output_type": "execute_result"
    },
    {
     "data": {
      "image/png": "[encoded data removed]",
      "text/plain": [
       "<Figure size 432x288 with 1 Axes>"
      ]
     },
     "metadata": {
      "needs_background": "light"
     },
     "output_type": "display_data"
    }
   ],
   "source": [
    "df.boxplot()"
   ]
  },
  {
   "cell_type": "code",
   "execution_count": 13,
   "metadata": {},
   "outputs": [],
   "source": [
    "import plotly.plotly as mypy\n"
   ]
  },
  {
   "cell_type": "code",
   "execution_count": 14,
   "metadata": {},
   "outputs": [],
   "source": [
    "mycolor=[[0.0, 'rgb(165,0,38)'], [0.1111111111111111, 'rgb(215,48,39)'], [0.2222222222222222, 'rgb(244,109,67)'], [0.3333333333333333, 'rgb(253,174,97)'], [0.4444444444444444, 'rgb(254,224,144)'], [0.5555555555555556, 'rgb(224,243,248)'], [0.6666666666666666, 'rgb(171,217,233)'], [0.7777777777777778, 'rgb(116,173,209)'], [0.8888888888888888, 'rgb(69,117,180)'], [1.0, 'rgb(49,54,149)']]\n"
   ]
  },
  {
   "cell_type": "code",
   "execution_count": 15,
   "metadata": {},
   "outputs": [],
   "source": [
    "data = [ dict(\n",
    "    lat = df['reclat'],\n",
    "    lon = df['reclong'],\n",
    "    text = df['mass (g)'],\n",
    "    marker = dict(\n",
    "        color = df['mass (g)'],\n",
    "        colorscale = 'YlOrRd',\n",
    "        reversescale = True,\n",
    "        symbol='square',\n",
    "        opacity = 0.7,\n",
    "        size = 6,\n",
    "        colorbar = dict(\n",
    "            thickness = 10,\n",
    "            titleside = \"right\",\n",
    "            title=\"Mass (g)\",\n",
    "            outlinecolor = \"rgba(68, 68, 68, 0)\",\n",
    "            ticks = \"outside\",\n",
    "            ticklen = 3,\n",
    "            #dtick = 100\n",
    "        ),\n",
    "    ),\n",
    "    type = 'scattergeo'\n",
    ") ]"
   ]
  },
  {
   "cell_type": "code",
   "execution_count": 16,
   "metadata": {},
   "outputs": [],
   "source": [
    "layout = dict(\n",
    "    geo = dict(\n",
    "        scope = 'world',\n",
    "        showland = True,\n",
    "        landcolor = \"rgb(91, 94, 132)\",\n",
    "        subunitcolor = \"rgb(255, 255, 255)\",\n",
    "        countrycolor = \"rgb(255, 255, 255)\",\n",
    "        showlakes = True,\n",
    "        lakecolor = \"rgb(190, 195, 196)\",\n",
    "        showsubunits = True,\n",
    "        showcountries = True,\n",
    "        resolution = 50,\n",
    "        projection = dict(\n",
    "            type = 'equirectangular',\n",
    "            rotation = dict(\n",
    "                lon = -100\n",
    "            )\n",
    "        ),\n",
    "        lonaxis = dict(\n",
    "            showgrid = True,\n",
    "            gridwidth = 0.9,\n",
    "            range= [ -140.0, -55.0 ],\n",
    "            dtick = 100\n",
    "        ),\n",
    "        lataxis = dict (\n",
    "            showgrid = True,\n",
    "            gridwidth = 0.9,\n",
    "            range= [ 20.0, 60.0 ],\n",
    "            dtick = 10\n",
    "        )\n",
    "    ),\n",
    "    title = 'Meteorite Landings',\n",
    ")"
   ]
  },
  {
   "cell_type": "code",
   "execution_count": 17,
   "metadata": {},
   "outputs": [
    {
     "name": "stderr",
     "output_type": "stream",
     "text": [
      "/anaconda3/lib/python3.7/site-packages/IPython/core/display.py:689: UserWarning:\n",
      "\n",
      "Consider using IPython.display.IFrame instead\n",
      "\n"
     ]
    },
    {
     "data": {
      "text/html": [
       "<iframe id=\"igraph\" scrolling=\"no\" style=\"border:none;\" seamless=\"seamless\" src=\"https://plot.ly/~black_uchiha08/4.embed\" height=\"525px\" width=\"100%\"></iframe>"
      ],
      "text/plain": [
       "<plotly.tools.PlotlyDisplay object>"
      ]
     },
     "execution_count": 17,
     "metadata": {},
     "output_type": "execute_result"
    }
   ],
   "source": [
    "fig = { 'data':data, 'layout':layout }\n",
    "mypy.iplot(fig, filename='meteorite')"
   ]
  },
  {
   "cell_type": "code",
   "execution_count": 18,
   "metadata": {
    "scrolled": true
   },
   "outputs": [],
   "source": [
    "dfw = df['mass (g)'].dropna().to_frame()"
   ]
  },
  {
   "cell_type": "code",
   "execution_count": 19,
   "metadata": {},
   "outputs": [],
   "source": [
    "dfw = dfw/1000"
   ]
  },
  {
   "cell_type": "code",
   "execution_count": 20,
   "metadata": {},
   "outputs": [],
   "source": [
    "dfw.columns = ['mass (kg)']"
   ]
  },
  {
   "cell_type": "code",
   "execution_count": 21,
   "metadata": {},
   "outputs": [
    {
     "data": {
      "text/plain": [
       "<matplotlib.axes._subplots.AxesSubplot at 0x1a1f2fdb70>"
      ]
     },
     "execution_count": 21,
     "metadata": {},
     "output_type": "execute_result"
    },
    {
     "data": {
      "image/png": "[encoded data removed]",
      "text/plain": [
       "<Figure size 432x288 with 1 Axes>"
      ]
     },
     "metadata": {
      "needs_background": "light"
     },
     "output_type": "display_data"
    }
   ],
   "source": [
    "dfw.plot(kind=\"density\")"
   ]
  },
  {
   "cell_type": "code",
   "execution_count": 22,
   "metadata": {},
   "outputs": [
    {
     "data": {
      "text/plain": [
       "name            Jiddat al Harasis 630\n",
       "id                              52787\n",
       "nametype                        Valid\n",
       "recclass                           L5\n",
       "mass (g)                         3036\n",
       "fall                            Found\n",
       "year           01/01/2010 12:00:00 AM\n",
       "reclat                        19.7976\n",
       "reclong                       55.8909\n",
       "GeoLocation    (19.797590, 55.890890)\n",
       "Name: 17078, dtype: object"
      ]
     },
     "execution_count": 22,
     "metadata": {},
     "output_type": "execute_result"
    }
   ],
   "source": [
    "largest = df['mass (g)'].idxmax()\n",
    "df.iloc[largest]"
   ]
  },
  {
   "cell_type": "code",
   "execution_count": null,
   "metadata": {},
   "outputs": [],
   "source": []
  },
  {
   "cell_type": "code",
   "execution_count": 73,
   "metadata": {},
   "outputs": [],
   "source": [
    "data = [ dict(\n",
    "        type = 'scattergeo',\n",
    "        locationmode = 'USA-states',\n",
    "        lon = df['reclong'],\n",
    "        lat = df['reclat'],\n",
    "        text = df['year'],\n",
    "        mode = 'markers',\n",
    "        marker = dict(\n",
    "            size = 8,\n",
    "            opacity = 0.8,\n",
    "            reversescale = True,\n",
    "            autocolorscale = False,\n",
    "            symbol = 'star',\n",
    "            line = dict(\n",
    "                width=1,\n",
    "                color='rgb(102, 102, 102)'\n",
    "            ),\n",
    "            colorscale = 'YlOrRd',\n",
    "            cmin = 0,\n",
    "            color = df['fall'],\n",
    "            cmax = df['fall'].max(),\n",
    "            \n",
    "        ))]"
   ]
  },
  {
   "cell_type": "code",
   "execution_count": 74,
   "metadata": {},
   "outputs": [],
   "source": [
    "layout = dict(\n",
    "        title = 'Meteorites on US',\n",
    "        colorbar = True,\n",
    "        geo = dict(\n",
    "            scope='usa',\n",
    "            projection=dict( type='albers usa' ),\n",
    "            showland = True,\n",
    "            landcolor = \"rgb(250, 250, 250)\",\n",
    "            subunitcolor = \"rgb(217, 217, 217)\",\n",
    "            countrycolor = \"rgb(217, 217, 217)\",\n",
    "            countrywidth = 0.5,\n",
    "            subunitwidth = 0.5\n",
    "        ),\n",
    "    )\n",
    "\n"
   ]
  },
  {
   "cell_type": "code",
   "execution_count": 75,
   "metadata": {},
   "outputs": [
    {
     "name": "stderr",
     "output_type": "stream",
     "text": [
      "/anaconda3/lib/python3.7/site-packages/IPython/core/display.py:689: UserWarning:\n",
      "\n",
      "Consider using IPython.display.IFrame instead\n",
      "\n"
     ]
    },
    {
     "data": {
      "text/html": [
       "<iframe id=\"igraph\" scrolling=\"no\" style=\"border:none;\" seamless=\"seamless\" src=\"https://plot.ly/~black_uchiha08/6.embed\" height=\"525px\" width=\"100%\"></iframe>"
      ],
      "text/plain": [
       "<plotly.tools.PlotlyDisplay object>"
      ]
     },
     "execution_count": 75,
     "metadata": {},
     "output_type": "execute_result"
    }
   ],
   "source": [
    "fig1 = dict( data=data, layout=layout )\n",
    "mypy.iplot( fig1, validate=False, filename='Meteorites on US' )"
   ]
  },
  {
   "cell_type": "code",
   "execution_count": 49,
   "metadata": {},
   "outputs": [],
   "source": [
    "trace = go.Pie(labels=df['recclass'], values=df['mass (g)'])"
   ]
  },
  {
   "cell_type": "code",
   "execution_count": 51,
   "metadata": {},
   "outputs": [
    {
     "name": "stderr",
     "output_type": "stream",
     "text": [
      "/anaconda3/lib/python3.7/site-packages/IPython/core/display.py:689: UserWarning:\n",
      "\n",
      "Consider using IPython.display.IFrame instead\n",
      "\n"
     ]
    },
    {
     "data": {
      "text/html": [
       "<iframe id=\"igraph\" scrolling=\"no\" style=\"border:none;\" seamless=\"seamless\" src=\"https://plot.ly/~black_uchiha08/10.embed\" height=\"525px\" width=\"100%\"></iframe>"
      ],
      "text/plain": [
       "<plotly.tools.PlotlyDisplay object>"
      ]
     },
     "execution_count": 51,
     "metadata": {},
     "output_type": "execute_result"
    }
   ],
   "source": [
    "mypy.iplot([trace])"
   ]
  },
  {
   "cell_type": "code",
   "execution_count": 27,
   "metadata": {},
   "outputs": [
    {
     "data": {
      "text/plain": [
       "mass (kg)    628.673503\n",
       "dtype: float64"
      ]
     },
     "execution_count": 27,
     "metadata": {},
     "output_type": "execute_result"
    }
   ],
   "source": [
    "dfw.std()\n"
   ]
  },
  {
   "cell_type": "code",
   "execution_count": 28,
   "metadata": {},
   "outputs": [
    {
     "data": {
      "text/plain": [
       "mass (kg)    15.600306\n",
       "dtype: float64"
      ]
     },
     "execution_count": 28,
     "metadata": {},
     "output_type": "execute_result"
    }
   ],
   "source": [
    "dfw.mean()\n",
    "\n"
   ]
  },
  {
   "cell_type": "code",
   "execution_count": 29,
   "metadata": {},
   "outputs": [
    {
     "data": {
      "text/plain": [
       "mass (kg)    395230.373965\n",
       "dtype: float64"
      ]
     },
     "execution_count": 29,
     "metadata": {},
     "output_type": "execute_result"
    }
   ],
   "source": [
    "dfw.var()"
   ]
  },
  {
   "cell_type": "code",
   "execution_count": 30,
   "metadata": {},
   "outputs": [],
   "source": [
    "df1= pd.read_csv('energydata_complete.csv')"
   ]
  },
  {
   "cell_type": "markdown",
   "metadata": {},
   "source": [
    " "
   ]
  },
  {
   "cell_type": "code",
   "execution_count": 31,
   "metadata": {},
   "outputs": [
    {
     "name": "stdout",
     "output_type": "stream",
     "text": [
      "<class 'pandas.core.frame.DataFrame'>\n",
      "RangeIndex: 19735 entries, 0 to 19734\n",
      "Data columns (total 29 columns):\n",
      "date           19735 non-null object\n",
      "Appliances     19735 non-null int64\n",
      "lights         19735 non-null int64\n",
      "T1             19735 non-null float64\n",
      "RH_1           19735 non-null float64\n",
      "T2             19735 non-null float64\n",
      "RH_2           19735 non-null float64\n",
      "T3             19735 non-null float64\n",
      "RH_3           19735 non-null float64\n",
      "T4             19735 non-null float64\n",
      "RH_4           19735 non-null float64\n",
      "T5             19735 non-null float64\n",
      "RH_5           19735 non-null float64\n",
      "T6             19735 non-null float64\n",
      "RH_6           19735 non-null float64\n",
      "T7             19735 non-null float64\n",
      "RH_7           19735 non-null float64\n",
      "T8             19735 non-null float64\n",
      "RH_8           19735 non-null float64\n",
      "T9             19735 non-null float64\n",
      "RH_9           19735 non-null float64\n",
      "T_out          19735 non-null float64\n",
      "Press_mm_hg    19735 non-null float64\n",
      "RH_out         19735 non-null float64\n",
      "Windspeed      19735 non-null float64\n",
      "Visibility     19735 non-null float64\n",
      "Tdewpoint      19735 non-null float64\n",
      "rv1            19735 non-null float64\n",
      "rv2            19735 non-null float64\n",
      "dtypes: float64(26), int64(2), object(1)\n",
      "memory usage: 4.4+ MB\n"
     ]
    }
   ],
   "source": [
    "df1.info()"
   ]
  },
  {
   "cell_type": "code",
   "execution_count": 52,
   "metadata": {},
   "outputs": [
    {
     "data": {
      "text/html": [
       "<div>\n",
       "<style scoped>\n",
       "    .dataframe tbody tr th:only-of-type {\n",
       "        vertical-align: middle;\n",
       "    }\n",
       "\n",
       "    .dataframe tbody tr th {\n",
       "        vertical-align: top;\n",
       "    }\n",
       "\n",
       "    .dataframe thead th {\n",
       "        text-align: right;\n",
       "    }\n",
       "</style>\n",
       "<table border=\"1\" class=\"dataframe\">\n",
       "  <thead>\n",
       "    <tr style=\"text-align: right;\">\n",
       "      <th></th>\n",
       "      <th>date</th>\n",
       "      <th>Appliances</th>\n",
       "      <th>lights</th>\n",
       "      <th>T1</th>\n",
       "      <th>RH_1</th>\n",
       "      <th>T2</th>\n",
       "      <th>RH_2</th>\n",
       "      <th>T3</th>\n",
       "      <th>RH_3</th>\n",
       "      <th>T4</th>\n",
       "      <th>...</th>\n",
       "      <th>T9</th>\n",
       "      <th>RH_9</th>\n",
       "      <th>T_out</th>\n",
       "      <th>Press_mm_hg</th>\n",
       "      <th>RH_out</th>\n",
       "      <th>Windspeed</th>\n",
       "      <th>Visibility</th>\n",
       "      <th>Tdewpoint</th>\n",
       "      <th>rv1</th>\n",
       "      <th>rv2</th>\n",
       "    </tr>\n",
       "  </thead>\n",
       "  <tbody>\n",
       "    <tr>\n",
       "      <th>0</th>\n",
       "      <td>2016-01-11 17:00:00</td>\n",
       "      <td>60</td>\n",
       "      <td>30</td>\n",
       "      <td>19.89</td>\n",
       "      <td>47.596667</td>\n",
       "      <td>19.2</td>\n",
       "      <td>44.790000</td>\n",
       "      <td>19.79</td>\n",
       "      <td>44.730000</td>\n",
       "      <td>19.000000</td>\n",
       "      <td>...</td>\n",
       "      <td>17.033333</td>\n",
       "      <td>45.53</td>\n",
       "      <td>6.600000</td>\n",
       "      <td>733.5</td>\n",
       "      <td>92.0</td>\n",
       "      <td>7.000000</td>\n",
       "      <td>63.000000</td>\n",
       "      <td>5.3</td>\n",
       "      <td>13.275433</td>\n",
       "      <td>13.275433</td>\n",
       "    </tr>\n",
       "    <tr>\n",
       "      <th>1</th>\n",
       "      <td>2016-01-11 17:10:00</td>\n",
       "      <td>60</td>\n",
       "      <td>30</td>\n",
       "      <td>19.89</td>\n",
       "      <td>46.693333</td>\n",
       "      <td>19.2</td>\n",
       "      <td>44.722500</td>\n",
       "      <td>19.79</td>\n",
       "      <td>44.790000</td>\n",
       "      <td>19.000000</td>\n",
       "      <td>...</td>\n",
       "      <td>17.066667</td>\n",
       "      <td>45.56</td>\n",
       "      <td>6.483333</td>\n",
       "      <td>733.6</td>\n",
       "      <td>92.0</td>\n",
       "      <td>6.666667</td>\n",
       "      <td>59.166667</td>\n",
       "      <td>5.2</td>\n",
       "      <td>18.606195</td>\n",
       "      <td>18.606195</td>\n",
       "    </tr>\n",
       "    <tr>\n",
       "      <th>2</th>\n",
       "      <td>2016-01-11 17:20:00</td>\n",
       "      <td>50</td>\n",
       "      <td>30</td>\n",
       "      <td>19.89</td>\n",
       "      <td>46.300000</td>\n",
       "      <td>19.2</td>\n",
       "      <td>44.626667</td>\n",
       "      <td>19.79</td>\n",
       "      <td>44.933333</td>\n",
       "      <td>18.926667</td>\n",
       "      <td>...</td>\n",
       "      <td>17.000000</td>\n",
       "      <td>45.50</td>\n",
       "      <td>6.366667</td>\n",
       "      <td>733.7</td>\n",
       "      <td>92.0</td>\n",
       "      <td>6.333333</td>\n",
       "      <td>55.333333</td>\n",
       "      <td>5.1</td>\n",
       "      <td>28.642668</td>\n",
       "      <td>28.642668</td>\n",
       "    </tr>\n",
       "    <tr>\n",
       "      <th>3</th>\n",
       "      <td>2016-01-11 17:30:00</td>\n",
       "      <td>50</td>\n",
       "      <td>40</td>\n",
       "      <td>19.89</td>\n",
       "      <td>46.066667</td>\n",
       "      <td>19.2</td>\n",
       "      <td>44.590000</td>\n",
       "      <td>19.79</td>\n",
       "      <td>45.000000</td>\n",
       "      <td>18.890000</td>\n",
       "      <td>...</td>\n",
       "      <td>17.000000</td>\n",
       "      <td>45.40</td>\n",
       "      <td>6.250000</td>\n",
       "      <td>733.8</td>\n",
       "      <td>92.0</td>\n",
       "      <td>6.000000</td>\n",
       "      <td>51.500000</td>\n",
       "      <td>5.0</td>\n",
       "      <td>45.410389</td>\n",
       "      <td>45.410389</td>\n",
       "    </tr>\n",
       "    <tr>\n",
       "      <th>4</th>\n",
       "      <td>2016-01-11 17:40:00</td>\n",
       "      <td>60</td>\n",
       "      <td>40</td>\n",
       "      <td>19.89</td>\n",
       "      <td>46.333333</td>\n",
       "      <td>19.2</td>\n",
       "      <td>44.530000</td>\n",
       "      <td>19.79</td>\n",
       "      <td>45.000000</td>\n",
       "      <td>18.890000</td>\n",
       "      <td>...</td>\n",
       "      <td>17.000000</td>\n",
       "      <td>45.40</td>\n",
       "      <td>6.133333</td>\n",
       "      <td>733.9</td>\n",
       "      <td>92.0</td>\n",
       "      <td>5.666667</td>\n",
       "      <td>47.666667</td>\n",
       "      <td>4.9</td>\n",
       "      <td>10.084097</td>\n",
       "      <td>10.084097</td>\n",
       "    </tr>\n",
       "  </tbody>\n",
       "</table>\n",
       "<p>5 rows × 29 columns</p>\n",
       "</div>"
      ],
      "text/plain": [
       "                  date  Appliances  lights     T1       RH_1    T2       RH_2  \\\n",
       "0  2016-01-11 17:00:00          60      30  19.89  47.596667  19.2  44.790000   \n",
       "1  2016-01-11 17:10:00          60      30  19.89  46.693333  19.2  44.722500   \n",
       "2  2016-01-11 17:20:00          50      30  19.89  46.300000  19.2  44.626667   \n",
       "3  2016-01-11 17:30:00          50      40  19.89  46.066667  19.2  44.590000   \n",
       "4  2016-01-11 17:40:00          60      40  19.89  46.333333  19.2  44.530000   \n",
       "\n",
       "      T3       RH_3         T4    ...             T9   RH_9     T_out  \\\n",
       "0  19.79  44.730000  19.000000    ...      17.033333  45.53  6.600000   \n",
       "1  19.79  44.790000  19.000000    ...      17.066667  45.56  6.483333   \n",
       "2  19.79  44.933333  18.926667    ...      17.000000  45.50  6.366667   \n",
       "3  19.79  45.000000  18.890000    ...      17.000000  45.40  6.250000   \n",
       "4  19.79  45.000000  18.890000    ...      17.000000  45.40  6.133333   \n",
       "\n",
       "   Press_mm_hg  RH_out  Windspeed  Visibility  Tdewpoint        rv1        rv2  \n",
       "0        733.5    92.0   7.000000   63.000000        5.3  13.275433  13.275433  \n",
       "1        733.6    92.0   6.666667   59.166667        5.2  18.606195  18.606195  \n",
       "2        733.7    92.0   6.333333   55.333333        5.1  28.642668  28.642668  \n",
       "3        733.8    92.0   6.000000   51.500000        5.0  45.410389  45.410389  \n",
       "4        733.9    92.0   5.666667   47.666667        4.9  10.084097  10.084097  \n",
       "\n",
       "[5 rows x 29 columns]"
      ]
     },
     "execution_count": 52,
     "metadata": {},
     "output_type": "execute_result"
    }
   ],
   "source": [
    "df1.head()"
   ]
  },
  {
   "cell_type": "code",
   "execution_count": 33,
   "metadata": {},
   "outputs": [
    {
     "data": {
      "text/html": [
       "<div>\n",
       "<style scoped>\n",
       "    .dataframe tbody tr th:only-of-type {\n",
       "        vertical-align: middle;\n",
       "    }\n",
       "\n",
       "    .dataframe tbody tr th {\n",
       "        vertical-align: top;\n",
       "    }\n",
       "\n",
       "    .dataframe thead th {\n",
       "        text-align: right;\n",
       "    }\n",
       "</style>\n",
       "<table border=\"1\" class=\"dataframe\">\n",
       "  <thead>\n",
       "    <tr style=\"text-align: right;\">\n",
       "      <th></th>\n",
       "      <th>date</th>\n",
       "      <th>Appliances</th>\n",
       "      <th>lights</th>\n",
       "      <th>T1</th>\n",
       "      <th>RH_1</th>\n",
       "      <th>T2</th>\n",
       "      <th>RH_2</th>\n",
       "      <th>T3</th>\n",
       "      <th>RH_3</th>\n",
       "      <th>T4</th>\n",
       "      <th>...</th>\n",
       "      <th>T9</th>\n",
       "      <th>RH_9</th>\n",
       "      <th>T_out</th>\n",
       "      <th>Press_mm_hg</th>\n",
       "      <th>RH_out</th>\n",
       "      <th>Windspeed</th>\n",
       "      <th>Visibility</th>\n",
       "      <th>Tdewpoint</th>\n",
       "      <th>rv1</th>\n",
       "      <th>rv2</th>\n",
       "    </tr>\n",
       "  </thead>\n",
       "  <tbody>\n",
       "    <tr>\n",
       "      <th>0</th>\n",
       "      <td>False</td>\n",
       "      <td>False</td>\n",
       "      <td>False</td>\n",
       "      <td>False</td>\n",
       "      <td>False</td>\n",
       "      <td>False</td>\n",
       "      <td>False</td>\n",
       "      <td>False</td>\n",
       "      <td>False</td>\n",
       "      <td>False</td>\n",
       "      <td>...</td>\n",
       "      <td>False</td>\n",
       "      <td>False</td>\n",
       "      <td>False</td>\n",
       "      <td>False</td>\n",
       "      <td>False</td>\n",
       "      <td>False</td>\n",
       "      <td>False</td>\n",
       "      <td>False</td>\n",
       "      <td>False</td>\n",
       "      <td>False</td>\n",
       "    </tr>\n",
       "    <tr>\n",
       "      <th>1</th>\n",
       "      <td>False</td>\n",
       "      <td>False</td>\n",
       "      <td>False</td>\n",
       "      <td>False</td>\n",
       "      <td>False</td>\n",
       "      <td>False</td>\n",
       "      <td>False</td>\n",
       "      <td>False</td>\n",
       "      <td>False</td>\n",
       "      <td>False</td>\n",
       "      <td>...</td>\n",
       "      <td>False</td>\n",
       "      <td>False</td>\n",
       "      <td>False</td>\n",
       "      <td>False</td>\n",
       "      <td>False</td>\n",
       "      <td>False</td>\n",
       "      <td>False</td>\n",
       "      <td>False</td>\n",
       "      <td>False</td>\n",
       "      <td>False</td>\n",
       "    </tr>\n",
       "    <tr>\n",
       "      <th>2</th>\n",
       "      <td>False</td>\n",
       "      <td>False</td>\n",
       "      <td>False</td>\n",
       "      <td>False</td>\n",
       "      <td>False</td>\n",
       "      <td>False</td>\n",
       "      <td>False</td>\n",
       "      <td>False</td>\n",
       "      <td>False</td>\n",
       "      <td>False</td>\n",
       "      <td>...</td>\n",
       "      <td>False</td>\n",
       "      <td>False</td>\n",
       "      <td>False</td>\n",
       "      <td>False</td>\n",
       "      <td>False</td>\n",
       "      <td>False</td>\n",
       "      <td>False</td>\n",
       "      <td>False</td>\n",
       "      <td>False</td>\n",
       "      <td>False</td>\n",
       "    </tr>\n",
       "    <tr>\n",
       "      <th>3</th>\n",
       "      <td>False</td>\n",
       "      <td>False</td>\n",
       "      <td>False</td>\n",
       "      <td>False</td>\n",
       "      <td>False</td>\n",
       "      <td>False</td>\n",
       "      <td>False</td>\n",
       "      <td>False</td>\n",
       "      <td>False</td>\n",
       "      <td>False</td>\n",
       "      <td>...</td>\n",
       "      <td>False</td>\n",
       "      <td>False</td>\n",
       "      <td>False</td>\n",
       "      <td>False</td>\n",
       "      <td>False</td>\n",
       "      <td>False</td>\n",
       "      <td>False</td>\n",
       "      <td>False</td>\n",
       "      <td>False</td>\n",
       "      <td>False</td>\n",
       "    </tr>\n",
       "    <tr>\n",
       "      <th>4</th>\n",
       "      <td>False</td>\n",
       "      <td>False</td>\n",
       "      <td>False</td>\n",
       "      <td>False</td>\n",
       "      <td>False</td>\n",
       "      <td>False</td>\n",
       "      <td>False</td>\n",
       "      <td>False</td>\n",
       "      <td>False</td>\n",
       "      <td>False</td>\n",
       "      <td>...</td>\n",
       "      <td>False</td>\n",
       "      <td>False</td>\n",
       "      <td>False</td>\n",
       "      <td>False</td>\n",
       "      <td>False</td>\n",
       "      <td>False</td>\n",
       "      <td>False</td>\n",
       "      <td>False</td>\n",
       "      <td>False</td>\n",
       "      <td>False</td>\n",
       "    </tr>\n",
       "  </tbody>\n",
       "</table>\n",
       "<p>5 rows × 29 columns</p>\n",
       "</div>"
      ],
      "text/plain": [
       "    date  Appliances  lights     T1   RH_1     T2   RH_2     T3   RH_3     T4  \\\n",
       "0  False       False   False  False  False  False  False  False  False  False   \n",
       "1  False       False   False  False  False  False  False  False  False  False   \n",
       "2  False       False   False  False  False  False  False  False  False  False   \n",
       "3  False       False   False  False  False  False  False  False  False  False   \n",
       "4  False       False   False  False  False  False  False  False  False  False   \n",
       "\n",
       "   ...       T9   RH_9  T_out  Press_mm_hg  RH_out  Windspeed  Visibility  \\\n",
       "0  ...    False  False  False        False   False      False       False   \n",
       "1  ...    False  False  False        False   False      False       False   \n",
       "2  ...    False  False  False        False   False      False       False   \n",
       "3  ...    False  False  False        False   False      False       False   \n",
       "4  ...    False  False  False        False   False      False       False   \n",
       "\n",
       "   Tdewpoint    rv1    rv2  \n",
       "0      False  False  False  \n",
       "1      False  False  False  \n",
       "2      False  False  False  \n",
       "3      False  False  False  \n",
       "4      False  False  False  \n",
       "\n",
       "[5 rows x 29 columns]"
      ]
     },
     "execution_count": 33,
     "metadata": {},
     "output_type": "execute_result"
    }
   ],
   "source": [
    "df1.isnull().head()"
   ]
  },
  {
   "cell_type": "markdown",
   "metadata": {},
   "source": [
    "Attribute Information:\n",
    "\n",
    "date time year-month-day hour:minute:second \n",
    "Appliances, energy use in Wh \n",
    "lights, energy use of light fixtures in the house in Wh \n",
    "T1, Temperature in kitchen area, in Celsius \n",
    "RH_1, Humidity in kitchen area, in % \n",
    "T2, Temperature in living room area, in Celsius \n",
    "RH_2, Humidity in livingroom area, in % \n",
    "T3, Temperature in laundry room area \n",
    "RH_3, Humidity in laundry room area, in % \n",
    "T4, Temperature in office room, in Celsius \n",
    "RH_4, Humidity in office room, in % \n",
    "T5, Temperature in bathroom, in Celsius \n",
    "RH_5, Humidity in bathroom, in % \n",
    "T6, Temperature outside the building (north side), in Celsius \n",
    "RH_6, Humidity outside the building (north side), in % \n",
    "T7, Temperature in ironing room , in Celsius \n",
    "RH_7, Humidity in ironing room, in % \n",
    "T8, Temperature in teenager room 2, in Celsius \n",
    "RH_8, Humidity in teenager room 2, in % \n",
    "T9, Temperature in parents room, in Celsius \n",
    "RH_9, Humidity in parents room, in % \n",
    "To, Temperature outside (from Chievres weather station), in Celsius \n",
    "Pressure (from Chievres weather station), in mm Hg \n",
    "RH_out, Humidity outside (from Chievres weather station), in % \n",
    "Wind speed (from Chievres weather station), in m/s \n",
    "Visibility (from Chievres weather station), in km \n",
    "Tdewpoint (from Chievres weather station), Â°C \n",
    "rv1, Random variable 1, nondimensional \n",
    "rv2, Random variable 2, nondimensional "
   ]
  },
  {
   "cell_type": "code",
   "execution_count": 34,
   "metadata": {},
   "outputs": [
    {
     "data": {
      "text/html": [
       "<div>\n",
       "<style scoped>\n",
       "    .dataframe tbody tr th:only-of-type {\n",
       "        vertical-align: middle;\n",
       "    }\n",
       "\n",
       "    .dataframe tbody tr th {\n",
       "        vertical-align: top;\n",
       "    }\n",
       "\n",
       "    .dataframe thead th {\n",
       "        text-align: right;\n",
       "    }\n",
       "</style>\n",
       "<table border=\"1\" class=\"dataframe\">\n",
       "  <thead>\n",
       "    <tr style=\"text-align: right;\">\n",
       "      <th></th>\n",
       "      <th>Appliances</th>\n",
       "      <th>lights</th>\n",
       "      <th>T1</th>\n",
       "      <th>RH_1</th>\n",
       "      <th>T2</th>\n",
       "      <th>RH_2</th>\n",
       "      <th>T3</th>\n",
       "      <th>RH_3</th>\n",
       "      <th>T4</th>\n",
       "      <th>RH_4</th>\n",
       "      <th>...</th>\n",
       "      <th>T9</th>\n",
       "      <th>RH_9</th>\n",
       "      <th>T_out</th>\n",
       "      <th>Press_mm_hg</th>\n",
       "      <th>RH_out</th>\n",
       "      <th>Windspeed</th>\n",
       "      <th>Visibility</th>\n",
       "      <th>Tdewpoint</th>\n",
       "      <th>rv1</th>\n",
       "      <th>rv2</th>\n",
       "    </tr>\n",
       "  </thead>\n",
       "  <tbody>\n",
       "    <tr>\n",
       "      <th>Appliances</th>\n",
       "      <td>1.000000</td>\n",
       "      <td>0.197278</td>\n",
       "      <td>0.055447</td>\n",
       "      <td>0.086031</td>\n",
       "      <td>0.120073</td>\n",
       "      <td>-0.060465</td>\n",
       "      <td>0.085060</td>\n",
       "      <td>0.036292</td>\n",
       "      <td>0.040281</td>\n",
       "      <td>0.016965</td>\n",
       "      <td>...</td>\n",
       "      <td>0.010010</td>\n",
       "      <td>-0.051462</td>\n",
       "      <td>0.099155</td>\n",
       "      <td>-0.034885</td>\n",
       "      <td>-0.152282</td>\n",
       "      <td>0.087122</td>\n",
       "      <td>0.000230</td>\n",
       "      <td>0.015353</td>\n",
       "      <td>-0.011145</td>\n",
       "      <td>-0.011145</td>\n",
       "    </tr>\n",
       "    <tr>\n",
       "      <th>lights</th>\n",
       "      <td>0.197278</td>\n",
       "      <td>1.000000</td>\n",
       "      <td>-0.023528</td>\n",
       "      <td>0.106968</td>\n",
       "      <td>-0.005622</td>\n",
       "      <td>0.050985</td>\n",
       "      <td>-0.097393</td>\n",
       "      <td>0.131161</td>\n",
       "      <td>-0.008859</td>\n",
       "      <td>0.114936</td>\n",
       "      <td>...</td>\n",
       "      <td>-0.157592</td>\n",
       "      <td>-0.008766</td>\n",
       "      <td>-0.074424</td>\n",
       "      <td>-0.010576</td>\n",
       "      <td>0.068543</td>\n",
       "      <td>0.060281</td>\n",
       "      <td>0.020038</td>\n",
       "      <td>-0.036322</td>\n",
       "      <td>0.000521</td>\n",
       "      <td>0.000521</td>\n",
       "    </tr>\n",
       "    <tr>\n",
       "      <th>T1</th>\n",
       "      <td>0.055447</td>\n",
       "      <td>-0.023528</td>\n",
       "      <td>1.000000</td>\n",
       "      <td>0.164006</td>\n",
       "      <td>0.836834</td>\n",
       "      <td>-0.002509</td>\n",
       "      <td>0.892402</td>\n",
       "      <td>-0.028550</td>\n",
       "      <td>0.877001</td>\n",
       "      <td>0.097861</td>\n",
       "      <td>...</td>\n",
       "      <td>0.844777</td>\n",
       "      <td>0.071756</td>\n",
       "      <td>0.682846</td>\n",
       "      <td>-0.150574</td>\n",
       "      <td>-0.345481</td>\n",
       "      <td>-0.087654</td>\n",
       "      <td>-0.076210</td>\n",
       "      <td>0.571309</td>\n",
       "      <td>-0.006203</td>\n",
       "      <td>-0.006203</td>\n",
       "    </tr>\n",
       "    <tr>\n",
       "      <th>RH_1</th>\n",
       "      <td>0.086031</td>\n",
       "      <td>0.106968</td>\n",
       "      <td>0.164006</td>\n",
       "      <td>1.000000</td>\n",
       "      <td>0.269839</td>\n",
       "      <td>0.797535</td>\n",
       "      <td>0.253230</td>\n",
       "      <td>0.844677</td>\n",
       "      <td>0.106180</td>\n",
       "      <td>0.880359</td>\n",
       "      <td>...</td>\n",
       "      <td>0.115263</td>\n",
       "      <td>0.764001</td>\n",
       "      <td>0.340767</td>\n",
       "      <td>-0.293957</td>\n",
       "      <td>0.274126</td>\n",
       "      <td>0.204932</td>\n",
       "      <td>-0.021057</td>\n",
       "      <td>0.639106</td>\n",
       "      <td>-0.000699</td>\n",
       "      <td>-0.000699</td>\n",
       "    </tr>\n",
       "    <tr>\n",
       "      <th>T2</th>\n",
       "      <td>0.120073</td>\n",
       "      <td>-0.005622</td>\n",
       "      <td>0.836834</td>\n",
       "      <td>0.269839</td>\n",
       "      <td>1.000000</td>\n",
       "      <td>-0.165610</td>\n",
       "      <td>0.735245</td>\n",
       "      <td>0.121497</td>\n",
       "      <td>0.762066</td>\n",
       "      <td>0.231563</td>\n",
       "      <td>...</td>\n",
       "      <td>0.675535</td>\n",
       "      <td>0.157346</td>\n",
       "      <td>0.792255</td>\n",
       "      <td>-0.133028</td>\n",
       "      <td>-0.505291</td>\n",
       "      <td>0.052495</td>\n",
       "      <td>-0.069721</td>\n",
       "      <td>0.582602</td>\n",
       "      <td>-0.011087</td>\n",
       "      <td>-0.011087</td>\n",
       "    </tr>\n",
       "    <tr>\n",
       "      <th>RH_2</th>\n",
       "      <td>-0.060465</td>\n",
       "      <td>0.050985</td>\n",
       "      <td>-0.002509</td>\n",
       "      <td>0.797535</td>\n",
       "      <td>-0.165610</td>\n",
       "      <td>1.000000</td>\n",
       "      <td>0.137319</td>\n",
       "      <td>0.678326</td>\n",
       "      <td>-0.047304</td>\n",
       "      <td>0.721435</td>\n",
       "      <td>...</td>\n",
       "      <td>0.054544</td>\n",
       "      <td>0.676467</td>\n",
       "      <td>0.033674</td>\n",
       "      <td>-0.255646</td>\n",
       "      <td>0.584911</td>\n",
       "      <td>0.069190</td>\n",
       "      <td>-0.005368</td>\n",
       "      <td>0.499152</td>\n",
       "      <td>0.006275</td>\n",
       "      <td>0.006275</td>\n",
       "    </tr>\n",
       "    <tr>\n",
       "      <th>T3</th>\n",
       "      <td>0.085060</td>\n",
       "      <td>-0.097393</td>\n",
       "      <td>0.892402</td>\n",
       "      <td>0.253230</td>\n",
       "      <td>0.735245</td>\n",
       "      <td>0.137319</td>\n",
       "      <td>1.000000</td>\n",
       "      <td>-0.011234</td>\n",
       "      <td>0.852778</td>\n",
       "      <td>0.122737</td>\n",
       "      <td>...</td>\n",
       "      <td>0.901324</td>\n",
       "      <td>0.134602</td>\n",
       "      <td>0.699417</td>\n",
       "      <td>-0.189974</td>\n",
       "      <td>-0.281718</td>\n",
       "      <td>-0.100776</td>\n",
       "      <td>-0.102310</td>\n",
       "      <td>0.645886</td>\n",
       "      <td>-0.005194</td>\n",
       "      <td>-0.005194</td>\n",
       "    </tr>\n",
       "    <tr>\n",
       "      <th>RH_3</th>\n",
       "      <td>0.036292</td>\n",
       "      <td>0.131161</td>\n",
       "      <td>-0.028550</td>\n",
       "      <td>0.844677</td>\n",
       "      <td>0.121497</td>\n",
       "      <td>0.678326</td>\n",
       "      <td>-0.011234</td>\n",
       "      <td>1.000000</td>\n",
       "      <td>-0.140457</td>\n",
       "      <td>0.898978</td>\n",
       "      <td>...</td>\n",
       "      <td>-0.195270</td>\n",
       "      <td>0.833538</td>\n",
       "      <td>0.118207</td>\n",
       "      <td>-0.233274</td>\n",
       "      <td>0.356192</td>\n",
       "      <td>0.263188</td>\n",
       "      <td>0.017041</td>\n",
       "      <td>0.414387</td>\n",
       "      <td>-0.000477</td>\n",
       "      <td>-0.000477</td>\n",
       "    </tr>\n",
       "    <tr>\n",
       "      <th>T4</th>\n",
       "      <td>0.040281</td>\n",
       "      <td>-0.008859</td>\n",
       "      <td>0.877001</td>\n",
       "      <td>0.106180</td>\n",
       "      <td>0.762066</td>\n",
       "      <td>-0.047304</td>\n",
       "      <td>0.852778</td>\n",
       "      <td>-0.140457</td>\n",
       "      <td>1.000000</td>\n",
       "      <td>-0.048650</td>\n",
       "      <td>...</td>\n",
       "      <td>0.889439</td>\n",
       "      <td>-0.025549</td>\n",
       "      <td>0.663478</td>\n",
       "      <td>-0.075292</td>\n",
       "      <td>-0.388602</td>\n",
       "      <td>-0.185747</td>\n",
       "      <td>-0.104768</td>\n",
       "      <td>0.519471</td>\n",
       "      <td>-0.001815</td>\n",
       "      <td>-0.001815</td>\n",
       "    </tr>\n",
       "    <tr>\n",
       "      <th>RH_4</th>\n",
       "      <td>0.016965</td>\n",
       "      <td>0.114936</td>\n",
       "      <td>0.097861</td>\n",
       "      <td>0.880359</td>\n",
       "      <td>0.231563</td>\n",
       "      <td>0.721435</td>\n",
       "      <td>0.122737</td>\n",
       "      <td>0.898978</td>\n",
       "      <td>-0.048650</td>\n",
       "      <td>1.000000</td>\n",
       "      <td>...</td>\n",
       "      <td>-0.044518</td>\n",
       "      <td>0.856591</td>\n",
       "      <td>0.293289</td>\n",
       "      <td>-0.250748</td>\n",
       "      <td>0.336813</td>\n",
       "      <td>0.300192</td>\n",
       "      <td>0.002636</td>\n",
       "      <td>0.616509</td>\n",
       "      <td>-0.001787</td>\n",
       "      <td>-0.001787</td>\n",
       "    </tr>\n",
       "    <tr>\n",
       "      <th>T5</th>\n",
       "      <td>0.019760</td>\n",
       "      <td>-0.078745</td>\n",
       "      <td>0.885247</td>\n",
       "      <td>0.205797</td>\n",
       "      <td>0.720550</td>\n",
       "      <td>0.110409</td>\n",
       "      <td>0.888169</td>\n",
       "      <td>-0.050062</td>\n",
       "      <td>0.871813</td>\n",
       "      <td>0.091812</td>\n",
       "      <td>...</td>\n",
       "      <td>0.911055</td>\n",
       "      <td>0.072308</td>\n",
       "      <td>0.651321</td>\n",
       "      <td>-0.170999</td>\n",
       "      <td>-0.273953</td>\n",
       "      <td>-0.145011</td>\n",
       "      <td>-0.084164</td>\n",
       "      <td>0.588362</td>\n",
       "      <td>-0.005490</td>\n",
       "      <td>-0.005490</td>\n",
       "    </tr>\n",
       "    <tr>\n",
       "      <th>RH_5</th>\n",
       "      <td>0.006955</td>\n",
       "      <td>0.141233</td>\n",
       "      <td>-0.014782</td>\n",
       "      <td>0.303258</td>\n",
       "      <td>0.029595</td>\n",
       "      <td>0.250271</td>\n",
       "      <td>-0.066355</td>\n",
       "      <td>0.375422</td>\n",
       "      <td>-0.076489</td>\n",
       "      <td>0.352591</td>\n",
       "      <td>...</td>\n",
       "      <td>-0.138509</td>\n",
       "      <td>0.272197</td>\n",
       "      <td>-0.053126</td>\n",
       "      <td>-0.119327</td>\n",
       "      <td>0.185941</td>\n",
       "      <td>0.082044</td>\n",
       "      <td>-0.013133</td>\n",
       "      <td>0.078175</td>\n",
       "      <td>-0.011056</td>\n",
       "      <td>-0.011056</td>\n",
       "    </tr>\n",
       "    <tr>\n",
       "      <th>T6</th>\n",
       "      <td>0.117638</td>\n",
       "      <td>-0.079029</td>\n",
       "      <td>0.654769</td>\n",
       "      <td>0.316141</td>\n",
       "      <td>0.801186</td>\n",
       "      <td>-0.009670</td>\n",
       "      <td>0.686882</td>\n",
       "      <td>0.076833</td>\n",
       "      <td>0.652350</td>\n",
       "      <td>0.259047</td>\n",
       "      <td>...</td>\n",
       "      <td>0.667177</td>\n",
       "      <td>0.184424</td>\n",
       "      <td>0.974787</td>\n",
       "      <td>-0.141643</td>\n",
       "      <td>-0.569119</td>\n",
       "      <td>0.169185</td>\n",
       "      <td>-0.081313</td>\n",
       "      <td>0.764242</td>\n",
       "      <td>-0.015086</td>\n",
       "      <td>-0.015086</td>\n",
       "    </tr>\n",
       "    <tr>\n",
       "      <th>RH_6</th>\n",
       "      <td>-0.083178</td>\n",
       "      <td>0.153756</td>\n",
       "      <td>-0.615045</td>\n",
       "      <td>0.245126</td>\n",
       "      <td>-0.580372</td>\n",
       "      <td>0.389933</td>\n",
       "      <td>-0.647672</td>\n",
       "      <td>0.514912</td>\n",
       "      <td>-0.703149</td>\n",
       "      <td>0.392178</td>\n",
       "      <td>...</td>\n",
       "      <td>-0.738940</td>\n",
       "      <td>0.391943</td>\n",
       "      <td>-0.641572</td>\n",
       "      <td>-0.065814</td>\n",
       "      <td>0.718587</td>\n",
       "      <td>0.098317</td>\n",
       "      <td>0.108705</td>\n",
       "      <td>-0.260417</td>\n",
       "      <td>0.011671</td>\n",
       "      <td>0.011671</td>\n",
       "    </tr>\n",
       "    <tr>\n",
       "      <th>T7</th>\n",
       "      <td>0.025801</td>\n",
       "      <td>-0.135347</td>\n",
       "      <td>0.838705</td>\n",
       "      <td>0.021397</td>\n",
       "      <td>0.663660</td>\n",
       "      <td>-0.051422</td>\n",
       "      <td>0.847374</td>\n",
       "      <td>-0.250090</td>\n",
       "      <td>0.877763</td>\n",
       "      <td>-0.131204</td>\n",
       "      <td>...</td>\n",
       "      <td>0.944776</td>\n",
       "      <td>-0.077690</td>\n",
       "      <td>0.631293</td>\n",
       "      <td>-0.097724</td>\n",
       "      <td>-0.411213</td>\n",
       "      <td>-0.185892</td>\n",
       "      <td>-0.110089</td>\n",
       "      <td>0.466625</td>\n",
       "      <td>-0.003900</td>\n",
       "      <td>-0.003900</td>\n",
       "    </tr>\n",
       "    <tr>\n",
       "      <th>RH_7</th>\n",
       "      <td>-0.055642</td>\n",
       "      <td>0.035069</td>\n",
       "      <td>0.135182</td>\n",
       "      <td>0.801122</td>\n",
       "      <td>0.229212</td>\n",
       "      <td>0.690584</td>\n",
       "      <td>0.172624</td>\n",
       "      <td>0.832685</td>\n",
       "      <td>0.043527</td>\n",
       "      <td>0.894301</td>\n",
       "      <td>...</td>\n",
       "      <td>0.028055</td>\n",
       "      <td>0.858686</td>\n",
       "      <td>0.294199</td>\n",
       "      <td>-0.265850</td>\n",
       "      <td>0.378519</td>\n",
       "      <td>0.212979</td>\n",
       "      <td>-0.007184</td>\n",
       "      <td>0.641857</td>\n",
       "      <td>0.001820</td>\n",
       "      <td>0.001820</td>\n",
       "    </tr>\n",
       "    <tr>\n",
       "      <th>T8</th>\n",
       "      <td>0.039572</td>\n",
       "      <td>-0.071458</td>\n",
       "      <td>0.825413</td>\n",
       "      <td>-0.030053</td>\n",
       "      <td>0.578191</td>\n",
       "      <td>-0.041023</td>\n",
       "      <td>0.795283</td>\n",
       "      <td>-0.283228</td>\n",
       "      <td>0.796256</td>\n",
       "      <td>-0.167066</td>\n",
       "      <td>...</td>\n",
       "      <td>0.869338</td>\n",
       "      <td>-0.156820</td>\n",
       "      <td>0.502842</td>\n",
       "      <td>-0.162855</td>\n",
       "      <td>-0.300438</td>\n",
       "      <td>-0.218876</td>\n",
       "      <td>-0.060098</td>\n",
       "      <td>0.391810</td>\n",
       "      <td>-0.003210</td>\n",
       "      <td>-0.003210</td>\n",
       "    </tr>\n",
       "    <tr>\n",
       "      <th>RH_8</th>\n",
       "      <td>-0.094039</td>\n",
       "      <td>0.012915</td>\n",
       "      <td>-0.006441</td>\n",
       "      <td>0.736196</td>\n",
       "      <td>0.068534</td>\n",
       "      <td>0.679777</td>\n",
       "      <td>0.044427</td>\n",
       "      <td>0.828822</td>\n",
       "      <td>-0.095192</td>\n",
       "      <td>0.847259</td>\n",
       "      <td>...</td>\n",
       "      <td>-0.113014</td>\n",
       "      <td>0.855812</td>\n",
       "      <td>0.117141</td>\n",
       "      <td>-0.225591</td>\n",
       "      <td>0.487355</td>\n",
       "      <td>0.202380</td>\n",
       "      <td>0.046178</td>\n",
       "      <td>0.501775</td>\n",
       "      <td>0.004480</td>\n",
       "      <td>0.004480</td>\n",
       "    </tr>\n",
       "    <tr>\n",
       "      <th>T9</th>\n",
       "      <td>0.010010</td>\n",
       "      <td>-0.157592</td>\n",
       "      <td>0.844777</td>\n",
       "      <td>0.115263</td>\n",
       "      <td>0.675535</td>\n",
       "      <td>0.054544</td>\n",
       "      <td>0.901324</td>\n",
       "      <td>-0.195270</td>\n",
       "      <td>0.889439</td>\n",
       "      <td>-0.044518</td>\n",
       "      <td>...</td>\n",
       "      <td>1.000000</td>\n",
       "      <td>-0.008683</td>\n",
       "      <td>0.668220</td>\n",
       "      <td>-0.156828</td>\n",
       "      <td>-0.318848</td>\n",
       "      <td>-0.177756</td>\n",
       "      <td>-0.103915</td>\n",
       "      <td>0.581483</td>\n",
       "      <td>-0.001227</td>\n",
       "      <td>-0.001227</td>\n",
       "    </tr>\n",
       "    <tr>\n",
       "      <th>RH_9</th>\n",
       "      <td>-0.051462</td>\n",
       "      <td>-0.008766</td>\n",
       "      <td>0.071756</td>\n",
       "      <td>0.764001</td>\n",
       "      <td>0.157346</td>\n",
       "      <td>0.676467</td>\n",
       "      <td>0.134602</td>\n",
       "      <td>0.833538</td>\n",
       "      <td>-0.025549</td>\n",
       "      <td>0.856591</td>\n",
       "      <td>...</td>\n",
       "      <td>-0.008683</td>\n",
       "      <td>1.000000</td>\n",
       "      <td>0.223270</td>\n",
       "      <td>-0.183739</td>\n",
       "      <td>0.359377</td>\n",
       "      <td>0.238655</td>\n",
       "      <td>0.008667</td>\n",
       "      <td>0.540328</td>\n",
       "      <td>-0.002955</td>\n",
       "      <td>-0.002955</td>\n",
       "    </tr>\n",
       "    <tr>\n",
       "      <th>T_out</th>\n",
       "      <td>0.099155</td>\n",
       "      <td>-0.074424</td>\n",
       "      <td>0.682846</td>\n",
       "      <td>0.340767</td>\n",
       "      <td>0.792255</td>\n",
       "      <td>0.033674</td>\n",
       "      <td>0.699417</td>\n",
       "      <td>0.118207</td>\n",
       "      <td>0.663478</td>\n",
       "      <td>0.293289</td>\n",
       "      <td>...</td>\n",
       "      <td>0.668220</td>\n",
       "      <td>0.223270</td>\n",
       "      <td>1.000000</td>\n",
       "      <td>-0.143249</td>\n",
       "      <td>-0.574197</td>\n",
       "      <td>0.192936</td>\n",
       "      <td>-0.077367</td>\n",
       "      <td>0.790661</td>\n",
       "      <td>-0.015216</td>\n",
       "      <td>-0.015216</td>\n",
       "    </tr>\n",
       "    <tr>\n",
       "      <th>Press_mm_hg</th>\n",
       "      <td>-0.034885</td>\n",
       "      <td>-0.010576</td>\n",
       "      <td>-0.150574</td>\n",
       "      <td>-0.293957</td>\n",
       "      <td>-0.133028</td>\n",
       "      <td>-0.255646</td>\n",
       "      <td>-0.189974</td>\n",
       "      <td>-0.233274</td>\n",
       "      <td>-0.075292</td>\n",
       "      <td>-0.250748</td>\n",
       "      <td>...</td>\n",
       "      <td>-0.156828</td>\n",
       "      <td>-0.183739</td>\n",
       "      <td>-0.143249</td>\n",
       "      <td>1.000000</td>\n",
       "      <td>-0.092017</td>\n",
       "      <td>-0.235032</td>\n",
       "      <td>0.040315</td>\n",
       "      <td>-0.244098</td>\n",
       "      <td>0.000699</td>\n",
       "      <td>0.000699</td>\n",
       "    </tr>\n",
       "    <tr>\n",
       "      <th>RH_out</th>\n",
       "      <td>-0.152282</td>\n",
       "      <td>0.068543</td>\n",
       "      <td>-0.345481</td>\n",
       "      <td>0.274126</td>\n",
       "      <td>-0.505291</td>\n",
       "      <td>0.584911</td>\n",
       "      <td>-0.281718</td>\n",
       "      <td>0.356192</td>\n",
       "      <td>-0.388602</td>\n",
       "      <td>0.336813</td>\n",
       "      <td>...</td>\n",
       "      <td>-0.318848</td>\n",
       "      <td>0.359377</td>\n",
       "      <td>-0.574197</td>\n",
       "      <td>-0.092017</td>\n",
       "      <td>1.000000</td>\n",
       "      <td>-0.176458</td>\n",
       "      <td>0.083125</td>\n",
       "      <td>0.036506</td>\n",
       "      <td>0.020441</td>\n",
       "      <td>0.020441</td>\n",
       "    </tr>\n",
       "    <tr>\n",
       "      <th>Windspeed</th>\n",
       "      <td>0.087122</td>\n",
       "      <td>0.060281</td>\n",
       "      <td>-0.087654</td>\n",
       "      <td>0.204932</td>\n",
       "      <td>0.052495</td>\n",
       "      <td>0.069190</td>\n",
       "      <td>-0.100776</td>\n",
       "      <td>0.263188</td>\n",
       "      <td>-0.185747</td>\n",
       "      <td>0.300192</td>\n",
       "      <td>...</td>\n",
       "      <td>-0.177756</td>\n",
       "      <td>0.238655</td>\n",
       "      <td>0.192936</td>\n",
       "      <td>-0.235032</td>\n",
       "      <td>-0.176458</td>\n",
       "      <td>1.000000</td>\n",
       "      <td>-0.007516</td>\n",
       "      <td>0.125972</td>\n",
       "      <td>-0.011342</td>\n",
       "      <td>-0.011342</td>\n",
       "    </tr>\n",
       "    <tr>\n",
       "      <th>Visibility</th>\n",
       "      <td>0.000230</td>\n",
       "      <td>0.020038</td>\n",
       "      <td>-0.076210</td>\n",
       "      <td>-0.021057</td>\n",
       "      <td>-0.069721</td>\n",
       "      <td>-0.005368</td>\n",
       "      <td>-0.102310</td>\n",
       "      <td>0.017041</td>\n",
       "      <td>-0.104768</td>\n",
       "      <td>0.002636</td>\n",
       "      <td>...</td>\n",
       "      <td>-0.103915</td>\n",
       "      <td>0.008667</td>\n",
       "      <td>-0.077367</td>\n",
       "      <td>0.040315</td>\n",
       "      <td>0.083125</td>\n",
       "      <td>-0.007516</td>\n",
       "      <td>1.000000</td>\n",
       "      <td>-0.042190</td>\n",
       "      <td>-0.005889</td>\n",
       "      <td>-0.005889</td>\n",
       "    </tr>\n",
       "    <tr>\n",
       "      <th>Tdewpoint</th>\n",
       "      <td>0.015353</td>\n",
       "      <td>-0.036322</td>\n",
       "      <td>0.571309</td>\n",
       "      <td>0.639106</td>\n",
       "      <td>0.582602</td>\n",
       "      <td>0.499152</td>\n",
       "      <td>0.645886</td>\n",
       "      <td>0.414387</td>\n",
       "      <td>0.519471</td>\n",
       "      <td>0.616509</td>\n",
       "      <td>...</td>\n",
       "      <td>0.581483</td>\n",
       "      <td>0.540328</td>\n",
       "      <td>0.790661</td>\n",
       "      <td>-0.244098</td>\n",
       "      <td>0.036506</td>\n",
       "      <td>0.125972</td>\n",
       "      <td>-0.042190</td>\n",
       "      <td>1.000000</td>\n",
       "      <td>-0.003943</td>\n",
       "      <td>-0.003943</td>\n",
       "    </tr>\n",
       "    <tr>\n",
       "      <th>rv1</th>\n",
       "      <td>-0.011145</td>\n",
       "      <td>0.000521</td>\n",
       "      <td>-0.006203</td>\n",
       "      <td>-0.000699</td>\n",
       "      <td>-0.011087</td>\n",
       "      <td>0.006275</td>\n",
       "      <td>-0.005194</td>\n",
       "      <td>-0.000477</td>\n",
       "      <td>-0.001815</td>\n",
       "      <td>-0.001787</td>\n",
       "      <td>...</td>\n",
       "      <td>-0.001227</td>\n",
       "      <td>-0.002955</td>\n",
       "      <td>-0.015216</td>\n",
       "      <td>0.000699</td>\n",
       "      <td>0.020441</td>\n",
       "      <td>-0.011342</td>\n",
       "      <td>-0.005889</td>\n",
       "      <td>-0.003943</td>\n",
       "      <td>1.000000</td>\n",
       "      <td>1.000000</td>\n",
       "    </tr>\n",
       "    <tr>\n",
       "      <th>rv2</th>\n",
       "      <td>-0.011145</td>\n",
       "      <td>0.000521</td>\n",
       "      <td>-0.006203</td>\n",
       "      <td>-0.000699</td>\n",
       "      <td>-0.011087</td>\n",
       "      <td>0.006275</td>\n",
       "      <td>-0.005194</td>\n",
       "      <td>-0.000477</td>\n",
       "      <td>-0.001815</td>\n",
       "      <td>-0.001787</td>\n",
       "      <td>...</td>\n",
       "      <td>-0.001227</td>\n",
       "      <td>-0.002955</td>\n",
       "      <td>-0.015216</td>\n",
       "      <td>0.000699</td>\n",
       "      <td>0.020441</td>\n",
       "      <td>-0.011342</td>\n",
       "      <td>-0.005889</td>\n",
       "      <td>-0.003943</td>\n",
       "      <td>1.000000</td>\n",
       "      <td>1.000000</td>\n",
       "    </tr>\n",
       "  </tbody>\n",
       "</table>\n",
       "<p>28 rows × 28 columns</p>\n",
       "</div>"
      ],
      "text/plain": [
       "             Appliances    lights        T1      RH_1        T2      RH_2  \\\n",
       "Appliances     1.000000  0.197278  0.055447  0.086031  0.120073 -0.060465   \n",
       "lights         0.197278  1.000000 -0.023528  0.106968 -0.005622  0.050985   \n",
       "T1             0.055447 -0.023528  1.000000  0.164006  0.836834 -0.002509   \n",
       "RH_1           0.086031  0.106968  0.164006  1.000000  0.269839  0.797535   \n",
       "T2             0.120073 -0.005622  0.836834  0.269839  1.000000 -0.165610   \n",
       "RH_2          -0.060465  0.050985 -0.002509  0.797535 -0.165610  1.000000   \n",
       "T3             0.085060 -0.097393  0.892402  0.253230  0.735245  0.137319   \n",
       "RH_3           0.036292  0.131161 -0.028550  0.844677  0.121497  0.678326   \n",
       "T4             0.040281 -0.008859  0.877001  0.106180  0.762066 -0.047304   \n",
       "RH_4           0.016965  0.114936  0.097861  0.880359  0.231563  0.721435   \n",
       "T5             0.019760 -0.078745  0.885247  0.205797  0.720550  0.110409   \n",
       "RH_5           0.006955  0.141233 -0.014782  0.303258  0.029595  0.250271   \n",
       "T6             0.117638 -0.079029  0.654769  0.316141  0.801186 -0.009670   \n",
       "RH_6          -0.083178  0.153756 -0.615045  0.245126 -0.580372  0.389933   \n",
       "T7             0.025801 -0.135347  0.838705  0.021397  0.663660 -0.051422   \n",
       "RH_7          -0.055642  0.035069  0.135182  0.801122  0.229212  0.690584   \n",
       "T8             0.039572 -0.071458  0.825413 -0.030053  0.578191 -0.041023   \n",
       "RH_8          -0.094039  0.012915 -0.006441  0.736196  0.068534  0.679777   \n",
       "T9             0.010010 -0.157592  0.844777  0.115263  0.675535  0.054544   \n",
       "RH_9          -0.051462 -0.008766  0.071756  0.764001  0.157346  0.676467   \n",
       "T_out          0.099155 -0.074424  0.682846  0.340767  0.792255  0.033674   \n",
       "Press_mm_hg   -0.034885 -0.010576 -0.150574 -0.293957 -0.133028 -0.255646   \n",
       "RH_out        -0.152282  0.068543 -0.345481  0.274126 -0.505291  0.584911   \n",
       "Windspeed      0.087122  0.060281 -0.087654  0.204932  0.052495  0.069190   \n",
       "Visibility     0.000230  0.020038 -0.076210 -0.021057 -0.069721 -0.005368   \n",
       "Tdewpoint      0.015353 -0.036322  0.571309  0.639106  0.582602  0.499152   \n",
       "rv1           -0.011145  0.000521 -0.006203 -0.000699 -0.011087  0.006275   \n",
       "rv2           -0.011145  0.000521 -0.006203 -0.000699 -0.011087  0.006275   \n",
       "\n",
       "                   T3      RH_3        T4      RH_4    ...           T9  \\\n",
       "Appliances   0.085060  0.036292  0.040281  0.016965    ...     0.010010   \n",
       "lights      -0.097393  0.131161 -0.008859  0.114936    ...    -0.157592   \n",
       "T1           0.892402 -0.028550  0.877001  0.097861    ...     0.844777   \n",
       "RH_1         0.253230  0.844677  0.106180  0.880359    ...     0.115263   \n",
       "T2           0.735245  0.121497  0.762066  0.231563    ...     0.675535   \n",
       "RH_2         0.137319  0.678326 -0.047304  0.721435    ...     0.054544   \n",
       "T3           1.000000 -0.011234  0.852778  0.122737    ...     0.901324   \n",
       "RH_3        -0.011234  1.000000 -0.140457  0.898978    ...    -0.195270   \n",
       "T4           0.852778 -0.140457  1.000000 -0.048650    ...     0.889439   \n",
       "RH_4         0.122737  0.898978 -0.048650  1.000000    ...    -0.044518   \n",
       "T5           0.888169 -0.050062  0.871813  0.091812    ...     0.911055   \n",
       "RH_5        -0.066355  0.375422 -0.076489  0.352591    ...    -0.138509   \n",
       "T6           0.686882  0.076833  0.652350  0.259047    ...     0.667177   \n",
       "RH_6        -0.647672  0.514912 -0.703149  0.392178    ...    -0.738940   \n",
       "T7           0.847374 -0.250090  0.877763 -0.131204    ...     0.944776   \n",
       "RH_7         0.172624  0.832685  0.043527  0.894301    ...     0.028055   \n",
       "T8           0.795283 -0.283228  0.796256 -0.167066    ...     0.869338   \n",
       "RH_8         0.044427  0.828822 -0.095192  0.847259    ...    -0.113014   \n",
       "T9           0.901324 -0.195270  0.889439 -0.044518    ...     1.000000   \n",
       "RH_9         0.134602  0.833538 -0.025549  0.856591    ...    -0.008683   \n",
       "T_out        0.699417  0.118207  0.663478  0.293289    ...     0.668220   \n",
       "Press_mm_hg -0.189974 -0.233274 -0.075292 -0.250748    ...    -0.156828   \n",
       "RH_out      -0.281718  0.356192 -0.388602  0.336813    ...    -0.318848   \n",
       "Windspeed   -0.100776  0.263188 -0.185747  0.300192    ...    -0.177756   \n",
       "Visibility  -0.102310  0.017041 -0.104768  0.002636    ...    -0.103915   \n",
       "Tdewpoint    0.645886  0.414387  0.519471  0.616509    ...     0.581483   \n",
       "rv1         -0.005194 -0.000477 -0.001815 -0.001787    ...    -0.001227   \n",
       "rv2         -0.005194 -0.000477 -0.001815 -0.001787    ...    -0.001227   \n",
       "\n",
       "                 RH_9     T_out  Press_mm_hg    RH_out  Windspeed  Visibility  \\\n",
       "Appliances  -0.051462  0.099155    -0.034885 -0.152282   0.087122    0.000230   \n",
       "lights      -0.008766 -0.074424    -0.010576  0.068543   0.060281    0.020038   \n",
       "T1           0.071756  0.682846    -0.150574 -0.345481  -0.087654   -0.076210   \n",
       "RH_1         0.764001  0.340767    -0.293957  0.274126   0.204932   -0.021057   \n",
       "T2           0.157346  0.792255    -0.133028 -0.505291   0.052495   -0.069721   \n",
       "RH_2         0.676467  0.033674    -0.255646  0.584911   0.069190   -0.005368   \n",
       "T3           0.134602  0.699417    -0.189974 -0.281718  -0.100776   -0.102310   \n",
       "RH_3         0.833538  0.118207    -0.233274  0.356192   0.263188    0.017041   \n",
       "T4          -0.025549  0.663478    -0.075292 -0.388602  -0.185747   -0.104768   \n",
       "RH_4         0.856591  0.293289    -0.250748  0.336813   0.300192    0.002636   \n",
       "T5           0.072308  0.651321    -0.170999 -0.273953  -0.145011   -0.084164   \n",
       "RH_5         0.272197 -0.053126    -0.119327  0.185941   0.082044   -0.013133   \n",
       "T6           0.184424  0.974787    -0.141643 -0.569119   0.169185   -0.081313   \n",
       "RH_6         0.391943 -0.641572    -0.065814  0.718587   0.098317    0.108705   \n",
       "T7          -0.077690  0.631293    -0.097724 -0.411213  -0.185892   -0.110089   \n",
       "RH_7         0.858686  0.294199    -0.265850  0.378519   0.212979   -0.007184   \n",
       "T8          -0.156820  0.502842    -0.162855 -0.300438  -0.218876   -0.060098   \n",
       "RH_8         0.855812  0.117141    -0.225591  0.487355   0.202380    0.046178   \n",
       "T9          -0.008683  0.668220    -0.156828 -0.318848  -0.177756   -0.103915   \n",
       "RH_9         1.000000  0.223270    -0.183739  0.359377   0.238655    0.008667   \n",
       "T_out        0.223270  1.000000    -0.143249 -0.574197   0.192936   -0.077367   \n",
       "Press_mm_hg -0.183739 -0.143249     1.000000 -0.092017  -0.235032    0.040315   \n",
       "RH_out       0.359377 -0.574197    -0.092017  1.000000  -0.176458    0.083125   \n",
       "Windspeed    0.238655  0.192936    -0.235032 -0.176458   1.000000   -0.007516   \n",
       "Visibility   0.008667 -0.077367     0.040315  0.083125  -0.007516    1.000000   \n",
       "Tdewpoint    0.540328  0.790661    -0.244098  0.036506   0.125972   -0.042190   \n",
       "rv1         -0.002955 -0.015216     0.000699  0.020441  -0.011342   -0.005889   \n",
       "rv2         -0.002955 -0.015216     0.000699  0.020441  -0.011342   -0.005889   \n",
       "\n",
       "             Tdewpoint       rv1       rv2  \n",
       "Appliances    0.015353 -0.011145 -0.011145  \n",
       "lights       -0.036322  0.000521  0.000521  \n",
       "T1            0.571309 -0.006203 -0.006203  \n",
       "RH_1          0.639106 -0.000699 -0.000699  \n",
       "T2            0.582602 -0.011087 -0.011087  \n",
       "RH_2          0.499152  0.006275  0.006275  \n",
       "T3            0.645886 -0.005194 -0.005194  \n",
       "RH_3          0.414387 -0.000477 -0.000477  \n",
       "T4            0.519471 -0.001815 -0.001815  \n",
       "RH_4          0.616509 -0.001787 -0.001787  \n",
       "T5            0.588362 -0.005490 -0.005490  \n",
       "RH_5          0.078175 -0.011056 -0.011056  \n",
       "T6            0.764242 -0.015086 -0.015086  \n",
       "RH_6         -0.260417  0.011671  0.011671  \n",
       "T7            0.466625 -0.003900 -0.003900  \n",
       "RH_7          0.641857  0.001820  0.001820  \n",
       "T8            0.391810 -0.003210 -0.003210  \n",
       "RH_8          0.501775  0.004480  0.004480  \n",
       "T9            0.581483 -0.001227 -0.001227  \n",
       "RH_9          0.540328 -0.002955 -0.002955  \n",
       "T_out         0.790661 -0.015216 -0.015216  \n",
       "Press_mm_hg  -0.244098  0.000699  0.000699  \n",
       "RH_out        0.036506  0.020441  0.020441  \n",
       "Windspeed     0.125972 -0.011342 -0.011342  \n",
       "Visibility   -0.042190 -0.005889 -0.005889  \n",
       "Tdewpoint     1.000000 -0.003943 -0.003943  \n",
       "rv1          -0.003943  1.000000  1.000000  \n",
       "rv2          -0.003943  1.000000  1.000000  \n",
       "\n",
       "[28 rows x 28 columns]"
      ]
     },
     "execution_count": 34,
     "metadata": {},
     "output_type": "execute_result"
    }
   ],
   "source": [
    "df1.corr()"
   ]
  },
  {
   "cell_type": "code",
   "execution_count": null,
   "metadata": {},
   "outputs": [],
   "source": []
  },
  {
   "cell_type": "code",
   "execution_count": 40,
   "metadata": {},
   "outputs": [
    {
     "data": {
      "text/plain": [
       "<matplotlib.axes._subplots.AxesSubplot at 0x1a45287518>"
      ]
     },
     "execution_count": 40,
     "metadata": {},
     "output_type": "execute_result"
    },
    {
     "data": {
      "image/png": "[encoded data removed]",
      "text/plain": [
       "<Figure size 432x288 with 1 Axes>"
      ]
     },
     "metadata": {
      "needs_background": "light"
     },
     "output_type": "display_data"
    }
   ],
   "source": [
    "sns.distplot(df1['Windspeed'])"
   ]
  },
  {
   "cell_type": "code",
   "execution_count": 41,
   "metadata": {},
   "outputs": [
    {
     "data": {
      "text/plain": [
       "<matplotlib.axes._subplots.AxesSubplot at 0x1a46016828>"
      ]
     },
     "execution_count": 41,
     "metadata": {},
     "output_type": "execute_result"
    },
    {
     "data": {
      "image/png": "[encoded data removed]",
      "text/plain": [
       "<Figure size 432x288 with 1 Axes>"
      ]
     },
     "metadata": {
      "needs_background": "light"
     },
     "output_type": "display_data"
    }
   ],
   "source": [
    "sns.distplot(df1['Press_mm_hg'])"
   ]
  },
  {
   "cell_type": "code",
   "execution_count": 55,
   "metadata": {},
   "outputs": [
    {
     "name": "stderr",
     "output_type": "stream",
     "text": [
      "/anaconda3/lib/python3.7/site-packages/IPython/core/display.py:689: UserWarning:\n",
      "\n",
      "Consider using IPython.display.IFrame instead\n",
      "\n"
     ]
    },
    {
     "data": {
      "text/html": [
       "<iframe id=\"igraph\" scrolling=\"no\" style=\"border:none;\" seamless=\"seamless\" src=\"https://plot.ly/~black_uchiha08/14.embed\" height=\"525px\" width=\"100%\"></iframe>"
      ],
      "text/plain": [
       "<plotly.tools.PlotlyDisplay object>"
      ]
     },
     "execution_count": 55,
     "metadata": {},
     "output_type": "execute_result"
    }
   ],
   "source": [
    "trace0 = go.Box(\n",
    "    y=df1['T3']\n",
    ")\n",
    "trace1 = go.Box(\n",
    "    y=df1['RH_3']\n",
    ")\n",
    "data = [trace0, trace1]\n",
    "mypy.iplot(data)"
   ]
  },
  {
   "cell_type": "code",
   "execution_count": 60,
   "metadata": {},
   "outputs": [
    {
     "name": "stderr",
     "output_type": "stream",
     "text": [
      "/anaconda3/lib/python3.7/site-packages/IPython/core/display.py:689: UserWarning:\n",
      "\n",
      "Consider using IPython.display.IFrame instead\n",
      "\n"
     ]
    },
    {
     "data": {
      "text/html": [
       "<iframe id=\"igraph\" scrolling=\"no\" style=\"border:none;\" seamless=\"seamless\" src=\"https://plot.ly/~black_uchiha08/16.embed\" height=\"525px\" width=\"100%\"></iframe>"
      ],
      "text/plain": [
       "<plotly.tools.PlotlyDisplay object>"
      ]
     },
     "execution_count": 60,
     "metadata": {},
     "output_type": "execute_result"
    }
   ],
   "source": [
    "data2 = [go.Histogram(x=df1['T_out'],\n",
    "                     histnorm='probability')]\n",
    "\n",
    "mypy.iplot(data2, filename='normalized histogram')"
   ]
  },
  {
   "cell_type": "code",
   "execution_count": 64,
   "metadata": {},
   "outputs": [
    {
     "name": "stderr",
     "output_type": "stream",
     "text": [
      "/anaconda3/lib/python3.7/site-packages/IPython/core/display.py:689: UserWarning:\n",
      "\n",
      "Consider using IPython.display.IFrame instead\n",
      "\n"
     ]
    },
    {
     "data": {
      "text/html": [
       "<iframe id=\"igraph\" scrolling=\"no\" style=\"border:none;\" seamless=\"seamless\" src=\"https://plot.ly/~black_uchiha08/18.embed\" height=\"525px\" width=\"100%\"></iframe>"
      ],
      "text/plain": [
       "<plotly.tools.PlotlyDisplay object>"
      ]
     },
     "execution_count": 64,
     "metadata": {},
     "output_type": "execute_result"
    }
   ],
   "source": [
    "trace3 = go.Histogram(\n",
    "    x=df1['T_out'],\n",
    "    opacity=0.75\n",
    ")\n",
    "trace4 = go.Histogram(\n",
    "    x=df1['RH_out'],\n",
    "    opacity=0.75\n",
    ")\n",
    "\n",
    "data4 = [trace3, trace4]\n",
    "layout2 = go.Layout(barmode='overlay')\n",
    "fig = go.Figure(data=data4, layout=layout2)\n",
    "\n",
    "mypy.iplot(fig, filename='overlaid histogram')"
   ]
  },
  {
   "cell_type": "code",
   "execution_count": 65,
   "metadata": {},
   "outputs": [
    {
     "name": "stderr",
     "output_type": "stream",
     "text": [
      "/anaconda3/lib/python3.7/site-packages/IPython/core/display.py:689: UserWarning:\n",
      "\n",
      "Consider using IPython.display.IFrame instead\n",
      "\n"
     ]
    },
    {
     "data": {
      "text/html": [
       "<iframe id=\"igraph\" scrolling=\"no\" style=\"border:none;\" seamless=\"seamless\" src=\"https://plot.ly/~black_uchiha08/18.embed\" height=\"525px\" width=\"100%\"></iframe>"
      ],
      "text/plain": [
       "<plotly.tools.PlotlyDisplay object>"
      ]
     },
     "execution_count": 65,
     "metadata": {},
     "output_type": "execute_result"
    }
   ],
   "source": [
    "trace5 = go.Histogram(\n",
    "    x=df1['T_out'],\n",
    "    opacity=0.75\n",
    ")\n",
    "trace6 = go.Histogram(\n",
    "    x=df1['T1'],\n",
    "    opacity=0.75\n",
    ")\n",
    "\n",
    "data5 = [trace5, trace6]\n",
    "layout3 = go.Layout(barmode='overlay')\n",
    "fig = go.Figure(data=data5, layout=layout3)\n",
    "\n",
    "mypy.iplot(fig, filename='overlaid histogram')"
   ]
  },
  {
   "cell_type": "code",
   "execution_count": 67,
   "metadata": {},
   "outputs": [],
   "source": [
    "from plotly import tools\n"
   ]
  },
  {
   "cell_type": "code",
   "execution_count": 69,
   "metadata": {},
   "outputs": [
    {
     "name": "stdout",
     "output_type": "stream",
     "text": [
      "This is the format of your plot grid:\n",
      "[ (1,1) x1,y1 ]  [ (1,2) x2,y2 ]  [ (1,3) x3,y3 ]\n",
      "[ (2,1) x4,y4 ]  [ (2,2) x5,y5 ]  [ (2,3) x6,y6 ]\n",
      "[ (3,1) x7,y7 ]  [ (3,2) x8,y8 ]  [ (3,3) x9,y9 ]\n",
      "\n",
      "The draw time for this plot will be slow for all clients.\n"
     ]
    },
    {
     "name": "stderr",
     "output_type": "stream",
     "text": [
      "/anaconda3/lib/python3.7/site-packages/plotly/api/v1/clientresp.py:40: UserWarning:\n",
      "\n",
      "Estimated Draw Time Too Long\n",
      "\n",
      "/anaconda3/lib/python3.7/site-packages/IPython/core/display.py:689: UserWarning:\n",
      "\n",
      "Consider using IPython.display.IFrame instead\n",
      "\n"
     ]
    },
    {
     "data": {
      "text/html": [
       "<iframe id=\"igraph\" scrolling=\"no\" style=\"border:none;\" seamless=\"seamless\" src=\"https://plot.ly/~black_uchiha08/22.embed\" height=\"900px\" width=\"900px\"></iframe>"
      ],
      "text/plain": [
       "<plotly.tools.PlotlyDisplay object>"
      ]
     },
     "execution_count": 69,
     "metadata": {},
     "output_type": "execute_result"
    }
   ],
   "source": [
    "trace11 = go.Scatter(x=df1['T1'], y=df1['RH_1'])\n",
    "trace12 = go.Scatter(x=df1['T2'], y=df1['RH_2'])\n",
    "trace13 = go.Scatter(x=df1['T3'], y=df1['RH_3'])\n",
    "trace21 = go.Scatter(x=df1['T4'], y=df1['RH_4'])\n",
    "trace22 = go.Scatter(x=df1['T5'], y=df1['RH_5'])\n",
    "trace23 = go.Scatter(x=df1['T6'], y=df1['RH_6'])\n",
    "trace31 = go.Scatter(x=df1['T7'], y=df1['RH_7'])\n",
    "trace32 = go.Scatter(x=df1['T8'], y=df1['RH_8'])\n",
    "trace33 = go.Scatter(x=df1['T9'], y=df1['RH_9'])\n",
    "\n",
    "fig11 = tools.make_subplots(rows=3, cols=3, subplot_titles=('T1 vs RH_1', 'T2 vs RH_2', 'T3 vs RH_3', \n",
    "                                                          'T4 vs RH_4', 'T5 vs RH_5', 'T6 vs RH_6',\n",
    "                                                        'T7 vs RH_7', 'T8 vs RH_8', 'T9 vs RH_9'))\n",
    "\n",
    "fig11.append_trace(trace11, 1, 1)\n",
    "fig11.append_trace(trace12, 1, 2)\n",
    "fig11.append_trace(trace13, 1, 3)\n",
    "fig11.append_trace(trace21, 2, 1)\n",
    "fig11.append_trace(trace22, 2, 2)\n",
    "fig11.append_trace(trace23, 2, 3)\n",
    "fig11.append_trace(trace31, 3, 1)\n",
    "fig11.append_trace(trace32, 3, 2)\n",
    "fig11.append_trace(trace33, 3, 3)\n",
    "\n",
    "\n",
    "fig11['layout'].update(height=900, width=900, title='Temperature vs Pressure of each room')\n",
    "                            \n",
    "mypy.iplot(fig11)"
   ]
  },
  {
   "cell_type": "code",
   "execution_count": null,
   "metadata": {},
   "outputs": [],
   "source": []
  }
 ],
 "metadata": {
  "kernelspec": {
   "display_name": "Python 3",
   "language": "python",
   "name": "python3"
  },
  "language_info": {
   "codemirror_mode": {
    "name": "ipython",
    "version": 3
   },
   "file_extension": ".py",
   "mimetype": "text/x-python",
   "name": "python",
   "nbconvert_exporter": "python",
   "pygments_lexer": "ipython3",
   "version": "3.7.1"
  }
 },
 "nbformat": 4,
 "nbformat_minor": 2
}
