{
 "cells": [
  {
   "cell_type": "markdown",
   "metadata": {},
   "source": [
    "# Assignment #1 - Linear Regression"
   ]
  },
  {
   "cell_type": "markdown",
   "metadata": {},
   "source": [
    "<font color=\"Red\"> Himanshu Sunil Dhawale <br> ITCS 6156: Machine Learning <br> 801084142 </font>"
   ]
  },
  {
   "cell_type": "markdown",
   "metadata": {},
   "source": [
    "# Introduction\n",
    "\n",
    "The aim of this assignment is to understand how linear regression works and to visualize and observe the data to find correlation to reuse this data for linear regression. "
   ]
  },
  {
   "cell_type": "markdown",
   "metadata": {},
   "source": [
    "# Data Description\n",
    "\n",
    "<b> date time year-month-day hour:minute:second </b><br> <br> \n",
    "<li type=\"square\">Appliances, energy use in Wh </li><br>\n",
    "<li type=\"square\">lights, energy use of light fixtures in the house in Wh</li> <br>\n",
    "<li type=\"square\">T1, Temperature in kitchen area, in Celsius </li><br>\n",
    "<li type=\"square\">RH_1, Humidity in kitchen area, in %</li> <br>\n",
    "<li type=\"square\">T2, Temperature in living room area, in Celsius</li> <br> \n",
    "<li type=\"square\">RH_2, Humidity in living room area, in % </li><br>\n",
    "<li type=\"square\">T3, Temperature in laundry room area </li><br>\n",
    "<li type=\"square\">RH_3, Humidity in laundry room area, in % </li><br>\n",
    "<li type=\"square\">T4, Temperature in office room, in Celsius</li> <br>\n",
    "<li type=\"square\">RH_4, Humidity in office room, in %</li> <br>\n",
    "<li type=\"square\">T5, Temperature in bathroom, in Celsius</li> <br>\n",
    "<li type=\"square\">RH_5, Humidity in bathroom, in %</li> <br>\n",
    "<li type=\"square\">T6, Temperature outside the building (north side), in Celsius</li> <br>\n",
    "<li type=\"square\">RH_6, Humidity outside the building (north side), in % </li><br>\n",
    "<li type=\"square\">T7, Temperature in ironing room , in Celsius </li><br>\n",
    "<li type=\"square\">RH_7, Humidity in ironing room, in % </li><br>\n",
    "<li type=\"square\">T8, Temperature in teenager room 2, in Celsius </li><br>\n",
    "<li type=\"square\">RH_8, Humidity in teenager room 2, in % </li><br>\n",
    "<li type=\"square\">T9, Temperature in parents room, in Celsius </li><br>\n",
    "<li type=\"square\">RH_9, Humidity in parents room, in % </li><br>\n",
    "<li type=\"square\">To, Temperature outside (from Chievres weather station), in Celsius </li><br>\n",
    "<li type=\"square\">Pressure (from Chievres weather station), in mm Hg </li><br>\n",
    "<li type=\"square\">RH_out, Humidity outside (from Chievres weather station), in %</li> <br>\n",
    "<li type=\"square\">Wind speed (from Chievres weather station), in m/s </li><br>\n",
    "<li type=\"square\">Visibility (from Chievres weather station), in km </li><br>\n",
    "<li type=\"square\">Tdewpoint (from Chievres weather station), Â°C </li><br>\n",
    "<li type=\"square\">rv1, Random variable 1, nondimensional </li><br>\n",
    "<li type=\"square\">rv2, Random variable 2, nondimensional </li><br>"
   ]
  },
  {
   "cell_type": "markdown",
   "metadata": {},
   "source": [
    "## Importing and Preprocessing of the data"
   ]
  },
  {
   "cell_type": "code",
   "execution_count": 1,
   "metadata": {},
   "outputs": [],
   "source": [
    "from IPython.display import Latex\n",
    "from IPython.display import Math\n",
    "\n",
    "\n",
    "\n",
    "import numpy as np\n",
    "import pandas as pd\n",
    "import seaborn as sns"
   ]
  },
  {
   "cell_type": "code",
   "execution_count": 2,
   "metadata": {},
   "outputs": [],
   "source": [
    "from plotly import tools\n",
    "\n",
    "\n",
    "import plotly.plotly as mypy\n",
    "import plotly\n",
    "plotly.tools.set_credentials_file(username='black_uchiha08', api_key='tA6Q1kyjqYi4Tqlrm9RC')\n",
    "import plotly.graph_objs as go\n",
    "from plotly.offline import download_plotlyjs, init_notebook_mode, plot, iplot\n",
    "\n"
   ]
  },
  {
   "cell_type": "code",
   "execution_count": 3,
   "metadata": {},
   "outputs": [
    {
     "data": {
      "text/html": [
       "<script type=\"text/javascript\">window.PlotlyConfig = {MathJaxConfig: 'local'};</script><script type=\"text/javascript\">if (window.MathJax) {MathJax.Hub.Config({SVG: {font: \"STIX-Web\"}});}</script><script>requirejs.config({paths: { 'plotly': ['https://cdn.plot.ly/plotly-latest.min']},});if(!window._Plotly) {require(['plotly'],function(plotly) {window._Plotly=plotly;});}</script>"
      ],
      "text/vnd.plotly.v1+html": [
       "<script type=\"text/javascript\">window.PlotlyConfig = {MathJaxConfig: 'local'};</script><script type=\"text/javascript\">if (window.MathJax) {MathJax.Hub.Config({SVG: {font: \"STIX-Web\"}});}</script><script>requirejs.config({paths: { 'plotly': ['https://cdn.plot.ly/plotly-latest.min']},});if(!window._Plotly) {require(['plotly'],function(plotly) {window._Plotly=plotly;});}</script>"
      ]
     },
     "metadata": {},
     "output_type": "display_data"
    }
   ],
   "source": [
    "init_notebook_mode(connected=True) "
   ]
  },
  {
   "cell_type": "code",
   "execution_count": 4,
   "metadata": {},
   "outputs": [],
   "source": [
    "df= pd.read_csv('energydata_complete.csv')"
   ]
  },
  {
   "cell_type": "code",
   "execution_count": 5,
   "metadata": {},
   "outputs": [
    {
     "name": "stdout",
     "output_type": "stream",
     "text": [
      "<class 'pandas.core.frame.DataFrame'>\n",
      "RangeIndex: 19735 entries, 0 to 19734\n",
      "Data columns (total 29 columns):\n",
      "date           19735 non-null object\n",
      "Appliances     19735 non-null int64\n",
      "lights         19735 non-null int64\n",
      "T1             19735 non-null float64\n",
      "RH_1           19735 non-null float64\n",
      "T2             19735 non-null float64\n",
      "RH_2           19735 non-null float64\n",
      "T3             19735 non-null float64\n",
      "RH_3           19735 non-null float64\n",
      "T4             19735 non-null float64\n",
      "RH_4           19735 non-null float64\n",
      "T5             19735 non-null float64\n",
      "RH_5           19735 non-null float64\n",
      "T6             19735 non-null float64\n",
      "RH_6           19735 non-null float64\n",
      "T7             19735 non-null float64\n",
      "RH_7           19735 non-null float64\n",
      "T8             19735 non-null float64\n",
      "RH_8           19735 non-null float64\n",
      "T9             19735 non-null float64\n",
      "RH_9           19735 non-null float64\n",
      "T_out          19735 non-null float64\n",
      "Press_mm_hg    19735 non-null float64\n",
      "RH_out         19735 non-null float64\n",
      "Windspeed      19735 non-null float64\n",
      "Visibility     19735 non-null float64\n",
      "Tdewpoint      19735 non-null float64\n",
      "rv1            19735 non-null float64\n",
      "rv2            19735 non-null float64\n",
      "dtypes: float64(26), int64(2), object(1)\n",
      "memory usage: 4.4+ MB\n"
     ]
    }
   ],
   "source": [
    "df.info()"
   ]
  },
  {
   "cell_type": "code",
   "execution_count": 6,
   "metadata": {},
   "outputs": [
    {
     "data": {
      "text/html": [
       "<div>\n",
       "<style scoped>\n",
       "    .dataframe tbody tr th:only-of-type {\n",
       "        vertical-align: middle;\n",
       "    }\n",
       "\n",
       "    .dataframe tbody tr th {\n",
       "        vertical-align: top;\n",
       "    }\n",
       "\n",
       "    .dataframe thead th {\n",
       "        text-align: right;\n",
       "    }\n",
       "</style>\n",
       "<table border=\"1\" class=\"dataframe\">\n",
       "  <thead>\n",
       "    <tr style=\"text-align: right;\">\n",
       "      <th></th>\n",
       "      <th>Appliances</th>\n",
       "      <th>lights</th>\n",
       "      <th>T1</th>\n",
       "      <th>RH_1</th>\n",
       "      <th>T2</th>\n",
       "      <th>RH_2</th>\n",
       "      <th>T3</th>\n",
       "      <th>RH_3</th>\n",
       "      <th>T4</th>\n",
       "      <th>RH_4</th>\n",
       "      <th>...</th>\n",
       "      <th>T9</th>\n",
       "      <th>RH_9</th>\n",
       "      <th>T_out</th>\n",
       "      <th>Press_mm_hg</th>\n",
       "      <th>RH_out</th>\n",
       "      <th>Windspeed</th>\n",
       "      <th>Visibility</th>\n",
       "      <th>Tdewpoint</th>\n",
       "      <th>rv1</th>\n",
       "      <th>rv2</th>\n",
       "    </tr>\n",
       "  </thead>\n",
       "  <tbody>\n",
       "    <tr>\n",
       "      <th>count</th>\n",
       "      <td>19735.000000</td>\n",
       "      <td>19735.000000</td>\n",
       "      <td>19735.000000</td>\n",
       "      <td>19735.000000</td>\n",
       "      <td>19735.000000</td>\n",
       "      <td>19735.000000</td>\n",
       "      <td>19735.000000</td>\n",
       "      <td>19735.000000</td>\n",
       "      <td>19735.000000</td>\n",
       "      <td>19735.000000</td>\n",
       "      <td>...</td>\n",
       "      <td>19735.000000</td>\n",
       "      <td>19735.000000</td>\n",
       "      <td>19735.000000</td>\n",
       "      <td>19735.000000</td>\n",
       "      <td>19735.000000</td>\n",
       "      <td>19735.000000</td>\n",
       "      <td>19735.000000</td>\n",
       "      <td>19735.000000</td>\n",
       "      <td>19735.000000</td>\n",
       "      <td>19735.000000</td>\n",
       "    </tr>\n",
       "    <tr>\n",
       "      <th>mean</th>\n",
       "      <td>97.694958</td>\n",
       "      <td>3.801875</td>\n",
       "      <td>21.686571</td>\n",
       "      <td>40.259739</td>\n",
       "      <td>20.341219</td>\n",
       "      <td>40.420420</td>\n",
       "      <td>22.267611</td>\n",
       "      <td>39.242500</td>\n",
       "      <td>20.855335</td>\n",
       "      <td>39.026904</td>\n",
       "      <td>...</td>\n",
       "      <td>19.485828</td>\n",
       "      <td>41.552401</td>\n",
       "      <td>7.411665</td>\n",
       "      <td>755.522602</td>\n",
       "      <td>79.750418</td>\n",
       "      <td>4.039752</td>\n",
       "      <td>38.330834</td>\n",
       "      <td>3.760707</td>\n",
       "      <td>24.988033</td>\n",
       "      <td>24.988033</td>\n",
       "    </tr>\n",
       "    <tr>\n",
       "      <th>std</th>\n",
       "      <td>102.524891</td>\n",
       "      <td>7.935988</td>\n",
       "      <td>1.606066</td>\n",
       "      <td>3.979299</td>\n",
       "      <td>2.192974</td>\n",
       "      <td>4.069813</td>\n",
       "      <td>2.006111</td>\n",
       "      <td>3.254576</td>\n",
       "      <td>2.042884</td>\n",
       "      <td>4.341321</td>\n",
       "      <td>...</td>\n",
       "      <td>2.014712</td>\n",
       "      <td>4.151497</td>\n",
       "      <td>5.317409</td>\n",
       "      <td>7.399441</td>\n",
       "      <td>14.901088</td>\n",
       "      <td>2.451221</td>\n",
       "      <td>11.794719</td>\n",
       "      <td>4.194648</td>\n",
       "      <td>14.496634</td>\n",
       "      <td>14.496634</td>\n",
       "    </tr>\n",
       "    <tr>\n",
       "      <th>min</th>\n",
       "      <td>10.000000</td>\n",
       "      <td>0.000000</td>\n",
       "      <td>16.790000</td>\n",
       "      <td>27.023333</td>\n",
       "      <td>16.100000</td>\n",
       "      <td>20.463333</td>\n",
       "      <td>17.200000</td>\n",
       "      <td>28.766667</td>\n",
       "      <td>15.100000</td>\n",
       "      <td>27.660000</td>\n",
       "      <td>...</td>\n",
       "      <td>14.890000</td>\n",
       "      <td>29.166667</td>\n",
       "      <td>-5.000000</td>\n",
       "      <td>729.300000</td>\n",
       "      <td>24.000000</td>\n",
       "      <td>0.000000</td>\n",
       "      <td>1.000000</td>\n",
       "      <td>-6.600000</td>\n",
       "      <td>0.005322</td>\n",
       "      <td>0.005322</td>\n",
       "    </tr>\n",
       "    <tr>\n",
       "      <th>25%</th>\n",
       "      <td>50.000000</td>\n",
       "      <td>0.000000</td>\n",
       "      <td>20.760000</td>\n",
       "      <td>37.333333</td>\n",
       "      <td>18.790000</td>\n",
       "      <td>37.900000</td>\n",
       "      <td>20.790000</td>\n",
       "      <td>36.900000</td>\n",
       "      <td>19.530000</td>\n",
       "      <td>35.530000</td>\n",
       "      <td>...</td>\n",
       "      <td>18.000000</td>\n",
       "      <td>38.500000</td>\n",
       "      <td>3.666667</td>\n",
       "      <td>750.933333</td>\n",
       "      <td>70.333333</td>\n",
       "      <td>2.000000</td>\n",
       "      <td>29.000000</td>\n",
       "      <td>0.900000</td>\n",
       "      <td>12.497889</td>\n",
       "      <td>12.497889</td>\n",
       "    </tr>\n",
       "    <tr>\n",
       "      <th>50%</th>\n",
       "      <td>60.000000</td>\n",
       "      <td>0.000000</td>\n",
       "      <td>21.600000</td>\n",
       "      <td>39.656667</td>\n",
       "      <td>20.000000</td>\n",
       "      <td>40.500000</td>\n",
       "      <td>22.100000</td>\n",
       "      <td>38.530000</td>\n",
       "      <td>20.666667</td>\n",
       "      <td>38.400000</td>\n",
       "      <td>...</td>\n",
       "      <td>19.390000</td>\n",
       "      <td>40.900000</td>\n",
       "      <td>6.916667</td>\n",
       "      <td>756.100000</td>\n",
       "      <td>83.666667</td>\n",
       "      <td>3.666667</td>\n",
       "      <td>40.000000</td>\n",
       "      <td>3.433333</td>\n",
       "      <td>24.897653</td>\n",
       "      <td>24.897653</td>\n",
       "    </tr>\n",
       "    <tr>\n",
       "      <th>75%</th>\n",
       "      <td>100.000000</td>\n",
       "      <td>0.000000</td>\n",
       "      <td>22.600000</td>\n",
       "      <td>43.066667</td>\n",
       "      <td>21.500000</td>\n",
       "      <td>43.260000</td>\n",
       "      <td>23.290000</td>\n",
       "      <td>41.760000</td>\n",
       "      <td>22.100000</td>\n",
       "      <td>42.156667</td>\n",
       "      <td>...</td>\n",
       "      <td>20.600000</td>\n",
       "      <td>44.338095</td>\n",
       "      <td>10.408333</td>\n",
       "      <td>760.933333</td>\n",
       "      <td>91.666667</td>\n",
       "      <td>5.500000</td>\n",
       "      <td>40.000000</td>\n",
       "      <td>6.566667</td>\n",
       "      <td>37.583769</td>\n",
       "      <td>37.583769</td>\n",
       "    </tr>\n",
       "    <tr>\n",
       "      <th>max</th>\n",
       "      <td>1080.000000</td>\n",
       "      <td>70.000000</td>\n",
       "      <td>26.260000</td>\n",
       "      <td>63.360000</td>\n",
       "      <td>29.856667</td>\n",
       "      <td>56.026667</td>\n",
       "      <td>29.236000</td>\n",
       "      <td>50.163333</td>\n",
       "      <td>26.200000</td>\n",
       "      <td>51.090000</td>\n",
       "      <td>...</td>\n",
       "      <td>24.500000</td>\n",
       "      <td>53.326667</td>\n",
       "      <td>26.100000</td>\n",
       "      <td>772.300000</td>\n",
       "      <td>100.000000</td>\n",
       "      <td>14.000000</td>\n",
       "      <td>66.000000</td>\n",
       "      <td>15.500000</td>\n",
       "      <td>49.996530</td>\n",
       "      <td>49.996530</td>\n",
       "    </tr>\n",
       "  </tbody>\n",
       "</table>\n",
       "<p>8 rows × 28 columns</p>\n",
       "</div>"
      ],
      "text/plain": [
       "         Appliances        lights            T1          RH_1            T2  \\\n",
       "count  19735.000000  19735.000000  19735.000000  19735.000000  19735.000000   \n",
       "mean      97.694958      3.801875     21.686571     40.259739     20.341219   \n",
       "std      102.524891      7.935988      1.606066      3.979299      2.192974   \n",
       "min       10.000000      0.000000     16.790000     27.023333     16.100000   \n",
       "25%       50.000000      0.000000     20.760000     37.333333     18.790000   \n",
       "50%       60.000000      0.000000     21.600000     39.656667     20.000000   \n",
       "75%      100.000000      0.000000     22.600000     43.066667     21.500000   \n",
       "max     1080.000000     70.000000     26.260000     63.360000     29.856667   \n",
       "\n",
       "               RH_2            T3          RH_3            T4          RH_4  \\\n",
       "count  19735.000000  19735.000000  19735.000000  19735.000000  19735.000000   \n",
       "mean      40.420420     22.267611     39.242500     20.855335     39.026904   \n",
       "std        4.069813      2.006111      3.254576      2.042884      4.341321   \n",
       "min       20.463333     17.200000     28.766667     15.100000     27.660000   \n",
       "25%       37.900000     20.790000     36.900000     19.530000     35.530000   \n",
       "50%       40.500000     22.100000     38.530000     20.666667     38.400000   \n",
       "75%       43.260000     23.290000     41.760000     22.100000     42.156667   \n",
       "max       56.026667     29.236000     50.163333     26.200000     51.090000   \n",
       "\n",
       "           ...                 T9          RH_9         T_out   Press_mm_hg  \\\n",
       "count      ...       19735.000000  19735.000000  19735.000000  19735.000000   \n",
       "mean       ...          19.485828     41.552401      7.411665    755.522602   \n",
       "std        ...           2.014712      4.151497      5.317409      7.399441   \n",
       "min        ...          14.890000     29.166667     -5.000000    729.300000   \n",
       "25%        ...          18.000000     38.500000      3.666667    750.933333   \n",
       "50%        ...          19.390000     40.900000      6.916667    756.100000   \n",
       "75%        ...          20.600000     44.338095     10.408333    760.933333   \n",
       "max        ...          24.500000     53.326667     26.100000    772.300000   \n",
       "\n",
       "             RH_out     Windspeed    Visibility     Tdewpoint           rv1  \\\n",
       "count  19735.000000  19735.000000  19735.000000  19735.000000  19735.000000   \n",
       "mean      79.750418      4.039752     38.330834      3.760707     24.988033   \n",
       "std       14.901088      2.451221     11.794719      4.194648     14.496634   \n",
       "min       24.000000      0.000000      1.000000     -6.600000      0.005322   \n",
       "25%       70.333333      2.000000     29.000000      0.900000     12.497889   \n",
       "50%       83.666667      3.666667     40.000000      3.433333     24.897653   \n",
       "75%       91.666667      5.500000     40.000000      6.566667     37.583769   \n",
       "max      100.000000     14.000000     66.000000     15.500000     49.996530   \n",
       "\n",
       "                rv2  \n",
       "count  19735.000000  \n",
       "mean      24.988033  \n",
       "std       14.496634  \n",
       "min        0.005322  \n",
       "25%       12.497889  \n",
       "50%       24.897653  \n",
       "75%       37.583769  \n",
       "max       49.996530  \n",
       "\n",
       "[8 rows x 28 columns]"
      ]
     },
     "execution_count": 6,
     "metadata": {},
     "output_type": "execute_result"
    }
   ],
   "source": [
    "df.describe()"
   ]
  },
  {
   "cell_type": "code",
   "execution_count": 7,
   "metadata": {},
   "outputs": [
    {
     "data": {
      "text/plain": [
       "False"
      ]
     },
     "execution_count": 7,
     "metadata": {},
     "output_type": "execute_result"
    }
   ],
   "source": [
    "np.any(df.isnull())"
   ]
  },
  {
   "cell_type": "code",
   "execution_count": 8,
   "metadata": {},
   "outputs": [],
   "source": [
    "df=df.head(15000)\n",
    "df1=df"
   ]
  },
  {
   "cell_type": "code",
   "execution_count": 9,
   "metadata": {},
   "outputs": [
    {
     "data": {
      "text/plain": [
       "Appliances     0.102267\n",
       "lights        -0.013318\n",
       "T1             0.441579\n",
       "RH_1           0.361673\n",
       "T2             0.597790\n",
       "RH_2           0.202693\n",
       "T3             0.508110\n",
       "RH_3           0.149804\n",
       "T4             0.404930\n",
       "RH_4           0.322947\n",
       "T5             0.437593\n",
       "RH_5          -0.068528\n",
       "T6             0.972824\n",
       "RH_6          -0.504707\n",
       "T7             0.380730\n",
       "RH_7           0.246114\n",
       "T8             0.273988\n",
       "RH_8           0.090400\n",
       "T9             0.460028\n",
       "RH_9           0.230790\n",
       "T_out          1.000000\n",
       "Press_mm_hg   -0.135008\n",
       "RH_out        -0.497502\n",
       "Windspeed      0.419172\n",
       "Visibility    -0.078609\n",
       "Tdewpoint      0.790712\n",
       "rv1           -0.010247\n",
       "rv2           -0.010247\n",
       "Name: T_out, dtype: float64"
      ]
     },
     "execution_count": 9,
     "metadata": {},
     "output_type": "execute_result"
    }
   ],
   "source": [
    "df.corr()['T_out']"
   ]
  },
  {
   "cell_type": "code",
   "execution_count": 10,
   "metadata": {},
   "outputs": [],
   "source": [
    "df = df[['Windspeed', 'Tdewpoint', 'T_out', 'T6']]"
   ]
  },
  {
   "cell_type": "code",
   "execution_count": 11,
   "metadata": {},
   "outputs": [
    {
     "data": {
      "text/plain": [
       "<matplotlib.axes._subplots.AxesSubplot at 0x10ba5a438>"
      ]
     },
     "execution_count": 11,
     "metadata": {},
     "output_type": "execute_result"
    },
    {
     "data": {
      "image/png": "[encoded data removed]",
      "text/plain": [
       "<Figure size 432x288 with 2 Axes>"
      ]
     },
     "metadata": {
      "needs_background": "light"
     },
     "output_type": "display_data"
    }
   ],
   "source": [
    "sns.heatmap(df.corr())"
   ]
  },
  {
   "cell_type": "code",
   "execution_count": 12,
   "metadata": {},
   "outputs": [
    {
     "data": {
      "text/html": [
       "<div>\n",
       "<style scoped>\n",
       "    .dataframe tbody tr th:only-of-type {\n",
       "        vertical-align: middle;\n",
       "    }\n",
       "\n",
       "    .dataframe tbody tr th {\n",
       "        vertical-align: top;\n",
       "    }\n",
       "\n",
       "    .dataframe thead th {\n",
       "        text-align: right;\n",
       "    }\n",
       "</style>\n",
       "<table border=\"1\" class=\"dataframe\">\n",
       "  <thead>\n",
       "    <tr style=\"text-align: right;\">\n",
       "      <th></th>\n",
       "      <th>Windspeed</th>\n",
       "      <th>Tdewpoint</th>\n",
       "      <th>T_out</th>\n",
       "      <th>T6</th>\n",
       "    </tr>\n",
       "  </thead>\n",
       "  <tbody>\n",
       "    <tr>\n",
       "      <th>count</th>\n",
       "      <td>15000.000000</td>\n",
       "      <td>15000.000000</td>\n",
       "      <td>15000.000000</td>\n",
       "      <td>15000.000000</td>\n",
       "    </tr>\n",
       "    <tr>\n",
       "      <th>mean</th>\n",
       "      <td>4.299733</td>\n",
       "      <td>2.761777</td>\n",
       "      <td>5.904323</td>\n",
       "      <td>6.177747</td>\n",
       "    </tr>\n",
       "    <tr>\n",
       "      <th>std</th>\n",
       "      <td>2.589470</td>\n",
       "      <td>3.577249</td>\n",
       "      <td>4.189812</td>\n",
       "      <td>4.731747</td>\n",
       "    </tr>\n",
       "    <tr>\n",
       "      <th>min</th>\n",
       "      <td>0.000000</td>\n",
       "      <td>-6.600000</td>\n",
       "      <td>-5.000000</td>\n",
       "      <td>-6.065000</td>\n",
       "    </tr>\n",
       "    <tr>\n",
       "      <th>25%</th>\n",
       "      <td>2.000000</td>\n",
       "      <td>0.366667</td>\n",
       "      <td>2.983333</td>\n",
       "      <td>2.900000</td>\n",
       "    </tr>\n",
       "    <tr>\n",
       "      <th>50%</th>\n",
       "      <td>4.000000</td>\n",
       "      <td>2.833333</td>\n",
       "      <td>5.850000</td>\n",
       "      <td>6.090000</td>\n",
       "    </tr>\n",
       "    <tr>\n",
       "      <th>75%</th>\n",
       "      <td>6.000000</td>\n",
       "      <td>5.300000</td>\n",
       "      <td>8.966667</td>\n",
       "      <td>9.463333</td>\n",
       "    </tr>\n",
       "    <tr>\n",
       "      <th>max</th>\n",
       "      <td>14.000000</td>\n",
       "      <td>11.400000</td>\n",
       "      <td>19.700000</td>\n",
       "      <td>21.290000</td>\n",
       "    </tr>\n",
       "  </tbody>\n",
       "</table>\n",
       "</div>"
      ],
      "text/plain": [
       "          Windspeed     Tdewpoint         T_out            T6\n",
       "count  15000.000000  15000.000000  15000.000000  15000.000000\n",
       "mean       4.299733      2.761777      5.904323      6.177747\n",
       "std        2.589470      3.577249      4.189812      4.731747\n",
       "min        0.000000     -6.600000     -5.000000     -6.065000\n",
       "25%        2.000000      0.366667      2.983333      2.900000\n",
       "50%        4.000000      2.833333      5.850000      6.090000\n",
       "75%        6.000000      5.300000      8.966667      9.463333\n",
       "max       14.000000     11.400000     19.700000     21.290000"
      ]
     },
     "execution_count": 12,
     "metadata": {},
     "output_type": "execute_result"
    }
   ],
   "source": [
    "df.describe()"
   ]
  },
  {
   "cell_type": "code",
   "execution_count": 21,
   "metadata": {},
   "outputs": [
    {
     "data": {
      "text/plain": [
       "<matplotlib.axes._subplots.AxesSubplot at 0x1a209c5ba8>"
      ]
     },
     "execution_count": 21,
     "metadata": {},
     "output_type": "execute_result"
    },
    {
     "data": {
      "image/png": "[encoded data removed]",
      "text/plain": [
       "<Figure size 432x288 with 1 Axes>"
      ]
     },
     "metadata": {
      "needs_background": "light"
     },
     "output_type": "display_data"
    }
   ],
   "source": [
    "sns.distplot(df['Windspeed'])"
   ]
  },
  {
   "cell_type": "markdown",
   "metadata": {},
   "source": [
    "### Preprocessing of Data: \n",
    "\n",
    "##### It can be observed that there are some zero values in the windspeed. We'll try to normalize the data using min max normalization and observe the windspeed data. "
   ]
  },
  {
   "cell_type": "code",
   "execution_count": 22,
   "metadata": {},
   "outputs": [
    {
     "data": {
      "text/html": [
       "<div>\n",
       "<style scoped>\n",
       "    .dataframe tbody tr th:only-of-type {\n",
       "        vertical-align: middle;\n",
       "    }\n",
       "\n",
       "    .dataframe tbody tr th {\n",
       "        vertical-align: top;\n",
       "    }\n",
       "\n",
       "    .dataframe thead th {\n",
       "        text-align: right;\n",
       "    }\n",
       "</style>\n",
       "<table border=\"1\" class=\"dataframe\">\n",
       "  <thead>\n",
       "    <tr style=\"text-align: right;\">\n",
       "      <th></th>\n",
       "      <th>Windspeed</th>\n",
       "      <th>Tdewpoint</th>\n",
       "      <th>T_out</th>\n",
       "      <th>T6</th>\n",
       "    </tr>\n",
       "  </thead>\n",
       "  <tbody>\n",
       "    <tr>\n",
       "      <th>0</th>\n",
       "      <td>0.195104</td>\n",
       "      <td>0.141012</td>\n",
       "      <td>0.028165</td>\n",
       "      <td>0.031033</td>\n",
       "    </tr>\n",
       "    <tr>\n",
       "      <th>1</th>\n",
       "      <td>0.171007</td>\n",
       "      <td>0.135457</td>\n",
       "      <td>0.023442</td>\n",
       "      <td>0.023966</td>\n",
       "    </tr>\n",
       "    <tr>\n",
       "      <th>2</th>\n",
       "      <td>0.146911</td>\n",
       "      <td>0.129901</td>\n",
       "      <td>0.018718</td>\n",
       "      <td>0.013974</td>\n",
       "    </tr>\n",
       "    <tr>\n",
       "      <th>3</th>\n",
       "      <td>0.122814</td>\n",
       "      <td>0.124346</td>\n",
       "      <td>0.013995</td>\n",
       "      <td>0.009343</td>\n",
       "    </tr>\n",
       "    <tr>\n",
       "      <th>4</th>\n",
       "      <td>0.098718</td>\n",
       "      <td>0.118790</td>\n",
       "      <td>0.009272</td>\n",
       "      <td>0.006906</td>\n",
       "    </tr>\n",
       "  </tbody>\n",
       "</table>\n",
       "</div>"
      ],
      "text/plain": [
       "   Windspeed  Tdewpoint     T_out        T6\n",
       "0   0.195104   0.141012  0.028165  0.031033\n",
       "1   0.171007   0.135457  0.023442  0.023966\n",
       "2   0.146911   0.129901  0.018718  0.013974\n",
       "3   0.122814   0.124346  0.013995  0.009343\n",
       "4   0.098718   0.118790  0.009272  0.006906"
      ]
     },
     "execution_count": 22,
     "metadata": {},
     "output_type": "execute_result"
    }
   ],
   "source": [
    "df.Windspeed.replace({0:df['Windspeed'].median()}, inplace=True)\n",
    "\n",
    "df.Windspeed.min()\n",
    "\n",
    "df_norm = (df - df.mean()) / (df.max() - df.min())\n",
    "df=df_norm\n",
    "df.head()"
   ]
  },
  {
   "cell_type": "code",
   "execution_count": 23,
   "metadata": {},
   "outputs": [
    {
     "data": {
      "text/plain": [
       "<matplotlib.axes._subplots.AxesSubplot at 0x1a1ffd6d30>"
      ]
     },
     "execution_count": 23,
     "metadata": {},
     "output_type": "execute_result"
    },
    {
     "data": {
      "image/png": "[encoded data removed]",
      "text/plain": [
       "<Figure size 432x288 with 1 Axes>"
      ]
     },
     "metadata": {
      "needs_background": "light"
     },
     "output_type": "display_data"
    }
   ],
   "source": [
    "sns.distplot(df['Windspeed'])\n",
    "\n"
   ]
  },
  {
   "cell_type": "markdown",
   "metadata": {},
   "source": [
    "### After min max normalization the windspeed attribute has no field with zero value"
   ]
  },
  {
   "cell_type": "code",
   "execution_count": 24,
   "metadata": {},
   "outputs": [
    {
     "name": "stderr",
     "output_type": "stream",
     "text": [
      "/anaconda3/lib/python3.7/site-packages/IPython/core/display.py:689: UserWarning:\n",
      "\n",
      "Consider using IPython.display.IFrame instead\n",
      "\n"
     ]
    },
    {
     "data": {
      "text/html": [
       "<iframe id=\"igraph\" scrolling=\"no\" style=\"border:none;\" seamless=\"seamless\" src=\"https://plot.ly/~black_uchiha08/82.embed\" height=\"525px\" width=\"100%\"></iframe>"
      ],
      "text/plain": [
       "<plotly.tools.PlotlyDisplay object>"
      ]
     },
     "execution_count": 24,
     "metadata": {},
     "output_type": "execute_result"
    }
   ],
   "source": [
    "data2 = [go.Histogram(x=df['T_out'],\n",
    "                     histnorm='probability')]\n",
    "\n",
    "mypy.iplot(data2, filename='normalized histogram')\n",
    "\n"
   ]
  },
  {
   "cell_type": "code",
   "execution_count": 25,
   "metadata": {},
   "outputs": [
    {
     "name": "stderr",
     "output_type": "stream",
     "text": [
      "/anaconda3/lib/python3.7/site-packages/IPython/core/display.py:689: UserWarning:\n",
      "\n",
      "Consider using IPython.display.IFrame instead\n",
      "\n"
     ]
    },
    {
     "data": {
      "text/html": [
       "<iframe id=\"igraph\" scrolling=\"no\" style=\"border:none;\" seamless=\"seamless\" src=\"https://plot.ly/~black_uchiha08/84.embed\" height=\"525px\" width=\"100%\"></iframe>"
      ],
      "text/plain": [
       "<plotly.tools.PlotlyDisplay object>"
      ]
     },
     "execution_count": 25,
     "metadata": {},
     "output_type": "execute_result"
    }
   ],
   "source": [
    "trace5 = go.Histogram(\n",
    "    x=df1['T_out'],\n",
    "    opacity=0.75\n",
    ")\n",
    "trace6 = go.Histogram(\n",
    "    x=df1['Tdewpoint'],\n",
    "    opacity=0.75\n",
    ")\n",
    "\n",
    "data5 = [trace5, trace6]\n",
    "layout3 = go.Layout(barmode='overlay')\n",
    "fig = go.Figure(data=data5, layout=layout3)\n",
    "\n",
    "mypy.iplot(fig, filename='overlaid histogram')"
   ]
  },
  {
   "cell_type": "code",
   "execution_count": 26,
   "metadata": {},
   "outputs": [
    {
     "name": "stdout",
     "output_type": "stream",
     "text": [
      "This is the format of your plot grid:\n",
      "[ (1,1) x1,y1 ]  [ (1,2) x2,y2 ]  [ (1,3) x3,y3 ]\n",
      "[ (2,1) x4,y4 ]  [ (2,2) x5,y5 ]  [ (2,3) x6,y6 ]\n",
      "[ (3,1) x7,y7 ]  [ (3,2) x8,y8 ]  [ (3,3) x9,y9 ]\n",
      "\n",
      "The draw time for this plot will be slow for all clients.\n"
     ]
    },
    {
     "name": "stderr",
     "output_type": "stream",
     "text": [
      "/anaconda3/lib/python3.7/site-packages/plotly/api/v1/clientresp.py:40: UserWarning:\n",
      "\n",
      "Estimated Draw Time Too Long\n",
      "\n",
      "/anaconda3/lib/python3.7/site-packages/IPython/core/display.py:689: UserWarning:\n",
      "\n",
      "Consider using IPython.display.IFrame instead\n",
      "\n"
     ]
    },
    {
     "data": {
      "text/html": [
       "<iframe id=\"igraph\" scrolling=\"no\" style=\"border:none;\" seamless=\"seamless\" src=\"https://plot.ly/~black_uchiha08/88.embed\" height=\"900px\" width=\"900px\"></iframe>"
      ],
      "text/plain": [
       "<plotly.tools.PlotlyDisplay object>"
      ]
     },
     "execution_count": 26,
     "metadata": {},
     "output_type": "execute_result"
    }
   ],
   "source": [
    "trace11 = go.Scatter(x=df1['T1'], y=df1['RH_1'])\n",
    "trace12 = go.Scatter(x=df1['T2'], y=df1['RH_2'])\n",
    "trace13 = go.Scatter(x=df1['T3'], y=df1['RH_3'])\n",
    "trace21 = go.Scatter(x=df1['T4'], y=df1['RH_4'])\n",
    "trace22 = go.Scatter(x=df1['T5'], y=df1['RH_5'])\n",
    "trace23 = go.Scatter(x=df1['T6'], y=df1['RH_6'])\n",
    "trace31 = go.Scatter(x=df1['T7'], y=df1['RH_7'])\n",
    "trace32 = go.Scatter(x=df1['T8'], y=df1['RH_8'])\n",
    "trace33 = go.Scatter(x=df1['T9'], y=df1['RH_9'])\n",
    "\n",
    "fig11 = tools.make_subplots(rows=3, cols=3, subplot_titles=('T1 vs RH_1', 'T2 vs RH_2', 'T3 vs RH_3', \n",
    "                                                          'T4 vs RH_4', 'T5 vs RH_5', 'T6 vs RH_6',\n",
    "                                                        'T7 vs RH_7', 'T8 vs RH_8', 'T9 vs RH_9'))\n",
    "\n",
    "fig11.append_trace(trace11, 1, 1)\n",
    "fig11.append_trace(trace12, 1, 2)\n",
    "fig11.append_trace(trace13, 1, 3)\n",
    "fig11.append_trace(trace21, 2, 1)\n",
    "fig11.append_trace(trace22, 2, 2)\n",
    "fig11.append_trace(trace23, 2, 3)\n",
    "fig11.append_trace(trace31, 3, 1)\n",
    "fig11.append_trace(trace32, 3, 2)\n",
    "fig11.append_trace(trace33, 3, 3)\n",
    "\n",
    "\n",
    "fig11['layout'].update(height=900, width=900, title='Temperature vs Pressure of each room')\n",
    "                            \n",
    "mypy.iplot(fig11)\n",
    "\n",
    "\n",
    "\n",
    "##This has all the subplots for T1vsRH_1,t2 and so on T=temperature, RH=humidity"
   ]
  },
  {
   "cell_type": "markdown",
   "metadata": {},
   "source": [
    "## Preliminary observation"
   ]
  },
  {
   "cell_type": "markdown",
   "metadata": {},
   "source": [
    "In this dataset, I've observed that : \n",
    "\n",
    "\n",
    "T_out i.e temperature outside the house has maximum correlation with Tdewpoint and other temperatures in different rooms T1, T2, T3 ... T9. Windspeed also had some kind of correlation. \n",
    "\n",
    "Also, on the above graph it can be observed that there's some kind of dependency between each room's temperature and the percentage of humidity in that particular room. The graphs plotted are between T1 vs RH_1, T2 vs RH_2, ... T9 vs RH_9. There's another significant attribute that is the windspeed. On observing the windspeed attribute carefully, I came to the conclusion that some of the values were missing so I used min max scaling to normalize my data. I observed windspeed by plotting a histogram and looking that the minimum value was 0.0.\n",
    "\n",
    "After normalization, another histogram was plotted. It can be observed from the histogram that there's no such zero values for the windspeed anymore. It means that our normalization worked successfully. I also realized that temperature is widely spread and can be used to predict based on these features. "
   ]
  },
  {
   "cell_type": "markdown",
   "metadata": {},
   "source": [
    "From the histogram above this graph, it can be observed that how temperature and Tdewpoint are widely spread across yet have some kind of linear dependency in them. I used hit and trial to plot various graph and check how they are dependent on each by plotting the same graph i.e temperature against various attributes. I came to conclusion that Tdewpoint is more widely spread across as is temperaute. "
   ]
  },
  {
   "cell_type": "code",
   "execution_count": 27,
   "metadata": {},
   "outputs": [],
   "source": [
    "X = np.array(df[['T6', 'Tdewpoint', 'Windspeed']])\n",
    "\n",
    "\n",
    "T = np.array(df[['T_out']])"
   ]
  },
  {
   "cell_type": "markdown",
   "metadata": {},
   "source": [
    "# Method"
   ]
  },
  {
   "cell_type": "markdown",
   "metadata": {},
   "source": [
    "The *LinearModel* class is inherited by two classes *LinearRegress* and *LMS*. The *LinearRegress* class is for Least Squares. I have used the *solve* function in the numpy library to calculate the weights inside the *train* method of the class. The *use* function returns the dot product of the weight and the input data.\n",
    "\n",
    "\n",
    "In the *LMS* class, there are three functions *train*, *train_step* and *use*. The *use* function for *LMS* class is similar to that of the *LinearRegress* class. The *train* function calls the *train_step* function to update the weights. The *train_step* takes one instance and the corresponding target value as an input. The following equation is used to update the weights in the *train_step* function.\n"
   ]
  },
  {
   "cell_type": "markdown",
   "metadata": {},
   "source": [
    "The *train* function calls the *train_step* function for all the instances in the input data. Thus, the weight values are obtained in LMS.\n"
   ]
  },
  {
   "cell_type": "markdown",
   "metadata": {},
   "source": [
    "\\begin{align*}\n",
    "  f(x;w) &= w^Tx = \\sum_0^D w_i x_i \\\\\n",
    "     &= w_0 x_0 + w_1 x_1 + \\cdots + w_D x_D\n",
    "\\end{align*}"
   ]
  },
  {
   "cell_type": "markdown",
   "metadata": {},
   "source": [
    "## Partition function"
   ]
  },
  {
   "cell_type": "markdown",
   "metadata": {},
   "source": [
    "This function will divide the data into test and train and return"
   ]
  },
  {
   "cell_type": "code",
   "execution_count": 28,
   "metadata": {},
   "outputs": [],
   "source": [
    "\n",
    "\"\"\" partitioning data\n",
    "\n",
    "    parameters\n",
    "    -----------\n",
    "    X        pd.DataFrame\n",
    "             input data to partition\n",
    "    T        pd.DataFrame\n",
    "             target labels to partition\n",
    "    raito    list\n",
    "             list of ratios for partitions (should be summed to 1) \n",
    "             the number of return pairs are different\n",
    "\"\"\"\n",
    "def partition(X, T, ratio=[0.8, 0.2]): \n",
    "    \n",
    "    assert(np.sum(ratio) == 1)\n",
    "    \n",
    "    # shuffle the data indices \n",
    "    idxs = np.random.permutation(X.index)\n",
    "    \n",
    "    # the number of samples \n",
    "    N = X.shape[0]\n",
    "    \n",
    "    Xs = []\n",
    "    Ts = []\n",
    "    i = 0  # first index to zero\n",
    "    for k, r in enumerate(ratio):\n",
    "        nrows = int(round(N * r))  # number of rows\n",
    "        \n",
    "        if k == len(ratio) -1:\n",
    "            Xs.append(X.iloc[i:, :])\n",
    "            Ts.append(T.iloc[i:, :])\n",
    "        else:\n",
    "            Xs.append(X.iloc[i:i+nrows, :])\n",
    "            Ts.append(T.iloc[i:i+nrows, :])\n",
    "        \n",
    "        i += nrows\n",
    "    \n",
    "    return Xs, Ts"
   ]
  },
  {
   "cell_type": "code",
   "execution_count": 29,
   "metadata": {},
   "outputs": [],
   "source": [
    "Xlst, Tlst = partition(pd.DataFrame(X), pd.DataFrame(T))"
   ]
  },
  {
   "cell_type": "code",
   "execution_count": 30,
   "metadata": {},
   "outputs": [
    {
     "name": "stderr",
     "output_type": "stream",
     "text": [
      "/anaconda3/lib/python3.7/site-packages/ipykernel_launcher.py:1: FutureWarning:\n",
      "\n",
      "Method .as_matrix will be removed in a future version. Use .values instead.\n",
      "\n",
      "/anaconda3/lib/python3.7/site-packages/ipykernel_launcher.py:2: FutureWarning:\n",
      "\n",
      "Method .as_matrix will be removed in a future version. Use .values instead.\n",
      "\n"
     ]
    }
   ],
   "source": [
    "Xtrain, Xtest = [xx.as_matrix() for xx in Xlst]\n",
    "Ttrain, Ttest = [tt.as_matrix() for tt in Tlst]"
   ]
  },
  {
   "cell_type": "code",
   "execution_count": 31,
   "metadata": {},
   "outputs": [],
   "source": [
    "df=df.dropna()"
   ]
  },
  {
   "cell_type": "code",
   "execution_count": 32,
   "metadata": {},
   "outputs": [],
   "source": [
    "import numpy as np \n",
    "from abc import ABC, abstractmethod\n",
    "\n",
    "# Super class for machine  models \n",
    "\n",
    "class BaseModel(ABC):\n",
    "    \"\"\" Super class for ITCS Machine Learning Class\"\"\"\n",
    "    \n",
    "    @abstractmethod\n",
    "    def train(self, X, T):\n",
    "        pass\n",
    "\n",
    "    @abstractmethod\n",
    "    def use(self, X):\n",
    "        pass\n",
    "\n",
    "    \n",
    "class LinearModel(BaseModel):\n",
    "    \"\"\"\n",
    "        Abstract class for a linear model \n",
    "        \n",
    "        Attributes\n",
    "        ==========\n",
    "        w       ndarray\n",
    "                weight vector/matrix\n",
    "    \"\"\"\n",
    "\n",
    "    def __init__(self):\n",
    "        \"\"\"\n",
    "            weight vector w is initialized as None\n",
    "        \"\"\"\n",
    "        self.w = None\n",
    "\n",
    "\n",
    "\n",
    "    # check if the matrix is 2-dimensional. if not, raise an exception    \n",
    "    def _check_matrix(self, mat, name):\n",
    "        if len(mat.shape) != 2:\n",
    "            raise ValueError(''.join([\"Wrong matrix \", name]))\n",
    "        \n",
    "    # add a basis\n",
    "    def add_ones(self, X):\n",
    "        \"\"\"\n",
    "            add a column basis to X input matrix\n",
    "        \"\"\"\n",
    "        self._check_matrix(X, 'X')\n",
    "        return np.hstack((np.ones((X.shape[0], 1)), X))\n",
    "\n",
    "    ####################################################\n",
    "    #### abstract funcitons ############################\n",
    "    @abstractmethod\n",
    "    def train(self, X, T):\n",
    "        \"\"\"\n",
    "            train linear model\n",
    "            \n",
    "            parameters\n",
    "            -----------\n",
    "            X     2d array\n",
    "                  input data\n",
    "            T     2d array\n",
    "                  target labels\n",
    "        \"\"\"        \n",
    "        pass\n",
    "    \n",
    "    @abstractmethod\n",
    "    def use(self, X):\n",
    "        \"\"\"\n",
    "            apply the learned model to input X\n",
    "            \n",
    "            parameters\n",
    "            ----------\n",
    "            X     2d array\n",
    "                  input data\n",
    "            \n",
    "        \"\"\"        \n",
    "        pass "
   ]
  },
  {
   "cell_type": "markdown",
   "metadata": {},
   "source": [
    "### Least Squares"
   ]
  },
  {
   "cell_type": "markdown",
   "metadata": {},
   "source": [
    "The parameter that gives best fit will be\n",
    "\n",
    "$$ wv^* = \\arg\\min_wv \\sum_{i=1}^{N} \\Big( f(xv_i; wv) - t_i \\Big)^2 $$\n",
    "\n",
    "\n",
    "\n",
    "In this model, I have implemented the train and use function with the help of np.linalg.lstsq method of numpy library. "
   ]
  },
  {
   "cell_type": "code",
   "execution_count": 33,
   "metadata": {},
   "outputs": [],
   "source": [
    "# Linear Regression Class for least squares\n",
    "class LinearRegress(LinearModel): \n",
    "    \"\"\" \n",
    "        LinearRegress class \n",
    "        \n",
    "        attributes\n",
    "        ===========\n",
    "        w    nd.array  (column vector/matrix)\n",
    "             weights\n",
    "    \"\"\"\n",
    "    def __init__(self):\n",
    "        LinearModel.__init__(self)\n",
    "        \n",
    "    def train(self, X, T):\n",
    "        X = self.add_ones(X)\n",
    "        self.w = np.linalg.lstsq(X.T @ X, X.T @ T, rcond=-1)[0]\n",
    "        \n",
    "    def use(self, X):\n",
    "        X = self.add_ones(X)\n",
    "        return X @ self.w\n"
   ]
  },
  {
   "cell_type": "markdown",
   "metadata": {},
   "source": [
    "## Least Mean Squares"
   ]
  },
  {
   "cell_type": "markdown",
   "metadata": {},
   "source": [
    "$$\n",
    " wv^{(k+1)} = wv^{(k)} - \\alpha \\Big( {wv^{(k)}}^\\top xv_k - t_k \\Big) xv_k.\n",
    " $$\n",
    " \n",
    " \n",
    " In this model, I've implemented train, train_step and use method. I've used train_step for a particular step function of train. "
   ]
  },
  {
   "cell_type": "code",
   "execution_count": 34,
   "metadata": {},
   "outputs": [],
   "source": [
    "import collections # for checking iterable instance\n",
    "\n",
    "# LMS class \n",
    "class LMS(LinearModel):\n",
    "    \"\"\"\n",
    "        Lease Mean Squares. online learning algorithm\n",
    "    \n",
    "        attributes\n",
    "        ==========\n",
    "        w        nd.array\n",
    "                 weight matrix\n",
    "        alpha    float\n",
    "                 learning rate\n",
    "    \"\"\"\n",
    "    def __init__(self, alpha):\n",
    "        LinearModel.__init__(self)\n",
    "        self.alpha = alpha\n",
    "        \n",
    "    # batch training by using train_step function\n",
    "    def train(self, X, T):  \n",
    "            for x, t in zip(X, T):\n",
    "                self.train_step(x,t)\n",
    "\n",
    "            \n",
    "    # train LMS model one step \n",
    "    # here the x is 1d vector\n",
    "    def train_step(self, x, t):\n",
    "        if len(x.T.shape) != 2:\n",
    "            x = np.insert(x,0,1).reshape(-1,1)\n",
    "        if self.w is None:\n",
    "            self.w = np.zeros((x.shape[0],1))\n",
    "        \n",
    "        \n",
    "        m=t.size\n",
    "        h = self.w.T @ x\n",
    "        h=h-t\n",
    "        self.w =self.w - (self.alpha * h * x)\n",
    "\n",
    "\n",
    "\n",
    "        #if len(X.T.shape) != 2:\n",
    "            #x = np.insert(x,0,1).reshape(-1,1)\n",
    "            \n",
    "        #x = self.add_ones(X).T\n",
    "        #y = self.w.T @ x\n",
    "        \n",
    "        \n",
    "        \n",
    "        \n",
    "        \n",
    "        \n",
    "\n",
    "        \n",
    "    def use(self, X):\n",
    "        if len(X.T.shape) != 2:\n",
    "            x = np.insert(x,0,1).reshape(-1,1)\n",
    "\n",
    "        x = self.add_ones(X).T\n",
    "        y = self.w.T @ x\n",
    "        \n",
    "        return y.T  \n",
    "    "
   ]
  },
  {
   "cell_type": "code",
   "execution_count": 35,
   "metadata": {},
   "outputs": [],
   "source": [
    "import matplotlib.pyplot as plt\n",
    "%matplotlib inline"
   ]
  },
  {
   "cell_type": "code",
   "execution_count": 36,
   "metadata": {},
   "outputs": [
    {
     "name": "stdout",
     "output_type": "stream",
     "text": [
      "training  LS ...\n",
      "training  LMS_All ...\n",
      "training  LMS_1STEP ...\n",
      "---- Testing  LS ... passed.\n",
      "---- Testing  LMS_All ... passed.\n",
      "---- Testing  LMS_1STEP ... passed.\n"
     ]
    }
   ],
   "source": [
    "\n",
    "##################### WHAT I WILL RELEASE ############\n",
    "\n",
    "# Self-Test code for accuracy of your model - DO NOT MODIFY THIS\n",
    "# Primilnary test data\n",
    "X = np.array([[2,5],\n",
    "              [6,2],\n",
    "              [1,9],\n",
    "              [4,5],\n",
    "              [6,3],\n",
    "              [7,4],\n",
    "              [8,3]])\n",
    "T = X[:,0, None] * 3 - 2 * X[:, 1, None] + 3\n",
    "N = X.shape[0]\n",
    "\n",
    "def rmse(T, Y):\n",
    "    return np.sqrt(np.sum((T-Y)**2))\n",
    "\n",
    "model_names = ['LS', 'LMS_All', 'LMS_1STEP']\n",
    "models = [LinearRegress(), LMS(0.02), LMS(0.02)]\n",
    "#train\n",
    "for i, model in enumerate(models):\n",
    "    print(\"training \", model_names[i], \"...\") \n",
    "    if i == len(models) -1: \n",
    "        # train only one step for LMS2\n",
    "        model.train_step(X[0], T[0])\n",
    "    else:\n",
    "        model.train(X, T)\n",
    "\n",
    "\n",
    "def check(a, b, eps=np.finfo(float).eps):\n",
    "    if abs(a-b) > eps:\n",
    "        print(\"failed.\", a, b)\n",
    "    else:\n",
    "        print(\"passed.\")\n",
    "\n",
    "#print(T.shape)        \n",
    "        \n",
    "errors = [1.19e-13, 2.8753214702, 38.0584918251]\n",
    "for i, model in enumerate(models):\n",
    "    print(\"---- Testing \", model_names[i], \"...\", end=\" \") \n",
    "    \n",
    "    # rmse test\n",
    "    err = rmse(T, model.use(X))\n",
    "    if check(err, errors[i], eps=1e-10):\n",
    "        print (\"check your weights: \", model.w)\n",
    "        print (\"oracle: \", )\n",
    "        "
   ]
  },
  {
   "cell_type": "markdown",
   "metadata": {},
   "source": [
    "## Experiments\n"
   ]
  },
  {
   "cell_type": "markdown",
   "metadata": {},
   "source": [
    "#### Error (Cost) Function\n",
    " \n",
    " When we define $wv \\in R^D$, the choice of $D$ real numbers can result in the best result. \n",
    " Here, the word \"*best*\" can be vague. Thus, we need to define what *best* means. \n",
    " The sum of square error function defines as follows:\n",
    " \n",
    " $$\n",
    " E(wv) = sum_{i=1}^N Big( f(xv_i; wv_i) - t_i Big)^2\n",
    " $$\n",
    " \n",
    " \n",
    "This error function is the sum of Euclidean distances between the target values and the model outputs. This is to be minimized. The weights obtained are such that the value of the error function is minimum. The following two are the algorithms used to find the weights which minimize the error function."
   ]
  },
  {
   "cell_type": "markdown",
   "metadata": {},
   "source": [
    "\n",
    "### Least squares\n",
    "\n",
    "The optimum weights satisfy the following condition\n",
    "\n",
    "$$\n",
    "wv^* = \\arg\\min_wv \\sum_{i=1}{N} \\Big( f(xv_i; wv) - t_i \\Big)^2\n",
    "$$\n",
    "\n",
    "The derivative of this function is calculated and equated to zero to find the condition for minima.\n"
   ]
  },
  {
   "cell_type": "markdown",
   "metadata": {},
   "source": [
    "### Least Mean Squares\n",
    "\n",
    "The least mean squares is an online learning methods in which the weights are updated for each new instance which enters the training data. The error is calculated after every instance and the weights are updated in such a way that the error function is smaller for the next iteration than the previous iteration.\n",
    "\n",
    "$$\n",
    "wv^{(k+1)} = wv^{(k)} - \\alpha \\nabla E_k \n",
    "$$\n",
    "\n",
    "$$\n",
    "wv^{(k+1)} = wv^{(k)} - \\alpha \\Big( {wv^{(k)}}^\\top xv_k - t_k \\Big) xv_k.\n",
    "$$"
   ]
  },
  {
   "cell_type": "markdown",
   "metadata": {},
   "source": [
    "Here I have used LinearRegress object and called train function and passed the training data to the function. Later, I used use function and passed my Xtest as parameter to this function which was used to plot the scatter graph"
   ]
  },
  {
   "cell_type": "code",
   "execution_count": 37,
   "metadata": {},
   "outputs": [
    {
     "name": "stdout",
     "output_type": "stream",
     "text": [
      "Weights after LS: [[-0.00132103]\n",
      " [ 0.86486512]\n",
      " [ 0.09165035]\n",
      " [ 0.04106791]]\n"
     ]
    },
    {
     "data": {
      "image/png": "[encoded data removed]",
      "text/plain": [
       "<Figure size 864x864 with 1 Axes>"
      ]
     },
     "metadata": {
      "needs_background": "light"
     },
     "output_type": "display_data"
    }
   ],
   "source": [
    "plt.rcParams['figure.figsize'] = [12, 12]\n",
    "\n",
    "\n",
    "\n",
    "ls = LinearRegress()\n",
    "\n",
    "\n",
    "\n",
    "\n",
    "ls.train(Xtrain, Ttrain)\n",
    "#print(ls.w)\n",
    "#print(X)\n",
    "y = ls.use(Xtest)\n",
    "#print(y)\n",
    "#plt.plot(X, ls.use(X))\n",
    "#plt.plot(X, T)\n",
    "#plt.plot(ls.use(X))\n",
    "\n",
    "plt.scatter(Ttest,ls.use(Xtest))\n",
    "print('Weights after LS: {0}'.format(ls.w))"
   ]
  },
  {
   "cell_type": "markdown",
   "metadata": {},
   "source": [
    "### The following is a plot of obtained target values and the known target values. The plot is very close to the plot of the line (y = x). This implies that the temperature is linearly dependent on the selected input values."
   ]
  },
  {
   "cell_type": "code",
   "execution_count": 41,
   "metadata": {},
   "outputs": [
    {
     "name": "stdout",
     "output_type": "stream",
     "text": [
      "Weights after LMS_1STEP: [[0.07621333]\n",
      " [0.17607299]\n",
      " [0.17312395]\n",
      " [0.09913909]]\n"
     ]
    },
    {
     "data": {
      "image/png": "[encoded data removed]",
      "text/plain": [
       "<Figure size 864x864 with 1 Axes>"
      ]
     },
     "metadata": {
      "needs_background": "light"
     },
     "output_type": "display_data"
    }
   ],
   "source": [
    "#Plot of Target value and the Attribute value in the dataset\n",
    "\n",
    "lms = LMS(0.001)\n",
    "\n",
    "#flag=0\n",
    "for x, t in zip(Xtrain, Ttrain):\n",
    "    lms.train_step(x, t)\n",
    "       \n",
    "\n",
    "\n",
    "#plt.plot(lms.use(X))\n",
    "#plt.show(T, lms.use(X))\n",
    "#plt.scatter(T,lms.use(X))\n",
    "#plt.scatter(Ttest, lms.use(Xtest))\n",
    "\n",
    "plt.scatter(Ttest, lms.use(Xtest)) \n",
    "\n",
    "\n",
    "print('Weights after LMS_1STEP: {0}'.format(lms.w))"
   ]
  },
  {
   "cell_type": "code",
   "execution_count": 43,
   "metadata": {},
   "outputs": [
    {
     "name": "stdout",
     "output_type": "stream",
     "text": [
      "The weight values for LMS_all: [[0.00114535]\n",
      " [0.8771025 ]\n",
      " [0.08604344]\n",
      " [0.03095785]]\n"
     ]
    },
    {
     "data": {
      "image/png": "[encoded data removed]",
      "text/plain": [
       "<Figure size 864x864 with 1 Axes>"
      ]
     },
     "metadata": {
      "needs_background": "light"
     },
     "output_type": "display_data"
    }
   ],
   "source": [
    "#flag=1\n",
    "for i in range(100):\n",
    "    for x, t in zip(Xtrain, Ttrain):\n",
    "        lms.train_step(x, t)\n",
    "plt.scatter(Ttest, lms.use(Xtest))\n",
    "print('The weight values for LMS_all: {0}'.format(lms.w))"
   ]
  },
  {
   "cell_type": "markdown",
   "metadata": {},
   "source": [
    "##### Analysis and observation of the algorithms\n",
    "\n",
    "The difference between the 2 algorithms used was that the least squares algorithms is a batch learning method and the other is online learning method. The least squares method can be more accurate but is computationally expensive. Calculating the inverse of the matrix is required. Sometimes the matrix can also be singular i.e. non-invertible. The weights are calculated in one step by satisfying the condition of minima.\n",
    "\n",
    "The least mean squares method is an online learning method. The weights are updated as new instances are added to the input data. The                                                                                                                                                                                                 \n",
    "Weights after LS: <br>[[-0.00132103] <br>\n",
    " [ 0.86486512] <br>\n",
    " [ 0.09165035] <br>\n",
    " [ 0.04106791]]<br>\n",
    "\n",
    "Weights after LMS_1STEP:<br> [[0.07621333]<br>\n",
    " [0.17607299]<br>\n",
    " [0.17312395]<br>\n",
    " [0.09913909]]<br>\n",
    "\n",
    "The weight values for LMS_all:<br> [[0.06105104]<br>\n",
    " [0.4580235 ]<br>\n",
    " [0.36037171]<br>\n",
    " [0.27181871]]<br>\n",
    "\n",
    "\n",
    "It can be seen that there's difference between the weights obtained from LS and that of the weights obtained  from LMS. The LMS_1step and LMS_all weights are somewhat similar. \n",
    "Computation time required for LS: 5 seconds\n",
    "Computation time required for LMS_ALL: 4-5 minutes"
   ]
  },
  {
   "cell_type": "markdown",
   "metadata": {},
   "source": [
    "## Conclusion"
   ]
  },
  {
   "cell_type": "markdown",
   "metadata": {},
   "source": [
    "The challenges in this task was to understand the algorithms and to work with the dataset to pass all the tests that were given. In this assignment, I have learned to implement linear regression and to work and understant  the dataset more efficiently. I have learned that Prepocessing of dataset is really important for working with any dataset. "
   ]
  },
  {
   "cell_type": "markdown",
   "metadata": {},
   "source": [
    "## References"
   ]
  },
  {
   "cell_type": "markdown",
   "metadata": {},
   "source": [
    "Professor's Notebook : https://nbviewer.jupyter.org/url/webpages.uncc.edu/mlee173/teach/itcs6156/notebooks/notes/Note-Linear%20Model.ipynb\n",
    "\n",
    "Wikipedia: https://en.wikipedia.org/wiki/Linear_regression\n",
    "\n",
    "https://archive.ics.uci.edu/ml/datasets/Appliances+energy+prediction"
   ]
  },
  {
   "cell_type": "markdown",
   "metadata": {},
   "source": [
    "## Extra Credit"
   ]
  },
  {
   "cell_type": "markdown",
   "metadata": {},
   "source": [
    "The most and least significant attribute in my dataset are: "
   ]
  },
  {
   "cell_type": "code",
   "execution_count": null,
   "metadata": {},
   "outputs": [],
   "source": [
    "df1.corr()"
   ]
  },
  {
   "cell_type": "markdown",
   "metadata": {},
   "source": [
    "The least significant attributes are rv1 and rv2. Those are random variable 1 and random variable 2. They have nothing to do with the prediction of any of the attribute. They both are independent and randomly generated attributes. They have like negative correlation with each and every attribute except themselves.  "
   ]
  },
  {
   "cell_type": "markdown",
   "metadata": {},
   "source": [
    "The most significant feature is Tdewpoint"
   ]
  },
  {
   "cell_type": "code",
   "execution_count": null,
   "metadata": {},
   "outputs": [],
   "source": []
  },
  {
   "cell_type": "code",
   "execution_count": null,
   "metadata": {},
   "outputs": [],
   "source": []
  }
 ],
 "metadata": {
  "kernelspec": {
   "display_name": "Python 3",
   "language": "python",
   "name": "python3"
  },
  "language_info": {
   "codemirror_mode": {
    "name": "ipython",
    "version": 3
   },
   "file_extension": ".py",
   "mimetype": "text/x-python",
   "name": "python",
   "nbconvert_exporter": "python",
   "pygments_lexer": "ipython3",
   "version": "3.7.1"
  }
 },
 "nbformat": 4,
 "nbformat_minor": 2
}
