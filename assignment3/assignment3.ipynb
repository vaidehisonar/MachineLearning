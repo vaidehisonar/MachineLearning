{
 "cells": [
  {
   "cell_type": "markdown",
   "metadata": {},
   "source": [
    "# Assignment 4 : Neural Networks\n"
   ]
  },
  {
   "cell_type": "markdown",
   "metadata": {},
   "source": [
    "### Himanshu Sunil Dhawale\n",
    "### 801084142"
   ]
  },
  {
   "cell_type": "markdown",
   "metadata": {},
   "source": [
    "## I. Overview"
   ]
  },
  {
   "cell_type": "markdown",
   "metadata": {},
   "source": [
    "The aim of this assignment is to use NeuralNet class for regression and implement on regression data used in assignment 1. I'm supposed to explain and use 5-fold cross validation to find a good neural network parameters and report the CV accuracies. There'll be a good summary for the nonlinear regression model and how I used the NeuralNet class for regression and applied to my dataset. Also, I have provided the summary for the nonlinear logistic regression model and completed the code for nonlinear logistic regression class. I've applied this code on toy data and my classification data. Since the classification data was imbalanced, I made some changes to the class of the dataset to make it a balanced dataset."
   ]
  },
  {
   "cell_type": "markdown",
   "metadata": {},
   "source": [
    "# Data Description\n",
    "\n",
    "\n",
    "This Dataset is for predictive models for the energy use of appliances. Data used include measurements of temperature and humidity sensors from a wireless network, weather from a nearby airport station and recorded energy use of lighting fixtures. \n",
    "\n",
    "<b> date time year-month-day hour:minute:second </b><br> <br> \n",
    "<li type=\"square\">Appliances, energy use in Wh </li><br>\n",
    "<li type=\"square\">lights, energy use of light fixtures in the house in Wh</li> <br>\n",
    "<li type=\"square\">T1, Temperature in kitchen area, in Celsius </li><br>\n",
    "<li type=\"square\">RH_1, Humidity in kitchen area, in %</li> <br>\n",
    "<li type=\"square\">T2, Temperature in living room area, in Celsius</li> <br> \n",
    "<li type=\"square\">RH_2, Humidity in living room area, in % </li><br>\n",
    "<li type=\"square\">T3, Temperature in laundry room area </li><br>\n",
    "<li type=\"square\">RH_3, Humidity in laundry room area, in % </li><br>\n",
    "<li type=\"square\">T4, Temperature in office room, in Celsius</li> <br>\n",
    "<li type=\"square\">RH_4, Humidity in office room, in %</li> <br>\n",
    "<li type=\"square\">T5, Temperature in bathroom, in Celsius</li> <br>\n",
    "<li type=\"square\">RH_5, Humidity in bathroom, in %</li> <br>\n",
    "<li type=\"square\">T6, Temperature outside the building (north side), in Celsius</li> <br>\n",
    "<li type=\"square\">RH_6, Humidity outside the building (north side), in % </li><br>\n",
    "<li type=\"square\">T7, Temperature in ironing room , in Celsius </li><br>\n",
    "<li type=\"square\">RH_7, Humidity in ironing room, in % </li><br>\n",
    "<li type=\"square\">T8, Temperature in teenager room 2, in Celsius </li><br>\n",
    "<li type=\"square\">RH_8, Humidity in teenager room 2, in % </li><br>\n",
    "<li type=\"square\">T9, Temperature in parents room, in Celsius </li><br>\n",
    "<li type=\"square\">RH_9, Humidity in parents room, in % </li><br>\n",
    "<li type=\"square\">To, Temperature outside (from Chievres weather station), in Celsius </li><br>\n",
    "<li type=\"square\">Pressure (from Chievres weather station), in mm Hg </li><br>\n",
    "<li type=\"square\">RH_out, Humidity outside (from Chievres weather station), in %</li> <br>\n",
    "<li type=\"square\">Wind speed (from Chievres weather station), in m/s </li><br>\n",
    "<li type=\"square\">Visibility (from Chievres weather station), in km </li><br>\n",
    "<li type=\"square\">Tdewpoint (from Chievres weather station), Â°C </li><br>\n",
    "<li type=\"square\">rv1, Random variable 1, nondimensional </li><br>\n",
    "<li type=\"square\">rv2, Random variable 2, nondimensional </li><br>\n"
   ]
  },
  {
   "cell_type": "code",
   "execution_count": 3,
   "metadata": {},
   "outputs": [],
   "source": [
    "from IPython.display import Latex\n",
    "from IPython.display import Math\n",
    "\n",
    "\n",
    "import math\n",
    "import numpy as np\n",
    "import pandas as pd\n",
    "import seaborn as sns\n",
    "import matplotlib.pyplot as plt\n"
   ]
  },
  {
   "cell_type": "code",
   "execution_count": 4,
   "metadata": {},
   "outputs": [],
   "source": [
    "from plotly import tools\n",
    "\n",
    "\n",
    "import plotly.plotly as mypy\n",
    "import plotly\n",
    "plotly.tools.set_credentials_file(username='black_uchiha08', api_key='tA6Q1kyjqYi4Tqlrm9RC')\n",
    "import plotly.graph_objs as go\n",
    "from plotly.offline import download_plotlyjs, init_notebook_mode, plot, iplot\n",
    "\n",
    "\n"
   ]
  },
  {
   "cell_type": "code",
   "execution_count": 5,
   "metadata": {},
   "outputs": [
    {
     "data": {
      "text/html": [
       "<script type=\"text/javascript\">window.PlotlyConfig = {MathJaxConfig: 'local'};</script><script type=\"text/javascript\">if (window.MathJax) {MathJax.Hub.Config({SVG: {font: \"STIX-Web\"}});}</script><script>requirejs.config({paths: { 'plotly': ['https://cdn.plot.ly/plotly-latest.min']},});if(!window._Plotly) {require(['plotly'],function(plotly) {window._Plotly=plotly;});}</script>"
      ],
      "text/vnd.plotly.v1+html": [
       "<script type=\"text/javascript\">window.PlotlyConfig = {MathJaxConfig: 'local'};</script><script type=\"text/javascript\">if (window.MathJax) {MathJax.Hub.Config({SVG: {font: \"STIX-Web\"}});}</script><script>requirejs.config({paths: { 'plotly': ['https://cdn.plot.ly/plotly-latest.min']},});if(!window._Plotly) {require(['plotly'],function(plotly) {window._Plotly=plotly;});}</script>"
      ]
     },
     "metadata": {},
     "output_type": "display_data"
    }
   ],
   "source": [
    "init_notebook_mode(connected=True) "
   ]
  },
  {
   "cell_type": "code",
   "execution_count": 6,
   "metadata": {},
   "outputs": [],
   "source": [
    "df= pd.read_csv('energydata_complete.csv')"
   ]
  },
  {
   "cell_type": "code",
   "execution_count": 5,
   "metadata": {},
   "outputs": [
    {
     "name": "stdout",
     "output_type": "stream",
     "text": [
      "<class 'pandas.core.frame.DataFrame'>\n",
      "RangeIndex: 19735 entries, 0 to 19734\n",
      "Data columns (total 29 columns):\n",
      "date           19735 non-null object\n",
      "Appliances     19735 non-null int64\n",
      "lights         19735 non-null int64\n",
      "T1             19735 non-null float64\n",
      "RH_1           19735 non-null float64\n",
      "T2             19735 non-null float64\n",
      "RH_2           19735 non-null float64\n",
      "T3             19735 non-null float64\n",
      "RH_3           19735 non-null float64\n",
      "T4             19735 non-null float64\n",
      "RH_4           19735 non-null float64\n",
      "T5             19735 non-null float64\n",
      "RH_5           19735 non-null float64\n",
      "T6             19735 non-null float64\n",
      "RH_6           19735 non-null float64\n",
      "T7             19735 non-null float64\n",
      "RH_7           19735 non-null float64\n",
      "T8             19735 non-null float64\n",
      "RH_8           19735 non-null float64\n",
      "T9             19735 non-null float64\n",
      "RH_9           19735 non-null float64\n",
      "T_out          19735 non-null float64\n",
      "Press_mm_hg    19735 non-null float64\n",
      "RH_out         19735 non-null float64\n",
      "Windspeed      19735 non-null float64\n",
      "Visibility     19735 non-null float64\n",
      "Tdewpoint      19735 non-null float64\n",
      "rv1            19735 non-null float64\n",
      "rv2            19735 non-null float64\n",
      "dtypes: float64(26), int64(2), object(1)\n",
      "memory usage: 4.4+ MB\n"
     ]
    }
   ],
   "source": [
    "df.info()"
   ]
  },
  {
   "cell_type": "code",
   "execution_count": 6,
   "metadata": {},
   "outputs": [
    {
     "data": {
      "text/plain": [
       "date           0\n",
       "Tdewpoint      0\n",
       "Visibility     0\n",
       "Windspeed      0\n",
       "RH_out         0\n",
       "Press_mm_hg    0\n",
       "T_out          0\n",
       "RH_9           0\n",
       "T9             0\n",
       "RH_8           0\n",
       "T8             0\n",
       "RH_7           0\n",
       "T7             0\n",
       "rv1            0\n",
       "RH_6           0\n",
       "RH_5           0\n",
       "T5             0\n",
       "RH_4           0\n",
       "T4             0\n",
       "RH_3           0\n",
       "T3             0\n",
       "RH_2           0\n",
       "T2             0\n",
       "RH_1           0\n",
       "T1             0\n",
       "lights         0\n",
       "Appliances     0\n",
       "T6             0\n",
       "rv2            0\n",
       "dtype: int64"
      ]
     },
     "execution_count": 6,
     "metadata": {},
     "output_type": "execute_result"
    }
   ],
   "source": [
    "df.isnull().sum().sort_values(ascending = True)"
   ]
  },
  {
   "cell_type": "markdown",
   "metadata": {},
   "source": [
    "# Plots to visualize data"
   ]
  },
  {
   "cell_type": "code",
   "execution_count": 7,
   "metadata": {},
   "outputs": [
    {
     "data": {
      "image/png": "[encoded data removed]",
      "text/plain": [
       "<Figure size 864x1152 with 30 Axes>"
      ]
     },
     "metadata": {
      "needs_background": "light"
     },
     "output_type": "display_data"
    }
   ],
   "source": [
    "df.hist(bins = 20 , figsize= (12,16)) ;"
   ]
  },
  {
   "cell_type": "markdown",
   "metadata": {},
   "source": [
    "As we can see there are some plots with irregular distribution. Let us focus on plotting these graphs separately. "
   ]
  },
  {
   "cell_type": "code",
   "execution_count": 8,
   "metadata": {},
   "outputs": [
    {
     "name": "stderr",
     "output_type": "stream",
     "text": [
      "/anaconda3/lib/python3.7/site-packages/scipy/stats/stats.py:1713: FutureWarning:\n",
      "\n",
      "Using a non-tuple sequence for multidimensional indexing is deprecated; use `arr[tuple(seq)]` instead of `arr[seq]`. In the future this will be interpreted as an array index, `arr[np.array(seq)]`, which will result either in an error or a different result.\n",
      "\n"
     ]
    },
    {
     "data": {
      "image/png": "[encoded data removed]",
      "text/plain": [
       "<Figure size 864x576 with 4 Axes>"
      ]
     },
     "metadata": {
      "needs_background": "light"
     },
     "output_type": "display_data"
    }
   ],
   "source": [
    "f, ax = plt.subplots(2,2,figsize=(12,8))\n",
    "vis1 = sns.distplot(df[\"RH_6\"],bins=10, ax= ax[0][0])\n",
    "vis2 = sns.distplot(df[\"RH_out\"],bins=10, ax=ax[0][1])\n",
    "vis3 = sns.distplot(df[\"Visibility\"],bins=10, ax=ax[1][0])\n",
    "vis4 = sns.distplot(df[\"Windspeed\"],bins=10, ax=ax[1][1])"
   ]
  },
  {
   "cell_type": "markdown",
   "metadata": {},
   "source": [
    "I have focussed on these displots for RH_6 , RH_out , Visibility , Windspeed due to irregular distribution. "
   ]
  },
  {
   "cell_type": "code",
   "execution_count": 9,
   "metadata": {},
   "outputs": [
    {
     "name": "stdout",
     "output_type": "stream",
     "text": [
      "This is the format of your plot grid:\n",
      "[ (1,1) x1,y1 ]  [ (1,2) x2,y2 ]  [ (1,3) x3,y3 ]\n",
      "[ (2,1) x4,y4 ]  [ (2,2) x5,y5 ]  [ (2,3) x6,y6 ]\n",
      "[ (3,1) x7,y7 ]  [ (3,2) x8,y8 ]  [ (3,3) x9,y9 ]\n",
      "\n",
      "The draw time for this plot will be slow for all clients.\n"
     ]
    },
    {
     "name": "stderr",
     "output_type": "stream",
     "text": [
      "/anaconda3/lib/python3.7/site-packages/plotly/api/v1/clientresp.py:40: UserWarning:\n",
      "\n",
      "Estimated Draw Time Too Long\n",
      "\n",
      "/anaconda3/lib/python3.7/site-packages/IPython/core/display.py:689: UserWarning:\n",
      "\n",
      "Consider using IPython.display.IFrame instead\n",
      "\n"
     ]
    },
    {
     "data": {
      "text/html": [
       "<iframe id=\"igraph\" scrolling=\"no\" style=\"border:none;\" seamless=\"seamless\" src=\"https://plot.ly/~black_uchiha08/254.embed\" height=\"900px\" width=\"900px\"></iframe>"
      ],
      "text/plain": [
       "<plotly.tools.PlotlyDisplay object>"
      ]
     },
     "execution_count": 9,
     "metadata": {},
     "output_type": "execute_result"
    }
   ],
   "source": [
    "trace11 = go.Scatter(x=df['T1'], y=df['RH_1'])\n",
    "trace12 = go.Scatter(x=df['T2'], y=df['RH_2'])\n",
    "trace13 = go.Scatter(x=df['T3'], y=df['RH_3'])\n",
    "trace21 = go.Scatter(x=df['T4'], y=df['RH_4'])\n",
    "trace22 = go.Scatter(x=df['T5'], y=df['RH_5'])\n",
    "trace23 = go.Scatter(x=df['T6'], y=df['RH_6'])\n",
    "trace31 = go.Scatter(x=df['T7'], y=df['RH_7'])\n",
    "trace32 = go.Scatter(x=df['T8'], y=df['RH_8'])\n",
    "trace33 = go.Scatter(x=df['T9'], y=df['RH_9'])\n",
    "\n",
    "fig11 = tools.make_subplots(rows=3, cols=3, subplot_titles=('T1 vs RH_1', 'T2 vs RH_2', 'T3 vs RH_3', \n",
    "                                                          'T4 vs RH_4', 'T5 vs RH_5', 'T6 vs RH_6',\n",
    "                                                        'T7 vs RH_7', 'T8 vs RH_8', 'T9 vs RH_9'))\n",
    "\n",
    "fig11.append_trace(trace11, 1, 1)\n",
    "fig11.append_trace(trace12, 1, 2)\n",
    "fig11.append_trace(trace13, 1, 3)\n",
    "fig11.append_trace(trace21, 2, 1)\n",
    "fig11.append_trace(trace22, 2, 2)\n",
    "fig11.append_trace(trace23, 2, 3)\n",
    "fig11.append_trace(trace31, 3, 1)\n",
    "fig11.append_trace(trace32, 3, 2)\n",
    "fig11.append_trace(trace33, 3, 3)\n",
    "\n",
    "\n",
    "fig11['layout'].update(height=900, width=900, title='Temperature vs Pressure of each room')\n",
    "                            \n",
    "mypy.iplot(fig11)\n",
    "\n",
    "\n",
    "\n",
    "##This has all the subplots for T1vsRH_1,t2 and so on T=temperature, RH=humidity"
   ]
  },
  {
   "cell_type": "code",
   "execution_count": 10,
   "metadata": {},
   "outputs": [
    {
     "name": "stderr",
     "output_type": "stream",
     "text": [
      "/anaconda3/lib/python3.7/site-packages/IPython/core/display.py:689: UserWarning:\n",
      "\n",
      "Consider using IPython.display.IFrame instead\n",
      "\n"
     ]
    },
    {
     "data": {
      "text/html": [
       "<iframe id=\"igraph\" scrolling=\"no\" style=\"border:none;\" seamless=\"seamless\" src=\"https://plot.ly/~black_uchiha08/256.embed\" height=\"525px\" width=\"100%\"></iframe>"
      ],
      "text/plain": [
       "<plotly.tools.PlotlyDisplay object>"
      ]
     },
     "execution_count": 10,
     "metadata": {},
     "output_type": "execute_result"
    }
   ],
   "source": [
    "visual = go.Scatter( x= df.date  ,  mode = \"lines\", y = df.Appliances )\n",
    "\n",
    "layout = go.Layout(title = 'Appliance energy consumption measurement' , xaxis=dict(title='Date'), yaxis=dict(title='(Wh)'))\n",
    "fig = go.Figure(data=[visual],layout=layout)\n",
    "\n",
    "mypy.iplot(fig)"
   ]
  },
  {
   "cell_type": "markdown",
   "metadata": {},
   "source": [
    "#### This graph is to understand the timeseries variation of the applaince energy consumption\n",
    "\n"
   ]
  },
  {
   "cell_type": "code",
   "execution_count": 11,
   "metadata": {},
   "outputs": [
    {
     "data": {
      "text/plain": [
       "0     15252\n",
       "10     2212\n",
       "20     1624\n",
       "30      559\n",
       "40       77\n",
       "50        9\n",
       "60        1\n",
       "70        1\n",
       "Name: lights, dtype: int64"
      ]
     },
     "execution_count": 11,
     "metadata": {},
     "output_type": "execute_result"
    }
   ],
   "source": [
    "df['lights'].value_counts()"
   ]
  },
  {
   "cell_type": "code",
   "execution_count": 12,
   "metadata": {},
   "outputs": [
    {
     "name": "stderr",
     "output_type": "stream",
     "text": [
      "/anaconda3/lib/python3.7/site-packages/IPython/core/display.py:689: UserWarning:\n",
      "\n",
      "Consider using IPython.display.IFrame instead\n",
      "\n"
     ]
    },
    {
     "data": {
      "text/html": [
       "<iframe id=\"igraph\" scrolling=\"no\" style=\"border:none;\" seamless=\"seamless\" src=\"https://plot.ly/~black_uchiha08/244.embed\" height=\"525px\" width=\"100%\"></iframe>"
      ],
      "text/plain": [
       "<plotly.tools.PlotlyDisplay object>"
      ]
     },
     "execution_count": 12,
     "metadata": {},
     "output_type": "execute_result"
    }
   ],
   "source": [
    "trace5 = go.Histogram(\n",
    "    x=df['T_out'],\n",
    "    opacity=0.75\n",
    ")\n",
    "trace6 = go.Histogram(\n",
    "    x=df['Tdewpoint'],\n",
    "    opacity=0.75\n",
    ")\n",
    "\n",
    "data5 = [trace5, trace6]\n",
    "layout3 = go.Layout(barmode='overlay')\n",
    "fig = go.Figure(data=data5, layout=layout3)\n",
    "\n",
    "mypy.iplot(fig, filename='overlaid histogram')"
   ]
  },
  {
   "cell_type": "code",
   "execution_count": 13,
   "metadata": {},
   "outputs": [
    {
     "name": "stderr",
     "output_type": "stream",
     "text": [
      "/anaconda3/lib/python3.7/site-packages/IPython/core/display.py:689: UserWarning:\n",
      "\n",
      "Consider using IPython.display.IFrame instead\n",
      "\n"
     ]
    },
    {
     "data": {
      "text/html": [
       "<iframe id=\"igraph\" scrolling=\"no\" style=\"border:none;\" seamless=\"seamless\" src=\"https://plot.ly/~black_uchiha08/246.embed\" height=\"525px\" width=\"100%\"></iframe>"
      ],
      "text/plain": [
       "<plotly.tools.PlotlyDisplay object>"
      ]
     },
     "execution_count": 13,
     "metadata": {},
     "output_type": "execute_result"
    }
   ],
   "source": [
    "data2 = [go.Histogram(x=df['T_out'],\n",
    "                     histnorm='probability')]\n",
    "\n",
    "mypy.iplot(data2, filename='normalized histogram')\n",
    "\n",
    "\n"
   ]
  },
  {
   "cell_type": "code",
   "execution_count": 14,
   "metadata": {},
   "outputs": [
    {
     "data": {
      "text/html": [
       "<div>\n",
       "<style scoped>\n",
       "    .dataframe tbody tr th:only-of-type {\n",
       "        vertical-align: middle;\n",
       "    }\n",
       "\n",
       "    .dataframe tbody tr th {\n",
       "        vertical-align: top;\n",
       "    }\n",
       "\n",
       "    .dataframe thead th {\n",
       "        text-align: right;\n",
       "    }\n",
       "</style>\n",
       "<table border=\"1\" class=\"dataframe\">\n",
       "  <thead>\n",
       "    <tr style=\"text-align: right;\">\n",
       "      <th></th>\n",
       "      <th>Appliances</th>\n",
       "      <th>lights</th>\n",
       "      <th>T1</th>\n",
       "      <th>RH_1</th>\n",
       "      <th>T2</th>\n",
       "      <th>RH_2</th>\n",
       "      <th>T3</th>\n",
       "      <th>RH_3</th>\n",
       "      <th>T4</th>\n",
       "      <th>RH_4</th>\n",
       "      <th>...</th>\n",
       "      <th>T9</th>\n",
       "      <th>RH_9</th>\n",
       "      <th>T_out</th>\n",
       "      <th>Press_mm_hg</th>\n",
       "      <th>RH_out</th>\n",
       "      <th>Windspeed</th>\n",
       "      <th>Visibility</th>\n",
       "      <th>Tdewpoint</th>\n",
       "      <th>rv1</th>\n",
       "      <th>rv2</th>\n",
       "    </tr>\n",
       "  </thead>\n",
       "  <tbody>\n",
       "    <tr>\n",
       "      <th>count</th>\n",
       "      <td>19735.000000</td>\n",
       "      <td>19735.000000</td>\n",
       "      <td>19735.000000</td>\n",
       "      <td>19735.000000</td>\n",
       "      <td>19735.000000</td>\n",
       "      <td>19735.000000</td>\n",
       "      <td>19735.000000</td>\n",
       "      <td>19735.000000</td>\n",
       "      <td>19735.000000</td>\n",
       "      <td>19735.000000</td>\n",
       "      <td>...</td>\n",
       "      <td>19735.000000</td>\n",
       "      <td>19735.000000</td>\n",
       "      <td>19735.000000</td>\n",
       "      <td>19735.000000</td>\n",
       "      <td>19735.000000</td>\n",
       "      <td>19735.000000</td>\n",
       "      <td>19735.000000</td>\n",
       "      <td>19735.000000</td>\n",
       "      <td>19735.000000</td>\n",
       "      <td>19735.000000</td>\n",
       "    </tr>\n",
       "    <tr>\n",
       "      <th>mean</th>\n",
       "      <td>97.694958</td>\n",
       "      <td>3.801875</td>\n",
       "      <td>21.686571</td>\n",
       "      <td>40.259739</td>\n",
       "      <td>20.341219</td>\n",
       "      <td>40.420420</td>\n",
       "      <td>22.267611</td>\n",
       "      <td>39.242500</td>\n",
       "      <td>20.855335</td>\n",
       "      <td>39.026904</td>\n",
       "      <td>...</td>\n",
       "      <td>19.485828</td>\n",
       "      <td>41.552401</td>\n",
       "      <td>7.411665</td>\n",
       "      <td>755.522602</td>\n",
       "      <td>79.750418</td>\n",
       "      <td>4.039752</td>\n",
       "      <td>38.330834</td>\n",
       "      <td>3.760707</td>\n",
       "      <td>24.988033</td>\n",
       "      <td>24.988033</td>\n",
       "    </tr>\n",
       "    <tr>\n",
       "      <th>std</th>\n",
       "      <td>102.524891</td>\n",
       "      <td>7.935988</td>\n",
       "      <td>1.606066</td>\n",
       "      <td>3.979299</td>\n",
       "      <td>2.192974</td>\n",
       "      <td>4.069813</td>\n",
       "      <td>2.006111</td>\n",
       "      <td>3.254576</td>\n",
       "      <td>2.042884</td>\n",
       "      <td>4.341321</td>\n",
       "      <td>...</td>\n",
       "      <td>2.014712</td>\n",
       "      <td>4.151497</td>\n",
       "      <td>5.317409</td>\n",
       "      <td>7.399441</td>\n",
       "      <td>14.901088</td>\n",
       "      <td>2.451221</td>\n",
       "      <td>11.794719</td>\n",
       "      <td>4.194648</td>\n",
       "      <td>14.496634</td>\n",
       "      <td>14.496634</td>\n",
       "    </tr>\n",
       "    <tr>\n",
       "      <th>min</th>\n",
       "      <td>10.000000</td>\n",
       "      <td>0.000000</td>\n",
       "      <td>16.790000</td>\n",
       "      <td>27.023333</td>\n",
       "      <td>16.100000</td>\n",
       "      <td>20.463333</td>\n",
       "      <td>17.200000</td>\n",
       "      <td>28.766667</td>\n",
       "      <td>15.100000</td>\n",
       "      <td>27.660000</td>\n",
       "      <td>...</td>\n",
       "      <td>14.890000</td>\n",
       "      <td>29.166667</td>\n",
       "      <td>-5.000000</td>\n",
       "      <td>729.300000</td>\n",
       "      <td>24.000000</td>\n",
       "      <td>0.000000</td>\n",
       "      <td>1.000000</td>\n",
       "      <td>-6.600000</td>\n",
       "      <td>0.005322</td>\n",
       "      <td>0.005322</td>\n",
       "    </tr>\n",
       "    <tr>\n",
       "      <th>25%</th>\n",
       "      <td>50.000000</td>\n",
       "      <td>0.000000</td>\n",
       "      <td>20.760000</td>\n",
       "      <td>37.333333</td>\n",
       "      <td>18.790000</td>\n",
       "      <td>37.900000</td>\n",
       "      <td>20.790000</td>\n",
       "      <td>36.900000</td>\n",
       "      <td>19.530000</td>\n",
       "      <td>35.530000</td>\n",
       "      <td>...</td>\n",
       "      <td>18.000000</td>\n",
       "      <td>38.500000</td>\n",
       "      <td>3.666667</td>\n",
       "      <td>750.933333</td>\n",
       "      <td>70.333333</td>\n",
       "      <td>2.000000</td>\n",
       "      <td>29.000000</td>\n",
       "      <td>0.900000</td>\n",
       "      <td>12.497889</td>\n",
       "      <td>12.497889</td>\n",
       "    </tr>\n",
       "    <tr>\n",
       "      <th>50%</th>\n",
       "      <td>60.000000</td>\n",
       "      <td>0.000000</td>\n",
       "      <td>21.600000</td>\n",
       "      <td>39.656667</td>\n",
       "      <td>20.000000</td>\n",
       "      <td>40.500000</td>\n",
       "      <td>22.100000</td>\n",
       "      <td>38.530000</td>\n",
       "      <td>20.666667</td>\n",
       "      <td>38.400000</td>\n",
       "      <td>...</td>\n",
       "      <td>19.390000</td>\n",
       "      <td>40.900000</td>\n",
       "      <td>6.916667</td>\n",
       "      <td>756.100000</td>\n",
       "      <td>83.666667</td>\n",
       "      <td>3.666667</td>\n",
       "      <td>40.000000</td>\n",
       "      <td>3.433333</td>\n",
       "      <td>24.897653</td>\n",
       "      <td>24.897653</td>\n",
       "    </tr>\n",
       "    <tr>\n",
       "      <th>75%</th>\n",
       "      <td>100.000000</td>\n",
       "      <td>0.000000</td>\n",
       "      <td>22.600000</td>\n",
       "      <td>43.066667</td>\n",
       "      <td>21.500000</td>\n",
       "      <td>43.260000</td>\n",
       "      <td>23.290000</td>\n",
       "      <td>41.760000</td>\n",
       "      <td>22.100000</td>\n",
       "      <td>42.156667</td>\n",
       "      <td>...</td>\n",
       "      <td>20.600000</td>\n",
       "      <td>44.338095</td>\n",
       "      <td>10.408333</td>\n",
       "      <td>760.933333</td>\n",
       "      <td>91.666667</td>\n",
       "      <td>5.500000</td>\n",
       "      <td>40.000000</td>\n",
       "      <td>6.566667</td>\n",
       "      <td>37.583769</td>\n",
       "      <td>37.583769</td>\n",
       "    </tr>\n",
       "    <tr>\n",
       "      <th>max</th>\n",
       "      <td>1080.000000</td>\n",
       "      <td>70.000000</td>\n",
       "      <td>26.260000</td>\n",
       "      <td>63.360000</td>\n",
       "      <td>29.856667</td>\n",
       "      <td>56.026667</td>\n",
       "      <td>29.236000</td>\n",
       "      <td>50.163333</td>\n",
       "      <td>26.200000</td>\n",
       "      <td>51.090000</td>\n",
       "      <td>...</td>\n",
       "      <td>24.500000</td>\n",
       "      <td>53.326667</td>\n",
       "      <td>26.100000</td>\n",
       "      <td>772.300000</td>\n",
       "      <td>100.000000</td>\n",
       "      <td>14.000000</td>\n",
       "      <td>66.000000</td>\n",
       "      <td>15.500000</td>\n",
       "      <td>49.996530</td>\n",
       "      <td>49.996530</td>\n",
       "    </tr>\n",
       "  </tbody>\n",
       "</table>\n",
       "<p>8 rows × 28 columns</p>\n",
       "</div>"
      ],
      "text/plain": [
       "         Appliances        lights            T1          RH_1            T2  \\\n",
       "count  19735.000000  19735.000000  19735.000000  19735.000000  19735.000000   \n",
       "mean      97.694958      3.801875     21.686571     40.259739     20.341219   \n",
       "std      102.524891      7.935988      1.606066      3.979299      2.192974   \n",
       "min       10.000000      0.000000     16.790000     27.023333     16.100000   \n",
       "25%       50.000000      0.000000     20.760000     37.333333     18.790000   \n",
       "50%       60.000000      0.000000     21.600000     39.656667     20.000000   \n",
       "75%      100.000000      0.000000     22.600000     43.066667     21.500000   \n",
       "max     1080.000000     70.000000     26.260000     63.360000     29.856667   \n",
       "\n",
       "               RH_2            T3          RH_3            T4          RH_4  \\\n",
       "count  19735.000000  19735.000000  19735.000000  19735.000000  19735.000000   \n",
       "mean      40.420420     22.267611     39.242500     20.855335     39.026904   \n",
       "std        4.069813      2.006111      3.254576      2.042884      4.341321   \n",
       "min       20.463333     17.200000     28.766667     15.100000     27.660000   \n",
       "25%       37.900000     20.790000     36.900000     19.530000     35.530000   \n",
       "50%       40.500000     22.100000     38.530000     20.666667     38.400000   \n",
       "75%       43.260000     23.290000     41.760000     22.100000     42.156667   \n",
       "max       56.026667     29.236000     50.163333     26.200000     51.090000   \n",
       "\n",
       "           ...                 T9          RH_9         T_out   Press_mm_hg  \\\n",
       "count      ...       19735.000000  19735.000000  19735.000000  19735.000000   \n",
       "mean       ...          19.485828     41.552401      7.411665    755.522602   \n",
       "std        ...           2.014712      4.151497      5.317409      7.399441   \n",
       "min        ...          14.890000     29.166667     -5.000000    729.300000   \n",
       "25%        ...          18.000000     38.500000      3.666667    750.933333   \n",
       "50%        ...          19.390000     40.900000      6.916667    756.100000   \n",
       "75%        ...          20.600000     44.338095     10.408333    760.933333   \n",
       "max        ...          24.500000     53.326667     26.100000    772.300000   \n",
       "\n",
       "             RH_out     Windspeed    Visibility     Tdewpoint           rv1  \\\n",
       "count  19735.000000  19735.000000  19735.000000  19735.000000  19735.000000   \n",
       "mean      79.750418      4.039752     38.330834      3.760707     24.988033   \n",
       "std       14.901088      2.451221     11.794719      4.194648     14.496634   \n",
       "min       24.000000      0.000000      1.000000     -6.600000      0.005322   \n",
       "25%       70.333333      2.000000     29.000000      0.900000     12.497889   \n",
       "50%       83.666667      3.666667     40.000000      3.433333     24.897653   \n",
       "75%       91.666667      5.500000     40.000000      6.566667     37.583769   \n",
       "max      100.000000     14.000000     66.000000     15.500000     49.996530   \n",
       "\n",
       "                rv2  \n",
       "count  19735.000000  \n",
       "mean      24.988033  \n",
       "std       14.496634  \n",
       "min        0.005322  \n",
       "25%       12.497889  \n",
       "50%       24.897653  \n",
       "75%       37.583769  \n",
       "max       49.996530  \n",
       "\n",
       "[8 rows x 28 columns]"
      ]
     },
     "execution_count": 14,
     "metadata": {},
     "output_type": "execute_result"
    }
   ],
   "source": [
    "df.describe()"
   ]
  },
  {
   "cell_type": "markdown",
   "metadata": {},
   "source": [
    "## Reading and analyzing the plots"
   ]
  },
  {
   "cell_type": "markdown",
   "metadata": {},
   "source": [
    "In this dataset, I've observed that :\n",
    "\n",
    "General observation: \n",
    "\n",
    "1. T_out i.e temperature outside the house has maximum correlation with Tdewpoint and other temperatures in different rooms T1, T2, T3 ... T9. \n",
    "2. Windspeed also had some kind of correlation.\n",
    "3. Also, on the above graph it can be observed that there's some kind of dependency between each room's temperature and the percentage of humidity in that particular room. The graphs plotted are between T1 vs RH_1, T2 vs RH_2, ... T9 vs RH_9. \n",
    "4. There's another significant attribute that is the windspeed. On observing the windspeed attribute carefully, I came to the conclusion that some of the values were missing so I used min max scaling to normalize my data. I observed windspeed by plotting a histogram and looking that the minimum value was 0.0.\n",
    "5. After normalization, another histogram was plotted. It can be observed from the histogram that there's no such zero values for the windspeed anymore. It means that our normalization worked successfully. \n",
    "6. I also realized that temperature is widely spread and can be used to predict based on these features.\n",
    "7. From the histogram above this graph, it can be observed that how temperature and Tdewpoint are widely spread across and yet they have some kind of linear dependency in them. I used hit and trial to plot various graph and checked how they are dependent on each by plotting the same graph i.e temperature against various attributes. \n",
    "\n",
    "\n",
    "Observation 1: \n",
    "\n",
    "1. Humidity - All columns follow normal distribution except RH_6 and RH_out.\n",
    "2. Temperature - All the columns follow normal distribution except T9\n",
    "3. Appliance - This column is postively skewed , most the values are around mean 100 Wh.\n",
    "4. Windspeed column is negatively skewed\n",
    "5. Visibilty column is negatively skewed\n",
    "6. Random variables have no role to play\n",
    "\n",
    "\n",
    "Observation 2: \n",
    "\n",
    "1. Temperature columns - Temperature inside the house varies between 14.89 (T9) Deg & 29.85 (T2) Deg , temperature outside (T6) varies between -6.06 Deg to 28.29 Deg. The reason for this variation is sensors are kept outside the house.\n",
    "\n",
    "2. Appliances - 75% of Appliance consumption is less than 100 Wh . With the maximum consumption of 1080 Wh there will be outliers in this column and there are small number of cases where consumption is very high\n",
    "\n",
    "3. Humidiy columns - Humidity inside house varies is between 20.60% to 63.36% with exception of RH_5 (Bathroom) and RH_6 (Outside house) which varies between 29.82% to 96.32% and 1% to 99.9% respectively.\n",
    "\n",
    "4. Lights column - Lights column has 1525 0 entries. Hence, it is not useful column. "
   ]
  },
  {
   "cell_type": "markdown",
   "metadata": {},
   "source": [
    "## Preprocessing of the data"
   ]
  },
  {
   "cell_type": "code",
   "execution_count": 15,
   "metadata": {},
   "outputs": [],
   "source": [
    "df=df.drop(['date'],axis=1)\n"
   ]
  },
  {
   "cell_type": "code",
   "execution_count": 16,
   "metadata": {},
   "outputs": [],
   "source": [
    "\n",
    "col_temp = [\"T1\",\"T2\",\"T3\",\"T4\",\"T5\",\"T6\",\"T7\",\"T8\",\"T9\"]\n",
    "\n",
    "col_hum = [\"RH_1\",\"RH_2\",\"RH_3\",\"RH_4\",\"RH_5\",\"RH_6\",\"RH_7\",\"RH_8\",\"RH_9\"]\n",
    "\n",
    "col_weather = [\"T_out\", \"Tdewpoint\",\"RH_out\",\"Press_mm_hg\",\n",
    "                \"Windspeed\",\"Visibility\"] \n",
    "col_light = [\"lights\"]\n",
    "\n",
    "col_randoms = [\"rv1\", \"rv2\"]\n",
    "\n",
    "col_target = [\"Appliances\"]"
   ]
  },
  {
   "cell_type": "code",
   "execution_count": 17,
   "metadata": {},
   "outputs": [
    {
     "data": {
      "text/html": [
       "<div>\n",
       "<style scoped>\n",
       "    .dataframe tbody tr th:only-of-type {\n",
       "        vertical-align: middle;\n",
       "    }\n",
       "\n",
       "    .dataframe tbody tr th {\n",
       "        vertical-align: top;\n",
       "    }\n",
       "\n",
       "    .dataframe thead th {\n",
       "        text-align: right;\n",
       "    }\n",
       "</style>\n",
       "<table border=\"1\" class=\"dataframe\">\n",
       "  <thead>\n",
       "    <tr style=\"text-align: right;\">\n",
       "      <th></th>\n",
       "      <th>lights</th>\n",
       "      <th>T1</th>\n",
       "      <th>RH_1</th>\n",
       "      <th>T2</th>\n",
       "      <th>RH_2</th>\n",
       "      <th>T3</th>\n",
       "      <th>RH_3</th>\n",
       "      <th>T4</th>\n",
       "      <th>RH_4</th>\n",
       "      <th>T5</th>\n",
       "      <th>...</th>\n",
       "      <th>T8</th>\n",
       "      <th>RH_8</th>\n",
       "      <th>T9</th>\n",
       "      <th>RH_9</th>\n",
       "      <th>T_out</th>\n",
       "      <th>Press_mm_hg</th>\n",
       "      <th>RH_out</th>\n",
       "      <th>Windspeed</th>\n",
       "      <th>Visibility</th>\n",
       "      <th>Tdewpoint</th>\n",
       "    </tr>\n",
       "  </thead>\n",
       "  <tbody>\n",
       "    <tr>\n",
       "      <th>0</th>\n",
       "      <td>30</td>\n",
       "      <td>19.89</td>\n",
       "      <td>47.596667</td>\n",
       "      <td>19.2</td>\n",
       "      <td>44.790000</td>\n",
       "      <td>19.79</td>\n",
       "      <td>44.730000</td>\n",
       "      <td>19.000000</td>\n",
       "      <td>45.566667</td>\n",
       "      <td>17.166667</td>\n",
       "      <td>...</td>\n",
       "      <td>18.2</td>\n",
       "      <td>48.900000</td>\n",
       "      <td>17.033333</td>\n",
       "      <td>45.53</td>\n",
       "      <td>6.600000</td>\n",
       "      <td>733.5</td>\n",
       "      <td>92.0</td>\n",
       "      <td>7.000000</td>\n",
       "      <td>63.000000</td>\n",
       "      <td>5.3</td>\n",
       "    </tr>\n",
       "    <tr>\n",
       "      <th>1</th>\n",
       "      <td>30</td>\n",
       "      <td>19.89</td>\n",
       "      <td>46.693333</td>\n",
       "      <td>19.2</td>\n",
       "      <td>44.722500</td>\n",
       "      <td>19.79</td>\n",
       "      <td>44.790000</td>\n",
       "      <td>19.000000</td>\n",
       "      <td>45.992500</td>\n",
       "      <td>17.166667</td>\n",
       "      <td>...</td>\n",
       "      <td>18.2</td>\n",
       "      <td>48.863333</td>\n",
       "      <td>17.066667</td>\n",
       "      <td>45.56</td>\n",
       "      <td>6.483333</td>\n",
       "      <td>733.6</td>\n",
       "      <td>92.0</td>\n",
       "      <td>6.666667</td>\n",
       "      <td>59.166667</td>\n",
       "      <td>5.2</td>\n",
       "    </tr>\n",
       "    <tr>\n",
       "      <th>2</th>\n",
       "      <td>30</td>\n",
       "      <td>19.89</td>\n",
       "      <td>46.300000</td>\n",
       "      <td>19.2</td>\n",
       "      <td>44.626667</td>\n",
       "      <td>19.79</td>\n",
       "      <td>44.933333</td>\n",
       "      <td>18.926667</td>\n",
       "      <td>45.890000</td>\n",
       "      <td>17.166667</td>\n",
       "      <td>...</td>\n",
       "      <td>18.2</td>\n",
       "      <td>48.730000</td>\n",
       "      <td>17.000000</td>\n",
       "      <td>45.50</td>\n",
       "      <td>6.366667</td>\n",
       "      <td>733.7</td>\n",
       "      <td>92.0</td>\n",
       "      <td>6.333333</td>\n",
       "      <td>55.333333</td>\n",
       "      <td>5.1</td>\n",
       "    </tr>\n",
       "    <tr>\n",
       "      <th>3</th>\n",
       "      <td>40</td>\n",
       "      <td>19.89</td>\n",
       "      <td>46.066667</td>\n",
       "      <td>19.2</td>\n",
       "      <td>44.590000</td>\n",
       "      <td>19.79</td>\n",
       "      <td>45.000000</td>\n",
       "      <td>18.890000</td>\n",
       "      <td>45.723333</td>\n",
       "      <td>17.166667</td>\n",
       "      <td>...</td>\n",
       "      <td>18.1</td>\n",
       "      <td>48.590000</td>\n",
       "      <td>17.000000</td>\n",
       "      <td>45.40</td>\n",
       "      <td>6.250000</td>\n",
       "      <td>733.8</td>\n",
       "      <td>92.0</td>\n",
       "      <td>6.000000</td>\n",
       "      <td>51.500000</td>\n",
       "      <td>5.0</td>\n",
       "    </tr>\n",
       "    <tr>\n",
       "      <th>4</th>\n",
       "      <td>40</td>\n",
       "      <td>19.89</td>\n",
       "      <td>46.333333</td>\n",
       "      <td>19.2</td>\n",
       "      <td>44.530000</td>\n",
       "      <td>19.79</td>\n",
       "      <td>45.000000</td>\n",
       "      <td>18.890000</td>\n",
       "      <td>45.530000</td>\n",
       "      <td>17.200000</td>\n",
       "      <td>...</td>\n",
       "      <td>18.1</td>\n",
       "      <td>48.590000</td>\n",
       "      <td>17.000000</td>\n",
       "      <td>45.40</td>\n",
       "      <td>6.133333</td>\n",
       "      <td>733.9</td>\n",
       "      <td>92.0</td>\n",
       "      <td>5.666667</td>\n",
       "      <td>47.666667</td>\n",
       "      <td>4.9</td>\n",
       "    </tr>\n",
       "  </tbody>\n",
       "</table>\n",
       "<p>5 rows × 25 columns</p>\n",
       "</div>"
      ],
      "text/plain": [
       "   lights     T1       RH_1    T2       RH_2     T3       RH_3         T4  \\\n",
       "0      30  19.89  47.596667  19.2  44.790000  19.79  44.730000  19.000000   \n",
       "1      30  19.89  46.693333  19.2  44.722500  19.79  44.790000  19.000000   \n",
       "2      30  19.89  46.300000  19.2  44.626667  19.79  44.933333  18.926667   \n",
       "3      40  19.89  46.066667  19.2  44.590000  19.79  45.000000  18.890000   \n",
       "4      40  19.89  46.333333  19.2  44.530000  19.79  45.000000  18.890000   \n",
       "\n",
       "        RH_4         T5    ...        T8       RH_8         T9   RH_9  \\\n",
       "0  45.566667  17.166667    ...      18.2  48.900000  17.033333  45.53   \n",
       "1  45.992500  17.166667    ...      18.2  48.863333  17.066667  45.56   \n",
       "2  45.890000  17.166667    ...      18.2  48.730000  17.000000  45.50   \n",
       "3  45.723333  17.166667    ...      18.1  48.590000  17.000000  45.40   \n",
       "4  45.530000  17.200000    ...      18.1  48.590000  17.000000  45.40   \n",
       "\n",
       "      T_out  Press_mm_hg  RH_out  Windspeed  Visibility  Tdewpoint  \n",
       "0  6.600000        733.5    92.0   7.000000   63.000000        5.3  \n",
       "1  6.483333        733.6    92.0   6.666667   59.166667        5.2  \n",
       "2  6.366667        733.7    92.0   6.333333   55.333333        5.1  \n",
       "3  6.250000        733.8    92.0   6.000000   51.500000        5.0  \n",
       "4  6.133333        733.9    92.0   5.666667   47.666667        4.9  \n",
       "\n",
       "[5 rows x 25 columns]"
      ]
     },
     "execution_count": 17,
     "metadata": {},
     "output_type": "execute_result"
    }
   ],
   "source": [
    "df_target=pd.DataFrame(df.iloc[:,0])\n",
    "df=df.drop(['Appliances', 'rv1', 'rv2'],axis=1)\n",
    "df.head()\n"
   ]
  },
  {
   "cell_type": "code",
   "execution_count": 18,
   "metadata": {},
   "outputs": [
    {
     "data": {
      "text/plain": [
       "(19735, 1)"
      ]
     },
     "execution_count": 18,
     "metadata": {},
     "output_type": "execute_result"
    }
   ],
   "source": [
    "df_target.shape"
   ]
  },
  {
   "cell_type": "code",
   "execution_count": 19,
   "metadata": {},
   "outputs": [
    {
     "data": {
      "text/plain": [
       "(19735, 25)"
      ]
     },
     "execution_count": 19,
     "metadata": {},
     "output_type": "execute_result"
    }
   ],
   "source": [
    "df.shape"
   ]
  },
  {
   "cell_type": "markdown",
   "metadata": {},
   "source": [
    "## Summary of Neural Networks, NonLinear Regression, Cross Validation and activation function"
   ]
  },
  {
   "cell_type": "markdown",
   "metadata": {},
   "source": [
    "#### Neural Networks\n",
    "Neural networks are the computational models inspired by the brain. Elements of neural networks are input layer, an output layer and hidden layers. Input layer consists of nodes that are the features of the dataset whereas the output layer nodes are the classes to which the entry belongs. Hidden layer performs all sort of computation on the features entered through the input layer and transfer the result to the output layer. Inputs are fed into the network through input layer and the outputs are calculated and returned through output layers. This process is called forward propagation. These computed values are compared with actual values and the weights are updated based on the errors. This process is called Backward propagation. \n",
    "\n",
    "#### Nonlinear Regression \n",
    "Nonlinear regression is a form of regression analysis in which data is fit to a model. Simple linear regression relates two variables and gives a straight line y = mx + c while nonlinear regression will generate a curve. The main objective of the model is to make the sum of the squares as small as possible. The sum of squares is used to check how our observations are varying from the mean of the data set. The smaller the sum of these squared figures, the better the function fits the data points in the set.\n",
    "\n",
    "#### Cross validation \n",
    "Cross validation divides the training data into several parts (K parts) of approximately equal size. Each part is selected in turn as the testing data. For each k = 1,2,...K, fit the model with parameter lambda to the other K − 1 parts, compute its error in predicting􏰀 the kth part. Do this for many values of lambda and choose the value of lambda that makes CV(lambda) as the smallest. Typically, we use 5 or 10 fold. In this assignment, I've used 5 fold cross validation. \n",
    "\n",
    "\n",
    "#### Activation function\n",
    "The activation function does the nonlinear transformation to the input making it capable to learn and we send this to the next layer of neurons. There are several different types of activation function like tanh, ReLu, Leaky ReLu, Sigmoid, step function, etc. "
   ]
  },
  {
   "cell_type": "markdown",
   "metadata": {},
   "source": [
    "# Neural Network"
   ]
  },
  {
   "cell_type": "code",
   "execution_count": 7,
   "metadata": {},
   "outputs": [],
   "source": [
    "# standardization class\n",
    "class Standardizer: \n",
    "    \"\"\" class version of standardization \"\"\"\n",
    "    def __init__(self, X, explore=False):\n",
    "        self._mu = np.mean(X,0)  \n",
    "        self._sigma = np.std(X,0)\n",
    "        if explore:\n",
    "            print (\"mean: \", self._mu)\n",
    "            print (\"sigma: \", self._sigma)\n",
    "            print (\"min: \", np.min(X,0))\n",
    "            print (\"max: \", np.max(X,0))\n",
    "\n",
    "    def set_sigma(self, s):\n",
    "        self._sigma[:] = s\n",
    "\n",
    "    def standardize(self,X):\n",
    "        return (X - self._mu) / self._sigma \n",
    "\n",
    "    def unstandardize(self,X):\n",
    "        return (X * self._sigma) + self._mu \n",
    "    \n",
    "\n",
    "  "
   ]
  },
  {
   "cell_type": "code",
   "execution_count": 8,
   "metadata": {},
   "outputs": [],
   "source": [
    "from grad import scg, steepest\n",
    "from copy import copy\n",
    "\n",
    "\n",
    "class NeuralNet:\n",
    "    \"\"\" neural network class for regression\n",
    "        \n",
    "        Parameters\n",
    "        ----------\n",
    "        nunits: list\n",
    "            the number of inputs, hidden units, and outputs\n",
    "\n",
    "        Methods\n",
    "        -------\n",
    "        set_hunit    \n",
    "            update/initiate weights\n",
    "\n",
    "        pack \n",
    "            pack multiple weights of each layer into one vector\n",
    "\n",
    "        forward\n",
    "            forward processing of neural network\n",
    "\n",
    "        backward\n",
    "            back-propagation of neural network\n",
    "\n",
    "        train\n",
    "            train the neural network\n",
    "\n",
    "        use\n",
    "            appply the trained network for prediction\n",
    "\n",
    "        Attributes\n",
    "        ----------\n",
    "        _nLayers\n",
    "            the number of hidden unit layers \n",
    "\n",
    "        rho\n",
    "            learning rate\n",
    "\n",
    "        _W\n",
    "            weights\n",
    "        _weights\n",
    "            weights in one dimension (_W is referencing _weight)\n",
    "\n",
    "        stdX\n",
    "            standardization class for data\n",
    "        stdT\n",
    "            standardization class for target\n",
    "\n",
    "        Notes\n",
    "        -----\n",
    "        \n",
    "    \"\"\"\n",
    "\n",
    "    def __init__(self, nunits):\n",
    "        self._nLayers=len(nunits)-1\n",
    "        self.rho = [1] * self._nLayers\n",
    "        self._W = []\n",
    "        wdims = []\n",
    "        lenweights = 0\n",
    "        for i in range(self._nLayers):\n",
    "            nwr = nunits[i] + 1\n",
    "            nwc = nunits[i+1]\n",
    "            wdims.append((nwr, nwc))\n",
    "            lenweights = lenweights + nwr * nwc\n",
    "\n",
    "        self._weights = np.random.uniform(-0.1,0.1, lenweights) \n",
    "        start = 0  # fixed index error 20110107\n",
    "        for i in range(self._nLayers):\n",
    "            end = start + wdims[i][0] * wdims[i][1] \n",
    "            self._W.append(self._weights[start:end])\n",
    "            self._W[i].resize(wdims[i])\n",
    "            start = end\n",
    "\n",
    "        self.stdX = None\n",
    "        self.stdT = None\n",
    "        self.stdTarget = True\n",
    "\n",
    "    def add_ones(self, w):\n",
    "        return np.hstack((np.ones((w.shape[0], 1)), w))\n",
    "\n",
    "    def get_nlayers(self):\n",
    "        return self._nLayers\n",
    "\n",
    "    def set_hunit(self, w):\n",
    "        for i in range(self._nLayers-1):\n",
    "            if w[i].shape != self._W[i].shape:\n",
    "                print(\"set_hunit: shapes do not match!\")\n",
    "                break\n",
    "            else:\n",
    "                self._W[i][:] = w[i][:]\n",
    "\n",
    "    def pack(self, w):\n",
    "        return np.hstack(map(np.ravel, w))\n",
    "\n",
    "    def unpack(self, weights):\n",
    "        self._weights[:] = weights[:]  # unpack\n",
    "\n",
    "    def cp_weight(self):\n",
    "        return copy(self._weights)\n",
    "\n",
    "    def RBF(self, X, m=None,s=None):\n",
    "        if m is None: m = np.mean(X)\n",
    "        if s is None: s = 2 #np.std(X)\n",
    "        r = 1. / (np.sqrt(2*np.pi)* s)  \n",
    "        return r * np.exp(-(X - m) ** 2 / (2 * s ** 2))\n",
    "    \n",
    "    def Sigma(self, X):\n",
    "        return (1/(1+(np.exp(-(X)))))\n",
    "\n",
    "    def forward(self,X):\n",
    "        t = X \n",
    "        Z = []\n",
    "\n",
    "        for i in range(self._nLayers):\n",
    "            Z.append(t) \n",
    "            if i == self._nLayers - 1:\n",
    "                t = np.dot(self.add_ones(t), self._W[i])\n",
    "            else:\n",
    "                t = np.tanh(np.dot(self.add_ones(t), self._W[i]))\n",
    "                \n",
    "        return (t, Z)\n",
    "        \n",
    "    def backward(self, error, Z, T, lmb=0):\n",
    "        delta = error\n",
    "        N = T.size\n",
    "        dws = []\n",
    "        for i in range(self._nLayers - 1, -1, -1):\n",
    "            rh = float(self.rho[i]) / N\n",
    "            if i==0:\n",
    "                lmbterm = 0\n",
    "            else:\n",
    "                lmbterm = lmb * np.vstack((np.zeros((1, self._W[i].shape[1])),\n",
    "                            self._W[i][1:,]))\n",
    "                \n",
    "            #print(Z[i].T.shape)\n",
    "            dws.insert(0,(-rh * np.dot(self.add_ones(Z[i]).T, delta) + lmbterm))\n",
    "            if i != 0:\n",
    "                delta = np.dot(delta, self._W[i][1:, :].T) * (1 - Z[i]**2)\n",
    "        return self.pack(dws)\n",
    "\n",
    "    def _errorf(self, T, Y):\n",
    "        return T - Y\n",
    "        \n",
    "    def _objectf(self, T, Y, wpenalty):\n",
    "        return 0.5 * np.mean(np.square(T - Y)) + wpenalty\n",
    "\n",
    "    def train(self, X, T, **params):\n",
    "\n",
    "        verbose = params.pop('verbose', False)\n",
    "        # training parameters\n",
    "        _lambda = params.pop('Lambda', 0.)\n",
    "\n",
    "        #parameters for scg\n",
    "        niter = params.pop('niter', 1000)\n",
    "        wprecision = params.pop('wprecision', 1e-10)\n",
    "        fprecision = params.pop('fprecision', 1e-10)\n",
    "        wtracep = params.pop('wtracep', False)\n",
    "        ftracep = params.pop('ftracep', False)\n",
    "\n",
    "        # optimization\n",
    "        optim = params.pop('optim', 'scg')\n",
    "\n",
    "        if self.stdX == None:\n",
    "            explore = params.pop('explore', False)\n",
    "            self.stdX = Standardizer(X, explore)\n",
    "        Xs = self.stdX.standardize(X)\n",
    "        if self.stdT == None and self.stdTarget:\n",
    "            self.stdT = Standardizer(T)\n",
    "            T = self.stdT.standardize(T)\n",
    "        \n",
    "        def gradientf(weights):\n",
    "            self.unpack(weights)\n",
    "            Y,Z = self.forward(Xs)\n",
    "            \n",
    "            error = self._errorf(T, Y)\n",
    "            return self.backward(error, Z, T, _lambda)\n",
    "            \n",
    "        def optimtargetf(weights):\n",
    "            \"\"\" optimization target function : MSE \n",
    "            \"\"\"\n",
    "            self.unpack(weights)\n",
    "            #self._weights[:] = weights[:]  # unpack\n",
    "            Y,_ = self.forward(Xs)\n",
    "            Wnb=np.array([])\n",
    "            for i in range(self._nLayers):\n",
    "                if len(Wnb)==0: Wnb=self._W[i][1:,].reshape(self._W[i].size-self._W[i][0,].size,1)\n",
    "                else: Wnb = np.vstack((Wnb,self._W[i][1:,].reshape(self._W[i].size-self._W[i][0,].size,1)))\n",
    "            wpenalty = _lambda * np.dot(Wnb.flat ,Wnb.flat)\n",
    "            return self._objectf(T, Y, wpenalty)\n",
    "\n",
    "        if optim == 'scg':\n",
    "            result = scg(self.cp_weight(), gradientf, optimtargetf,\n",
    "                                        wPrecision=wprecision, fPrecision=fprecision, \n",
    "                                        nIterations=niter,\n",
    "                                        wtracep=wtracep, ftracep=ftracep,\n",
    "                                        verbose=False)\n",
    "            self.unpack(result['w'][:])\n",
    "            self.f = result['f']\n",
    "        elif optim == 'steepest':\n",
    "            result = steepest(self.cp_weight(), gradientf, optimtargetf,\n",
    "                                nIterations=niter,\n",
    "                                xPrecision=wprecision, fPrecision=fprecision,\n",
    "                                xtracep=wtracep, ftracep=ftracep )\n",
    "            self.unpack(result['w'][:])\n",
    "        if ftracep:\n",
    "            self.ftrace = result['ftrace']\n",
    "        if 'reason' in result.keys() and verbose:\n",
    "            print(result['reason'])\n",
    "\n",
    "        return result\n",
    "\n",
    "    def use(self, X, retZ=False):\n",
    "        if self.stdX:\n",
    "            Xs = self.stdX.standardize(X)\n",
    "        else:\n",
    "            Xs = X\n",
    "        Y, Z = self.forward(Xs)\n",
    "        if self.stdT is not None:\n",
    "            Y = self.stdT.unstandardize(Y)\n",
    "        if retZ:\n",
    "            return Y, Z\n",
    "        return Y"
   ]
  },
  {
   "cell_type": "markdown",
   "metadata": {},
   "source": [
    "# Explanation of codes"
   ]
  },
  {
   "cell_type": "markdown",
   "metadata": {},
   "source": [
    "There are two classes defined above. One is <b> Standardizer class </b>  and the other is <b> NeuralNet class </b> . \n",
    "<br>\n",
    "    \n",
    "1. The Standardizer class normalizes all the values. <br><br>\n",
    "2. NeuralNet class builds the neural network that learns the data through feed forward and back propagation. <br>\n",
    "    \n",
    "<br> \n",
    "    \n",
    "3. The nunits takes the number of inputs, hidden units, and outputs. <br> <br>\n",
    "\n",
    "4. The set_hunit function is used to either update or initiate the weights. It takes the weight as the parameter. <br> <br>\n",
    "\n",
    "5. The Pack function packs the multiple weights of each layer into one vector. The unpack function does vice versa. <br> <br>\n",
    "\n",
    "6. Forward pass in neural network propagates as shown below: <br> <br>\n",
    "\n",
    "$$\n",
    "\\begin{align}\n",
    "Z &= h(Xl \\cdot V) \\\\\n",
    "\\\\\n",
    "Y & = Zl \\cdot W \n",
    "\\end{align}\n",
    "$$\n",
    "\n",
    "7. Activation function is used to make the network nonlinear. <br> <br>\n",
    "\n",
    "8. In the backward pass the function takes the the z values, Target values and the error as input. Based on the delta value, the weights and the bias are updated accoringly. This method returns the weight vector packed together of that particualr layer. Below are the functions that are excecuted during backward pass. <br> <br>\n",
    "\n",
    "$$\n",
    "\\begin{align}\n",
    "V &\\leftarrow V + \\alpha_h \\frac{1}{N} \\frac{1}{K} Xl^\\top \\Big( (T - Y) W^\\top \\odot (1 - Z^2) \\Big) \\\\\n",
    "W &\\leftarrow W + \\alpha_o \\frac{1}{N} \\frac{1}{K} Zl^\\top \\Big( T - Y \\Big) \n",
    "\\end{align}\n",
    "$$\n",
    "\n",
    "9. The train function takes the feautures and the target as the input. The gradientf unpacks the weights,proceeds with the forward pass by calling forward function. Now error is calculated using results of forward pass. Now back propagation is proceeded by calling backward function with parameters as error, Z, T(Target), _lambda. <br> <br>\n",
    "\n",
    "10. The optimtarget function tries to reduce the error by using the object function and updates the weights accordingly. <br> <br>\n",
    "\n",
    "11. The use function is applied to the test data after training the model. Testing data is passed as parameter and it stadardizes the data. Then forward is applied on the data which returns the predictions. <br> <br>\n",
    "\n",
    "\n",
    "12. _nLayers is the number of hidden unit layers. <br> <br>\n",
    "\n",
    "13. rho is the learning rate attribute of the class. <br> <br>\n",
    "\n",
    "14. _W is the weights. <br> <br>\n",
    "\n",
    "15. _weights is the weights that is _W written in one dimension. <br> <br>\n",
    "\n",
    "16. stdX is the standardization class for the data. <br> <br>\n",
    "\n",
    "17. stdT is the standardization class for the target. <br>\n",
    "\n"
   ]
  },
  {
   "cell_type": "code",
   "execution_count": 9,
   "metadata": {},
   "outputs": [],
   "source": [
    "from sklearn.metrics import mean_squared_error"
   ]
  },
  {
   "cell_type": "markdown",
   "metadata": {},
   "source": [
    "# Cross Validation "
   ]
  },
  {
   "cell_type": "code",
   "execution_count": 10,
   "metadata": {},
   "outputs": [],
   "source": [
    "#Splits into parts of 20% of whole data. So myList will give five 20% of 100% of data\n",
    "def split(data):\n",
    "    part = len(data) / 5.0\n",
    "    mylist = []\n",
    "    x = 0.0\n",
    "    #Iterate through the length of s and keep on appending to myList so we've like 5 parts now and return the list\n",
    "    while x < len(data):\n",
    "        mylist.append(data[int(x):int(x + part)])\n",
    "        x += part\n",
    "    return mylist\n",
    "\n",
    "best_paramlist=[]\n",
    "final_list=[]\n",
    "\n",
    "def cross_validate(X, T, parameters):\n",
    "    #Call Split and get the data partitioned\n",
    "    X_partitioned = split(X)\n",
    "    T_partitioned = split(T)\n",
    "    \n",
    "    #This loop iterates through all the 5 parts..so each i is like test data for the paritioned dataset \n",
    "    for i in range(5): \n",
    "        print(\"Test number: \",i)\n",
    "        X_test = X_partitioned[i]\n",
    "        T_test = T_partitioned[i]\n",
    "\n",
    "        history_rmse=[]\n",
    "        params=[] \n",
    "        #best_param\n",
    "        \n",
    "        #k is the validation part of the 5 parts\n",
    "        for k in range(5): \n",
    "            print(\"K is : \",k)\n",
    "            if i == k: \n",
    "                continue \n",
    "            \n",
    "            #Another 20% of data used\n",
    "            X_val = X_partitioned[k]\n",
    "            T_val = T_partitioned[k]\n",
    "            \n",
    "            #Train will be those which is not test and validation part. The remaining 60% of data of 100%\n",
    "            X_train = X_partitioned[not i and not k]\n",
    "            T_train = T_partitioned[not i and not k]\n",
    "            \n",
    "            #m = 0\n",
    "            paramlist=[]\n",
    "            rmselist=[]\n",
    "            for param in parameters:\n",
    "                \n",
    "                model = NeuralNet(param)\n",
    "                model.train(X_train, T_train)\n",
    "                pred = model.use(X_val)\n",
    "                \n",
    "                valid_err = np.sqrt(mean_squared_error(T_val, pred))\n",
    "                rmselist.append(valid_err)\n",
    "                paramlist.append(param)\n",
    "                \n",
    "            print(paramlist)\n",
    "            print(rmselist)\n",
    "            print(min(rmselist))\n",
    "            print(paramlist[np.argmin(rmselist)])\n",
    "            history_rmse.append(min(rmselist))\n",
    "            params.append(paramlist[np.argmin(rmselist)])\n",
    "         \n",
    "        print(params)\n",
    "        print(history_rmse)\n",
    "        print(paramlist[np.argmin(history_rmse)])\n",
    "        best_param=paramlist[np.argmin(history_rmse)]\n",
    "        best_model = NeuralNet(best_param)\n",
    "        \n",
    "        X_train = X_partitioned[not i]\n",
    "        T_train = T_partitioned[not i]\n",
    "        best_model.train(X_train, T_train)\n",
    "\n",
    "        final_pred = best_model.use(X_test)\n",
    "        final_err = np.sqrt(mean_squared_error(T_test, final_pred))\n",
    "        final_list.append(final_err)\n",
    "        best_paramlist.append(best_param)\n",
    "\n",
    "    return final_list,best_paramlist\n",
    "    \n",
    "\n",
    "\n"
   ]
  },
  {
   "cell_type": "markdown",
   "metadata": {},
   "source": [
    "# Explanation of codes "
   ]
  },
  {
   "cell_type": "markdown",
   "metadata": {},
   "source": [
    "The split function is used to divide the data into partions. In this code, split function will split parts of 20% of whole data. So myList will give five 20% of 100% of data. We iterate through the length of s (data) and keep on appending to myList so we've like 5 parts now and we will return the list. \n",
    "\n",
    "\n",
    "The cross_validate function takes X which contains the sample, T which contains the target values of the samples and model parameters as input. This function returns final_list and best_paramlist. This function first divides data into 5 partitions using split() function. These partitions are stored into X_partitioned and T_partitioned. These are nothing but lists. Each element of these lists are 20% of the original data size. \n",
    "\n",
    "\n",
    "\n",
    "Now for loop iterates through all the 5 parts and i is like test data's index of X_partitioned and T_parititoned lists. The remaining data is used as training set. Now inside for loop X_test and Y_test are declared using X_paritioned[i], T_partitioned[i].\n",
    "\n",
    "k is the validation part of the 5 parts. Excluding k and i the rest data is our training set.\n",
    "\n",
    "In each validation loop we are training data with our different parameters passed and evaluating on validation data. Each parameter returns rmse value and this is appended to rmselist, parameters respective to that rmse are appended into paramlist to keep track of indices. Now after each validation we are selecting the parameter that produced minimum rmse value and storing the results into history_rmse and params list.\n",
    "\n",
    "\n",
    "From this history_rmse list  we are picking one  with best results. Now I retrain the model with the best parameter param in parameters and applied the model to test set. This test accuracy is appended to final_list and parameters are appended to best_paramlist. This operation runs for 5 folds and cross validate function returns final_list and best_paramlist which are best Accuracies of each test and best Params of each test. \n",
    "\n",
    "From this results we choose the parameters that is repeated more number of times in best_paramlist."
   ]
  },
  {
   "cell_type": "markdown",
   "metadata": {},
   "source": [
    "# Presentation of CV result"
   ]
  },
  {
   "cell_type": "code",
   "execution_count": 80,
   "metadata": {},
   "outputs": [
    {
     "name": "stdout",
     "output_type": "stream",
     "text": [
      "Test number:  0\n",
      "K is :  0\n",
      "K is :  1\n",
      "[[25, 3, 1], [25, 5, 1], [25, 7, 1], [25, 10, 1], [25, 12, 1]]\n",
      "[123.91643577386266, 176.7555885178329, 149.4960548041387, 213.17069218159142, 210.18131719475232]\n",
      "123.91643577386266\n",
      "[25, 3, 1]\n",
      "K is :  2\n",
      "[[25, 3, 1], [25, 5, 1], [25, 7, 1], [25, 10, 1], [25, 12, 1]]\n",
      "[194.69583125043036, 187.87065105802372, 173.32308646185126, 174.3362727885026, 233.10531110572325]\n",
      "173.32308646185126\n",
      "[25, 7, 1]\n",
      "K is :  3\n",
      "[[25, 3, 1], [25, 5, 1], [25, 7, 1], [25, 10, 1], [25, 12, 1]]\n",
      "[177.3272636914399, 151.47293003200082, 139.78037810398797, 226.61324229461582, 155.27891569091364]\n",
      "139.78037810398797\n",
      "[25, 7, 1]\n",
      "K is :  4\n",
      "[[25, 3, 1], [25, 5, 1], [25, 7, 1], [25, 10, 1], [25, 12, 1]]\n",
      "[120.66664284296544, 138.2499625835023, 226.08974683979903, 165.72660951816027, 261.79297896490067]\n",
      "120.66664284296544\n",
      "[25, 3, 1]\n",
      "[[25, 3, 1], [25, 7, 1], [25, 7, 1], [25, 3, 1]]\n",
      "[123.91643577386266, 173.32308646185126, 139.78037810398797, 120.66664284296544]\n",
      "[25, 10, 1]\n",
      "Test number:  1\n",
      "K is :  0\n",
      "[[25, 3, 1], [25, 5, 1], [25, 7, 1], [25, 10, 1], [25, 12, 1]]\n",
      "[88.62724428020587, 81.75375644991853, 78.75693799376205, 68.97513309558019, 64.03133553154628]\n",
      "64.03133553154628\n",
      "[25, 12, 1]\n",
      "K is :  1\n",
      "K is :  2\n",
      "[[25, 3, 1], [25, 5, 1], [25, 7, 1], [25, 10, 1], [25, 12, 1]]\n",
      "[215.48242770505254, 145.81294271731528, 198.6785477563927, 149.7001887756142, 205.18043043008015]\n",
      "145.81294271731528\n",
      "[25, 5, 1]\n",
      "K is :  3\n",
      "[[25, 3, 1], [25, 5, 1], [25, 7, 1], [25, 10, 1], [25, 12, 1]]\n",
      "[124.97288987497333, 154.70755268086856, 176.60403967209012, 220.2938360296244, 158.40139579101023]\n",
      "124.97288987497333\n",
      "[25, 3, 1]\n",
      "K is :  4\n",
      "[[25, 3, 1], [25, 5, 1], [25, 7, 1], [25, 10, 1], [25, 12, 1]]\n",
      "[119.76774446646996, 195.15736699360363, 144.3640763323914, 184.37285521878684, 176.3057228006222]\n",
      "119.76774446646996\n",
      "[25, 3, 1]\n",
      "[[25, 12, 1], [25, 5, 1], [25, 3, 1], [25, 3, 1]]\n",
      "[64.03133553154628, 145.81294271731528, 124.97288987497333, 119.76774446646996]\n",
      "[25, 3, 1]\n",
      "Test number:  2\n",
      "K is :  0\n",
      "[[25, 3, 1], [25, 5, 1], [25, 7, 1], [25, 10, 1], [25, 12, 1]]\n",
      "[89.82306630461291, 81.79805145243122, 73.06402878037682, 68.0727740572881, 65.02945912199166]\n",
      "65.02945912199166\n",
      "[25, 12, 1]\n",
      "K is :  1\n",
      "[[25, 3, 1], [25, 5, 1], [25, 7, 1], [25, 10, 1], [25, 12, 1]]\n",
      "[109.31885307676042, 153.10728597665985, 180.8321657807377, 226.37872845499925, 175.39381911816238]\n",
      "109.31885307676042\n",
      "[25, 3, 1]\n",
      "K is :  2\n",
      "K is :  3\n",
      "[[25, 3, 1], [25, 5, 1], [25, 7, 1], [25, 10, 1], [25, 12, 1]]\n",
      "[130.58715520006524, 146.1146924817105, 152.44503985173043, 219.7057511415324, 241.13946329459398]\n",
      "130.58715520006524\n",
      "[25, 3, 1]\n",
      "K is :  4\n",
      "[[25, 3, 1], [25, 5, 1], [25, 7, 1], [25, 10, 1], [25, 12, 1]]\n",
      "[173.9546878887344, 247.60747306616665, 159.00777862290954, 156.18798391736965, 150.27630371007564]\n",
      "150.27630371007564\n",
      "[25, 12, 1]\n",
      "[[25, 12, 1], [25, 3, 1], [25, 3, 1], [25, 12, 1]]\n",
      "[65.02945912199166, 109.31885307676042, 130.58715520006524, 150.27630371007564]\n",
      "[25, 3, 1]\n",
      "Test number:  3\n",
      "K is :  0\n",
      "[[25, 3, 1], [25, 5, 1], [25, 7, 1], [25, 10, 1], [25, 12, 1]]\n",
      "[88.31562996805492, 80.11505110315632, 76.23689822856947, 67.30675340944165, 65.77127455797675]\n",
      "65.77127455797675\n",
      "[25, 12, 1]\n",
      "K is :  1\n",
      "[[25, 3, 1], [25, 5, 1], [25, 7, 1], [25, 10, 1], [25, 12, 1]]\n",
      "[132.5930077164668, 124.91637185169029, 158.82019073508087, 175.1900130275877, 194.3148046674966]\n",
      "124.91637185169029\n",
      "[25, 5, 1]\n",
      "K is :  2\n",
      "[[25, 3, 1], [25, 5, 1], [25, 7, 1], [25, 10, 1], [25, 12, 1]]\n",
      "[195.37478869299076, 155.297471258249, 232.69869192621974, 346.8590003981149, 213.7130029198381]\n",
      "155.297471258249\n",
      "[25, 5, 1]\n",
      "K is :  3\n",
      "K is :  4\n",
      "[[25, 3, 1], [25, 5, 1], [25, 7, 1], [25, 10, 1], [25, 12, 1]]\n",
      "[108.0145031358264, 161.18210474805096, 149.82123814430173, 184.14223344460262, 263.9474388891013]\n",
      "108.0145031358264\n",
      "[25, 3, 1]\n",
      "[[25, 12, 1], [25, 5, 1], [25, 5, 1], [25, 3, 1]]\n",
      "[65.77127455797675, 124.91637185169029, 155.297471258249, 108.0145031358264]\n",
      "[25, 3, 1]\n",
      "Test number:  4\n",
      "K is :  0\n",
      "[[25, 3, 1], [25, 5, 1], [25, 7, 1], [25, 10, 1], [25, 12, 1]]\n",
      "[88.21432157674766, 81.75046501216815, 75.05715406704947, 66.66861541252923, 65.45692392958078]\n",
      "65.45692392958078\n",
      "[25, 12, 1]\n",
      "K is :  1\n",
      "[[25, 3, 1], [25, 5, 1], [25, 7, 1], [25, 10, 1], [25, 12, 1]]\n",
      "[123.64269206287479, 126.42152572094426, 150.8296692019696, 206.6510162767132, 242.62496726469962]\n",
      "123.64269206287479\n",
      "[25, 3, 1]\n",
      "K is :  2\n",
      "[[25, 3, 1], [25, 5, 1], [25, 7, 1], [25, 10, 1], [25, 12, 1]]\n",
      "[126.27154008216381, 106.75723789076628, 200.35927969009057, 198.44325936468897, 186.7804227254677]\n",
      "106.75723789076628\n",
      "[25, 5, 1]\n",
      "K is :  3\n",
      "[[25, 3, 1], [25, 5, 1], [25, 7, 1], [25, 10, 1], [25, 12, 1]]\n",
      "[190.62898107600705, 134.51466547236, 207.09249329087172, 158.82137873305706, 200.60389814461894]\n",
      "134.51466547236\n",
      "[25, 5, 1]\n",
      "K is :  4\n",
      "[[25, 12, 1], [25, 3, 1], [25, 5, 1], [25, 5, 1]]\n",
      "[65.45692392958078, 123.64269206287479, 106.75723789076628, 134.51466547236]\n",
      "[25, 3, 1]\n"
     ]
    }
   ],
   "source": [
    "models = [[25,3,1],[25,5,1],[25,7,1], [25,10,1], [25,12,1]]\n",
    "\n",
    "bestAccuracy,bestParam = cross_validate(np.array(df), np.array(df_target), models)"
   ]
  },
  {
   "cell_type": "code",
   "execution_count": 81,
   "metadata": {},
   "outputs": [],
   "source": [
    "#df.shape\n",
    "from sklearn import model_selection\n"
   ]
  },
  {
   "cell_type": "code",
   "execution_count": 82,
   "metadata": {},
   "outputs": [
    {
     "name": "stdout",
     "output_type": "stream",
     "text": [
      "[148.56655363328863, 158.1956571064257, 123.43710706848702, 143.60120597126655, 151.27843734461052] [[25, 10, 1], [25, 3, 1], [25, 3, 1], [25, 3, 1], [25, 3, 1]]\n"
     ]
    }
   ],
   "source": [
    "print(bestAccuracy,bestParam)"
   ]
  },
  {
   "cell_type": "code",
   "execution_count": 83,
   "metadata": {},
   "outputs": [],
   "source": [
    "X_train,X_test,y_train,y_test = model_selection.train_test_split(np.array(df),np.array(df_target),test_size=0.30,random_state=40)"
   ]
  },
  {
   "cell_type": "code",
   "execution_count": 125,
   "metadata": {},
   "outputs": [
    {
     "data": {
      "text/plain": [
       "{'w': array([ 3.79260338e+00,  4.59003354e+00,  1.40101884e+00, -5.83694329e-01,\n",
       "         8.16968658e+00, -1.49751760e-01,  6.45424052e+00, -1.35053607e+01,\n",
       "        -3.49889074e-01, -1.29441908e+01, -1.11798941e+01, -2.31098858e+00,\n",
       "         8.29371355e+00,  2.38246186e+01,  2.33294114e+00,  1.19074104e+01,\n",
       "         1.42267875e+01,  2.74156734e+00,  2.17616441e+00, -1.69269162e+00,\n",
       "        -1.24649997e+00, -5.72603572e+00, -1.43682177e+00, -8.83424109e-01,\n",
       "        -4.65558693e+00,  1.35300252e-01, -6.27250602e-02, -1.85173350e+01,\n",
       "         3.54555585e+00, -3.04312016e-01,  5.28387535e+00, -3.03381959e+00,\n",
       "         2.24968111e-02,  3.70720514e+00,  2.49578234e+00,  2.33756840e-01,\n",
       "         5.60540393e+00,  1.20893215e+01, -1.51968507e-01,  1.49395452e+01,\n",
       "         2.30252168e+00,  4.14738849e-01, -4.54747650e+00, -8.17460765e+00,\n",
       "        -4.08722656e-01, -1.34477879e+00,  4.37871933e-02,  1.08633975e-01,\n",
       "         6.03657209e+00,  1.40423464e+00, -3.16874278e-01, -2.03305474e+00,\n",
       "        -3.68375448e+00,  4.30704472e-01, -7.70692612e+00,  1.11452819e+01,\n",
       "         1.14130396e+00,  1.09351422e+01, -4.18900148e+00,  7.52765858e-02,\n",
       "        -2.20645974e+01, -7.39211324e+00,  4.23771161e-01, -6.66233502e+00,\n",
       "        -2.69332312e-01, -4.40315143e-02, -2.43891766e+00, -2.75160792e+00,\n",
       "         1.18045427e-01,  2.16469693e+00, -6.37543550e-01, -1.71546945e-02,\n",
       "        -3.60824624e+00,  1.65560679e+00, -2.11008000e-02,  3.27531302e+00,\n",
       "        -8.58764981e-01, -5.25493708e-01,  6.06714523e-01,  1.76001590e-01,\n",
       "         2.79577531e-01, -9.24531430e-01]),\n",
       " 'f': 0.38110175139745767,\n",
       " 'reason': 'reached limit of nIterations',\n",
       " 'wtrace': None,\n",
       " 'ftrace': None}"
      ]
     },
     "execution_count": 125,
     "metadata": {},
     "output_type": "execute_result"
    }
   ],
   "source": [
    "model=NeuralNet([25,3,1])  \n",
    "#choosing parameters which occured more number of times on the final parameter list\n",
    "#because those are the list with mininmum rmse\n",
    "model.train(X_train,y_train,niter=1000)"
   ]
  },
  {
   "cell_type": "code",
   "execution_count": 126,
   "metadata": {},
   "outputs": [],
   "source": [
    "y_pred=model.use(X_test)"
   ]
  },
  {
   "cell_type": "code",
   "execution_count": 127,
   "metadata": {},
   "outputs": [
    {
     "name": "stdout",
     "output_type": "stream",
     "text": [
      "RMSE: 91.20363187983625\n",
      "R squared value: 0.19754562502362494\n"
     ]
    }
   ],
   "source": [
    "from sklearn.metrics import r2_score\n",
    "print('RMSE:', np.sqrt(mean_squared_error(y_test, y_pred)))\n",
    "print('R squared value:', r2_score(y_test, y_pred))"
   ]
  },
  {
   "cell_type": "markdown",
   "metadata": {},
   "source": [
    "# Plots of results"
   ]
  },
  {
   "cell_type": "code",
   "execution_count": 56,
   "metadata": {},
   "outputs": [
    {
     "ename": "NameError",
     "evalue": "name 'y_pred' is not defined",
     "output_type": "error",
     "traceback": [
      "\u001b[0;31m---------------------------------------------------------------------------\u001b[0m",
      "\u001b[0;31mNameError\u001b[0m                                 Traceback (most recent call last)",
      "\u001b[0;32m<ipython-input-56-3d8f41ab3dd6>\u001b[0m in \u001b[0;36m<module>\u001b[0;34m\u001b[0m\n\u001b[1;32m      1\u001b[0m \u001b[0;31m# Residual plot for LinearRegress model\u001b[0m\u001b[0;34m\u001b[0m\u001b[0;34m\u001b[0m\u001b[0;34m\u001b[0m\u001b[0m\n\u001b[0;32m----> 2\u001b[0;31m \u001b[0msns\u001b[0m\u001b[0;34m.\u001b[0m\u001b[0mresidplot\u001b[0m\u001b[0;34m(\u001b[0m\u001b[0my_pred\u001b[0m\u001b[0;34m.\u001b[0m\u001b[0mflatten\u001b[0m\u001b[0;34m(\u001b[0m\u001b[0;34m)\u001b[0m\u001b[0;34m,\u001b[0m \u001b[0my_test\u001b[0m\u001b[0;34m.\u001b[0m\u001b[0mflatten\u001b[0m\u001b[0;34m(\u001b[0m\u001b[0;34m)\u001b[0m\u001b[0;34m,\u001b[0m \u001b[0mcolor\u001b[0m\u001b[0;34m=\u001b[0m\u001b[0;34m(\u001b[0m\u001b[0;36m0.8\u001b[0m\u001b[0;34m,\u001b[0m \u001b[0;36m0.35\u001b[0m\u001b[0;34m,\u001b[0m \u001b[0;36m0.25\u001b[0m\u001b[0;34m)\u001b[0m\u001b[0;34m)\u001b[0m\u001b[0;34m\u001b[0m\u001b[0;34m\u001b[0m\u001b[0m\n\u001b[0m\u001b[1;32m      3\u001b[0m \u001b[0mplt\u001b[0m\u001b[0;34m.\u001b[0m\u001b[0mtitle\u001b[0m\u001b[0;34m(\u001b[0m\u001b[0;34m'Residual plot'\u001b[0m\u001b[0;34m)\u001b[0m\u001b[0;34m\u001b[0m\u001b[0;34m\u001b[0m\u001b[0m\n\u001b[1;32m      4\u001b[0m \u001b[0mplt\u001b[0m\u001b[0;34m.\u001b[0m\u001b[0mxlabel\u001b[0m\u001b[0;34m(\u001b[0m\u001b[0;34m'Predicted values'\u001b[0m\u001b[0;34m)\u001b[0m\u001b[0;34m\u001b[0m\u001b[0;34m\u001b[0m\u001b[0m\n\u001b[1;32m      5\u001b[0m \u001b[0mplt\u001b[0m\u001b[0;34m.\u001b[0m\u001b[0mylabel\u001b[0m\u001b[0;34m(\u001b[0m\u001b[0;34m'Residuals'\u001b[0m\u001b[0;34m)\u001b[0m\u001b[0;34m;\u001b[0m\u001b[0;34m\u001b[0m\u001b[0;34m\u001b[0m\u001b[0m\n",
      "\u001b[0;31mNameError\u001b[0m: name 'y_pred' is not defined"
     ]
    }
   ],
   "source": [
    "# Residual plot for LinearRegress model\n",
    "sns.residplot(y_pred.flatten(), y_test.flatten(), color=(0.8, 0.35, 0.25))\n",
    "plt.title('Residual plot')\n",
    "plt.xlabel('Predicted values')\n",
    "plt.ylabel('Residuals');\n"
   ]
  },
  {
   "cell_type": "markdown",
   "metadata": {},
   "source": [
    "##### Negative residual meaning predicted too high\n",
    "##### Positive residual meaning predicted too low"
   ]
  },
  {
   "cell_type": "code",
   "execution_count": 119,
   "metadata": {},
   "outputs": [
    {
     "data": {
      "image/png": "[encoded data removed]",
      "text/plain": [
       "<Figure size 432x288 with 1 Axes>"
      ]
     },
     "metadata": {
      "needs_background": "light"
     },
     "output_type": "display_data"
    }
   ],
   "source": [
    "fig, ax = plt.subplots()\n",
    "ax.scatter(y_test, y_pred, edgecolors=(0.6,0.7,0.5))\n",
    "ax.plot([y_test.min(), y_test.max()], [y_test.min(), y_test.max()],'b--', lw=3)\n",
    "ax.set_ylabel('Predicted')\n",
    "ax.set_xlabel('Actual')\n",
    "plt.show()"
   ]
  },
  {
   "cell_type": "code",
   "execution_count": 120,
   "metadata": {},
   "outputs": [
    {
     "data": {
      "text/plain": [
       "Text(0.5, 1.0, 'NN model predictions')"
      ]
     },
     "execution_count": 120,
     "metadata": {},
     "output_type": "execute_result"
    },
    {
     "data": {
      "image/png": "[encoded data removed]",
      "text/plain": [
       "<Figure size 432x288 with 1 Axes>"
      ]
     },
     "metadata": {
      "needs_background": "light"
     },
     "output_type": "display_data"
    }
   ],
   "source": [
    "plt.plot(y_pred)\n",
    "plt.title(\"NN model predictions\")"
   ]
  },
  {
   "cell_type": "markdown",
   "metadata": {},
   "source": [
    "## Discussions about parameter/network structure choice\n",
    "## Explanation of CV results"
   ]
  },
  {
   "cell_type": "markdown",
   "metadata": {},
   "source": [
    "In this assignment I built 3 layer neural network. Input layer has 25 nodes because there are 25 features in my data. Output layer has 1 node. \n",
    "\n",
    "I've not only used 3 layer. But I repeated the process with many layers and it was interesting to find that 3 layers give better results than any more.\n",
    "\n",
    "I tried for the best network structure by changing the number of nodes in hidden layer. I performed 5 fold cross validation by passing my models variable as [[25, 7, 1], [25, 3, 1], [25, 3, 1], [25, 3, 1], [25, 3, 1]]. Here first value represents input nodes, second value represents nodes in hidden layer, third value represents output nodes. \n",
    "\n",
    "From the results of cross validation we can see that model [25, 3, 1] has appeared more number of times. The rmse values returned for [25, 3, 1] in the final result are [139.39233934703591, 194.7584361811358, 118.49652180078164, 127.93880937678452] and for [25, 7, 1] as 133.6052055162683.\n",
    "\n",
    "The model with number of nodes in hidden layer 3 works better. With more number of nodes in hidden layer network its  overfitting the data.\n",
    "\n",
    "Hence, I've used [25,3,1] as the final structure."
   ]
  },
  {
   "cell_type": "markdown",
   "metadata": {},
   "source": [
    "## Discussions about Prediction results"
   ]
  },
  {
   "cell_type": "markdown",
   "metadata": {},
   "source": [
    "In this assignment I have performed regression analysis using Neural network which is non linear regression problem. \n",
    "On training the model using NeuralNet with optimum structure [25,3,1], model has produced a RMSE: 90.88873712706322\n",
    "R squared value: 0.20307725667710697 for 100 iterations.\n",
    "\n",
    "We are free to choose hidden layers, hidden nodes that suits our problem. Each node is connected to a activation function which makes the network more powerful. I used tanh as activation function. The gradient is updating the weights in each layer during back propagation which made network work so well.\n",
    "\n",
    "I tried with 25 layers and 1000 iterations I got R squared value around 0.38. There's a strange variation in results obtained by this dataset. For increasing number of layers, the model should have improved but it seems like model with 3 layers is better for this dataset. "
   ]
  },
  {
   "cell_type": "markdown",
   "metadata": {},
   "source": [
    "# Nonlinear Logistic Regression"
   ]
  },
  {
   "cell_type": "markdown",
   "metadata": {},
   "source": [
    "## Data Description "
   ]
  },
  {
   "cell_type": "markdown",
   "metadata": {},
   "source": [
    "Data used in this assignment is of classification data which was used in the Assignment 0. This dataset is provided by NASA on their official website. The dataset consists of 10 features. The dataset is of Meteorites' Landings. It contains information about all the tracked meteorites by NASA. It has an interesting column called \"Fall\" which states the aftermath of meteorites whether or not it fell or it was found. These dataset contains information about the mass of meteorites which is another important feature to keep track of. The mass of meteorites provided are in grams. We don't need to normalize the column in kgs since for our classification problem mass is fine, too, as long as we are able to classify our problem correctly. There are many classes, 422 to be precise, for the meteorites to fall into. These classes are based upon the meteorites size and geolocation. Latitude and Longitude of the meteorites are provided. Other features available are the id associated with meteorites, nametype, name and year. We'll look into this dataset more clearly by visualizing this dataset."
   ]
  },
  {
   "cell_type": "code",
   "execution_count": 58,
   "metadata": {},
   "outputs": [
    {
     "data": {
      "text/html": [
       "<div>\n",
       "<style scoped>\n",
       "    .dataframe tbody tr th:only-of-type {\n",
       "        vertical-align: middle;\n",
       "    }\n",
       "\n",
       "    .dataframe tbody tr th {\n",
       "        vertical-align: top;\n",
       "    }\n",
       "\n",
       "    .dataframe thead th {\n",
       "        text-align: right;\n",
       "    }\n",
       "</style>\n",
       "<table border=\"1\" class=\"dataframe\">\n",
       "  <thead>\n",
       "    <tr style=\"text-align: right;\">\n",
       "      <th></th>\n",
       "      <th>name</th>\n",
       "      <th>id</th>\n",
       "      <th>nametype</th>\n",
       "      <th>recclass</th>\n",
       "      <th>mass (g)</th>\n",
       "      <th>fall</th>\n",
       "      <th>year</th>\n",
       "      <th>reclat</th>\n",
       "      <th>reclong</th>\n",
       "      <th>GeoLocation</th>\n",
       "    </tr>\n",
       "  </thead>\n",
       "  <tbody>\n",
       "    <tr>\n",
       "      <th>0</th>\n",
       "      <td>Aachen</td>\n",
       "      <td>1</td>\n",
       "      <td>Valid</td>\n",
       "      <td>L5</td>\n",
       "      <td>21.0</td>\n",
       "      <td>Fell</td>\n",
       "      <td>01/01/1880 12:00:00 AM</td>\n",
       "      <td>50.77500</td>\n",
       "      <td>6.08333</td>\n",
       "      <td>(50.775000, 6.083330)</td>\n",
       "    </tr>\n",
       "    <tr>\n",
       "      <th>1</th>\n",
       "      <td>Aarhus</td>\n",
       "      <td>2</td>\n",
       "      <td>Valid</td>\n",
       "      <td>H6</td>\n",
       "      <td>720.0</td>\n",
       "      <td>Fell</td>\n",
       "      <td>01/01/1951 12:00:00 AM</td>\n",
       "      <td>56.18333</td>\n",
       "      <td>10.23333</td>\n",
       "      <td>(56.183330, 10.233330)</td>\n",
       "    </tr>\n",
       "    <tr>\n",
       "      <th>2</th>\n",
       "      <td>Abee</td>\n",
       "      <td>6</td>\n",
       "      <td>Valid</td>\n",
       "      <td>EH4</td>\n",
       "      <td>107000.0</td>\n",
       "      <td>Fell</td>\n",
       "      <td>01/01/1952 12:00:00 AM</td>\n",
       "      <td>54.21667</td>\n",
       "      <td>-113.00000</td>\n",
       "      <td>(54.216670, -113.000000)</td>\n",
       "    </tr>\n",
       "    <tr>\n",
       "      <th>3</th>\n",
       "      <td>Acapulco</td>\n",
       "      <td>10</td>\n",
       "      <td>Valid</td>\n",
       "      <td>Acapulcoite</td>\n",
       "      <td>1914.0</td>\n",
       "      <td>Fell</td>\n",
       "      <td>01/01/1976 12:00:00 AM</td>\n",
       "      <td>16.88333</td>\n",
       "      <td>-99.90000</td>\n",
       "      <td>(16.883330, -99.900000)</td>\n",
       "    </tr>\n",
       "    <tr>\n",
       "      <th>4</th>\n",
       "      <td>Achiras</td>\n",
       "      <td>370</td>\n",
       "      <td>Valid</td>\n",
       "      <td>L6</td>\n",
       "      <td>780.0</td>\n",
       "      <td>Fell</td>\n",
       "      <td>01/01/1902 12:00:00 AM</td>\n",
       "      <td>-33.16667</td>\n",
       "      <td>-64.95000</td>\n",
       "      <td>(-33.166670, -64.950000)</td>\n",
       "    </tr>\n",
       "  </tbody>\n",
       "</table>\n",
       "</div>"
      ],
      "text/plain": [
       "       name   id nametype     recclass  mass (g)  fall  \\\n",
       "0    Aachen    1    Valid           L5      21.0  Fell   \n",
       "1    Aarhus    2    Valid           H6     720.0  Fell   \n",
       "2      Abee    6    Valid          EH4  107000.0  Fell   \n",
       "3  Acapulco   10    Valid  Acapulcoite    1914.0  Fell   \n",
       "4   Achiras  370    Valid           L6     780.0  Fell   \n",
       "\n",
       "                     year    reclat    reclong               GeoLocation  \n",
       "0  01/01/1880 12:00:00 AM  50.77500    6.08333     (50.775000, 6.083330)  \n",
       "1  01/01/1951 12:00:00 AM  56.18333   10.23333    (56.183330, 10.233330)  \n",
       "2  01/01/1952 12:00:00 AM  54.21667 -113.00000  (54.216670, -113.000000)  \n",
       "3  01/01/1976 12:00:00 AM  16.88333  -99.90000   (16.883330, -99.900000)  \n",
       "4  01/01/1902 12:00:00 AM -33.16667  -64.95000  (-33.166670, -64.950000)  "
      ]
     },
     "execution_count": 58,
     "metadata": {},
     "output_type": "execute_result"
    }
   ],
   "source": [
    "from sklearn.preprocessing import LabelEncoder\n",
    "lb=LabelEncoder()\n",
    "dataframe=pd.read_csv(\"Meteorite_Landings.csv\")\n",
    "\n",
    "\n",
    "dataframe.head(5)"
   ]
  },
  {
   "cell_type": "markdown",
   "metadata": {},
   "source": [
    "# Visualizing and preprocessing "
   ]
  },
  {
   "cell_type": "code",
   "execution_count": 59,
   "metadata": {},
   "outputs": [
    {
     "data": {
      "text/plain": [
       "<matplotlib.axes._subplots.AxesSubplot at 0x1a1d797e48>"
      ]
     },
     "execution_count": 59,
     "metadata": {},
     "output_type": "execute_result"
    },
    {
     "data": {
      "image/png": "[encoded data removed]",
      "text/plain": [
       "<Figure size 432x288 with 1 Axes>"
      ]
     },
     "metadata": {
      "needs_background": "light"
     },
     "output_type": "display_data"
    }
   ],
   "source": [
    "sns.countplot(dataframe['year'])"
   ]
  },
  {
   "cell_type": "code",
   "execution_count": 60,
   "metadata": {},
   "outputs": [],
   "source": [
    "def convert_year(full_date):\n",
    "    if type(full_date) == str:\n",
    "        temp = full_date.split('/')[2]\n",
    "        year=temp.split(' ')[0]\n",
    "        return int(year)\n",
    "    else:\n",
    "        return False\n",
    "\n",
    "dataframe['new_year'] = dataframe['year'].apply(convert_year)"
   ]
  },
  {
   "cell_type": "code",
   "execution_count": 61,
   "metadata": {},
   "outputs": [],
   "source": [
    "def clearview(graph):\n",
    "    for i, label in enumerate(graph.get_xticklabels()):\n",
    "        if i % 2 == 0:\n",
    "            label.set_visible(True)\n",
    "        else:\n",
    "            label.set_visible(False)"
   ]
  },
  {
   "cell_type": "code",
   "execution_count": 62,
   "metadata": {},
   "outputs": [
    {
     "data": {
      "image/png": "[encoded data removed]",
      "text/plain": [
       "<Figure size 1008x576 with 1 Axes>"
      ]
     },
     "metadata": {
      "needs_background": "light"
     },
     "output_type": "display_data"
    }
   ],
   "source": [
    "tempx = dataframe['new_year'] > 1980\n",
    "\n",
    "plt.figure(figsize=(14,8))\n",
    "mygraph = sns.countplot(x='new_year', data=dataframe[tempx])\n",
    "clearview(mygraph)"
   ]
  },
  {
   "cell_type": "code",
   "execution_count": 63,
   "metadata": {},
   "outputs": [
    {
     "data": {
      "image/png": "[encoded data removed]",
      "text/plain": [
       "<Figure size 1008x576 with 1 Axes>"
      ]
     },
     "metadata": {
      "needs_background": "light"
     },
     "output_type": "display_data"
    }
   ],
   "source": [
    "plt.figure(figsize=(14,8))\n",
    "\n",
    "temp0 = dataframe['new_year'] % 5 == 0\n",
    "temp1 = dataframe['new_year'] > 1950\n",
    "\n",
    "graphx=sns.countplot(\n",
    "    x='new_year', \n",
    "    hue='fall',\n",
    "    data=dataframe[temp0 & temp1]\n",
    ")"
   ]
  },
  {
   "cell_type": "markdown",
   "metadata": {},
   "source": [
    "In this graph I separated them on the basis of 5 years. There's a 5 year time gap for each bar plotted on the graph. Orange color indicates the found meteorites while blue color indicates the fell meteorites."
   ]
  },
  {
   "cell_type": "code",
   "execution_count": 64,
   "metadata": {},
   "outputs": [
    {
     "name": "stderr",
     "output_type": "stream",
     "text": [
      "/anaconda3/lib/python3.7/site-packages/plotly/plotly/plotly.py:230: UserWarning:\n",
      "\n",
      "Woah there! Look at all those points! Due to browser limitations, the Plotly SVG drawing functions have a hard time graphing more than 500k data points for line charts, or 40k points for other types of charts. Here are some suggestions:\n",
      "(1) Use the `plotly.graph_objs.Scattergl` trace object to generate a WebGl graph.\n",
      "(2) Trying using the image API to return an image instead of a graph URL\n",
      "(3) Use matplotlib\n",
      "(4) See if you can create your visualization with fewer data points\n",
      "\n",
      "If the visualization you're using aggregates points (e.g., box plot, histogram, etc.) you can disregard this warning.\n",
      "\n",
      "/anaconda3/lib/python3.7/site-packages/plotly/plotly/plotly.py:230: UserWarning:\n",
      "\n",
      "Woah there! Look at all those points! Due to browser limitations, the Plotly SVG drawing functions have a hard time graphing more than 500k data points for line charts, or 40k points for other types of charts. Here are some suggestions:\n",
      "(1) Use the `plotly.graph_objs.Scattergl` trace object to generate a WebGl graph.\n",
      "(2) Trying using the image API to return an image instead of a graph URL\n",
      "(3) Use matplotlib\n",
      "(4) See if you can create your visualization with fewer data points\n",
      "\n",
      "If the visualization you're using aggregates points (e.g., box plot, histogram, etc.) you can disregard this warning.\n",
      "\n",
      "/anaconda3/lib/python3.7/site-packages/IPython/core/display.py:689: UserWarning:\n",
      "\n",
      "Consider using IPython.display.IFrame instead\n",
      "\n"
     ]
    },
    {
     "data": {
      "text/html": [
       "<iframe id=\"igraph\" scrolling=\"no\" style=\"border:none;\" seamless=\"seamless\" src=\"https://plot.ly/~black_uchiha08/272.embed\" height=\"525px\" width=\"100%\"></iframe>"
      ],
      "text/plain": [
       "<plotly.tools.PlotlyDisplay object>"
      ]
     },
     "execution_count": 64,
     "metadata": {},
     "output_type": "execute_result"
    }
   ],
   "source": [
    "trace = go.Pie(labels=dataframe['fall'], values=dataframe['mass (g)'])\n",
    " \n",
    "mypy.iplot([trace])"
   ]
  },
  {
   "cell_type": "markdown",
   "metadata": {},
   "source": [
    "This graph shows a class (fall) of meteorites based on fell and found and from looking at this graph we can clearly see that the percentage of found is way more than that of fell. Hence, we can say that our data is imbalance. We need a balanced data class else our model will be predicting only one class most of the times. This might also result in F1 score of 0.0. Also, there may be cases where our test dataset will have all the data for found and no single data element (row) with fell. So to make a balance data for classification we'll not choose this class. We'll create our own class called as \"status\" and we will try to predict the status of the meteorites based on other columns available. "
   ]
  },
  {
   "cell_type": "code",
   "execution_count": 65,
   "metadata": {},
   "outputs": [
    {
     "data": {
      "text/plain": [
       "<matplotlib.axes._subplots.AxesSubplot at 0x1a2340fcc0>"
      ]
     },
     "execution_count": 65,
     "metadata": {},
     "output_type": "execute_result"
    },
    {
     "data": {
      "image/png": "[encoded data removed]",
      "text/plain": [
       "<Figure size 432x288 with 1 Axes>"
      ]
     },
     "metadata": {
      "needs_background": "light"
     },
     "output_type": "display_data"
    }
   ],
   "source": [
    "sns.countplot(dataframe['fall'])"
   ]
  },
  {
   "cell_type": "code",
   "execution_count": 66,
   "metadata": {},
   "outputs": [],
   "source": [
    "data = [ dict(\n",
    "    lat = dataframe['reclat'],\n",
    "    lon = dataframe['reclong'],\n",
    "    text = dataframe['mass (g)'],\n",
    "    marker = dict(\n",
    "        color = dataframe['mass (g)'],\n",
    "        colorscale = 'YlOrRd',\n",
    "        reversescale = True,\n",
    "        symbol='square',\n",
    "        opacity = 0.7,\n",
    "        size = 6,\n",
    "        colorbar = dict(\n",
    "            thickness = 10,\n",
    "            titleside = \"right\",\n",
    "            title=\"Mass (g)\",\n",
    "            outlinecolor = \"rgba(68, 68, 68, 0)\",\n",
    "            ticks = \"outside\",\n",
    "            ticklen = 3,\n",
    "            #dtick = 100\n",
    "        ),\n",
    "    ),\n",
    "    type = 'scattergeo'\n",
    ") ]\n",
    "\n",
    "\n",
    "layout = dict(\n",
    "    geo = dict(\n",
    "        scope = 'world',\n",
    "        showland = True,\n",
    "        landcolor = \"rgb(91, 94, 132)\",\n",
    "        subunitcolor = \"rgb(255, 255, 255)\",\n",
    "        countrycolor = \"rgb(255, 255, 255)\",\n",
    "        showlakes = True,\n",
    "        lakecolor = \"rgb(190, 195, 196)\",\n",
    "        showsubunits = True,\n",
    "        showcountries = True,\n",
    "        resolution = 50,\n",
    "        projection = dict(\n",
    "            type = 'equirectangular',\n",
    "            rotation = dict(\n",
    "                lon = -100\n",
    "            )\n",
    "        ),\n",
    "        lonaxis = dict(\n",
    "            showgrid = True,\n",
    "            gridwidth = 0.9,\n",
    "            range= [ -140.0, -55.0 ],\n",
    "            dtick = 100\n",
    "        ),\n",
    "        lataxis = dict (\n",
    "            showgrid = True,\n",
    "            gridwidth = 0.9,\n",
    "            range= [ 20.0, 60.0 ],\n",
    "            dtick = 10\n",
    "        )\n",
    "    ),\n",
    "    title = 'Meteorite Landings',\n",
    ")"
   ]
  },
  {
   "cell_type": "code",
   "execution_count": 67,
   "metadata": {},
   "outputs": [
    {
     "name": "stderr",
     "output_type": "stream",
     "text": [
      "/anaconda3/lib/python3.7/site-packages/plotly/plotly/plotly.py:230: UserWarning:\n",
      "\n",
      "Woah there! Look at all those points! Due to browser limitations, the Plotly SVG drawing functions have a hard time graphing more than 500k data points for line charts, or 40k points for other types of charts. Here are some suggestions:\n",
      "(1) Use the `plotly.graph_objs.Scattergl` trace object to generate a WebGl graph.\n",
      "(2) Trying using the image API to return an image instead of a graph URL\n",
      "(3) Use matplotlib\n",
      "(4) See if you can create your visualization with fewer data points\n",
      "\n",
      "If the visualization you're using aggregates points (e.g., box plot, histogram, etc.) you can disregard this warning.\n",
      "\n",
      "/anaconda3/lib/python3.7/site-packages/plotly/plotly/plotly.py:230: UserWarning:\n",
      "\n",
      "Woah there! Look at all those points! Due to browser limitations, the Plotly SVG drawing functions have a hard time graphing more than 500k data points for line charts, or 40k points for other types of charts. Here are some suggestions:\n",
      "(1) Use the `plotly.graph_objs.Scattergl` trace object to generate a WebGl graph.\n",
      "(2) Trying using the image API to return an image instead of a graph URL\n",
      "(3) Use matplotlib\n",
      "(4) See if you can create your visualization with fewer data points\n",
      "\n",
      "If the visualization you're using aggregates points (e.g., box plot, histogram, etc.) you can disregard this warning.\n",
      "\n",
      "/anaconda3/lib/python3.7/site-packages/plotly/plotly/plotly.py:230: UserWarning:\n",
      "\n",
      "Woah there! Look at all those points! Due to browser limitations, the Plotly SVG drawing functions have a hard time graphing more than 500k data points for line charts, or 40k points for other types of charts. Here are some suggestions:\n",
      "(1) Use the `plotly.graph_objs.Scattergl` trace object to generate a WebGl graph.\n",
      "(2) Trying using the image API to return an image instead of a graph URL\n",
      "(3) Use matplotlib\n",
      "(4) See if you can create your visualization with fewer data points\n",
      "\n",
      "If the visualization you're using aggregates points (e.g., box plot, histogram, etc.) you can disregard this warning.\n",
      "\n",
      "/anaconda3/lib/python3.7/site-packages/IPython/core/display.py:689: UserWarning:\n",
      "\n",
      "Consider using IPython.display.IFrame instead\n",
      "\n"
     ]
    },
    {
     "data": {
      "text/html": [
       "<iframe id=\"igraph\" scrolling=\"no\" style=\"border:none;\" seamless=\"seamless\" src=\"https://plot.ly/~black_uchiha08/266.embed\" height=\"525px\" width=\"100%\"></iframe>"
      ],
      "text/plain": [
       "<plotly.tools.PlotlyDisplay object>"
      ]
     },
     "execution_count": 67,
     "metadata": {},
     "output_type": "execute_result"
    }
   ],
   "source": [
    "fig = { 'data':data, 'layout':layout }\n",
    "mypy.iplot(fig, filename='meteorite')\n",
    "\n",
    "\n"
   ]
  },
  {
   "cell_type": "code",
   "execution_count": 68,
   "metadata": {},
   "outputs": [
    {
     "data": {
      "image/png": "[encoded data removed]",
      "text/plain": [
       "<Figure size 432x288 with 1 Axes>"
      ]
     },
     "metadata": {
      "needs_background": "light"
     },
     "output_type": "display_data"
    }
   ],
   "source": [
    "# Dropping Unwanted Columns\n",
    "dataframe=dataframe.drop(['name'],axis=1)\n",
    "\n",
    "dataframe=dataframe.drop(['id'],axis=1)\n",
    "\n",
    "dataframe=dataframe.drop(['year'],axis=1)\n",
    "\n",
    "dataframe=dataframe.drop(['GeoLocation'],axis=1)\n",
    "dataframe['mass']=dataframe['mass (g)']\n",
    "dataframe=dataframe.drop(['mass (g)'],axis=1)\n",
    "\n",
    "dataframe=dataframe.drop(['new_year'],axis=1)\n",
    "\n",
    "\n",
    "\n",
    "\n",
    "\n",
    "dataframe['status'] = np.where(dataframe.mass > 50 , 1, -1)\n",
    "\n",
    "sns.countplot(dataframe['status'])\n",
    "\n",
    "dataframe = dataframe.replace({'?': np.nan}).dropna()\n",
    "dataframe=dataframe.dropna()\n",
    "dataframe = dataframe.reset_index(drop=True)\n",
    "\n",
    "dataframe['fall']=lb.fit_transform(dataframe['fall'])\n",
    "\n",
    "dataframe['recclass']=lb.fit_transform(dataframe['recclass'])\n",
    "\n",
    "dataframe['reclat']=lb.fit_transform(dataframe['reclat'])\n",
    "\n",
    "dataframe['reclong']=lb.fit_transform(dataframe['reclong'])\n",
    "\n",
    "dataframe['nametype']=lb.fit_transform(dataframe['nametype'])\n",
    "\n",
    "\n"
   ]
  },
  {
   "cell_type": "markdown",
   "metadata": {},
   "source": [
    "Hence, I created a new class called status. This class is based on the mass of the meteorites. For all meteorites having mass less than 50 are in one group and the rest are on the other group."
   ]
  },
  {
   "cell_type": "markdown",
   "metadata": {},
   "source": [
    "# Reading and analyzing the plots"
   ]
  },
  {
   "cell_type": "markdown",
   "metadata": {},
   "source": [
    "From the above plots plotted, I have observed many behaviors of this datasets. \n",
    "\n",
    "1. <b> Countplot of new_year </b> : In this graph x-axis is not clear. So I plotted two more graphs with clear x-axis values. This is a countplot for new_year. I have observed this more clearly by separating x-axis numbers so that I have more space to view in what particular year I had high number of peak. This countplot was plotted based upon the year number. I preprocessed the data by splitting the string of date (feature name= year) and created a new column, \"new_year\", in this column only years were added and a countplot was plotted. <br><br>\n",
    "\n",
    "2. <b> Countplot of new_year with clear x-axis </b> : This is a countplot and it has much clear vision than the previous count plot. In this plot we are able to see how meteorites are distributed over the years. In this graph, I just separated them on the basis of even number and years greater than 1980 to have a better view of year countplot. <br> <br>\n",
    "\n",
    "3. <b> Countplot of new_year with 5 year separation and both status </b> : This is a countplot and it has much clear vision of number of fell meteorites and number of found meteorites. In this graph I separated them on the basis of 5 years. There's a 5 year time gap for each bar plotted on the graph. Orange color indicates the found meteorites while blue color indicates the fell meteorites. <br><br>\n",
    "\n",
    "4. <b> Pie chart of fall column </b> : This graph shows a class (fall) of meteorites based on fell and found and from looking at this graph we can clearly see that the percentage of found is way more than that of fell. Hence, we can say that our data is imbalance. We need a balanced data class else our model will be predicting only one class most of the times. This might also result in F1 score of 0.0. Also, there may be cases where our test dataset will have all the data for found and no single data element (row) with fell. So to make a balance data for classification we'll not choose this class. We'll create our own class called as \"status\" and we will try to predict the status of the meteorites based on other columns available. <br><br>\n",
    "\n",
    "5. <b> Countplot of Fall </b>:  In this graph Fell tells about the meteorite that landed on a surface where as found tells about the meteorite that was found but not fell on the surface. We can observe that the Found meteorites totally outnumbered Fell meteorites in this dataset. <br><br>\n",
    "\n",
    "6. <b> USA Map of meteorites </b> : This graph shows meteorites that landed on United States. Hovering over each meteorite marks can let user see its geocoordinates. In this graph, we can observe how meteorites are distributed all over the United States based upon their geolocations. <br><br>"
   ]
  },
  {
   "cell_type": "code",
   "execution_count": 69,
   "metadata": {},
   "outputs": [
    {
     "data": {
      "text/html": [
       "<div>\n",
       "<style scoped>\n",
       "    .dataframe tbody tr th:only-of-type {\n",
       "        vertical-align: middle;\n",
       "    }\n",
       "\n",
       "    .dataframe tbody tr th {\n",
       "        vertical-align: top;\n",
       "    }\n",
       "\n",
       "    .dataframe thead th {\n",
       "        text-align: right;\n",
       "    }\n",
       "</style>\n",
       "<table border=\"1\" class=\"dataframe\">\n",
       "  <thead>\n",
       "    <tr style=\"text-align: right;\">\n",
       "      <th></th>\n",
       "      <th>nametype</th>\n",
       "      <th>recclass</th>\n",
       "      <th>fall</th>\n",
       "      <th>reclat</th>\n",
       "      <th>reclong</th>\n",
       "      <th>mass</th>\n",
       "      <th>status</th>\n",
       "    </tr>\n",
       "  </thead>\n",
       "  <tbody>\n",
       "    <tr>\n",
       "      <th>0</th>\n",
       "      <td>1</td>\n",
       "      <td>302</td>\n",
       "      <td>0</td>\n",
       "      <td>12462</td>\n",
       "      <td>2937</td>\n",
       "      <td>21.0</td>\n",
       "      <td>-1</td>\n",
       "    </tr>\n",
       "    <tr>\n",
       "      <th>1</th>\n",
       "      <td>1</td>\n",
       "      <td>177</td>\n",
       "      <td>0</td>\n",
       "      <td>12613</td>\n",
       "      <td>3055</td>\n",
       "      <td>720.0</td>\n",
       "      <td>1</td>\n",
       "    </tr>\n",
       "    <tr>\n",
       "      <th>2</th>\n",
       "      <td>1</td>\n",
       "      <td>77</td>\n",
       "      <td>0</td>\n",
       "      <td>12569</td>\n",
       "      <td>428</td>\n",
       "      <td>107000.0</td>\n",
       "      <td>1</td>\n",
       "    </tr>\n",
       "    <tr>\n",
       "      <th>3</th>\n",
       "      <td>1</td>\n",
       "      <td>0</td>\n",
       "      <td>0</td>\n",
       "      <td>6257</td>\n",
       "      <td>925</td>\n",
       "      <td>1914.0</td>\n",
       "      <td>1</td>\n",
       "    </tr>\n",
       "    <tr>\n",
       "      <th>4</th>\n",
       "      <td>1</td>\n",
       "      <td>308</td>\n",
       "      <td>0</td>\n",
       "      <td>5519</td>\n",
       "      <td>2174</td>\n",
       "      <td>780.0</td>\n",
       "      <td>1</td>\n",
       "    </tr>\n",
       "  </tbody>\n",
       "</table>\n",
       "</div>"
      ],
      "text/plain": [
       "   nametype  recclass  fall  reclat  reclong      mass  status\n",
       "0         1       302     0   12462     2937      21.0      -1\n",
       "1         1       177     0   12613     3055     720.0       1\n",
       "2         1        77     0   12569      428  107000.0       1\n",
       "3         1         0     0    6257      925    1914.0       1\n",
       "4         1       308     0    5519     2174     780.0       1"
      ]
     },
     "execution_count": 69,
     "metadata": {},
     "output_type": "execute_result"
    }
   ],
   "source": [
    "dataframe.head(5)"
   ]
  },
  {
   "cell_type": "markdown",
   "metadata": {},
   "source": [
    "Now, this looks like a fine picture of the dataset that we have. "
   ]
  },
  {
   "cell_type": "code",
   "execution_count": 70,
   "metadata": {},
   "outputs": [],
   "source": [
    "y_dataframe=dataframe['status']\n",
    "dataframe_lr=dataframe.drop(['status'],axis=1)\n",
    "from sklearn import model_selection\n",
    "from sklearn.metrics import r2_score\n"
   ]
  },
  {
   "cell_type": "markdown",
   "metadata": {},
   "source": [
    "## Summary of nonlinear logistic regression"
   ]
  },
  {
   "cell_type": "markdown",
   "metadata": {},
   "source": [
    "The linear logistic regression that uses the softmax layer for classification along with a linear model. In nonlinear logistic regression extra layers are added called as hidden layers. With the inclusion of hidden layer the softmax function is used in the last layer. Till then the input layer passes its output to hidden layer, then the hidden layer to another hidden layer or softmax function and the softmax function then gives the output. \n",
    "\n",
    "\n",
    " $$\n",
    "wv_j \\leftarrow wv_j + \\alpha \\sum_{n=1}^{N} \\Big( t_{n,j} - g_j(xv_n)\\Big) xv_n.\n",
    " $$\n",
    " \n",
    " \n",
    "<table>\n",
    "<tr>\n",
    "<th></th>\n",
    "<th width=45%> Regression </th>\n",
    "<th width=45%> Classification </th>\n",
    "</tr>\n",
    "<tr>\n",
    "<td>\n",
    "Forward Pass \n",
    "</td>\n",
    "<td>\n",
    "$$\n",
    "\\begin{align}\n",
    "Zm &= h(Xlm \\cdot Vm) \\\\\n",
    "\\\\\n",
    "Ym & = Zlm \\cdot Wm \n",
    "\\end{align}\n",
    "$$\n",
    "</td>\n",
    "<td>\n",
    "$$\n",
    "\\begin{align}\n",
    "Zm &= h(Xlm \\cdot Vm) \\\\\n",
    "\\\\\n",
    "Ym & = Zlm \\cdot Wm \\\\\n",
    "Gm & = softmax(Ym)\n",
    "\\end{align}\n",
    "$$\n",
    "</td>\n",
    "</tr>\n",
    "<tr>\n",
    "<td>\n",
    " Backward Pass \n",
    "</td>\n",
    "<td>\n",
    "$$\n",
    "\\begin{align}\n",
    "Vm &\\leftarrow Vm + \\alpha_h \\frac{1}{N} \\frac{1}{K} Xlm^\\top \\Big( (Tm -Ym) Wm^\\top \\odot (1 - Zm^2) \\Big) \\\\\n",
    "Wm &\\leftarrow Wm + \\alpha_o \\frac{1}{N} \\frac{1}{K} Zlm^\\top \\Big( Tm - Ym \\Big) \n",
    "\\end{align}\n",
    "$$\n",
    "</td>\n",
    "<td>\n",
    "$$\n",
    "\\begin{align}\n",
    "Vm &\\leftarrow Vm + \\alpha_h Xlm^\\top \\Big( (Tm - Gm) Wm^\\top \\odot (1 - Zm^2) \\Big)\\\\\n",
    "Wm &\\leftarrow Wm + \\alpha_o Zlm^\\top \\Big(  Tm - Gm\\Big) \n",
    "\\end{align}\n",
    "$$\n",
    "</td>\n",
    "</tr>\n",
    "<tr>\n",
    "<td></td>\n",
    "<td></td>\n",
    "<td>\n",
    "\n",
    "</tr>\n",
    "</table> \n",
    " \n",
    "\n",
    " \n",
    " "
   ]
  },
  {
   "cell_type": "code",
   "execution_count": 71,
   "metadata": {},
   "outputs": [],
   "source": [
    "from nn import NeuralNet\n",
    "\n",
    "class NeuralNetLogReg(NeuralNet):\n",
    "    \"\"\" Nonlinear Logistic Regression\n",
    "    \"\"\"\n",
    "\n",
    "    # if you think, you need additional items to initialize here,\n",
    "    # add your code for it here\n",
    "    def __init__(self, nunits):\n",
    "        NeuralNet.__init__(self, nunits)\n",
    "\n",
    "    def softmax(self, z):\n",
    "        if not isinstance(z, np.ndarray):\n",
    "            z = np.asarray(z)\n",
    "        expz = np.exp(z) \n",
    "        return expz / (np.sum(expz, axis=1, keepdims=True) if len(z.shape) == 2 else np.sum(expz))\n",
    "\n",
    "    \n",
    "    def forward(self, X):\n",
    "        t = X \n",
    "        Z = []\n",
    "\n",
    "        for i in range(self._nLayers):\n",
    "            Z.append(t) \n",
    "            if i == self._nLayers - 1:\n",
    "                t = np.dot(self.add_ones(t), self._W[i])\n",
    "                t=self.softmax(t)\n",
    "            else:\n",
    "                t = np.tanh(np.dot(self.add_ones(t), self._W[i]))\n",
    "        return (t, Z)\n",
    "                \n",
    "\n",
    "    # This is the error function that we want to minimize\n",
    "    # what was it? take a look at the lecture note to fill in\n",
    "    def _objectf(self, T, Y, wpenalty):\n",
    "        return -(np.sum(T*(np.log(Y)))+wpenalty)\n",
    "\n",
    "    # you must reuse the NeuralNet train since you already modified\n",
    "    # the objective or error function (maybe both), \n",
    "    # you do not have many to change here.\n",
    "    # MAKE SURE convert a vector label T to indicator matrix and \n",
    "    # feed that for training\n",
    "    def train(self, X, T, **params):\n",
    "        verbose = params.pop('verbose', False)\n",
    "        # training parameters\n",
    "        _lambda = params.pop('Lambda', 0.)\n",
    "\n",
    "        #parameters for scg\n",
    "        niter = params.pop('niter', 1000)\n",
    "        wprecision = params.pop('wprecision', 1e-10)\n",
    "        fprecision = params.pop('fprecision', 1e-10)\n",
    "        wtracep = params.pop('wtracep', False)\n",
    "        ftracep = params.pop('ftracep', False)\n",
    "\n",
    "        # optimization\n",
    "        optim = params.pop('optim', 'scg')\n",
    "                \n",
    "        def gradientf(weights):\n",
    "            self.unpack(weights)\n",
    "            Y,Z = self.forward(X)\n",
    "            error = self._errorf(T, Y)\n",
    "            return self.backward(error, Z, T, _lambda)\n",
    "            \n",
    "        def optimtargetf(weights):\n",
    "            \"\"\" optimization target function : MSE \n",
    "            \"\"\"\n",
    "            self.unpack(weights)\n",
    "            #self._weights[:] = weights[:]  # unpack\n",
    "            Y,_ = self.forward(X)\n",
    "            Wnb=np.array([])\n",
    "            for i in range(self._nLayers):\n",
    "                if len(Wnb)==0: Wnb=self._W[i][1:,].reshape(self._W[i].size-self._W[i][0,].size,1)\n",
    "                else: Wnb = np.vstack((Wnb,self._W[i][1:,].reshape(self._W[i].size-self._W[i][0,].size,1)))\n",
    "            wpenalty = _lambda * np.dot(Wnb.flat ,Wnb.flat)\n",
    "            return self._objectf(T, Y, wpenalty)\n",
    "            \n",
    "        if optim == 'scg':\n",
    "            result = scg(self.cp_weight(), gradientf, optimtargetf,\n",
    "                                        wPrecision=wprecision, fPrecision=fprecision, \n",
    "                                        nIterations=niter,\n",
    "                                        wtracep=wtracep, ftracep=ftracep,\n",
    "                                        verbose=False)\n",
    "            self.unpack(result['w'][:])\n",
    "            self.f = result['f']\n",
    "        elif optim == 'steepest':\n",
    "            result = steepest(self.cp_weight(), gradientf, optimtargetf,\n",
    "                                nIterations=niter,\n",
    "                                xPrecision=wprecision, fPrecision=fprecision,\n",
    "                                xtracep=wtracep, ftracep=ftracep )\n",
    "            self.unpack(result['w'][:])\n",
    "        if ftracep:\n",
    "            self.ftrace = result['ftrace']\n",
    "        if 'reason' in result.keys() and verbose:\n",
    "            print(result['reason'])\n",
    "\n",
    "    # going through forward pass, you will have the probabilities for each label\n",
    "    # now, you can use argmax to find class labels\n",
    "    # return both label and probabilities        \n",
    "    def use(self, X):\n",
    "        Y, Z = self.forward(X)\n",
    "        l=np.argmax(Y,1)\n",
    "        return Y,l"
   ]
  },
  {
   "cell_type": "markdown",
   "metadata": {},
   "source": [
    "# Explanation of code "
   ]
  },
  {
   "cell_type": "markdown",
   "metadata": {},
   "source": [
    "There is a NeuralNetLogReg class which has following functions: \n",
    "\n",
    "1. __init__ function is a constructor of the class which calls the NeuralNet class' constructor for assigning values to nLayers i.e the number of layers for the model. <br><br>\n",
    "\n",
    "2. _nLayers is the number of hidden unit layers. <br> <br>\n",
    "\n",
    "3. rho is the learning rate attribute of the class. <br> <br>\n",
    "\n",
    "4. _W is the weights. <br> <br>\n",
    "\n",
    "5. _weights is the weights that is _W written in one dimension. <br> <br>\n",
    "\n",
    "6. stdX is the standardization class for the data. <br> <br>\n",
    "\n",
    "7. stdT is the standardization class for the target. <br>\n",
    "\n",
    "8.  The train function takes the feautures and the target as the input. The gradientf unpacks the weights,proceeds with the forward pass by calling forward function. Now error is calculated using results of forward pass. Now back propagation is proceeded by calling backward function with parameters as error, Z, T(Target), _lambda\n",
    "\n",
    "9. Forward pass in neural network propagates same as in the class discussed above the only difference is that and an additional t=self.softmax(t) is added to the last layer. The last layer will be the softmax function which then gives output to the output layer. \n",
    "\n",
    "\n",
    "10. Activation function is used to make the network nonlinear. <br> <br>\n",
    "\n",
    "11. In the backward pass the function takes the the z values, Target values and the error as input. Based on the delta value, the weights and the bias are updated accoringly. This method returns the weight vector packed together of that particualr layer. Below are the functions that are excecuted during backward pass. <br> <br>\n",
    "\n",
    " $$\n",
    " W \\leftarrow W + \\alpha_o Zl^\\top \\Big(  T - g(X)\\Big).\n",
    " $$\n",
    "\n",
    "\n",
    "$$\n",
    " V \\leftarrow V + \\alpha_h Xl^\\top \\Big( (T - g(X)) W^\\top \\odot (1 - Z^2) \\Big).\n",
    "$$\n",
    " \n"
   ]
  },
  {
   "cell_type": "code",
   "execution_count": 72,
   "metadata": {},
   "outputs": [],
   "source": [
    "def add_ones(w):\n",
    "    return np.hstack((np.ones((w.shape[0], 1)), w))"
   ]
  },
  {
   "cell_type": "code",
   "execution_count": 73,
   "metadata": {},
   "outputs": [],
   "source": [
    "from sklearn.metrics import precision_score, recall_score, confusion_matrix, classification_report, accuracy_score, f1_score"
   ]
  },
  {
   "cell_type": "code",
   "execution_count": 74,
   "metadata": {},
   "outputs": [],
   "source": [
    "from sklearn.preprocessing import StandardScaler\n",
    "sc=StandardScaler()"
   ]
  },
  {
   "cell_type": "code",
   "execution_count": 75,
   "metadata": {},
   "outputs": [],
   "source": [
    "from sklearn.metrics import roc_curve, auc"
   ]
  },
  {
   "cell_type": "markdown",
   "metadata": {},
   "source": [
    "# Testing model with Dummy/Toy Data"
   ]
  },
  {
   "cell_type": "code",
   "execution_count": 76,
   "metadata": {},
   "outputs": [
    {
     "data": {
      "text/plain": [
       "Text(0.5, 1.0, 'test data set')"
      ]
     },
     "execution_count": 76,
     "metadata": {},
     "output_type": "execute_result"
    },
    {
     "data": {
      "image/png": "[encoded data removed]",
      "text/plain": [
       "<Figure size 432x288 with 1 Axes>"
      ]
     },
     "metadata": {
      "needs_background": "light"
     },
     "output_type": "display_data"
    },
    {
     "data": {
      "image/png": "[encoded data removed]",
      "text/plain": [
       "<Figure size 432x288 with 1 Axes>"
      ]
     },
     "metadata": {
      "needs_background": "light"
     },
     "output_type": "display_data"
    }
   ],
   "source": [
    "# Data for testing\n",
    "N1 = 50\n",
    "N2 = 50\n",
    "N = N1 + N2\n",
    "D = 2\n",
    "K = 2\n",
    "\n",
    "mu1 = [-1, -1]\n",
    "cov1 = np.eye(2)\n",
    "\n",
    "mu2 = [2,3]\n",
    "cov2 = np.eye(2) * 3\n",
    "\n",
    "#\n",
    "#  Train Data\n",
    "#\n",
    "C1 = np.random.multivariate_normal(mu1, cov1, N1)\n",
    "C2 = np.random.multivariate_normal(mu2, cov2, N2)\n",
    "\n",
    "plt.plot(C1[:, 0], C1[:, 1], 'or')\n",
    "plt.plot(C2[:, 0], C2[:, 1], 'xb')\n",
    "\n",
    "plt.xlim([-3, 6])\n",
    "plt.ylim([-3, 7])\n",
    "plt.title(\"training data set\")\n",
    "\n",
    "Xtrain = np.vstack((C1, C2))\n",
    "Ttrain = np.zeros((N, 1))\n",
    "Ttrain[50:, :] = 1  # labels are zero or one\n",
    "\n",
    "means, stds = np.mean(Xtrain, 0), np.std(Xtrain, 0)\n",
    "# normalize inputs\n",
    "Xtrains = (Xtrain - means) / stds\n",
    "\n",
    "#\n",
    "#  Test Data\n",
    "#\n",
    "Ct1 = np.random.multivariate_normal(mu1, cov1, 20)\n",
    "Ct2 = np.random.multivariate_normal(mu2, cov2, 20)\n",
    "\n",
    "Xtest = np.vstack((Ct1, Ct2))\n",
    "Ttest = np.zeros((40, 1))\n",
    "Ttest[20:, :] = 1\n",
    "\n",
    "# normalize inputs\n",
    "Xtests = (Xtrain - means) / stds\n",
    "\n",
    "\n",
    "plt.figure()\n",
    "plt.plot(Ct1[:, 0], Ct1[:, 1], 'or')\n",
    "plt.plot(Ct2[:, 0], Ct2[:, 1], 'xb')\n",
    "\n",
    "plt.xlim([-3, 6])\n",
    "plt.ylim([-3, 7])\n",
    "plt.title(\"test data set\")"
   ]
  },
  {
   "cell_type": "code",
   "execution_count": 77,
   "metadata": {},
   "outputs": [
    {
     "name": "stderr",
     "output_type": "stream",
     "text": [
      "/anaconda3/lib/python3.7/site-packages/ipykernel_launcher.py:16: RuntimeWarning:\n",
      "\n",
      "invalid value encountered in true_divide\n",
      "\n"
     ]
    }
   ],
   "source": [
    "clsf = NeuralNetLogReg([2, 4, 2])\n",
    "clsf.train(Xtrain, Ttrain)\n",
    "classes, Y = clsf.use(Xtest)"
   ]
  },
  {
   "cell_type": "code",
   "execution_count": 78,
   "metadata": {},
   "outputs": [
    {
     "data": {
      "text/plain": [
       "array([1, 1, 1, 1, 1, 1, 1, 1, 1, 1, 1, 1, 1, 1, 1, 1, 1, 1, 1, 1, 1, 1,\n",
       "       1, 0, 1, 1, 0, 1, 1, 1, 1, 1, 1, 1, 1, 1, 1, 1, 1, 1])"
      ]
     },
     "execution_count": 78,
     "metadata": {},
     "output_type": "execute_result"
    }
   ],
   "source": [
    "Y"
   ]
  },
  {
   "cell_type": "code",
   "execution_count": 79,
   "metadata": {},
   "outputs": [
    {
     "data": {
      "text/plain": [
       "array([[0.4992367 , 0.5007633 ],\n",
       "       [0.49922571, 0.50077429],\n",
       "       [0.49925442, 0.50074558],\n",
       "       [0.49891442, 0.50108558],\n",
       "       [0.49952768, 0.50047232],\n",
       "       [0.49912808, 0.50087192],\n",
       "       [0.49947681, 0.50052319],\n",
       "       [0.49888559, 0.50111441],\n",
       "       [0.49926162, 0.50073838],\n",
       "       [0.49893239, 0.50106761],\n",
       "       [0.49902045, 0.50097955],\n",
       "       [0.49894789, 0.50105211],\n",
       "       [0.49924369, 0.50075631],\n",
       "       [0.49959995, 0.50040005],\n",
       "       [0.49960672, 0.50039328],\n",
       "       [0.49944861, 0.50055139],\n",
       "       [0.49906978, 0.50093022],\n",
       "       [0.49957651, 0.50042349],\n",
       "       [0.49936244, 0.50063756],\n",
       "       [0.4990748 , 0.5009252 ],\n",
       "       [0.49837625, 0.50162375],\n",
       "       [0.49769468, 0.50230532],\n",
       "       [0.49835709, 0.50164291],\n",
       "       [0.5000089 , 0.4999911 ],\n",
       "       [0.49864639, 0.50135361],\n",
       "       [0.49822111, 0.50177889],\n",
       "       [0.50053883, 0.49946117],\n",
       "       [0.49913489, 0.50086511],\n",
       "       [0.49917058, 0.50082942],\n",
       "       [0.49819016, 0.50180984],\n",
       "       [0.49836276, 0.50163724],\n",
       "       [0.49872212, 0.50127788],\n",
       "       [0.49838837, 0.50161163],\n",
       "       [0.49780229, 0.50219771],\n",
       "       [0.49831051, 0.50168949],\n",
       "       [0.49837644, 0.50162356],\n",
       "       [0.49835387, 0.50164613],\n",
       "       [0.49854467, 0.50145533],\n",
       "       [0.49850464, 0.50149536],\n",
       "       [0.49817349, 0.50182651]])"
      ]
     },
     "execution_count": 79,
     "metadata": {},
     "output_type": "execute_result"
    }
   ],
   "source": [
    "classes"
   ]
  },
  {
   "cell_type": "code",
   "execution_count": 80,
   "metadata": {},
   "outputs": [
    {
     "name": "stdout",
     "output_type": "stream",
     "text": [
      "Accuracy:  50.0 %\n"
     ]
    },
    {
     "data": {
      "image/png": "[encoded data removed]",
      "text/plain": [
       "<Figure size 432x288 with 1 Axes>"
      ]
     },
     "metadata": {
      "needs_background": "light"
     },
     "output_type": "display_data"
    }
   ],
   "source": [
    "# retrieve labels and plot\n",
    "\n",
    "plt.plot(Ttest)\n",
    "plt.plot(Y)\n",
    "\n",
    "print(\"Accuracy: \", 100 - np.mean(np.abs(Ttest - Y)) * 100, \"%\")"
   ]
  },
  {
   "cell_type": "code",
   "execution_count": 81,
   "metadata": {},
   "outputs": [
    {
     "data": {
      "text/plain": [
       "[<matplotlib.lines.Line2D at 0x1a23f4f780>]"
      ]
     },
     "execution_count": 81,
     "metadata": {},
     "output_type": "execute_result"
    },
    {
     "data": {
      "image/png": "[encoded data removed]",
      "text/plain": [
       "<Figure size 432x432 with 1 Axes>"
      ]
     },
     "metadata": {
      "needs_background": "light"
     },
     "output_type": "display_data"
    }
   ],
   "source": [
    "# show me the boundary\n",
    "\n",
    "x = np.linspace(-3, 6, 1000)\n",
    "y = np.linspace(-3, 7, 1000)\n",
    "\n",
    "xs, ys = np.meshgrid(x, y)\n",
    "\n",
    "X = np.vstack((xs.flat, ys.flat)).T\n",
    "classes, _ = clsf.use(X)\n",
    "zs = _.reshape(xs.shape)\n",
    "\n",
    "plt.figure(figsize=(6,6))\n",
    "plt.contourf(xs, ys, zs.reshape(xs.shape))\n",
    "plt.title(\"Decision Boundary\")\n",
    "\n",
    "plt.plot(Ct1[:, 0], Ct1[:, 1], 'or')\n",
    "plt.plot(Ct2[:, 0], Ct2[:, 1], 'xb')"
   ]
  },
  {
   "cell_type": "markdown",
   "metadata": {},
   "source": [
    "## Discussion about dummy data "
   ]
  },
  {
   "cell_type": "markdown",
   "metadata": {},
   "source": [
    "The code works well with 50% accuracy. Hence, we can say that our NeuralNetLogReg class is working. "
   ]
  },
  {
   "cell_type": "markdown",
   "metadata": {},
   "source": [
    "# Testing on classification dataset"
   ]
  },
  {
   "cell_type": "code",
   "execution_count": 82,
   "metadata": {},
   "outputs": [],
   "source": [
    "XTrain, XTest, YTrain, YTest = model_selection.train_test_split(dataframe_lr, y_dataframe,test_size=0.20,random_state=42)"
   ]
  },
  {
   "cell_type": "code",
   "execution_count": 83,
   "metadata": {},
   "outputs": [],
   "source": [
    "T = add_ones(np.array(YTrain).reshape(-1,1))\n",
    "T=T.astype(int)\n",
    "T[:,0]=T[:,1]\n",
    "T[T[:,0]==1]=0\n",
    "(T[:,1])[T[:,1]==0]=1\n",
    "(T[:,0])[T[:,0]==-1]=1\n",
    "T[T==-1]=0"
   ]
  },
  {
   "cell_type": "code",
   "execution_count": 84,
   "metadata": {},
   "outputs": [
    {
     "name": "stderr",
     "output_type": "stream",
     "text": [
      "/anaconda3/lib/python3.7/site-packages/sklearn/preprocessing/data.py:625: DataConversionWarning:\n",
      "\n",
      "Data with input dtype int64, float64 were all converted to float64 by StandardScaler.\n",
      "\n",
      "/anaconda3/lib/python3.7/site-packages/sklearn/base.py:462: DataConversionWarning:\n",
      "\n",
      "Data with input dtype int64, float64 were all converted to float64 by StandardScaler.\n",
      "\n",
      "/anaconda3/lib/python3.7/site-packages/ipykernel_launcher.py:16: RuntimeWarning:\n",
      "\n",
      "invalid value encountered in true_divide\n",
      "\n",
      "/anaconda3/lib/python3.7/site-packages/ipykernel_launcher.py:36: RuntimeWarning:\n",
      "\n",
      "divide by zero encountered in log\n",
      "\n",
      "/anaconda3/lib/python3.7/site-packages/ipykernel_launcher.py:36: RuntimeWarning:\n",
      "\n",
      "invalid value encountered in multiply\n",
      "\n",
      "/anaconda3/lib/python3.7/site-packages/sklearn/preprocessing/data.py:625: DataConversionWarning:\n",
      "\n",
      "Data with input dtype int64, float64 were all converted to float64 by StandardScaler.\n",
      "\n",
      "/anaconda3/lib/python3.7/site-packages/sklearn/base.py:462: DataConversionWarning:\n",
      "\n",
      "Data with input dtype int64, float64 were all converted to float64 by StandardScaler.\n",
      "\n"
     ]
    }
   ],
   "source": [
    "nn = NeuralNetLogReg([6,4,2])\n",
    "nn.train(sc.fit_transform(XTrain), T, niter=1000) \n",
    "p,l = nn.use(sc.fit_transform(XTest))"
   ]
  },
  {
   "cell_type": "markdown",
   "metadata": {},
   "source": [
    "# Plots and results"
   ]
  },
  {
   "cell_type": "code",
   "execution_count": 85,
   "metadata": {},
   "outputs": [
    {
     "name": "stdout",
     "output_type": "stream",
     "text": [
      "F1 score: 0.34100204498977504\n",
      "Accuracy: 0.6633146140786209\n"
     ]
    }
   ],
   "source": [
    "y_test=np.where(YTest==-1,0,1)\n",
    "print('F1 score:', f1_score(y_test, l))\n",
    "print('Accuracy:', accuracy_score(y_test, l))"
   ]
  },
  {
   "cell_type": "code",
   "execution_count": 86,
   "metadata": {},
   "outputs": [
    {
     "data": {
      "text/plain": [
       "[<matplotlib.lines.Line2D at 0x1a23f5b860>]"
      ]
     },
     "execution_count": 86,
     "metadata": {},
     "output_type": "execute_result"
    },
    {
     "data": {
      "image/png": "[encoded data removed]",
      "text/plain": [
       "<Figure size 432x288 with 1 Axes>"
      ]
     },
     "metadata": {
      "needs_background": "light"
     },
     "output_type": "display_data"
    }
   ],
   "source": [
    "plt.plot(np.sort(y_test))\n",
    "plt.plot(np.sort(l))"
   ]
  },
  {
   "cell_type": "code",
   "execution_count": 87,
   "metadata": {},
   "outputs": [],
   "source": [
    "cf3=confusion_matrix(y_test, l)\n",
    "cf3\n",
    "TP=cf3[1][1]\n",
    "TN=cf3[0][0]\n",
    "FN=cf3[1][0]\n",
    "FP=cf3[0][1]\n"
   ]
  },
  {
   "cell_type": "code",
   "execution_count": 88,
   "metadata": {},
   "outputs": [],
   "source": [
    "precision=TP/(TP+FP)\n",
    "specificity=TN/(TN+FP)\n",
    "recall=TP/(TP+FN)"
   ]
  },
  {
   "cell_type": "code",
   "execution_count": 89,
   "metadata": {},
   "outputs": [
    {
     "name": "stdout",
     "output_type": "stream",
     "text": [
      "Precision:  0.9794419970631424\n",
      "Specificity:  0.9968368730230457\n",
      "Recall:  0.20643763540699475\n"
     ]
    }
   ],
   "source": [
    "print('Precision: ' ,precision)\n",
    "print('Specificity: ' ,specificity)\n",
    "print('Recall: ' ,recall)"
   ]
  },
  {
   "cell_type": "code",
   "execution_count": 90,
   "metadata": {},
   "outputs": [
    {
     "data": {
      "text/plain": [
       "Text(0.5, 1.0, 'Confusion Matrix')"
      ]
     },
     "execution_count": 90,
     "metadata": {},
     "output_type": "execute_result"
    },
    {
     "data": {
      "image/png": "[encoded data removed]",
      "text/plain": [
       "<Figure size 432x288 with 2 Axes>"
      ]
     },
     "metadata": {
      "needs_background": "light"
     },
     "output_type": "display_data"
    }
   ],
   "source": [
    "ax= plt.subplot()\n",
    "sns.heatmap(cf3, annot=True, ax = ax);\n",
    "\n",
    "ax.set_xlabel('Predicted labels');\n",
    "ax.set_ylabel('True labels'); \n",
    "ax.set_title('Confusion Matrix')"
   ]
  },
  {
   "cell_type": "code",
   "execution_count": 91,
   "metadata": {},
   "outputs": [
    {
     "data": {
      "image/png": "[encoded data removed]",
      "text/plain": [
       "<Figure size 432x288 with 1 Axes>"
      ]
     },
     "metadata": {
      "needs_background": "light"
     },
     "output_type": "display_data"
    }
   ],
   "source": [
    "false_positive_rate, true_positive_rate, thresholds = roc_curve(y_test, l)\n",
    "roc_auc = auc(false_positive_rate, true_positive_rate)\n",
    "\n",
    "\n",
    "##Plotting now\n",
    "plt.plot(false_positive_rate, true_positive_rate, 'b',\n",
    "label='AUC = %0.2f'% roc_auc)\n",
    "plt.legend(loc='lower right')\n",
    "plt.plot([0,1],[0,1],'r--')\n",
    "plt.xlim([-0.1,1.2])\n",
    "plt.ylim([-0.1,1.2])\n",
    "plt.ylabel('True Positive Rate')\n",
    "plt.xlabel('False Positive Rate')\n",
    "plt.show()"
   ]
  },
  {
   "cell_type": "code",
   "execution_count": 92,
   "metadata": {
    "scrolled": true
   },
   "outputs": [
    {
     "data": {
      "image/png": "[encoded data removed]",
      "text/plain": [
       "<Figure size 432x288 with 1 Axes>"
      ]
     },
     "metadata": {
      "needs_background": "light"
     },
     "output_type": "display_data"
    },
    {
     "data": {
      "image/png": "[encoded data removed]",
      "text/plain": [
       "<Figure size 432x288 with 1 Axes>"
      ]
     },
     "metadata": {
      "needs_background": "light"
     },
     "output_type": "display_data"
    },
    {
     "data": {
      "image/png": "[encoded data removed]",
      "text/plain": [
       "<Figure size 432x288 with 1 Axes>"
      ]
     },
     "metadata": {
      "needs_background": "light"
     },
     "output_type": "display_data"
    }
   ],
   "source": [
    "plt.title(\"Y prediction\")\n",
    "plt.plot(l[0:100])\n",
    "plt.show()\n",
    "plt.title(\"Y test\")\n",
    "plt.plot(np.array(y_test[0:100]))\n",
    "plt.show()\n",
    "plt.title(\"Y test vs Y pred\")\n",
    "plt.plot(l[0:100])\n",
    "plt.plot(np.array(y_test[0:100]))\n",
    "plt.show()"
   ]
  },
  {
   "cell_type": "markdown",
   "metadata": {},
   "source": [
    "# Cross validation code for nonlinear logistic regression "
   ]
  },
  {
   "cell_type": "code",
   "execution_count": null,
   "metadata": {},
   "outputs": [],
   "source": [
    "def split(s):\n",
    "    avg = len(s) / 5.0\n",
    "    out = []\n",
    "    last = 0.0\n",
    "    while last < len(s):\n",
    "        out.append(s[int(last):int(last + avg)])\n",
    "        last += avg\n",
    "    return out\n",
    "\n",
    "final_list=[]\n",
    "best_paramlist=[]\n",
    "def cross_validate(X, T, parameters):\n",
    "    partitionedX = split(X)\n",
    "    partitionedT = split(T)\n",
    "    for test in range(5): \n",
    "        print(\"test\",test)\n",
    "        Xtest = partitionedX[test]\n",
    "        Ttest = partitionedT[test]\n",
    "        j = 0\n",
    "        \n",
    "        history_rmse=[]\n",
    "        params=[]\n",
    "        for val in range(5): \n",
    "            print(\"val\",val)\n",
    "            if test == val: continue\n",
    "            \n",
    "            Xval = partitionedX[val]\n",
    "            Tval = partitionedT[val]\n",
    "            \n",
    "            Xtrain = partitionedX[not test and not val]\n",
    "            Ttrain = partitionedT[not test and not val]\n",
    "            \n",
    "            i = 0\n",
    "            flist=[]\n",
    "            paramlist=[]\n",
    "            for param in parameters:\n",
    "                \n",
    "                model = NeuralNetLogReg(param)\n",
    "                model.train(Xtrain, Ttrain)\n",
    "                prob,pred = model.use(Xval)\n",
    "                Tval1=Tval[:,0]\n",
    "                Tval1=np.where(Tval1==0,1,0)\n",
    "                valAcc = f1_score(Tval1, pred)\n",
    "                flist.append(valAcc)\n",
    "                paramlist.append(param)\n",
    "            print(flist)\n",
    "            print(paramlist)\n",
    "            #avg=sum(rmselist)/len(rmselist)\n",
    "            #history_rmse.append(avg)\n",
    "            print(max(flist))\n",
    "            print(paramlist[np.argmax(flist)])\n",
    "            history_rmse.append(max(flist))\n",
    "            params.append(paramlist[np.argmax(flist)])\n",
    "        print(\"history_rmse\",history_rmse)\n",
    "        print(\"params\",params)\n",
    "        #print(rmselist)\n",
    "        print(history_rmse)\n",
    "        print(params)\n",
    "        bestParam = params[np.argmax(history_rmse)]\n",
    "        print(bestParam)\n",
    "        bestModel = NeuralNetLogReg(bestParam)\n",
    "        \n",
    "        Xtrain = partitionedX[not test]\n",
    "        Ttrain = partitionedT[not test]\n",
    "        bestModel.train(Xtrain, Ttrain)\n",
    "\n",
    "        prob1,finalPred = bestModel.use(Xtest)\n",
    "        Ttest1=Ttest[:,0]\n",
    "        Ttest1=np.where(Ttest1==0,1,0)\n",
    "        myf1 = f1_score(Ttest1, finalPred)\n",
    "        final_list.append(myf1)\n",
    "        best_paramlist.append(bestParam)\n",
    "\n",
    "    return final_list,best_paramlist"
   ]
  },
  {
   "cell_type": "markdown",
   "metadata": {},
   "source": [
    "### Cross validation's explaination of code is given at the start of this assignment\n",
    "\n",
    "\n",
    "The difference is that we'll be finding the parameters which gives maximum f1 score to our model. We keep on appending it out best list of parameters and best list of f1 score. Below is the implemented version of the CV along with the results of CV. "
   ]
  },
  {
   "cell_type": "code",
   "execution_count": 95,
   "metadata": {},
   "outputs": [],
   "source": [
    "T = add_ones(np.array(y_dataframe).reshape(-1,1))\n",
    "T=T.astype(int)\n",
    "T[:,0]=T[:,1]\n",
    "T[T[:,0]==1]=0\n",
    "(T[:,1])[T[:,1]==0]=1\n",
    "(T[:,0])[T[:,0]==-1]=1\n",
    "T[T==-1]=0"
   ]
  },
  {
   "cell_type": "code",
   "execution_count": 96,
   "metadata": {},
   "outputs": [
    {
     "name": "stdout",
     "output_type": "stream",
     "text": [
      "test 0\n",
      "val 0\n",
      "val 1\n"
     ]
    },
    {
     "name": "stderr",
     "output_type": "stream",
     "text": [
      "/anaconda3/lib/python3.7/site-packages/ipykernel_launcher.py:16: RuntimeWarning:\n",
      "\n",
      "invalid value encountered in true_divide\n",
      "\n",
      "/anaconda3/lib/python3.7/site-packages/ipykernel_launcher.py:36: RuntimeWarning:\n",
      "\n",
      "divide by zero encountered in log\n",
      "\n",
      "/anaconda3/lib/python3.7/site-packages/ipykernel_launcher.py:36: RuntimeWarning:\n",
      "\n",
      "invalid value encountered in multiply\n",
      "\n"
     ]
    },
    {
     "name": "stdout",
     "output_type": "stream",
     "text": [
      "[0.9465954606141523, 0.9373187597590898, 0.9444197421076034, 0.9422519509476032]\n",
      "[[6, 5, 2], [6, 7, 2], [6, 9, 2], [6, 12, 2]]\n",
      "0.9465954606141523\n",
      "[6, 5, 2]\n",
      "val 2\n",
      "[0.965089216446858, 0.9566279780085523, 0.9666048237476809, 0.9270246217739544]\n",
      "[[6, 5, 2], [6, 7, 2], [6, 9, 2], [6, 12, 2]]\n",
      "0.9666048237476809\n",
      "[6, 9, 2]\n",
      "val 3\n",
      "[0.9393059587999447, 0.9562270545043773, 0.9416643627315455, 0.9504143840427027]\n",
      "[[6, 5, 2], [6, 7, 2], [6, 9, 2], [6, 12, 2]]\n",
      "0.9562270545043773\n",
      "[6, 7, 2]\n",
      "val 4\n",
      "[0.9539703903095559, 0.9596752368064952, 0.9557474365893146, 0.9720608575380358]\n",
      "[[6, 5, 2], [6, 7, 2], [6, 9, 2], [6, 12, 2]]\n",
      "0.9720608575380358\n",
      "[6, 12, 2]\n",
      "history_rmse [0.9465954606141523, 0.9666048237476809, 0.9562270545043773, 0.9720608575380358]\n",
      "params [[6, 5, 2], [6, 9, 2], [6, 7, 2], [6, 12, 2]]\n",
      "[0.9465954606141523, 0.9666048237476809, 0.9562270545043773, 0.9720608575380358]\n",
      "[[6, 5, 2], [6, 9, 2], [6, 7, 2], [6, 12, 2]]\n",
      "[6, 12, 2]\n",
      "test 1\n",
      "val 0\n",
      "[0.9819351177527665, 0.9823434991974317, 0.9827277017461066, 0.9862238158143045]\n",
      "[[6, 5, 2], [6, 7, 2], [6, 9, 2], [6, 12, 2]]\n",
      "0.9862238158143045\n",
      "[6, 12, 2]\n",
      "val 1\n",
      "val 2\n",
      "[0.9684341470999844, 0.9669100512661177, 0.9657081347070583, 0.9621026894865525]\n",
      "[[6, 5, 2], [6, 7, 2], [6, 9, 2], [6, 12, 2]]\n",
      "0.9684341470999844\n",
      "[6, 5, 2]\n",
      "val 3\n",
      "[0.9511956369738498, 0.9405613648871766, 0.9473684210526316, 0.9351902923331494]\n",
      "[[6, 5, 2], [6, 7, 2], [6, 9, 2], [6, 12, 2]]\n",
      "0.9511956369738498\n",
      "[6, 5, 2]\n",
      "val 4\n",
      "[0.9578150351541374, 0.963631391851244, 0.9527135948414831, 0.9539703903095559]\n",
      "[[6, 5, 2], [6, 7, 2], [6, 9, 2], [6, 12, 2]]\n",
      "0.963631391851244\n",
      "[6, 7, 2]\n",
      "history_rmse [0.9862238158143045, 0.9684341470999844, 0.9511956369738498, 0.963631391851244]\n",
      "params [[6, 12, 2], [6, 5, 2], [6, 5, 2], [6, 7, 2]]\n",
      "[0.9862238158143045, 0.9684341470999844, 0.9511956369738498, 0.963631391851244]\n",
      "[[6, 12, 2], [6, 5, 2], [6, 5, 2], [6, 7, 2]]\n",
      "[6, 12, 2]\n",
      "test 2\n",
      "val 0\n",
      "[0.9803585049580472, 0.9804966225858623, 0.9821326743965026, 0.9524849808847624]\n",
      "[[6, 5, 2], [6, 7, 2], [6, 9, 2], [6, 12, 2]]\n",
      "0.9821326743965026\n",
      "[6, 9, 2]\n",
      "val 1\n",
      "[0.93812375249501, 0.9451720310765815, 0.9451233059320151, 0.9416170962767129]\n",
      "[[6, 5, 2], [6, 7, 2], [6, 9, 2], [6, 12, 2]]\n",
      "0.9451720310765815\n",
      "[6, 7, 2]\n",
      "val 2\n",
      "val 3\n",
      "[0.9403275048570636, 0.9510470115101928, 0.8863606981254041, 0.9418427959662937]\n",
      "[[6, 5, 2], [6, 7, 2], [6, 9, 2], [6, 12, 2]]\n",
      "0.9510470115101928\n",
      "[6, 7, 2]\n",
      "val 4\n",
      "[0.941345600920069, 0.9812061711079944, 0.9570386382058903, 0.688034188034188]\n",
      "[[6, 5, 2], [6, 7, 2], [6, 9, 2], [6, 12, 2]]\n",
      "0.9812061711079944\n",
      "[6, 7, 2]\n",
      "history_rmse [0.9821326743965026, 0.9451720310765815, 0.9510470115101928, 0.9812061711079944]\n",
      "params [[6, 9, 2], [6, 7, 2], [6, 7, 2], [6, 7, 2]]\n",
      "[0.9821326743965026, 0.9451720310765815, 0.9510470115101928, 0.9812061711079944]\n",
      "[[6, 9, 2], [6, 7, 2], [6, 7, 2], [6, 7, 2]]\n",
      "[6, 9, 2]\n",
      "test 3\n",
      "val 0\n",
      "[0.9810749432248296, 0.9801904761904762, 0.9838937552981069, 0.9845428840716305]\n",
      "[[6, 5, 2], [6, 7, 2], [6, 9, 2], [6, 12, 2]]\n",
      "0.9845428840716305\n",
      "[6, 12, 2]\n",
      "val 1\n",
      "[0.938739140120294, 0.9479282074008419, 0.9478630566122174, 0.9414364640883979]\n",
      "[[6, 5, 2], [6, 7, 2], [6, 9, 2], [6, 12, 2]]\n",
      "0.9479282074008419\n",
      "[6, 7, 2]\n",
      "val 2\n",
      "[0.963836722023902, 0.9667908131595282, 0.9665116279069769, 0.9637780834479596]\n",
      "[[6, 5, 2], [6, 7, 2], [6, 9, 2], [6, 12, 2]]\n",
      "0.9667908131595282\n",
      "[6, 7, 2]\n",
      "val 3\n",
      "val 4\n",
      "[0.955256064690027, 0.9554896142433235, 0.9565920733351309, 0.9636067354698533]\n",
      "[[6, 5, 2], [6, 7, 2], [6, 9, 2], [6, 12, 2]]\n",
      "0.9636067354698533\n",
      "[6, 12, 2]\n",
      "history_rmse [0.9845428840716305, 0.9479282074008419, 0.9667908131595282, 0.9636067354698533]\n",
      "params [[6, 12, 2], [6, 7, 2], [6, 7, 2], [6, 12, 2]]\n",
      "[0.9845428840716305, 0.9479282074008419, 0.9667908131595282, 0.9636067354698533]\n",
      "[[6, 12, 2], [6, 7, 2], [6, 7, 2], [6, 12, 2]]\n",
      "[6, 12, 2]\n",
      "test 4\n",
      "val 0\n",
      "[0.9834983498349834, 0.9801526717557253, 0.9796775116878159, 0.9797979797979799]\n",
      "[[6, 5, 2], [6, 7, 2], [6, 9, 2], [6, 12, 2]]\n",
      "0.9834983498349834\n",
      "[6, 5, 2]\n",
      "val 1\n",
      "[0.9504334296510335, 0.9430463576158941, 0.94086260560249, 0.9435127978817299]\n",
      "[[6, 5, 2], [6, 7, 2], [6, 9, 2], [6, 12, 2]]\n",
      "0.9504334296510335\n",
      "[6, 5, 2]\n",
      "val 2\n",
      "[0.9526445264452645, 0.9617824539687452, 0.9681114551083592, 0.9663409337676439]\n",
      "[[6, 5, 2], [6, 7, 2], [6, 9, 2], [6, 12, 2]]\n",
      "0.9681114551083592\n",
      "[6, 9, 2]\n",
      "val 3\n",
      "[0.9361401525854761, 0.9464608538450842, 0.9445836814257866, 0.9404613896947092]\n",
      "[[6, 5, 2], [6, 7, 2], [6, 9, 2], [6, 12, 2]]\n",
      "0.9464608538450842\n",
      "[6, 7, 2]\n",
      "val 4\n",
      "history_rmse [0.9834983498349834, 0.9504334296510335, 0.9681114551083592, 0.9464608538450842]\n",
      "params [[6, 5, 2], [6, 5, 2], [6, 9, 2], [6, 7, 2]]\n",
      "[0.9834983498349834, 0.9504334296510335, 0.9681114551083592, 0.9464608538450842]\n",
      "[[6, 5, 2], [6, 5, 2], [6, 9, 2], [6, 7, 2]]\n",
      "[6, 5, 2]\n"
     ]
    }
   ],
   "source": [
    "models = [[6,5,2], [6,7,2],[6,9,2], [6,12,2]]\n",
    "bestAccuracy,bestParam = (cross_validate(np.array(dataframe_lr), T, models))"
   ]
  },
  {
   "cell_type": "code",
   "execution_count": null,
   "metadata": {},
   "outputs": [],
   "source": []
  },
  {
   "cell_type": "markdown",
   "metadata": {},
   "source": [
    "# Testing with optimum parameters"
   ]
  },
  {
   "cell_type": "code",
   "execution_count": 97,
   "metadata": {},
   "outputs": [
    {
     "name": "stdout",
     "output_type": "stream",
     "text": [
      "[0.9799677204974842, 0.94496644295302, 0.9672411116286291, 0.9361526843333791, 0.9577464788732395]\n",
      "[[6, 12, 2], [6, 12, 2], [6, 9, 2], [6, 12, 2], [6, 5, 2]]\n"
     ]
    }
   ],
   "source": [
    "print(bestAccuracy)\n",
    "print(bestParam)"
   ]
  },
  {
   "cell_type": "code",
   "execution_count": 98,
   "metadata": {},
   "outputs": [],
   "source": [
    "T = add_ones(np.array(YTrain).reshape(-1,1))\n",
    "T=T.astype(int)\n",
    "T[:,0]=T[:,1]\n",
    "T[T[:,0]==1]=0\n",
    "(T[:,1])[T[:,1]==0]=1\n",
    "(T[:,0])[T[:,0]==-1]=1\n",
    "T[T==-1]=0"
   ]
  },
  {
   "cell_type": "code",
   "execution_count": 99,
   "metadata": {},
   "outputs": [
    {
     "name": "stderr",
     "output_type": "stream",
     "text": [
      "/anaconda3/lib/python3.7/site-packages/sklearn/preprocessing/data.py:625: DataConversionWarning:\n",
      "\n",
      "Data with input dtype int64, float64 were all converted to float64 by StandardScaler.\n",
      "\n",
      "/anaconda3/lib/python3.7/site-packages/sklearn/base.py:462: DataConversionWarning:\n",
      "\n",
      "Data with input dtype int64, float64 were all converted to float64 by StandardScaler.\n",
      "\n",
      "/anaconda3/lib/python3.7/site-packages/ipykernel_launcher.py:16: RuntimeWarning:\n",
      "\n",
      "invalid value encountered in true_divide\n",
      "\n",
      "/anaconda3/lib/python3.7/site-packages/ipykernel_launcher.py:36: RuntimeWarning:\n",
      "\n",
      "divide by zero encountered in log\n",
      "\n",
      "/anaconda3/lib/python3.7/site-packages/ipykernel_launcher.py:36: RuntimeWarning:\n",
      "\n",
      "invalid value encountered in multiply\n",
      "\n",
      "/anaconda3/lib/python3.7/site-packages/sklearn/preprocessing/data.py:625: DataConversionWarning:\n",
      "\n",
      "Data with input dtype int64, float64 were all converted to float64 by StandardScaler.\n",
      "\n",
      "/anaconda3/lib/python3.7/site-packages/sklearn/base.py:462: DataConversionWarning:\n",
      "\n",
      "Data with input dtype int64, float64 were all converted to float64 by StandardScaler.\n",
      "\n"
     ]
    }
   ],
   "source": [
    "nn = NeuralNetLogReg([6,12,2])\n",
    "nn.train(sc.fit_transform(XTrain), T,optim='scg') \n",
    "p,l = nn.use(sc.fit_transform(XTest))"
   ]
  },
  {
   "cell_type": "code",
   "execution_count": 100,
   "metadata": {},
   "outputs": [
    {
     "name": "stdout",
     "output_type": "stream",
     "text": [
      "F1 score: 0.33014724877292695\n",
      "Accuracy: 0.6613556223063863\n"
     ]
    }
   ],
   "source": [
    "y_pred1=l\n",
    "y_test1=np.where(YTest==-1,0,1)\n",
    "print('F1 score:', f1_score(y_test1, y_pred1))\n",
    "print('Accuracy:', accuracy_score(y_test1, y_pred1))"
   ]
  },
  {
   "cell_type": "markdown",
   "metadata": {},
   "source": [
    "# Discussions about parameter/network structure choice"
   ]
  },
  {
   "cell_type": "markdown",
   "metadata": {},
   "source": [
    "In this assignment I built 5 layere neural network. Input layer has 6 nodes because there are 6 features in my data that are actually useful. Output layer has 2 node. \n",
    "\n",
    "I've not only used 5 layers. But I repeated the process with many layers and it was interesting to find that 12 layers give better results and it keeps on improving with more layers. This might not be true because it might lead to overfitting of data. But for my case, 12 layers seems to be the best fit for my dataset. \n",
    "\n",
    "I tried for the best network structure by changing the number of nodes in hidden layer. I performed 5 fold cross validation by passing my models variable as [[6,5,2], [6,7,2],[6,9,2], [6,12,2]]. Here first value represents input nodes, second value represents nodes in hidden layer, third value represents output nodes. \n",
    "\n",
    "From the results of cross validation we can see that model [6,12,2] has appeared more number of times. The f1 score values returned for [6,12,2] in the final result are [0.9799677204974842, 0.94496644295302, 0.9361526843333791] , and for [6, 9, 2] as 0.9672411116286291. For, [6, 5, 2] it is 0.9577464788732395.\n",
    "\n",
    "The model with number of nodes in hidden layer 12 works better. With increasing layer the model keeps on improving With more number of nodes in hidden layer network its  overfitting the data.\n",
    "\n",
    "Hence, I've used [6,12,2] as the final structure and I got F1 score: 0.33014724877292695 and Accuracy: 0.6613556223063863. "
   ]
  },
  {
   "cell_type": "markdown",
   "metadata": {},
   "source": [
    "# Discussion about the prediction results"
   ]
  },
  {
   "cell_type": "markdown",
   "metadata": {},
   "source": [
    "In this assignment I have performed nonlinear logistic regression analysis using Neural network which is nonlinear regression problem. \n",
    "On training the model using NeuralNetLogReg with optimum structure [6,12,2], model has produced F1 score: 0.33014724877292695 and Accuracy: 0.6613556223063863 with optim=\"scg.\"\n",
    "\n",
    "We are free to choose hidden layers, hidden nodes that suits our problem. Each node is connected to a activation function which makes the network more powerful. I used softmax as activation function at last layer. The gradient is updating the weights in each layer during back propagation which made network work so well.\n",
    "\n",
    "I tried with 12 layers and I got 0.6613556223063863 as accuracy. For increasing number of layers, the model is improving as well. This means that with more layers the model will give more accuracy but it is not true since it may overfit the data. Hence, I left this with 12 layers as the best number of layers for this dataset. "
   ]
  },
  {
   "cell_type": "markdown",
   "metadata": {},
   "source": [
    "# Conclusion"
   ]
  },
  {
   "cell_type": "markdown",
   "metadata": {},
   "source": [
    "In this Assignment  I learned Neural networks. I learned what makes Neural networks so powerful for complex problems. I also learned implementing k fold cross validation from scratch with out using any libraries. I learned how important it is in selecting the parameters. And I learned that sometimes increasing number of layers may not always improve the model since there is a case where it may overfit.  \n",
    "\n",
    "Few challenges: Cross validation was really tough to implement. I faced many problems on keeping tracks of all the list used inside the cross validations also keeping track of all the indices took a lot of time to understand and implement."
   ]
  },
  {
   "cell_type": "markdown",
   "metadata": {},
   "source": [
    "# References "
   ]
  },
  {
   "cell_type": "markdown",
   "metadata": {},
   "source": [
    "Professor's notebook : https://nbviewer.jupyter.org/url/webpages.uncc.edu/mlee173/teach/itcs6156/notebooks/notes/Note-NonlinearLogReg.ipynb\n",
    "\n",
    "Internet: https://www.statisticssolutions.com/regression-analysis-nonlinear-regression/\n",
    "https://www.stat.colostate.edu/regression_book/chapter9.pdf\n"
   ]
  },
  {
   "cell_type": "markdown",
   "metadata": {},
   "source": [
    "# Extra Credit "
   ]
  },
  {
   "cell_type": "markdown",
   "metadata": {},
   "source": [
    "Now you are testing various activation functions in this section. Use the best neural network structure and explore 3 different activation functions of your choice (one should be tanh that you used in the previous sections). You should use cross validation to discover the best model (with activation function).\n"
   ]
  },
  {
   "cell_type": "markdown",
   "metadata": {},
   "source": [
    "###### The best neural network structure obtained from above is : \n",
    "   "
   ]
  },
  {
   "cell_type": "code",
   "execution_count": 101,
   "metadata": {},
   "outputs": [],
   "source": [
    "df= pd.read_csv('energydata_complete.csv')\n"
   ]
  },
  {
   "cell_type": "code",
   "execution_count": 102,
   "metadata": {},
   "outputs": [],
   "source": [
    "df=df.drop(['date'],axis=1)\n"
   ]
  },
  {
   "cell_type": "code",
   "execution_count": 103,
   "metadata": {},
   "outputs": [
    {
     "data": {
      "text/html": [
       "<div>\n",
       "<style scoped>\n",
       "    .dataframe tbody tr th:only-of-type {\n",
       "        vertical-align: middle;\n",
       "    }\n",
       "\n",
       "    .dataframe tbody tr th {\n",
       "        vertical-align: top;\n",
       "    }\n",
       "\n",
       "    .dataframe thead th {\n",
       "        text-align: right;\n",
       "    }\n",
       "</style>\n",
       "<table border=\"1\" class=\"dataframe\">\n",
       "  <thead>\n",
       "    <tr style=\"text-align: right;\">\n",
       "      <th></th>\n",
       "      <th>lights</th>\n",
       "      <th>T1</th>\n",
       "      <th>RH_1</th>\n",
       "      <th>T2</th>\n",
       "      <th>RH_2</th>\n",
       "      <th>T3</th>\n",
       "      <th>RH_3</th>\n",
       "      <th>T4</th>\n",
       "      <th>RH_4</th>\n",
       "      <th>T5</th>\n",
       "      <th>...</th>\n",
       "      <th>T8</th>\n",
       "      <th>RH_8</th>\n",
       "      <th>T9</th>\n",
       "      <th>RH_9</th>\n",
       "      <th>T_out</th>\n",
       "      <th>Press_mm_hg</th>\n",
       "      <th>RH_out</th>\n",
       "      <th>Windspeed</th>\n",
       "      <th>Visibility</th>\n",
       "      <th>Tdewpoint</th>\n",
       "    </tr>\n",
       "  </thead>\n",
       "  <tbody>\n",
       "    <tr>\n",
       "      <th>0</th>\n",
       "      <td>30</td>\n",
       "      <td>19.89</td>\n",
       "      <td>47.596667</td>\n",
       "      <td>19.2</td>\n",
       "      <td>44.790000</td>\n",
       "      <td>19.79</td>\n",
       "      <td>44.730000</td>\n",
       "      <td>19.000000</td>\n",
       "      <td>45.566667</td>\n",
       "      <td>17.166667</td>\n",
       "      <td>...</td>\n",
       "      <td>18.2</td>\n",
       "      <td>48.900000</td>\n",
       "      <td>17.033333</td>\n",
       "      <td>45.53</td>\n",
       "      <td>6.600000</td>\n",
       "      <td>733.5</td>\n",
       "      <td>92.0</td>\n",
       "      <td>7.000000</td>\n",
       "      <td>63.000000</td>\n",
       "      <td>5.3</td>\n",
       "    </tr>\n",
       "    <tr>\n",
       "      <th>1</th>\n",
       "      <td>30</td>\n",
       "      <td>19.89</td>\n",
       "      <td>46.693333</td>\n",
       "      <td>19.2</td>\n",
       "      <td>44.722500</td>\n",
       "      <td>19.79</td>\n",
       "      <td>44.790000</td>\n",
       "      <td>19.000000</td>\n",
       "      <td>45.992500</td>\n",
       "      <td>17.166667</td>\n",
       "      <td>...</td>\n",
       "      <td>18.2</td>\n",
       "      <td>48.863333</td>\n",
       "      <td>17.066667</td>\n",
       "      <td>45.56</td>\n",
       "      <td>6.483333</td>\n",
       "      <td>733.6</td>\n",
       "      <td>92.0</td>\n",
       "      <td>6.666667</td>\n",
       "      <td>59.166667</td>\n",
       "      <td>5.2</td>\n",
       "    </tr>\n",
       "    <tr>\n",
       "      <th>2</th>\n",
       "      <td>30</td>\n",
       "      <td>19.89</td>\n",
       "      <td>46.300000</td>\n",
       "      <td>19.2</td>\n",
       "      <td>44.626667</td>\n",
       "      <td>19.79</td>\n",
       "      <td>44.933333</td>\n",
       "      <td>18.926667</td>\n",
       "      <td>45.890000</td>\n",
       "      <td>17.166667</td>\n",
       "      <td>...</td>\n",
       "      <td>18.2</td>\n",
       "      <td>48.730000</td>\n",
       "      <td>17.000000</td>\n",
       "      <td>45.50</td>\n",
       "      <td>6.366667</td>\n",
       "      <td>733.7</td>\n",
       "      <td>92.0</td>\n",
       "      <td>6.333333</td>\n",
       "      <td>55.333333</td>\n",
       "      <td>5.1</td>\n",
       "    </tr>\n",
       "    <tr>\n",
       "      <th>3</th>\n",
       "      <td>40</td>\n",
       "      <td>19.89</td>\n",
       "      <td>46.066667</td>\n",
       "      <td>19.2</td>\n",
       "      <td>44.590000</td>\n",
       "      <td>19.79</td>\n",
       "      <td>45.000000</td>\n",
       "      <td>18.890000</td>\n",
       "      <td>45.723333</td>\n",
       "      <td>17.166667</td>\n",
       "      <td>...</td>\n",
       "      <td>18.1</td>\n",
       "      <td>48.590000</td>\n",
       "      <td>17.000000</td>\n",
       "      <td>45.40</td>\n",
       "      <td>6.250000</td>\n",
       "      <td>733.8</td>\n",
       "      <td>92.0</td>\n",
       "      <td>6.000000</td>\n",
       "      <td>51.500000</td>\n",
       "      <td>5.0</td>\n",
       "    </tr>\n",
       "    <tr>\n",
       "      <th>4</th>\n",
       "      <td>40</td>\n",
       "      <td>19.89</td>\n",
       "      <td>46.333333</td>\n",
       "      <td>19.2</td>\n",
       "      <td>44.530000</td>\n",
       "      <td>19.79</td>\n",
       "      <td>45.000000</td>\n",
       "      <td>18.890000</td>\n",
       "      <td>45.530000</td>\n",
       "      <td>17.200000</td>\n",
       "      <td>...</td>\n",
       "      <td>18.1</td>\n",
       "      <td>48.590000</td>\n",
       "      <td>17.000000</td>\n",
       "      <td>45.40</td>\n",
       "      <td>6.133333</td>\n",
       "      <td>733.9</td>\n",
       "      <td>92.0</td>\n",
       "      <td>5.666667</td>\n",
       "      <td>47.666667</td>\n",
       "      <td>4.9</td>\n",
       "    </tr>\n",
       "  </tbody>\n",
       "</table>\n",
       "<p>5 rows × 25 columns</p>\n",
       "</div>"
      ],
      "text/plain": [
       "   lights     T1       RH_1    T2       RH_2     T3       RH_3         T4  \\\n",
       "0      30  19.89  47.596667  19.2  44.790000  19.79  44.730000  19.000000   \n",
       "1      30  19.89  46.693333  19.2  44.722500  19.79  44.790000  19.000000   \n",
       "2      30  19.89  46.300000  19.2  44.626667  19.79  44.933333  18.926667   \n",
       "3      40  19.89  46.066667  19.2  44.590000  19.79  45.000000  18.890000   \n",
       "4      40  19.89  46.333333  19.2  44.530000  19.79  45.000000  18.890000   \n",
       "\n",
       "        RH_4         T5    ...        T8       RH_8         T9   RH_9  \\\n",
       "0  45.566667  17.166667    ...      18.2  48.900000  17.033333  45.53   \n",
       "1  45.992500  17.166667    ...      18.2  48.863333  17.066667  45.56   \n",
       "2  45.890000  17.166667    ...      18.2  48.730000  17.000000  45.50   \n",
       "3  45.723333  17.166667    ...      18.1  48.590000  17.000000  45.40   \n",
       "4  45.530000  17.200000    ...      18.1  48.590000  17.000000  45.40   \n",
       "\n",
       "      T_out  Press_mm_hg  RH_out  Windspeed  Visibility  Tdewpoint  \n",
       "0  6.600000        733.5    92.0   7.000000   63.000000        5.3  \n",
       "1  6.483333        733.6    92.0   6.666667   59.166667        5.2  \n",
       "2  6.366667        733.7    92.0   6.333333   55.333333        5.1  \n",
       "3  6.250000        733.8    92.0   6.000000   51.500000        5.0  \n",
       "4  6.133333        733.9    92.0   5.666667   47.666667        4.9  \n",
       "\n",
       "[5 rows x 25 columns]"
      ]
     },
     "execution_count": 103,
     "metadata": {},
     "output_type": "execute_result"
    }
   ],
   "source": [
    "df_target=pd.DataFrame(df.iloc[:,0])\n",
    "df=df.drop(['Appliances', 'rv1', 'rv2'],axis=1)\n",
    "df.head()\n"
   ]
  },
  {
   "cell_type": "code",
   "execution_count": 104,
   "metadata": {},
   "outputs": [
    {
     "data": {
      "text/plain": [
       "(19735, 1)"
      ]
     },
     "execution_count": 104,
     "metadata": {},
     "output_type": "execute_result"
    }
   ],
   "source": [
    "df_target.shape\n"
   ]
  },
  {
   "cell_type": "markdown",
   "metadata": {},
   "source": [
    "# Tanh"
   ]
  },
  {
   "cell_type": "code",
   "execution_count": 106,
   "metadata": {},
   "outputs": [],
   "source": [
    "from grad import scg, steepest\n",
    "from copy import copy\n",
    "\n",
    "\n",
    "class NeuralNet:\n",
    "    \"\"\" neural network class for regression\n",
    "        \n",
    "        Parameters\n",
    "        ----------\n",
    "        nunits: list\n",
    "            the number of inputs, hidden units, and outputs\n",
    "\n",
    "        Methods\n",
    "        -------\n",
    "        set_hunit    \n",
    "            update/initiate weights\n",
    "\n",
    "        pack \n",
    "            pack multiple weights of each layer into one vector\n",
    "\n",
    "        forward\n",
    "            forward processing of neural network\n",
    "\n",
    "        backward\n",
    "            back-propagation of neural network\n",
    "\n",
    "        train\n",
    "            train the neural network\n",
    "\n",
    "        use\n",
    "            appply the trained network for prediction\n",
    "\n",
    "        Attributes\n",
    "        ----------\n",
    "        _nLayers\n",
    "            the number of hidden unit layers \n",
    "\n",
    "        rho\n",
    "            learning rate\n",
    "\n",
    "        _W\n",
    "            weights\n",
    "        _weights\n",
    "            weights in one dimension (_W is referencing _weight)\n",
    "\n",
    "        stdX\n",
    "            standardization class for data\n",
    "        stdT\n",
    "            standardization class for target\n",
    "\n",
    "        Notes\n",
    "        -----\n",
    "        \n",
    "    \"\"\"\n",
    "\n",
    "    def __init__(self, nunits):\n",
    "        self._nLayers=len(nunits)-1\n",
    "        self.rho = [1] * self._nLayers\n",
    "        self._W = []\n",
    "        wdims = []\n",
    "        lenweights = 0\n",
    "        for i in range(self._nLayers):\n",
    "            nwr = nunits[i] + 1\n",
    "            nwc = nunits[i+1]\n",
    "            wdims.append((nwr, nwc))\n",
    "            lenweights = lenweights + nwr * nwc\n",
    "\n",
    "        self._weights = np.random.uniform(-0.1,0.1, lenweights) \n",
    "        start = 0  # fixed index error 20110107\n",
    "        for i in range(self._nLayers):\n",
    "            end = start + wdims[i][0] * wdims[i][1] \n",
    "            self._W.append(self._weights[start:end])\n",
    "            self._W[i].resize(wdims[i])\n",
    "            start = end\n",
    "\n",
    "        self.stdX = None\n",
    "        self.stdT = None\n",
    "        self.stdTarget = True\n",
    "\n",
    "    def add_ones(self, w):\n",
    "        return np.hstack((np.ones((w.shape[0], 1)), w))\n",
    "\n",
    "    def get_nlayers(self):\n",
    "        return self._nLayers\n",
    "\n",
    "    def set_hunit(self, w):\n",
    "        for i in range(self._nLayers-1):\n",
    "            if w[i].shape != self._W[i].shape:\n",
    "                print(\"set_hunit: shapes do not match!\")\n",
    "                break\n",
    "            else:\n",
    "                self._W[i][:] = w[i][:]\n",
    "\n",
    "    def pack(self, w):\n",
    "        return np.hstack(map(np.ravel, w))\n",
    "\n",
    "    def unpack(self, weights):\n",
    "        self._weights[:] = weights[:]  # unpack\n",
    "\n",
    "    def cp_weight(self):\n",
    "        return copy(self._weights)\n",
    "\n",
    "    def RBF(self, X, m=None,s=None):\n",
    "        if m is None: m = np.mean(X)\n",
    "        if s is None: s = 2 #np.std(X)\n",
    "        r = 1. / (np.sqrt(2*np.pi)* s)  \n",
    "        return r * np.exp(-(X - m) ** 2 / (2 * s ** 2))\n",
    "    \n",
    "    def Sigma(self, X):\n",
    "        return (1/(1+(np.exp(-(X)))))\n",
    "\n",
    "    def forward(self,X):\n",
    "        t = X \n",
    "        Z = []\n",
    "\n",
    "        for i in range(self._nLayers):\n",
    "            Z.append(t) \n",
    "            if i == self._nLayers - 1:\n",
    "                t = np.dot(self.add_ones(t), self._W[i])\n",
    "            else:\n",
    "                t = np.tanh(np.dot(self.add_ones(t), self._W[i]))\n",
    "                \n",
    "        return (t, Z)\n",
    "        \n",
    "    def backward(self, error, Z, T, lmb=0):\n",
    "        delta = error\n",
    "        N = T.size\n",
    "        dws = []\n",
    "        for i in range(self._nLayers - 1, -1, -1):\n",
    "            rh = float(self.rho[i]) / N\n",
    "            if i==0:\n",
    "                lmbterm = 0\n",
    "            else:\n",
    "                lmbterm = lmb * np.vstack((np.zeros((1, self._W[i].shape[1])),\n",
    "                            self._W[i][1:,]))\n",
    "                \n",
    "            #print(Z[i].T.shape)\n",
    "            dws.insert(0,(-rh * np.dot(self.add_ones(Z[i]).T, delta) + lmbterm))\n",
    "            if i != 0:\n",
    "                delta = np.dot(delta, self._W[i][1:, :].T) * (1 - Z[i]**2)\n",
    "        return self.pack(dws)\n",
    "\n",
    "    def _errorf(self, T, Y):\n",
    "        return T - Y\n",
    "        \n",
    "    def _objectf(self, T, Y, wpenalty):\n",
    "        return 0.5 * np.mean(np.square(T - Y)) + wpenalty\n",
    "\n",
    "    def train(self, X, T, **params):\n",
    "\n",
    "        verbose = params.pop('verbose', False)\n",
    "        # training parameters\n",
    "        _lambda = params.pop('Lambda', 0.)\n",
    "\n",
    "        #parameters for scg\n",
    "        niter = params.pop('niter', 1000)\n",
    "        wprecision = params.pop('wprecision', 1e-10)\n",
    "        fprecision = params.pop('fprecision', 1e-10)\n",
    "        wtracep = params.pop('wtracep', False)\n",
    "        ftracep = params.pop('ftracep', False)\n",
    "\n",
    "        # optimization\n",
    "        optim = params.pop('optim', 'scg')\n",
    "\n",
    "        if self.stdX == None:\n",
    "            explore = params.pop('explore', False)\n",
    "            self.stdX = Standardizer(X, explore)\n",
    "        Xs = self.stdX.standardize(X)\n",
    "        if self.stdT == None and self.stdTarget:\n",
    "            self.stdT = Standardizer(T)\n",
    "            T = self.stdT.standardize(T)\n",
    "        \n",
    "        def gradientf(weights):\n",
    "            self.unpack(weights)\n",
    "            Y,Z = self.forward(Xs)\n",
    "            \n",
    "            error = self._errorf(T, Y)\n",
    "            return self.backward(error, Z, T, _lambda)\n",
    "            \n",
    "        def optimtargetf(weights):\n",
    "            \"\"\" optimization target function : MSE \n",
    "            \"\"\"\n",
    "            self.unpack(weights)\n",
    "            #self._weights[:] = weights[:]  # unpack\n",
    "            Y,_ = self.forward(Xs)\n",
    "            Wnb=np.array([])\n",
    "            for i in range(self._nLayers):\n",
    "                if len(Wnb)==0: Wnb=self._W[i][1:,].reshape(self._W[i].size-self._W[i][0,].size,1)\n",
    "                else: Wnb = np.vstack((Wnb,self._W[i][1:,].reshape(self._W[i].size-self._W[i][0,].size,1)))\n",
    "            wpenalty = _lambda * np.dot(Wnb.flat ,Wnb.flat)\n",
    "            return self._objectf(T, Y, wpenalty)\n",
    "\n",
    "        if optim == 'scg':\n",
    "            result = scg(self.cp_weight(), gradientf, optimtargetf,\n",
    "                                        wPrecision=wprecision, fPrecision=fprecision, \n",
    "                                        nIterations=niter,\n",
    "                                        wtracep=wtracep, ftracep=ftracep,\n",
    "                                        verbose=False)\n",
    "            self.unpack(result['w'][:])\n",
    "            self.f = result['f']\n",
    "        elif optim == 'steepest':\n",
    "            result = steepest(self.cp_weight(), gradientf, optimtargetf,\n",
    "                                nIterations=niter,\n",
    "                                xPrecision=wprecision, fPrecision=fprecision,\n",
    "                                xtracep=wtracep, ftracep=ftracep )\n",
    "            self.unpack(result['w'][:])\n",
    "        if ftracep:\n",
    "            self.ftrace = result['ftrace']\n",
    "        if 'reason' in result.keys() and verbose:\n",
    "            print(result['reason'])\n",
    "\n",
    "        return result\n",
    "\n",
    "    def use(self, X, retZ=False):\n",
    "        if self.stdX:\n",
    "            Xs = self.stdX.standardize(X)\n",
    "        else:\n",
    "            Xs = X\n",
    "        Y, Z = self.forward(Xs)\n",
    "        if self.stdT is not None:\n",
    "            Y = self.stdT.unstandardize(Y)\n",
    "        if retZ:\n",
    "            return Y, Z\n",
    "        return Y"
   ]
  },
  {
   "cell_type": "code",
   "execution_count": 119,
   "metadata": {},
   "outputs": [],
   "source": [
    "#Splits into parts of 20% of whole data. So myList will give five 20% of 100% of data\n",
    "def split(data):\n",
    "    part = len(data) / 5.0\n",
    "    mylist = []\n",
    "    x = 0.0\n",
    "    #Iterate through the length of s and keep on appending to myList so we've like 5 parts now and return the list\n",
    "    while x < len(data):\n",
    "        mylist.append(data[int(x):int(x + part)])\n",
    "        x += part\n",
    "    return mylist\n",
    "\n",
    "best_paramlist=[]\n",
    "final_list=[]\n",
    "\n",
    "def cross_validate(X, T, parameters):\n",
    "    #Call Split and get the data partitioned\n",
    "    X_partitioned = split(X)\n",
    "    T_partitioned = split(T)\n",
    "    \n",
    "    #This loop iterates through all the 5 parts..so each i is like test data for the paritioned dataset \n",
    "    for i in range(5): \n",
    "        print(\"Test number: \",i)\n",
    "        X_test = X_partitioned[i]\n",
    "        T_test = T_partitioned[i]\n",
    "\n",
    "        history_rmse=[]\n",
    "        params=[] \n",
    "        #best_param\n",
    "        \n",
    "        #k is the validation part of the 5 parts\n",
    "        for k in range(5): \n",
    "            print(\"K is : \",k)\n",
    "            if i == k: \n",
    "                continue \n",
    "            \n",
    "            #Another 20% of data used\n",
    "            X_val = X_partitioned[k]\n",
    "            T_val = T_partitioned[k]\n",
    "            \n",
    "            #Train will be those which is not test and validation part. The remaining 60% of data of 100%\n",
    "            X_train = X_partitioned[not i and not k]\n",
    "            T_train = T_partitioned[not i and not k]\n",
    "            \n",
    "            #m = 0\n",
    "            paramlist=[]\n",
    "            rmselist=[]\n",
    "            for param in parameters:\n",
    "                \n",
    "                model = NeuralNet(param)\n",
    "                model.train(X_train, T_train)\n",
    "                pred = model.use(X_val)\n",
    "                \n",
    "                valid_err = np.sqrt(mean_squared_error(T_val, pred))\n",
    "                rmselist.append(valid_err)\n",
    "                paramlist.append(param)\n",
    "                \n",
    "            print(paramlist)\n",
    "            print(rmselist)\n",
    "            print(min(rmselist))\n",
    "            print(paramlist[np.argmin(rmselist)])\n",
    "            history_rmse.append(min(rmselist))\n",
    "            params.append(paramlist[np.argmin(rmselist)])\n",
    "         \n",
    "        print(params)\n",
    "        print(history_rmse)\n",
    "        print(paramlist[np.argmin(history_rmse)])\n",
    "        best_param=paramlist[np.argmin(history_rmse)]\n",
    "        best_model = NeuralNet(best_param)\n",
    "        \n",
    "        X_train = X_partitioned[not i]\n",
    "        T_train = T_partitioned[not i]\n",
    "        best_model.train(X_train, T_train)\n",
    "\n",
    "        final_pred = best_model.use(X_test)\n",
    "        final_err = np.sqrt(mean_squared_error(T_test, final_pred))\n",
    "        final_list.append(final_err)\n",
    "        best_paramlist.append(best_param)\n",
    "\n",
    "    return final_list,best_paramlist\n",
    "    \n"
   ]
  },
  {
   "cell_type": "code",
   "execution_count": 121,
   "metadata": {},
   "outputs": [
    {
     "name": "stdout",
     "output_type": "stream",
     "text": [
      "Test number:  0\n",
      "K is :  0\n",
      "K is :  1\n",
      "[[25, 3, 1], [25, 5, 1], [25, 7, 1], [25, 10, 1], [25, 12, 1]]\n",
      "[115.24183369563117, 148.87587128990472, 212.7087253655751, 210.1448939701649, 241.96841534506103]\n",
      "115.24183369563117\n",
      "[25, 3, 1]\n",
      "K is :  2\n",
      "[[25, 3, 1], [25, 5, 1], [25, 7, 1], [25, 10, 1], [25, 12, 1]]\n",
      "[155.47296828220357, 144.55929231842563, 134.07955076593734, 330.77229322524977, 184.51625669085263]\n",
      "134.07955076593734\n",
      "[25, 7, 1]\n",
      "K is :  3\n",
      "[[25, 3, 1], [25, 5, 1], [25, 7, 1], [25, 10, 1], [25, 12, 1]]\n",
      "[117.05015604799307, 223.41458682341866, 176.21432897213768, 137.51783341906102, 250.3705745362311]\n",
      "117.05015604799307\n",
      "[25, 3, 1]\n",
      "K is :  4\n",
      "[[25, 3, 1], [25, 5, 1], [25, 7, 1], [25, 10, 1], [25, 12, 1]]\n",
      "[161.2133967546118, 286.4375407657381, 248.73776525737554, 142.58769373912634, 274.36336256395606]\n",
      "142.58769373912634\n",
      "[25, 10, 1]\n",
      "[[25, 3, 1], [25, 7, 1], [25, 3, 1], [25, 10, 1]]\n",
      "[115.24183369563117, 134.07955076593734, 117.05015604799307, 142.58769373912634]\n",
      "[25, 3, 1]\n",
      "Test number:  1\n",
      "K is :  0\n",
      "[[25, 3, 1], [25, 5, 1], [25, 7, 1], [25, 10, 1], [25, 12, 1]]\n",
      "[90.24686302483151, 79.92596524818903, 76.22100022020447, 67.76183871784545, 64.80970274680908]\n",
      "64.80970274680908\n",
      "[25, 12, 1]\n",
      "K is :  1\n",
      "K is :  2\n",
      "[[25, 3, 1], [25, 5, 1], [25, 7, 1], [25, 10, 1], [25, 12, 1]]\n",
      "[129.26328306127212, 167.8143077671226, 169.08183220053547, 248.88717998903965, 279.099493181044]\n",
      "129.26328306127212\n",
      "[25, 3, 1]\n",
      "K is :  3\n",
      "[[25, 3, 1], [25, 5, 1], [25, 7, 1], [25, 10, 1], [25, 12, 1]]\n",
      "[120.06400051576959, 155.3224545375756, 128.30799351177566, 284.52508471908595, 238.89527189849272]\n",
      "120.06400051576959\n",
      "[25, 3, 1]\n",
      "K is :  4\n",
      "[[25, 3, 1], [25, 5, 1], [25, 7, 1], [25, 10, 1], [25, 12, 1]]\n",
      "[154.5355792257129, 147.1278509521183, 180.23066330777942, 155.94852508249784, 216.7376713373424]\n",
      "147.1278509521183\n",
      "[25, 5, 1]\n",
      "[[25, 12, 1], [25, 3, 1], [25, 3, 1], [25, 5, 1]]\n",
      "[64.80970274680908, 129.26328306127212, 120.06400051576959, 147.1278509521183]\n",
      "[25, 3, 1]\n",
      "Test number:  2\n",
      "K is :  0\n",
      "[[25, 3, 1], [25, 5, 1], [25, 7, 1], [25, 10, 1], [25, 12, 1]]\n",
      "[89.52602288083666, 80.37423249978308, 75.08390316836034, 68.28789246460114, 65.42280089049993]\n",
      "65.42280089049993\n",
      "[25, 12, 1]\n",
      "K is :  1\n",
      "[[25, 3, 1], [25, 5, 1], [25, 7, 1], [25, 10, 1], [25, 12, 1]]\n",
      "[145.85167200465983, 129.20867936116494, 185.4386148021999, 186.62096553604454, 273.4178607878165]\n",
      "129.20867936116494\n",
      "[25, 5, 1]\n",
      "K is :  2\n",
      "K is :  3\n",
      "[[25, 3, 1], [25, 5, 1], [25, 7, 1], [25, 10, 1], [25, 12, 1]]\n",
      "[168.25680595789748, 239.0110480637561, 159.3330850160602, 144.10738864713588, 200.78737218889765]\n",
      "144.10738864713588\n",
      "[25, 10, 1]\n",
      "K is :  4\n",
      "[[25, 3, 1], [25, 5, 1], [25, 7, 1], [25, 10, 1], [25, 12, 1]]\n",
      "[131.2797383891884, 147.2800367631545, 201.45092344058858, 209.39598907944895, 164.0571335263124]\n",
      "131.2797383891884\n",
      "[25, 3, 1]\n",
      "[[25, 12, 1], [25, 5, 1], [25, 10, 1], [25, 3, 1]]\n",
      "[65.42280089049993, 129.20867936116494, 144.10738864713588, 131.2797383891884]\n",
      "[25, 3, 1]\n",
      "Test number:  3\n",
      "K is :  0\n",
      "[[25, 3, 1], [25, 5, 1], [25, 7, 1], [25, 10, 1], [25, 12, 1]]\n",
      "[88.4411615663927, 82.54990815330734, 75.89992266147826, 68.93123582594333, 63.86112276545029]\n",
      "63.86112276545029\n",
      "[25, 12, 1]\n",
      "K is :  1\n",
      "[[25, 3, 1], [25, 5, 1], [25, 7, 1], [25, 10, 1], [25, 12, 1]]\n",
      "[119.86555808199604, 121.85168530511304, 144.87683792123212, 182.20760004870357, 244.66545283223948]\n",
      "119.86555808199604\n",
      "[25, 3, 1]\n",
      "K is :  2\n",
      "[[25, 3, 1], [25, 5, 1], [25, 7, 1], [25, 10, 1], [25, 12, 1]]\n",
      "[131.64728653467512, 159.98313321913062, 140.53736953816934, 194.24522026481566, 209.6134912227092]\n",
      "131.64728653467512\n",
      "[25, 3, 1]\n",
      "K is :  3\n",
      "K is :  4\n",
      "[[25, 3, 1], [25, 5, 1], [25, 7, 1], [25, 10, 1], [25, 12, 1]]\n",
      "[119.66787162111903, 128.4466446771879, 186.70234069428818, 173.2093629016208, 156.8672214694043]\n",
      "119.66787162111903\n",
      "[25, 3, 1]\n",
      "[[25, 12, 1], [25, 3, 1], [25, 3, 1], [25, 3, 1]]\n",
      "[63.86112276545029, 119.86555808199604, 131.64728653467512, 119.66787162111903]\n",
      "[25, 3, 1]\n",
      "Test number:  4\n",
      "K is :  0\n",
      "[[25, 3, 1], [25, 5, 1], [25, 7, 1], [25, 10, 1], [25, 12, 1]]\n",
      "[87.8397943347252, 82.48541329294004, 75.19099394064241, 67.64633773132358, 64.83496604177996]\n",
      "64.83496604177996\n",
      "[25, 12, 1]\n",
      "K is :  1\n",
      "[[25, 3, 1], [25, 5, 1], [25, 7, 1], [25, 10, 1], [25, 12, 1]]\n",
      "[130.49143327570047, 154.86195604963825, 186.7087630162109, 231.62462262607855, 204.8616749868007]\n",
      "130.49143327570047\n",
      "[25, 3, 1]\n",
      "K is :  2\n",
      "[[25, 3, 1], [25, 5, 1], [25, 7, 1], [25, 10, 1], [25, 12, 1]]\n",
      "[168.93967372476092, 123.81729207762677, 226.75920700911803, 274.79219908154306, 366.5218537756209]\n",
      "123.81729207762677\n",
      "[25, 5, 1]\n",
      "K is :  3\n",
      "[[25, 3, 1], [25, 5, 1], [25, 7, 1], [25, 10, 1], [25, 12, 1]]\n",
      "[188.67839341159402, 263.5179566234042, 158.97456365324794, 175.71353851596385, 220.81570179388643]\n",
      "158.97456365324794\n",
      "[25, 7, 1]\n",
      "K is :  4\n",
      "[[25, 12, 1], [25, 3, 1], [25, 5, 1], [25, 7, 1]]\n",
      "[64.83496604177996, 130.49143327570047, 123.81729207762677, 158.97456365324794]\n",
      "[25, 3, 1]\n"
     ]
    }
   ],
   "source": [
    "models = [[25,3,1],[25,5,1],[25,7,1], [25,10,1], [25,12,1]]\n",
    "\n",
    "bestAccuracy,bestParam = cross_validate(np.array(df), np.array(df_target), models)"
   ]
  },
  {
   "cell_type": "code",
   "execution_count": 122,
   "metadata": {},
   "outputs": [],
   "source": [
    "from sklearn import model_selection\n"
   ]
  },
  {
   "cell_type": "code",
   "execution_count": 123,
   "metadata": {},
   "outputs": [
    {
     "name": "stdout",
     "output_type": "stream",
     "text": [
      "[115.7021053208205, 120.57661363691655, 237.17792294563253, 139.90215152021327, 115.95267237362395] [[25, 3, 1], [25, 3, 1], [25, 3, 1], [25, 3, 1], [25, 3, 1]]\n"
     ]
    }
   ],
   "source": [
    "print(bestAccuracy,bestParam)\n"
   ]
  },
  {
   "cell_type": "code",
   "execution_count": 125,
   "metadata": {},
   "outputs": [],
   "source": [
    "X_train,X_test,y_train,y_test = model_selection.train_test_split(np.array(df),np.array(df_target),test_size=0.30,random_state=40)\n",
    "\n"
   ]
  },
  {
   "cell_type": "code",
   "execution_count": 126,
   "metadata": {},
   "outputs": [
    {
     "data": {
      "text/plain": [
       "{'w': array([-2.27882552e+00,  1.30151596e+00,  3.04673144e+00,  1.96328021e-02,\n",
       "        -1.04563088e-01, -4.54572031e-01, -2.62391586e+00,  1.71129835e+00,\n",
       "         1.88705832e+00, -9.27885148e-01,  3.92360794e-02, -2.43232761e-02,\n",
       "         2.04216035e+00, -1.14226533e+00,  1.20882292e+00,  7.01577953e-01,\n",
       "         2.74418078e-01, -1.15752341e-01,  5.29261181e-01, -3.94545160e-01,\n",
       "        -2.92869125e+00, -1.42331419e-01,  2.91387179e-01, -3.52705793e+00,\n",
       "         5.91520843e-01, -3.54830475e-01,  1.95190566e-01,  1.73704508e+00,\n",
       "        -1.37447165e+00,  3.23940613e+00, -1.66319200e-01, -1.02826249e-01,\n",
       "         1.41735137e+00, -2.08388937e-01,  2.11977255e-01, -3.55789329e-01,\n",
       "         1.29373908e+00, -4.18316048e-01, -4.38329804e+00,  8.69156071e-01,\n",
       "        -3.84575679e-01, -1.34209213e+00,  2.86657335e-01, -2.28166836e-01,\n",
       "         3.39164896e-01,  1.77857307e-01, -7.15802126e-02, -2.55629912e-01,\n",
       "        -3.75385202e-02, -5.82793092e-02, -1.07317474e+00, -1.66938781e+00,\n",
       "         9.00147635e-01,  1.80710319e+00, -8.45293423e-01,  6.01979946e-01,\n",
       "         6.64357255e-01, -6.58351317e-01,  3.42706207e-01, -3.75780563e-02,\n",
       "        -1.76146362e+00,  9.75240474e-01,  3.62723942e+00,  1.12714656e-01,\n",
       "        -1.26449479e-02, -3.13773852e-01, -1.37727666e+00,  8.31287980e-01,\n",
       "         1.41940996e+00,  4.58672702e-02, -4.85224445e-02,  1.84780525e-01,\n",
       "         5.06113372e-02, -5.26716452e-02, -2.19838550e-03,  1.03188728e+00,\n",
       "        -5.96752767e-01, -2.15212057e+00,  4.61695449e-01, -1.77624182e+00,\n",
       "        -1.85440541e+00, -7.47440093e-01]),\n",
       " 'f': 0.3666112512227048,\n",
       " 'reason': 'reached limit of nIterations',\n",
       " 'wtrace': None,\n",
       " 'ftrace': None}"
      ]
     },
     "execution_count": 126,
     "metadata": {},
     "output_type": "execute_result"
    }
   ],
   "source": [
    "model=NeuralNet([25,3,1])  \n",
    "#choosing parameters which occured more number of times on the final parameter list\n",
    "#because those are the list with mininmum rmse\n",
    "model.train(X_train,y_train,niter=1000)"
   ]
  },
  {
   "cell_type": "code",
   "execution_count": 127,
   "metadata": {},
   "outputs": [],
   "source": [
    "y_pred=model.use(X_test)\n"
   ]
  },
  {
   "cell_type": "code",
   "execution_count": 128,
   "metadata": {},
   "outputs": [
    {
     "name": "stdout",
     "output_type": "stream",
     "text": [
      "RMSE: 90.77456146890823\n",
      "R squared value: 0.2050782092852026\n"
     ]
    }
   ],
   "source": [
    "from sklearn.metrics import r2_score\n",
    "print('RMSE:', np.sqrt(mean_squared_error(y_test, y_pred)))\n",
    "print('R squared value:', r2_score(y_test, y_pred))"
   ]
  },
  {
   "cell_type": "markdown",
   "metadata": {},
   "source": [
    "# Sigmoid "
   ]
  },
  {
   "cell_type": "code",
   "execution_count": 181,
   "metadata": {},
   "outputs": [],
   "source": [
    "from grad import scg, steepest\n",
    "from copy import copy\n",
    "\n",
    "\n",
    "class NeuralNet:\n",
    "    \"\"\" neural network class for regression\n",
    "        \n",
    "        Parameters\n",
    "        ----------\n",
    "        nunits: list\n",
    "            the number of inputs, hidden units, and outputs\n",
    "\n",
    "        Methods\n",
    "        -------\n",
    "        set_hunit    \n",
    "            update/initiate weights\n",
    "\n",
    "        pack \n",
    "            pack multiple weights of each layer into one vector\n",
    "\n",
    "        forward\n",
    "            forward processing of neural network\n",
    "\n",
    "        backward\n",
    "            back-propagation of neural network\n",
    "\n",
    "        train\n",
    "            train the neural network\n",
    "\n",
    "        use\n",
    "            appply the trained network for prediction\n",
    "\n",
    "        Attributes\n",
    "        ----------\n",
    "        _nLayers\n",
    "            the number of hidden unit layers \n",
    "\n",
    "        rho\n",
    "            learning rate\n",
    "\n",
    "        _W\n",
    "            weights\n",
    "        _weights\n",
    "            weights in one dimension (_W is referencing _weight)\n",
    "\n",
    "        stdX\n",
    "            standardization class for data\n",
    "        stdT\n",
    "            standardization class for target\n",
    "\n",
    "        Notes\n",
    "        -----\n",
    "        \n",
    "    \"\"\"\n",
    "\n",
    "    def __init__(self, nunits):\n",
    "        self._nLayers=len(nunits)-1\n",
    "        self.rho = [1] * self._nLayers\n",
    "        self._W = []\n",
    "        wdims = []\n",
    "        lenweights = 0\n",
    "        for i in range(self._nLayers):\n",
    "            nwr = nunits[i] + 1\n",
    "            nwc = nunits[i+1]\n",
    "            wdims.append((nwr, nwc))\n",
    "            lenweights = lenweights + nwr * nwc\n",
    "\n",
    "        self._weights = np.random.uniform(-0.1,0.1, lenweights) \n",
    "        start = 0  # fixed index error 20110107\n",
    "        for i in range(self._nLayers):\n",
    "            end = start + wdims[i][0] * wdims[i][1] \n",
    "            self._W.append(self._weights[start:end])\n",
    "            self._W[i].resize(wdims[i])\n",
    "            start = end\n",
    "\n",
    "        self.stdX = None\n",
    "        self.stdT = None\n",
    "        self.stdTarget = True\n",
    "\n",
    "    def add_ones(self, w):\n",
    "        return np.hstack((np.ones((w.shape[0], 1)), w))\n",
    "\n",
    "    def get_nlayers(self):\n",
    "        return self._nLayers\n",
    "\n",
    "    def set_hunit(self, w):\n",
    "        for i in range(self._nLayers-1):\n",
    "            if w[i].shape != self._W[i].shape:\n",
    "                print(\"set_hunit: shapes do not match!\")\n",
    "                break\n",
    "            else:\n",
    "                self._W[i][:] = w[i][:]\n",
    "\n",
    "    def pack(self, w):\n",
    "        return np.hstack(map(np.ravel, w))\n",
    "\n",
    "    def unpack(self, weights):\n",
    "        self._weights[:] = weights[:]  # unpack\n",
    "\n",
    "    def cp_weight(self):\n",
    "        return copy(self._weights)\n",
    "\n",
    "    def RBF(self, X, m=None,s=None):\n",
    "        if m is None: m = np.mean(X)\n",
    "        if s is None: s = 2 #np.std(X)\n",
    "        r = 1. / (np.sqrt(2*np.pi)* s)  \n",
    "        return r * np.exp(-(X - m) ** 2 / (2 * s ** 2))\n",
    "    \n",
    "    def Sigma(self, X):\n",
    "        return (1/(1+(np.exp(-(X)))))\n",
    "    \n",
    "    def dSigma(self, X):\n",
    "        return ((np.exp(-x))/(1+(np.exp(-x)))^2)\n",
    "\n",
    "    def forward(self,X):\n",
    "        t = X \n",
    "        Z = []\n",
    "\n",
    "        for i in range(self._nLayers):\n",
    "            Z.append(t) \n",
    "            if i == self._nLayers - 1:\n",
    "                t = np.dot(self.add_ones(t), self._W[i])\n",
    "            else:\n",
    "                t = self.Sigma(np.dot(self.add_ones(t), self._W[i]))\n",
    "                \n",
    "        return (t, Z)\n",
    "        \n",
    "    def backward(self, error, Z, T, lmb=0):\n",
    "        delta = error\n",
    "        N = T.size\n",
    "        dws = []\n",
    "        for i in range(self._nLayers - 1, -1, -1):\n",
    "            rh = float(self.rho[i]) / N\n",
    "            if i==0:\n",
    "                lmbterm = 0\n",
    "            else:\n",
    "                lmbterm = lmb * np.vstack((np.zeros((1, self._W[i].shape[1])),\n",
    "                            self._W[i][1:,]))\n",
    "                \n",
    "            #print(Z[i].T.shape)\n",
    "            dws.insert(0,(-rh * np.dot(self.add_ones(Z[i]).T, delta) + lmbterm))\n",
    "            if i != 0:\n",
    "                delta = np.dot(delta, self._W[i][1:, :].T) * (np.exp(-Z[i])/(1+np.exp(-Z[i]))**2)\n",
    "        return self.pack(dws)\n",
    "\n",
    "    def _errorf(self, T, Y):\n",
    "        return T - Y\n",
    "        \n",
    "    def _objectf(self, T, Y, wpenalty):\n",
    "        return 0.5 * np.mean(np.square(T - Y)) + wpenalty\n",
    "\n",
    "    def train(self, X, T, **params):\n",
    "\n",
    "        verbose = params.pop('verbose', False)\n",
    "        # training parameters\n",
    "        _lambda = params.pop('Lambda', 0.)\n",
    "\n",
    "        #parameters for scg\n",
    "        niter = params.pop('niter', 1000)\n",
    "        wprecision = params.pop('wprecision', 1e-10)\n",
    "        fprecision = params.pop('fprecision', 1e-10)\n",
    "        wtracep = params.pop('wtracep', False)\n",
    "        ftracep = params.pop('ftracep', False)\n",
    "\n",
    "        # optimization\n",
    "        optim = params.pop('optim', 'scg')\n",
    "\n",
    "        if self.stdX == None:\n",
    "            explore = params.pop('explore', False)\n",
    "            self.stdX = Standardizer(X, explore)\n",
    "        Xs = self.stdX.standardize(X)\n",
    "        if self.stdT == None and self.stdTarget:\n",
    "            self.stdT = Standardizer(T)\n",
    "            T = self.stdT.standardize(T)\n",
    "        \n",
    "        def gradientf(weights):\n",
    "            self.unpack(weights)\n",
    "            Y,Z = self.forward(Xs)\n",
    "            \n",
    "            error = self._errorf(T, Y)\n",
    "            return self.backward(error, Z, T, _lambda)\n",
    "            \n",
    "        def optimtargetf(weights):\n",
    "            \"\"\" optimization target function : MSE \n",
    "            \"\"\"\n",
    "            self.unpack(weights)\n",
    "            #self._weights[:] = weights[:]  # unpack\n",
    "            Y,_ = self.forward(Xs)\n",
    "            Wnb=np.array([])\n",
    "            for i in range(self._nLayers):\n",
    "                if len(Wnb)==0: Wnb=self._W[i][1:,].reshape(self._W[i].size-self._W[i][0,].size,1)\n",
    "                else: Wnb = np.vstack((Wnb,self._W[i][1:,].reshape(self._W[i].size-self._W[i][0,].size,1)))\n",
    "            wpenalty = _lambda * np.dot(Wnb.flat ,Wnb.flat)\n",
    "            return self._objectf(T, Y, wpenalty)\n",
    "\n",
    "        if optim == 'scg':\n",
    "            result = scg(self.cp_weight(), gradientf, optimtargetf,\n",
    "                                        wPrecision=wprecision, fPrecision=fprecision, \n",
    "                                        nIterations=niter,\n",
    "                                        wtracep=wtracep, ftracep=ftracep,\n",
    "                                        verbose=False)\n",
    "            self.unpack(result['w'][:])\n",
    "            self.f = result['f']\n",
    "        elif optim == 'steepest':\n",
    "            result = steepest(self.cp_weight(), gradientf, optimtargetf,\n",
    "                                nIterations=niter,\n",
    "                                xPrecision=wprecision, fPrecision=fprecision,\n",
    "                                xtracep=wtracep, ftracep=ftracep )\n",
    "            self.unpack(result['w'][:])\n",
    "        if ftracep:\n",
    "            self.ftrace = result['ftrace']\n",
    "        if 'reason' in result.keys() and verbose:\n",
    "            print(result['reason'])\n",
    "\n",
    "        return result\n",
    "\n",
    "    def use(self, X, retZ=False):\n",
    "        if self.stdX:\n",
    "            Xs = self.stdX.standardize(X)\n",
    "        else:\n",
    "            Xs = X\n",
    "        Y, Z = self.forward(Xs)\n",
    "        if self.stdT is not None:\n",
    "            Y = self.stdT.unstandardize(Y)\n",
    "        if retZ:\n",
    "            return Y, Z\n",
    "        return Y"
   ]
  },
  {
   "cell_type": "code",
   "execution_count": 182,
   "metadata": {},
   "outputs": [],
   "source": [
    "#Splits into parts of 20% of whole data. So myList will give five 20% of 100% of data\n",
    "def split(data):\n",
    "    part = len(data) / 5.0\n",
    "    mylist = []\n",
    "    x = 0.0\n",
    "    #Iterate through the length of s and keep on appending to myList so we've like 5 parts now and return the list\n",
    "    while x < len(data):\n",
    "        mylist.append(data[int(x):int(x + part)])\n",
    "        x += part\n",
    "    return mylist\n",
    "\n",
    "best_paramlist=[]\n",
    "final_list=[]\n",
    "\n",
    "def cross_validate(X, T, parameters):\n",
    "    #Call Split and get the data partitioned\n",
    "    X_partitioned = split(X)\n",
    "    T_partitioned = split(T)\n",
    "    \n",
    "    #This loop iterates through all the 5 parts..so each i is like test data for the paritioned dataset \n",
    "    for i in range(5): \n",
    "        print(\"Test number: \",i)\n",
    "        X_test = X_partitioned[i]\n",
    "        T_test = T_partitioned[i]\n",
    "\n",
    "        history_rmse=[]\n",
    "        params=[] \n",
    "        #best_param\n",
    "        \n",
    "        #k is the validation part of the 5 parts\n",
    "        for k in range(5): \n",
    "            print(\"K is : \",k)\n",
    "            if i == k: \n",
    "                continue \n",
    "            \n",
    "            #Another 20% of data used\n",
    "            X_val = X_partitioned[k]\n",
    "            T_val = T_partitioned[k]\n",
    "            \n",
    "            #Train will be those which is not test and validation part. The remaining 60% of data of 100%\n",
    "            X_train = X_partitioned[not i and not k]\n",
    "            T_train = T_partitioned[not i and not k]\n",
    "            \n",
    "            #m = 0\n",
    "            paramlist=[]\n",
    "            rmselist=[]\n",
    "            for param in parameters:\n",
    "                \n",
    "                model = NeuralNet(param)\n",
    "                model.train(X_train, T_train)\n",
    "                pred = model.use(X_val)\n",
    "                \n",
    "                valid_err = np.sqrt(mean_squared_error(T_val, pred))\n",
    "                rmselist.append(valid_err)\n",
    "                paramlist.append(param)\n",
    "                \n",
    "            print(paramlist)\n",
    "            print(rmselist)\n",
    "            print(min(rmselist))\n",
    "            print(paramlist[np.argmin(rmselist)])\n",
    "            history_rmse.append(min(rmselist))\n",
    "            params.append(paramlist[np.argmin(rmselist)])\n",
    "         \n",
    "        print(params)\n",
    "        print(history_rmse)\n",
    "        print(paramlist[np.argmin(history_rmse)])\n",
    "        best_param=paramlist[np.argmin(history_rmse)]\n",
    "        best_model = NeuralNet(best_param)\n",
    "        \n",
    "        X_train = X_partitioned[not i]\n",
    "        T_train = T_partitioned[not i]\n",
    "        best_model.train(X_train, T_train)\n",
    "\n",
    "        final_pred = best_model.use(X_test)\n",
    "        final_err = np.sqrt(mean_squared_error(T_test, final_pred))\n",
    "        final_list.append(final_err)\n",
    "        best_paramlist.append(best_param)\n",
    "\n",
    "    return final_list,best_paramlist\n",
    "    \n",
    "\n"
   ]
  },
  {
   "cell_type": "code",
   "execution_count": 183,
   "metadata": {},
   "outputs": [
    {
     "name": "stdout",
     "output_type": "stream",
     "text": [
      "Test number:  0\n",
      "K is :  0\n",
      "K is :  1\n",
      "[[25, 3, 1], [25, 5, 1], [25, 7, 1], [25, 10, 1], [25, 12, 1]]\n",
      "[104.08816272868376, 99.50184307314123, 108.20319313016253, 105.27699661168242, 112.44631963676589]\n",
      "99.50184307314123\n",
      "[25, 5, 1]\n",
      "K is :  2\n",
      "[[25, 3, 1], [25, 5, 1], [25, 7, 1], [25, 10, 1], [25, 12, 1]]\n",
      "[111.9055876298813, 157.89690484041043, 149.65957068618383, 154.05093755504535, 161.95886482477036]\n",
      "111.9055876298813\n",
      "[25, 3, 1]\n",
      "K is :  3\n",
      "[[25, 3, 1], [25, 5, 1], [25, 7, 1], [25, 10, 1], [25, 12, 1]]\n",
      "[116.77731769494791, 120.80536550676015, 119.95011845391505, 136.71606380473162, 144.3995918144219]\n",
      "116.77731769494791\n",
      "[25, 3, 1]\n",
      "K is :  4\n",
      "[[25, 3, 1], [25, 5, 1], [25, 7, 1], [25, 10, 1], [25, 12, 1]]\n",
      "[107.03180093307122, 110.01427483370718, 100.09424017395386, 98.14487401322036, 106.10038384019454]\n",
      "98.14487401322036\n",
      "[25, 10, 1]\n",
      "[[25, 5, 1], [25, 3, 1], [25, 3, 1], [25, 10, 1]]\n",
      "[99.50184307314123, 111.9055876298813, 116.77731769494791, 98.14487401322036]\n",
      "[25, 10, 1]\n",
      "Test number:  1\n",
      "K is :  0\n",
      "[[25, 3, 1], [25, 5, 1], [25, 7, 1], [25, 10, 1], [25, 12, 1]]\n",
      "[103.02484586238734, 100.70713246745561, 100.22868500970092, 103.08234768181975, 100.53647585863179]\n",
      "100.22868500970092\n",
      "[25, 7, 1]\n",
      "K is :  1\n",
      "K is :  2\n",
      "[[25, 3, 1], [25, 5, 1], [25, 7, 1], [25, 10, 1], [25, 12, 1]]\n",
      "[135.78717162029923, 135.6501099445226, 140.54309744383104, 121.95006277538954, 144.30383558862138]\n",
      "121.95006277538954\n",
      "[25, 10, 1]\n",
      "K is :  3\n",
      "[[25, 3, 1], [25, 5, 1], [25, 7, 1], [25, 10, 1], [25, 12, 1]]\n",
      "[146.74387547439537, 135.53070983648388, 142.2425354893984, 134.96995659376944, 105.15479810137]\n",
      "105.15479810137\n",
      "[25, 12, 1]\n",
      "K is :  4\n",
      "[[25, 3, 1], [25, 5, 1], [25, 7, 1], [25, 10, 1], [25, 12, 1]]\n",
      "[107.44831480688983, 108.13517083918205, 106.2831231333395, 107.66792108129565, 106.82991492048319]\n",
      "106.2831231333395\n",
      "[25, 7, 1]\n",
      "[[25, 7, 1], [25, 10, 1], [25, 12, 1], [25, 7, 1]]\n",
      "[100.22868500970092, 121.95006277538954, 105.15479810137, 106.2831231333395]\n",
      "[25, 3, 1]\n",
      "Test number:  2\n",
      "K is :  0\n",
      "[[25, 3, 1], [25, 5, 1], [25, 7, 1], [25, 10, 1], [25, 12, 1]]\n",
      "[104.14248437205723, 103.75799312909739, 99.78819740456564, 100.08170265906008, 100.32894519729504]\n",
      "99.78819740456564\n",
      "[25, 7, 1]\n",
      "K is :  1\n",
      "[[25, 3, 1], [25, 5, 1], [25, 7, 1], [25, 10, 1], [25, 12, 1]]\n",
      "[109.93286830287343, 105.30116447942129, 106.81099515885079, 110.1905180083404, 103.86607157697325]\n",
      "103.86607157697325\n",
      "[25, 12, 1]\n",
      "K is :  2\n",
      "K is :  3\n",
      "[[25, 3, 1], [25, 5, 1], [25, 7, 1], [25, 10, 1], [25, 12, 1]]\n",
      "[132.59153307510235, 146.62778401781304, 132.53318891454452, 118.1245409227014, 129.97919379664913]\n",
      "118.1245409227014\n",
      "[25, 10, 1]\n",
      "K is :  4\n",
      "[[25, 3, 1], [25, 5, 1], [25, 7, 1], [25, 10, 1], [25, 12, 1]]\n",
      "[100.6539218967779, 101.27893341651503, 109.04106875691289, 120.29113181862077, 133.94575414655966]\n",
      "100.6539218967779\n",
      "[25, 3, 1]\n",
      "[[25, 7, 1], [25, 12, 1], [25, 10, 1], [25, 3, 1]]\n",
      "[99.78819740456564, 103.86607157697325, 118.1245409227014, 100.6539218967779]\n",
      "[25, 3, 1]\n",
      "Test number:  3\n",
      "K is :  0\n",
      "[[25, 3, 1], [25, 5, 1], [25, 7, 1], [25, 10, 1], [25, 12, 1]]\n",
      "[105.54958081516934, 101.61125667230631, 101.54917991710248, 99.60773766365553, 100.31769232870758]\n",
      "99.60773766365553\n",
      "[25, 10, 1]\n",
      "K is :  1\n",
      "[[25, 3, 1], [25, 5, 1], [25, 7, 1], [25, 10, 1], [25, 12, 1]]\n",
      "[104.64680404981452, 101.38022267782267, 109.47653521500189, 111.06407682753084, 109.8236869742677]\n",
      "101.38022267782267\n",
      "[25, 5, 1]\n",
      "K is :  2\n",
      "[[25, 3, 1], [25, 5, 1], [25, 7, 1], [25, 10, 1], [25, 12, 1]]\n",
      "[124.55854971031182, 109.10676008060896, 154.03612179789923, 134.9575558650447, 154.03045594079003]\n",
      "109.10676008060896\n",
      "[25, 5, 1]\n",
      "K is :  3\n",
      "K is :  4\n",
      "[[25, 3, 1], [25, 5, 1], [25, 7, 1], [25, 10, 1], [25, 12, 1]]\n",
      "[106.98101940445733, 111.82579232432927, 107.78522930853264, 104.03373736765501, 102.23743666230278]\n",
      "102.23743666230278\n",
      "[25, 12, 1]\n",
      "[[25, 10, 1], [25, 5, 1], [25, 5, 1], [25, 12, 1]]\n",
      "[99.60773766365553, 101.38022267782267, 109.10676008060896, 102.23743666230278]\n",
      "[25, 3, 1]\n",
      "Test number:  4\n",
      "K is :  0\n",
      "[[25, 3, 1], [25, 5, 1], [25, 7, 1], [25, 10, 1], [25, 12, 1]]\n",
      "[100.81272773229733, 99.94289659208235, 99.46671080608623, 100.29547089721555, 100.72699799798549]\n",
      "99.46671080608623\n",
      "[25, 7, 1]\n",
      "K is :  1\n",
      "[[25, 3, 1], [25, 5, 1], [25, 7, 1], [25, 10, 1], [25, 12, 1]]\n",
      "[104.3742585701383, 107.23950829447251, 115.49558117528575, 110.03938508497959, 108.51104958813038]\n",
      "104.3742585701383\n",
      "[25, 3, 1]\n",
      "K is :  2\n",
      "[[25, 3, 1], [25, 5, 1], [25, 7, 1], [25, 10, 1], [25, 12, 1]]\n",
      "[132.73292828759327, 152.3005398340786, 109.54760433389941, 130.66053794995605, 104.45888202680266]\n",
      "104.45888202680266\n",
      "[25, 12, 1]\n",
      "K is :  3\n",
      "[[25, 3, 1], [25, 5, 1], [25, 7, 1], [25, 10, 1], [25, 12, 1]]\n",
      "[130.84623972591984, 137.85609567838372, 127.74852574746706, 119.4280242514521, 102.56145230068736]\n",
      "102.56145230068736\n",
      "[25, 12, 1]\n",
      "K is :  4\n",
      "[[25, 7, 1], [25, 3, 1], [25, 12, 1], [25, 12, 1]]\n",
      "[99.46671080608623, 104.3742585701383, 104.45888202680266, 102.56145230068736]\n",
      "[25, 3, 1]\n"
     ]
    }
   ],
   "source": [
    "models = [[25,3,1],[25,5,1],[25,7,1], [25,10,1], [25,12,1]]\n",
    "\n",
    "bestAccuracy,bestParam = cross_validate(np.array(df), np.array(df_target), models)"
   ]
  },
  {
   "cell_type": "code",
   "execution_count": 184,
   "metadata": {},
   "outputs": [
    {
     "name": "stdout",
     "output_type": "stream",
     "text": [
      "[113.79164154806121, 101.19197249802036, 127.66184260682107, 133.83345112297013, 92.0659970609476] [[25, 10, 1], [25, 3, 1], [25, 3, 1], [25, 3, 1], [25, 3, 1]]\n"
     ]
    }
   ],
   "source": [
    "from sklearn import model_selection\n",
    "\n",
    "\n",
    "print(bestAccuracy,bestParam)\n",
    "\n"
   ]
  },
  {
   "cell_type": "code",
   "execution_count": 185,
   "metadata": {},
   "outputs": [],
   "source": [
    "X_train,X_test,y_train,y_test = model_selection.train_test_split(np.array(df),np.array(df_target),test_size=0.30,random_state=40)\n",
    "\n"
   ]
  },
  {
   "cell_type": "code",
   "execution_count": 186,
   "metadata": {},
   "outputs": [
    {
     "data": {
      "text/plain": [
       "{'w': array([-3.69950436e-02,  8.67115353e-02, -1.91188086e-01,  2.97972130e-01,\n",
       "        -1.62651981e-01,  2.45991158e-01, -2.50654593e-02,  3.32082166e-01,\n",
       "        -9.41826390e-02,  6.88863432e-01, -8.58952016e-01,  9.78587004e-01,\n",
       "        -4.16983021e-01,  4.97144243e-01, -5.92540492e-01, -6.83588395e-01,\n",
       "         7.19985879e-01, -8.86769169e-01,  7.06042225e-01, -6.95633791e-01,\n",
       "         9.72858096e-01,  1.62977748e-01, -4.67170520e-01,  1.35968066e-01,\n",
       "         9.86840876e-04,  1.65243244e-01, -2.02210937e-02, -1.24459750e-01,\n",
       "        -9.78251223e-02, -8.97778769e-02,  9.94497638e-02,  1.66658696e-01,\n",
       "         8.45460915e-02,  1.24303192e-01,  2.59992930e-01,  1.19801642e-01,\n",
       "         3.20549529e-01, -5.51370416e-01,  5.43715944e-01,  7.28747840e-02,\n",
       "         6.28693888e-02,  1.69635823e-01, -2.78078405e-02,  6.58586446e-02,\n",
       "         5.62866470e-02, -5.22845434e-02, -7.02846844e-03, -6.91430593e-02,\n",
       "         3.70661823e-01, -2.42045235e-01,  3.74622169e-01, -3.05471848e-01,\n",
       "         3.40615564e-01, -4.93769004e-01, -3.66745036e-01,  5.14787025e-01,\n",
       "        -6.65846626e-01,  6.06996843e-04, -1.35839078e-01, -2.22224217e-01,\n",
       "        -1.73696413e-01,  1.04431411e-01, -3.16661075e-01,  3.26241206e-02,\n",
       "         3.51417445e-02,  6.99811032e-02,  3.54345986e-02,  1.66607209e-01,\n",
       "         2.55121379e-01, -1.71582146e-02, -1.50828330e-01,  7.13407003e-02,\n",
       "         3.67806095e-02, -8.60415296e-02, -6.55931530e-03, -1.08895350e-01,\n",
       "         1.04224587e-01, -6.32405601e-02, -4.02647247e-01,  7.43966568e-01,\n",
       "        -1.06244879e+00,  1.30330434e+00]),\n",
       " 'f': 0.4159543813626876,\n",
       " 'reason': 'reached limit of nIterations',\n",
       " 'wtrace': None,\n",
       " 'ftrace': None}"
      ]
     },
     "execution_count": 186,
     "metadata": {},
     "output_type": "execute_result"
    }
   ],
   "source": [
    "model=NeuralNet([25,3,1])  \n",
    "#choosing parameters which occured more number of times on the final parameter list\n",
    "#because those are the list with mininmum rmse\n",
    "model.train(X_train,y_train,niter=1000)"
   ]
  },
  {
   "cell_type": "code",
   "execution_count": 187,
   "metadata": {},
   "outputs": [],
   "source": [
    "y_pred=model.use(X_test)\n",
    "\n",
    "from sklearn.metrics import r2_score\n",
    "print('RMSE:', np.sqrt(mean_squared_error(y_test, y_pred)))\n",
    "print('R squared value:', r2_score(y_test, y_pred))"
   ]
  },
  {
   "cell_type": "code",
   "execution_count": 188,
   "metadata": {},
   "outputs": [
    {
     "name": "stdout",
     "output_type": "stream",
     "text": [
      "RMSE: 94.01467887675986\n",
      "R squared value: 0.14731736791556416\n"
     ]
    }
   ],
   "source": []
  },
  {
   "cell_type": "markdown",
   "metadata": {},
   "source": [
    "# ReLU"
   ]
  },
  {
   "cell_type": "code",
   "execution_count": 192,
   "metadata": {},
   "outputs": [],
   "source": [
    "from grad import scg, steepest\n",
    "from copy import copy\n",
    "\n",
    "\n",
    "class NeuralNet:\n",
    "    \"\"\" neural network class for regression\n",
    "        \n",
    "        Parameters\n",
    "        ----------\n",
    "        nunits: list\n",
    "            the number of inputs, hidden units, and outputs\n",
    "\n",
    "        Methods\n",
    "        -------\n",
    "        set_hunit    \n",
    "            update/initiate weights\n",
    "\n",
    "        pack \n",
    "            pack multiple weights of each layer into one vector\n",
    "\n",
    "        forward\n",
    "            forward processing of neural network\n",
    "\n",
    "        backward\n",
    "            back-propagation of neural network\n",
    "\n",
    "        train\n",
    "            train the neural network\n",
    "\n",
    "        use\n",
    "            appply the trained network for prediction\n",
    "\n",
    "        Attributes\n",
    "        ----------\n",
    "        _nLayers\n",
    "            the number of hidden unit layers \n",
    "\n",
    "        rho\n",
    "            learning rate\n",
    "\n",
    "        _W\n",
    "            weights\n",
    "        _weights\n",
    "            weights in one dimension (_W is referencing _weight)\n",
    "\n",
    "        stdX\n",
    "            standardization class for data\n",
    "        stdT\n",
    "            standardization class for target\n",
    "\n",
    "        Notes\n",
    "        -----\n",
    "        \n",
    "    \"\"\"\n",
    "\n",
    "    def __init__(self, nunits):\n",
    "        self._nLayers=len(nunits)-1\n",
    "        self.rho = [1] * self._nLayers\n",
    "        self._W = []\n",
    "        wdims = []\n",
    "        lenweights = 0\n",
    "        for i in range(self._nLayers):\n",
    "            nwr = nunits[i] + 1\n",
    "            nwc = nunits[i+1]\n",
    "            wdims.append((nwr, nwc))\n",
    "            lenweights = lenweights + nwr * nwc\n",
    "\n",
    "        self._weights = np.random.uniform(-0.1,0.1, lenweights) \n",
    "        start = 0  # fixed index error 20110107\n",
    "        for i in range(self._nLayers):\n",
    "            end = start + wdims[i][0] * wdims[i][1] \n",
    "            self._W.append(self._weights[start:end])\n",
    "            self._W[i].resize(wdims[i])\n",
    "            start = end\n",
    "\n",
    "        self.stdX = None\n",
    "        self.stdT = None\n",
    "        self.stdTarget = True\n",
    "\n",
    "    def add_ones(self, w):\n",
    "        return np.hstack((np.ones((w.shape[0], 1)), w))\n",
    "\n",
    "    def get_nlayers(self):\n",
    "        return self._nLayers\n",
    "\n",
    "    def set_hunit(self, w):\n",
    "        for i in range(self._nLayers-1):\n",
    "            if w[i].shape != self._W[i].shape:\n",
    "                print(\"set_hunit: shapes do not match!\")\n",
    "                break\n",
    "            else:\n",
    "                self._W[i][:] = w[i][:]\n",
    "\n",
    "    def pack(self, w):\n",
    "        return np.hstack(map(np.ravel, w))\n",
    "\n",
    "    def unpack(self, weights):\n",
    "        self._weights[:] = weights[:]  # unpack\n",
    "\n",
    "    def cp_weight(self):\n",
    "        return copy(self._weights)\n",
    "\n",
    "    def RBF(self, X, m=None,s=None):\n",
    "        if m is None: m = np.mean(X)\n",
    "        if s is None: s = 2 #np.std(X)\n",
    "        r = 1. / (np.sqrt(2*np.pi)* s)  \n",
    "        return r * np.exp(-(X - m) ** 2 / (2 * s ** 2))\n",
    "    \n",
    "    def Sigma(self, X):\n",
    "        return (1/(1+(np.exp(-(X)))))\n",
    "    \n",
    "    def dSigma(self, X):\n",
    "        return ((np.exp(-x))/(1+(np.exp(-x)))^2)\n",
    "    \n",
    "    def ReLU(self, x):\n",
    "        return x * (x > 0)\n",
    "\n",
    "    def dReLU(self, x):\n",
    "        return 1. * (x > 0)\n",
    "\n",
    "    def forward(self,X):\n",
    "        t = X \n",
    "        Z = []\n",
    "\n",
    "        for i in range(self._nLayers):\n",
    "            Z.append(t) \n",
    "            if i == self._nLayers - 1:\n",
    "                t = np.dot(self.add_ones(t), self._W[i])\n",
    "            else:\n",
    "                t = self.ReLU(np.dot(self.add_ones(t), self._W[i]))\n",
    "                \n",
    "        return (t, Z)\n",
    "        \n",
    "    def backward(self, error, Z, T, lmb=0):\n",
    "        delta = error\n",
    "        N = T.size\n",
    "        dws = []\n",
    "        for i in range(self._nLayers - 1, -1, -1):\n",
    "            rh = float(self.rho[i]) / N\n",
    "            if i==0:\n",
    "                lmbterm = 0\n",
    "            else:\n",
    "                lmbterm = lmb * np.vstack((np.zeros((1, self._W[i].shape[1])),\n",
    "                            self._W[i][1:,]))\n",
    "                \n",
    "            #print(Z[i].T.shape)\n",
    "            dws.insert(0,(-rh * np.dot(self.add_ones(Z[i]).T, delta) + lmbterm))\n",
    "            if i != 0:\n",
    "                delta = np.dot(delta, self._W[i][1:, :].T) * (1. * Z[i])\n",
    "        return self.pack(dws)\n",
    "\n",
    "    def _errorf(self, T, Y):\n",
    "        return T - Y\n",
    "        \n",
    "    def _objectf(self, T, Y, wpenalty):\n",
    "        return 0.5 * np.mean(np.square(T - Y)) + wpenalty\n",
    "\n",
    "    def train(self, X, T, **params):\n",
    "\n",
    "        verbose = params.pop('verbose', False)\n",
    "        # training parameters\n",
    "        _lambda = params.pop('Lambda', 0.)\n",
    "\n",
    "        #parameters for scg\n",
    "        niter = params.pop('niter', 1000)\n",
    "        wprecision = params.pop('wprecision', 1e-10)\n",
    "        fprecision = params.pop('fprecision', 1e-10)\n",
    "        wtracep = params.pop('wtracep', False)\n",
    "        ftracep = params.pop('ftracep', False)\n",
    "\n",
    "        # optimization\n",
    "        optim = params.pop('optim', 'scg')\n",
    "\n",
    "        if self.stdX == None:\n",
    "            explore = params.pop('explore', False)\n",
    "            self.stdX = Standardizer(X, explore)\n",
    "        Xs = self.stdX.standardize(X)\n",
    "        if self.stdT == None and self.stdTarget:\n",
    "            self.stdT = Standardizer(T)\n",
    "            T = self.stdT.standardize(T)\n",
    "        \n",
    "        def gradientf(weights):\n",
    "            self.unpack(weights)\n",
    "            Y,Z = self.forward(Xs)\n",
    "            \n",
    "            error = self._errorf(T, Y)\n",
    "            return self.backward(error, Z, T, _lambda)\n",
    "            \n",
    "        def optimtargetf(weights):\n",
    "            \"\"\" optimization target function : MSE \n",
    "            \"\"\"\n",
    "            self.unpack(weights)\n",
    "            #self._weights[:] = weights[:]  # unpack\n",
    "            Y,_ = self.forward(Xs)\n",
    "            Wnb=np.array([])\n",
    "            for i in range(self._nLayers):\n",
    "                if len(Wnb)==0: Wnb=self._W[i][1:,].reshape(self._W[i].size-self._W[i][0,].size,1)\n",
    "                else: Wnb = np.vstack((Wnb,self._W[i][1:,].reshape(self._W[i].size-self._W[i][0,].size,1)))\n",
    "            wpenalty = _lambda * np.dot(Wnb.flat ,Wnb.flat)\n",
    "            return self._objectf(T, Y, wpenalty)\n",
    "\n",
    "        if optim == 'scg':\n",
    "            result = scg(self.cp_weight(), gradientf, optimtargetf,\n",
    "                                        wPrecision=wprecision, fPrecision=fprecision, \n",
    "                                        nIterations=niter,\n",
    "                                        wtracep=wtracep, ftracep=ftracep,\n",
    "                                        verbose=False)\n",
    "            self.unpack(result['w'][:])\n",
    "            self.f = result['f']\n",
    "        elif optim == 'steepest':\n",
    "            result = steepest(self.cp_weight(), gradientf, optimtargetf,\n",
    "                                nIterations=niter,\n",
    "                                xPrecision=wprecision, fPrecision=fprecision,\n",
    "                                xtracep=wtracep, ftracep=ftracep )\n",
    "            self.unpack(result['w'][:])\n",
    "        if ftracep:\n",
    "            self.ftrace = result['ftrace']\n",
    "        if 'reason' in result.keys() and verbose:\n",
    "            print(result['reason'])\n",
    "\n",
    "        return result\n",
    "\n",
    "    def use(self, X, retZ=False):\n",
    "        if self.stdX:\n",
    "            Xs = self.stdX.standardize(X)\n",
    "        else:\n",
    "            Xs = X\n",
    "        Y, Z = self.forward(Xs)\n",
    "        if self.stdT is not None:\n",
    "            Y = self.stdT.unstandardize(Y)\n",
    "        if retZ:\n",
    "            return Y, Z\n",
    "        return Y"
   ]
  },
  {
   "cell_type": "code",
   "execution_count": 193,
   "metadata": {},
   "outputs": [],
   "source": [
    "#Splits into parts of 20% of whole data. So myList will give five 20% of 100% of data\n",
    "def split(data):\n",
    "    part = len(data) / 5.0\n",
    "    mylist = []\n",
    "    x = 0.0\n",
    "    #Iterate through the length of s and keep on appending to myList so we've like 5 parts now and return the list\n",
    "    while x < len(data):\n",
    "        mylist.append(data[int(x):int(x + part)])\n",
    "        x += part\n",
    "    return mylist\n",
    "\n",
    "best_paramlist=[]\n",
    "final_list=[]\n",
    "\n",
    "def cross_validate(X, T, parameters):\n",
    "    #Call Split and get the data partitioned\n",
    "    X_partitioned = split(X)\n",
    "    T_partitioned = split(T)\n",
    "    \n",
    "    #This loop iterates through all the 5 parts..so each i is like test data for the paritioned dataset \n",
    "    for i in range(5): \n",
    "        print(\"Test number: \",i)\n",
    "        X_test = X_partitioned[i]\n",
    "        T_test = T_partitioned[i]\n",
    "\n",
    "        history_rmse=[]\n",
    "        params=[] \n",
    "        #best_param\n",
    "        \n",
    "        #k is the validation part of the 5 parts\n",
    "        for k in range(5): \n",
    "            print(\"K is : \",k)\n",
    "            if i == k: \n",
    "                continue \n",
    "            \n",
    "            #Another 20% of data used\n",
    "            X_val = X_partitioned[k]\n",
    "            T_val = T_partitioned[k]\n",
    "            \n",
    "            #Train will be those which is not test and validation part. The remaining 60% of data of 100%\n",
    "            X_train = X_partitioned[not i and not k]\n",
    "            T_train = T_partitioned[not i and not k]\n",
    "            \n",
    "            #m = 0\n",
    "            paramlist=[]\n",
    "            rmselist=[]\n",
    "            for param in parameters:\n",
    "                \n",
    "                model = NeuralNet(param)\n",
    "                model.train(X_train, T_train)\n",
    "                pred = model.use(X_val)\n",
    "                \n",
    "                valid_err = np.sqrt(mean_squared_error(T_val, pred))\n",
    "                rmselist.append(valid_err)\n",
    "                paramlist.append(param)\n",
    "                \n",
    "            print(paramlist)\n",
    "            print(rmselist)\n",
    "            print(min(rmselist))\n",
    "            print(paramlist[np.argmin(rmselist)])\n",
    "            history_rmse.append(min(rmselist))\n",
    "            params.append(paramlist[np.argmin(rmselist)])\n",
    "         \n",
    "        print(params)\n",
    "        print(history_rmse)\n",
    "        print(paramlist[np.argmin(history_rmse)])\n",
    "        best_param=paramlist[np.argmin(history_rmse)]\n",
    "        best_model = NeuralNet(best_param)\n",
    "        \n",
    "        X_train = X_partitioned[not i]\n",
    "        T_train = T_partitioned[not i]\n",
    "        best_model.train(X_train, T_train)\n",
    "\n",
    "        final_pred = best_model.use(X_test)\n",
    "        final_err = np.sqrt(mean_squared_error(T_test, final_pred))\n",
    "        final_list.append(final_err)\n",
    "        best_paramlist.append(best_param)\n",
    "\n",
    "    return final_list,best_paramlist\n",
    "    \n",
    "\n",
    "\n"
   ]
  },
  {
   "cell_type": "code",
   "execution_count": 194,
   "metadata": {},
   "outputs": [
    {
     "name": "stdout",
     "output_type": "stream",
     "text": [
      "Test number:  0\n",
      "K is :  0\n",
      "K is :  1\n",
      "[[25, 3, 1], [25, 5, 1], [25, 7, 1], [25, 10, 1], [25, 12, 1]]\n",
      "[102.68935057348067, 104.35343339194243, 106.85604784414795, 124.38783568922585, 132.01502053938222]\n",
      "102.68935057348067\n",
      "[25, 3, 1]\n",
      "K is :  2\n",
      "[[25, 3, 1], [25, 5, 1], [25, 7, 1], [25, 10, 1], [25, 12, 1]]\n",
      "[121.7989919350682, 112.57747317533246, 107.79588772819898, 120.25645839881913, 118.47940677738936]\n",
      "107.79588772819898\n",
      "[25, 7, 1]\n",
      "K is :  3\n",
      "[[25, 3, 1], [25, 5, 1], [25, 7, 1], [25, 10, 1], [25, 12, 1]]\n",
      "[126.27644113335933, 145.81337017775073, 212.84460069330032, 202.41010942804252, 225.61519982887108]\n",
      "126.27644113335933\n",
      "[25, 3, 1]\n",
      "K is :  4\n",
      "[[25, 3, 1], [25, 5, 1], [25, 7, 1], [25, 10, 1], [25, 12, 1]]\n",
      "[95.05336535284006, 243.49200624980634, 187.69739971252514, 179.096030178349, 221.8096772376428]\n",
      "95.05336535284006\n",
      "[25, 3, 1]\n",
      "[[25, 3, 1], [25, 7, 1], [25, 3, 1], [25, 3, 1]]\n",
      "[102.68935057348067, 107.79588772819898, 126.27644113335933, 95.05336535284006]\n",
      "[25, 10, 1]\n",
      "Test number:  1\n",
      "K is :  0\n",
      "[[25, 3, 1], [25, 5, 1], [25, 7, 1], [25, 10, 1], [25, 12, 1]]\n",
      "[96.9869221776472, 109.49828542531043, 94.84437858468517, 104.65108190015367, 94.54930727705123]\n",
      "94.54930727705123\n",
      "[25, 12, 1]\n",
      "K is :  1\n",
      "K is :  2\n",
      "[[25, 3, 1], [25, 5, 1], [25, 7, 1], [25, 10, 1], [25, 12, 1]]\n",
      "[102.44186639774044, 111.9040152473612, 106.54593559317195, 107.06926249863767, 137.5696427869047]\n",
      "102.44186639774044\n",
      "[25, 3, 1]\n",
      "K is :  3\n",
      "[[25, 3, 1], [25, 5, 1], [25, 7, 1], [25, 10, 1], [25, 12, 1]]\n",
      "[105.85585830030846, 155.5556913991839, 149.0919517474078, 140.92744070682878, 160.01301189965284]\n",
      "105.85585830030846\n",
      "[25, 3, 1]\n",
      "K is :  4\n",
      "[[25, 3, 1], [25, 5, 1], [25, 7, 1], [25, 10, 1], [25, 12, 1]]\n",
      "[153.88278939444533, 89.84042059275683, 260.97806587855933, 290.0513180916694, 209.85531771538317]\n",
      "89.84042059275683\n",
      "[25, 5, 1]\n",
      "[[25, 12, 1], [25, 3, 1], [25, 3, 1], [25, 5, 1]]\n",
      "[94.54930727705123, 102.44186639774044, 105.85585830030846, 89.84042059275683]\n",
      "[25, 10, 1]\n",
      "Test number:  2\n",
      "K is :  0\n",
      "[[25, 3, 1], [25, 5, 1], [25, 7, 1], [25, 10, 1], [25, 12, 1]]\n",
      "[100.15843872941012, 95.88699377398216, 100.09310510487899, 95.9055866939905, 99.10163214125446]\n",
      "95.88699377398216\n",
      "[25, 5, 1]\n",
      "K is :  1\n",
      "[[25, 3, 1], [25, 5, 1], [25, 7, 1], [25, 10, 1], [25, 12, 1]]\n",
      "[100.94382691944386, 102.15033375275688, 101.36647791003844, 112.71502641791471, 117.91685582379716]\n",
      "100.94382691944386\n",
      "[25, 3, 1]\n",
      "K is :  2\n",
      "K is :  3\n",
      "[[25, 3, 1], [25, 5, 1], [25, 7, 1], [25, 10, 1], [25, 12, 1]]\n",
      "[105.17396825629635, 107.99934600088382, 115.54718337527135, 141.36864573383988, 125.36897332612813]\n",
      "105.17396825629635\n",
      "[25, 3, 1]\n",
      "K is :  4\n",
      "[[25, 3, 1], [25, 5, 1], [25, 7, 1], [25, 10, 1], [25, 12, 1]]\n",
      "[156.3327080174718, 128.87730274346347, 104.60273055265411, 191.4941912374783, 207.2832829839486]\n",
      "104.60273055265411\n",
      "[25, 7, 1]\n",
      "[[25, 5, 1], [25, 3, 1], [25, 3, 1], [25, 7, 1]]\n",
      "[95.88699377398216, 100.94382691944386, 105.17396825629635, 104.60273055265411]\n",
      "[25, 3, 1]\n",
      "Test number:  3\n",
      "K is :  0\n",
      "[[25, 3, 1], [25, 5, 1], [25, 7, 1], [25, 10, 1], [25, 12, 1]]\n",
      "[101.05399355899736, 96.26292235031619, 95.99126110676191, 96.53207419813232, 96.38513957480629]\n",
      "95.99126110676191\n",
      "[25, 7, 1]\n",
      "K is :  1\n",
      "[[25, 3, 1], [25, 5, 1], [25, 7, 1], [25, 10, 1], [25, 12, 1]]\n",
      "[100.34581057767514, 101.00385050410607, 107.4649466317461, 128.45037894419636, 122.28624448578836]\n",
      "100.34581057767514\n",
      "[25, 3, 1]\n",
      "K is :  2\n",
      "[[25, 3, 1], [25, 5, 1], [25, 7, 1], [25, 10, 1], [25, 12, 1]]\n",
      "[106.90057021248606, 124.07951282276254, 182.9417544856476, 143.7435567623114, 141.07254241244067]\n",
      "106.90057021248606\n",
      "[25, 3, 1]\n",
      "K is :  3\n",
      "K is :  4\n",
      "[[25, 3, 1], [25, 5, 1], [25, 7, 1], [25, 10, 1], [25, 12, 1]]\n",
      "[143.4346695160184, 248.37596598414657, 104.047264223478, 255.8576288865341, 179.07791045389186]\n",
      "104.047264223478\n",
      "[25, 7, 1]\n",
      "[[25, 7, 1], [25, 3, 1], [25, 3, 1], [25, 7, 1]]\n",
      "[95.99126110676191, 100.34581057767514, 106.90057021248606, 104.047264223478]\n",
      "[25, 3, 1]\n",
      "Test number:  4\n",
      "K is :  0\n",
      "[[25, 3, 1], [25, 5, 1], [25, 7, 1], [25, 10, 1], [25, 12, 1]]\n",
      "[101.33064112299624, 94.86448891849837, 95.33441639954886, 96.80360724775566, 96.36077390251714]\n",
      "94.86448891849837\n",
      "[25, 5, 1]\n",
      "K is :  1\n",
      "[[25, 3, 1], [25, 5, 1], [25, 7, 1], [25, 10, 1], [25, 12, 1]]\n",
      "[104.06484310890036, 113.85798772901127, 136.8320099556772, 103.86988718415533, 126.81871072823095]\n",
      "103.86988718415533\n",
      "[25, 10, 1]\n",
      "K is :  2\n",
      "[[25, 3, 1], [25, 5, 1], [25, 7, 1], [25, 10, 1], [25, 12, 1]]\n",
      "[105.0255193066184, 110.06966437087567, 119.60971964984866, 126.28057673834707, 157.84707030922485]\n",
      "105.0255193066184\n",
      "[25, 3, 1]\n",
      "K is :  3\n",
      "[[25, 3, 1], [25, 5, 1], [25, 7, 1], [25, 10, 1], [25, 12, 1]]\n",
      "[104.95227119772319, 110.5228227659022, 100.72525973712769, 156.0825205803201, 239.90092401264013]\n",
      "100.72525973712769\n",
      "[25, 7, 1]\n",
      "K is :  4\n",
      "[[25, 5, 1], [25, 10, 1], [25, 3, 1], [25, 7, 1]]\n",
      "[94.86448891849837, 103.86988718415533, 105.0255193066184, 100.72525973712769]\n",
      "[25, 3, 1]\n"
     ]
    }
   ],
   "source": [
    "models = [[25,3,1],[25,5,1],[25,7,1], [25,10,1], [25,12,1]]\n",
    "\n",
    "bestAccuracy,bestParam = cross_validate(np.array(df), np.array(df_target), models)"
   ]
  },
  {
   "cell_type": "code",
   "execution_count": 195,
   "metadata": {},
   "outputs": [
    {
     "name": "stdout",
     "output_type": "stream",
     "text": [
      "[131.75646480654726, 138.23509561530048, 114.43378335026193, 117.96767378009564, 188.20892527746972] [[25, 10, 1], [25, 10, 1], [25, 3, 1], [25, 3, 1], [25, 3, 1]]\n"
     ]
    }
   ],
   "source": [
    "from sklearn import model_selection\n",
    "\n",
    "\n",
    "print(bestAccuracy,bestParam)\n",
    "\n",
    "\n"
   ]
  },
  {
   "cell_type": "code",
   "execution_count": 201,
   "metadata": {},
   "outputs": [],
   "source": [
    "X_train,X_test,y_train,y_test = model_selection.train_test_split(np.array(df),np.array(df_target),test_size=0.30,random_state=40)\n",
    "\n",
    "\n"
   ]
  },
  {
   "cell_type": "code",
   "execution_count": 202,
   "metadata": {},
   "outputs": [
    {
     "data": {
      "text/plain": [
       "{'w': array([ 6.46689833e-01,  4.02713021e-02, -4.02628930e-02,  1.05116800e-02,\n",
       "         4.08453641e-01, -5.66570477e-01,  3.31417586e-02, -2.70918852e-01,\n",
       "        -1.25685647e-01, -3.87745191e-01,  5.21064222e-02, -7.54102756e-02,\n",
       "         1.75259804e-01, -1.88441208e-01, -1.12937351e-01,  2.63770253e-01,\n",
       "        -4.69852893e-01,  2.06548642e-01, -2.17685996e-01,  2.96525643e-01,\n",
       "        -1.60495797e-01, -3.04513970e-03,  6.39869729e-01,  3.35414926e-02,\n",
       "         2.39202301e-01, -9.56887823e-03, -5.38309728e-01, -2.62856840e-02,\n",
       "        -1.17838740e-01,  1.05913961e-01, -6.50512087e-02, -4.24738203e-01,\n",
       "         4.22580234e-02, -1.58602725e-04, -1.76628108e-01, -1.27313280e-01,\n",
       "        -2.50222558e-01, -2.75459258e-02, -2.33350848e-01, -1.31015854e-01,\n",
       "        -6.60686783e-02,  6.04055154e-02, -8.07682390e-02,  4.88429236e-02,\n",
       "         2.53686771e-01,  1.00676573e-02, -9.88348521e-02, -1.23584586e-01,\n",
       "        -6.54460312e-02, -2.69980749e-01, -1.64423827e-01,  4.40302422e-02,\n",
       "        -7.74224625e-02,  3.20225157e-01,  1.09779898e-01, -2.87221106e-01,\n",
       "        -1.55974841e-01,  4.27253818e-02,  1.78565462e-01,  2.26306340e-01,\n",
       "         1.10816412e-01, -6.24949668e-02,  4.12189301e-02, -4.26109773e-02,\n",
       "         2.18184895e-01,  1.42173041e-01,  7.16671919e-02, -2.06269419e-01,\n",
       "        -3.89267740e-01, -5.04447721e-02,  2.20268020e-01,  1.45979844e-01,\n",
       "        -7.03820101e-03, -7.21824306e-02, -5.23451502e-02,  7.63524101e-02,\n",
       "        -1.64820567e-01, -6.80540342e-02,  9.19559907e-01, -1.26968728e+00,\n",
       "         3.07422331e-01, -5.89201155e-01]),\n",
       " 'f': 0.405734572945725,\n",
       " 'reason': 'reached limit of nIterations',\n",
       " 'wtrace': None,\n",
       " 'ftrace': None}"
      ]
     },
     "execution_count": 202,
     "metadata": {},
     "output_type": "execute_result"
    }
   ],
   "source": [
    "model=NeuralNet([25,3,1])  \n",
    "#choosing parameters which occured more number of times on the final parameter list\n",
    "#because those are the list with mininmum rmse\n",
    "model.train(X_train,y_train,niter=1000)"
   ]
  },
  {
   "cell_type": "code",
   "execution_count": 203,
   "metadata": {},
   "outputs": [
    {
     "name": "stdout",
     "output_type": "stream",
     "text": [
      "RMSE: 92.65119731403036\n",
      "R squared value: 0.17187069142559064\n"
     ]
    }
   ],
   "source": [
    "y_pred=model.use(X_test)\n",
    "\n",
    "from sklearn.metrics import r2_score\n",
    "print('RMSE:', np.sqrt(mean_squared_error(y_test, y_pred)))\n",
    "print('R squared value:', r2_score(y_test, y_pred))"
   ]
  },
  {
   "cell_type": "markdown",
   "metadata": {},
   "source": [
    "# Extra credit conclusion"
   ]
  },
  {
   "cell_type": "markdown",
   "metadata": {},
   "source": [
    "I have performed on three different activation function: Sigmoid, ReLU and tanh. \n",
    "RMSE for all functions:  <br> \n",
    "tanh: around 90 <br>\n",
    "Sigmoid: around 94 <br> \n",
    "ReLU: around 92"
   ]
  },
  {
   "cell_type": "code",
   "execution_count": null,
   "metadata": {},
   "outputs": [],
   "source": []
  }
 ],
 "metadata": {
  "kernelspec": {
   "display_name": "Python 3",
   "language": "python",
   "name": "python3"
  },
  "language_info": {
   "codemirror_mode": {
    "name": "ipython",
    "version": 3
   },
   "file_extension": ".py",
   "mimetype": "text/x-python",
   "name": "python",
   "nbconvert_exporter": "python",
   "pygments_lexer": "ipython3",
   "version": "3.7.1"
  }
 },
 "nbformat": 4,
 "nbformat_minor": 2
}
